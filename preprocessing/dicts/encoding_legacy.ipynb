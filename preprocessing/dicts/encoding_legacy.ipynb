{
 "cells": [
  {
   "cell_type": "markdown",
   "metadata": {},
   "source": [
    "## Encoding\n",
    "\n",
    "Now let us encoding the vocabularies, the idea is simple: remove all the non-starting vowels"
   ]
  },
  {
   "cell_type": "code",
   "execution_count": 1,
   "metadata": {},
   "outputs": [],
   "source": [
    "import numpy as np\n",
    "import pandas as pd\n",
    "import matplotlib.pyplot as plt\n",
    "import re"
   ]
  },
  {
   "cell_type": "code",
   "execution_count": 2,
   "metadata": {},
   "outputs": [],
   "source": [
    "df_final = pd.read_csv('./dict_en.yaml', sep = '\\t', index_col=0, usecols=[0,1,2], dtype={0:int, 1:str, 2:np.int64} )"
   ]
  },
  {
   "cell_type": "code",
   "execution_count": 3,
   "metadata": {},
   "outputs": [
    {
     "data": {
      "text/html": [
       "<div>\n",
       "<style scoped>\n",
       "    .dataframe tbody tr th:only-of-type {\n",
       "        vertical-align: middle;\n",
       "    }\n",
       "\n",
       "    .dataframe tbody tr th {\n",
       "        vertical-align: top;\n",
       "    }\n",
       "\n",
       "    .dataframe thead th {\n",
       "        text-align: right;\n",
       "    }\n",
       "</style>\n",
       "<table border=\"1\" class=\"dataframe\">\n",
       "  <thead>\n",
       "    <tr style=\"text-align: right;\">\n",
       "      <th></th>\n",
       "      <th>WORD</th>\n",
       "      <th>COUNT</th>\n",
       "    </tr>\n",
       "    <tr>\n",
       "      <th>#RANKING</th>\n",
       "      <th></th>\n",
       "      <th></th>\n",
       "    </tr>\n",
       "  </thead>\n",
       "  <tbody>\n",
       "    <tr>\n",
       "      <th>1</th>\n",
       "      <td>in</td>\n",
       "      <td>4501</td>\n",
       "    </tr>\n",
       "    <tr>\n",
       "      <th>2</th>\n",
       "      <td>a</td>\n",
       "      <td>4496</td>\n",
       "    </tr>\n",
       "    <tr>\n",
       "      <th>3</th>\n",
       "      <td>as</td>\n",
       "      <td>4491</td>\n",
       "    </tr>\n",
       "    <tr>\n",
       "      <th>4</th>\n",
       "      <td>it</td>\n",
       "      <td>4486</td>\n",
       "    </tr>\n",
       "    <tr>\n",
       "      <th>5</th>\n",
       "      <td>be</td>\n",
       "      <td>4481</td>\n",
       "    </tr>\n",
       "  </tbody>\n",
       "</table>\n",
       "</div>"
      ],
      "text/plain": [
       "         WORD  COUNT\n",
       "#RANKING            \n",
       "1          in   4501\n",
       "2           a   4496\n",
       "3          as   4491\n",
       "4          it   4486\n",
       "5          be   4481"
      ]
     },
     "execution_count": 3,
     "metadata": {},
     "output_type": "execute_result"
    }
   ],
   "source": [
    "df_final.head()"
   ]
  },
  {
   "cell_type": "code",
   "execution_count": 4,
   "metadata": {},
   "outputs": [],
   "source": [
    "word = df_final.WORD.values.astype(str)"
   ]
  },
  {
   "cell_type": "markdown",
   "metadata": {},
   "source": [
    "compute word-length frequency"
   ]
  },
  {
   "cell_type": "code",
   "execution_count": 5,
   "metadata": {},
   "outputs": [
    {
     "data": {
      "text/plain": [
       "(array([6.000e+00, 7.600e+01, 6.280e+02, 2.109e+03, 3.435e+03, 5.127e+03,\n",
       "        6.105e+03, 6.688e+03, 6.611e+03, 5.488e+03, 4.028e+03, 2.683e+03,\n",
       "        1.831e+03, 1.005e+03, 5.650e+02, 2.810e+02, 1.400e+02, 4.000e+01,\n",
       "        3.100e+01, 1.600e+01, 4.000e+00, 2.000e+00]),\n",
       " array([ 1.,  2.,  3.,  4.,  5.,  6.,  7.,  8.,  9., 10., 11., 12., 13.,\n",
       "        14., 15., 16., 17., 18., 19., 20., 21., 22., 23.]),\n",
       " <BarContainer object of 22 artists>)"
      ]
     },
     "execution_count": 5,
     "metadata": {},
     "output_type": "execute_result"
    },
    {
     "data": {
      "image/png": "[encoded data removed]",
      "text/plain": [
       "<Figure size 640x480 with 1 Axes>"
      ]
     },
     "metadata": {},
     "output_type": "display_data"
    }
   ],
   "source": [
    "wd_length_freq = list(map(len, word))\n",
    "plt.hist(np.array(wd_length_freq),bins=range(min(wd_length_freq), max(wd_length_freq)+1,1))"
   ]
  },
  {
   "cell_type": "markdown",
   "metadata": {},
   "source": [
    "We propose two types of encoding method:\n",
    "1. encoding word by removing all the non-initial vowel letters, we call it 'abjad'.(abjad refers to a kind of written language without vowels)\n",
    "2. encoding word by removing the kernel of all its syllables, we call it 'syllabi'.\n",
    "\n",
    "The first method is morphological, i.e. we focus on the written form while the second method is phonetical hence we need some syllabification tools to help us."
   ]
  },
  {
   "cell_type": "code",
   "execution_count": 6,
   "metadata": {},
   "outputs": [
    {
     "ename": "KeyboardInterrupt",
     "evalue": "",
     "output_type": "error",
     "traceback": [
      "\u001b[1;31m---------------------------------------------------------------------------\u001b[0m",
      "\u001b[1;31mKeyboardInterrupt\u001b[0m                         Traceback (most recent call last)",
      "\u001b[1;32m~\\AppData\\Local\\Temp\\ipykernel_10972\\3036406392.py\u001b[0m in \u001b[0;36m<cell line: 1>\u001b[1;34m()\u001b[0m\n\u001b[1;32m----> 1\u001b[1;33m \u001b[1;32mfrom\u001b[0m \u001b[0mnltk\u001b[0m\u001b[1;33m.\u001b[0m\u001b[0mtokenize\u001b[0m \u001b[1;32mimport\u001b[0m \u001b[0mSyllableTokenizer\u001b[0m\u001b[1;33m\u001b[0m\u001b[1;33m\u001b[0m\u001b[0m\n\u001b[0m\u001b[0;32m      2\u001b[0m \u001b[1;32mfrom\u001b[0m \u001b[0mnltk\u001b[0m\u001b[1;33m.\u001b[0m\u001b[0mtokenize\u001b[0m \u001b[1;32mimport\u001b[0m \u001b[0mLegalitySyllableTokenizer\u001b[0m\u001b[1;33m\u001b[0m\u001b[1;33m\u001b[0m\u001b[0m\n\u001b[0;32m      3\u001b[0m \u001b[1;32mfrom\u001b[0m \u001b[0mnltk\u001b[0m\u001b[1;33m.\u001b[0m\u001b[0mcorpus\u001b[0m \u001b[1;32mimport\u001b[0m \u001b[0mwords\u001b[0m\u001b[1;33m\u001b[0m\u001b[1;33m\u001b[0m\u001b[0m\n",
      "\u001b[1;32md:\\Anaconda\\lib\\site-packages\\nltk\\__init__.py\u001b[0m in \u001b[0;36m<module>\u001b[1;34m\u001b[0m\n\u001b[0;32m    135\u001b[0m \u001b[1;32mfrom\u001b[0m \u001b[0mnltk\u001b[0m\u001b[1;33m.\u001b[0m\u001b[0mgrammar\u001b[0m \u001b[1;32mimport\u001b[0m \u001b[1;33m*\u001b[0m\u001b[1;33m\u001b[0m\u001b[1;33m\u001b[0m\u001b[0m\n\u001b[0;32m    136\u001b[0m \u001b[1;32mfrom\u001b[0m \u001b[0mnltk\u001b[0m\u001b[1;33m.\u001b[0m\u001b[0mprobability\u001b[0m \u001b[1;32mimport\u001b[0m \u001b[1;33m*\u001b[0m\u001b[1;33m\u001b[0m\u001b[1;33m\u001b[0m\u001b[0m\n\u001b[1;32m--> 137\u001b[1;33m \u001b[1;32mfrom\u001b[0m \u001b[0mnltk\u001b[0m\u001b[1;33m.\u001b[0m\u001b[0mtext\u001b[0m \u001b[1;32mimport\u001b[0m \u001b[1;33m*\u001b[0m\u001b[1;33m\u001b[0m\u001b[1;33m\u001b[0m\u001b[0m\n\u001b[0m\u001b[0;32m    138\u001b[0m \u001b[1;32mfrom\u001b[0m \u001b[0mnltk\u001b[0m\u001b[1;33m.\u001b[0m\u001b[0mutil\u001b[0m \u001b[1;32mimport\u001b[0m \u001b[1;33m*\u001b[0m\u001b[1;33m\u001b[0m\u001b[1;33m\u001b[0m\u001b[0m\n\u001b[0;32m    139\u001b[0m \u001b[1;32mfrom\u001b[0m \u001b[0mnltk\u001b[0m\u001b[1;33m.\u001b[0m\u001b[0mjsontags\u001b[0m \u001b[1;32mimport\u001b[0m \u001b[1;33m*\u001b[0m\u001b[1;33m\u001b[0m\u001b[1;33m\u001b[0m\u001b[0m\n",
      "\u001b[1;32md:\\Anaconda\\lib\\site-packages\\nltk\\text.py\u001b[0m in \u001b[0;36m<module>\u001b[1;34m\u001b[0m\n\u001b[0;32m     27\u001b[0m \u001b[1;32mfrom\u001b[0m \u001b[0mnltk\u001b[0m\u001b[1;33m.\u001b[0m\u001b[0mprobability\u001b[0m \u001b[1;32mimport\u001b[0m \u001b[0mConditionalFreqDist\u001b[0m \u001b[1;32mas\u001b[0m \u001b[0mCFD\u001b[0m\u001b[1;33m\u001b[0m\u001b[1;33m\u001b[0m\u001b[0m\n\u001b[0;32m     28\u001b[0m \u001b[1;32mfrom\u001b[0m \u001b[0mnltk\u001b[0m\u001b[1;33m.\u001b[0m\u001b[0mprobability\u001b[0m \u001b[1;32mimport\u001b[0m \u001b[0mFreqDist\u001b[0m\u001b[1;33m\u001b[0m\u001b[1;33m\u001b[0m\u001b[0m\n\u001b[1;32m---> 29\u001b[1;33m \u001b[1;32mfrom\u001b[0m \u001b[0mnltk\u001b[0m\u001b[1;33m.\u001b[0m\u001b[0mtokenize\u001b[0m \u001b[1;32mimport\u001b[0m \u001b[0msent_tokenize\u001b[0m\u001b[1;33m\u001b[0m\u001b[1;33m\u001b[0m\u001b[0m\n\u001b[0m\u001b[0;32m     30\u001b[0m \u001b[1;32mfrom\u001b[0m \u001b[0mnltk\u001b[0m\u001b[1;33m.\u001b[0m\u001b[0mutil\u001b[0m \u001b[1;32mimport\u001b[0m \u001b[0mLazyConcatenation\u001b[0m\u001b[1;33m,\u001b[0m \u001b[0mtokenwrap\u001b[0m\u001b[1;33m\u001b[0m\u001b[1;33m\u001b[0m\u001b[0m\n\u001b[0;32m     31\u001b[0m \u001b[1;33m\u001b[0m\u001b[0m\n",
      "\u001b[1;32md:\\Anaconda\\lib\\site-packages\\nltk\\tokenize\\__init__.py\u001b[0m in \u001b[0;36m<module>\u001b[1;34m\u001b[0m\n\u001b[0;32m     62\u001b[0m \u001b[1;32mimport\u001b[0m \u001b[0mre\u001b[0m\u001b[1;33m\u001b[0m\u001b[1;33m\u001b[0m\u001b[0m\n\u001b[0;32m     63\u001b[0m \u001b[1;33m\u001b[0m\u001b[0m\n\u001b[1;32m---> 64\u001b[1;33m \u001b[1;32mfrom\u001b[0m \u001b[0mnltk\u001b[0m\u001b[1;33m.\u001b[0m\u001b[0mdata\u001b[0m \u001b[1;32mimport\u001b[0m \u001b[0mload\u001b[0m\u001b[1;33m\u001b[0m\u001b[1;33m\u001b[0m\u001b[0m\n\u001b[0m\u001b[0;32m     65\u001b[0m \u001b[1;32mfrom\u001b[0m \u001b[0mnltk\u001b[0m\u001b[1;33m.\u001b[0m\u001b[0mtokenize\u001b[0m\u001b[1;33m.\u001b[0m\u001b[0mcasual\u001b[0m \u001b[1;32mimport\u001b[0m \u001b[0mTweetTokenizer\u001b[0m\u001b[1;33m,\u001b[0m \u001b[0mcasual_tokenize\u001b[0m\u001b[1;33m\u001b[0m\u001b[1;33m\u001b[0m\u001b[0m\n\u001b[0;32m     66\u001b[0m \u001b[1;32mfrom\u001b[0m \u001b[0mnltk\u001b[0m\u001b[1;33m.\u001b[0m\u001b[0mtokenize\u001b[0m\u001b[1;33m.\u001b[0m\u001b[0mdestructive\u001b[0m \u001b[1;32mimport\u001b[0m \u001b[0mNLTKWordTokenizer\u001b[0m\u001b[1;33m\u001b[0m\u001b[1;33m\u001b[0m\u001b[0m\n",
      "\u001b[1;32md:\\Anaconda\\lib\\importlib\\_bootstrap.py\u001b[0m in \u001b[0;36m_find_and_load\u001b[1;34m(name, import_)\u001b[0m\n",
      "\u001b[1;32md:\\Anaconda\\lib\\importlib\\_bootstrap.py\u001b[0m in \u001b[0;36m_find_and_load_unlocked\u001b[1;34m(name, import_)\u001b[0m\n",
      "\u001b[1;32md:\\Anaconda\\lib\\importlib\\_bootstrap.py\u001b[0m in \u001b[0;36m_load_unlocked\u001b[1;34m(spec)\u001b[0m\n",
      "\u001b[1;32md:\\Anaconda\\lib\\importlib\\_bootstrap_external.py\u001b[0m in \u001b[0;36mexec_module\u001b[1;34m(self, module)\u001b[0m\n",
      "\u001b[1;32md:\\Anaconda\\lib\\importlib\\_bootstrap_external.py\u001b[0m in \u001b[0;36mget_code\u001b[1;34m(self, fullname)\u001b[0m\n",
      "\u001b[1;32md:\\Anaconda\\lib\\importlib\\_bootstrap_external.py\u001b[0m in \u001b[0;36mget_data\u001b[1;34m(self, path)\u001b[0m\n",
      "\u001b[1;31mKeyboardInterrupt\u001b[0m: "
     ]
    }
   ],
   "source": [
    "from nltk.tokenize import SyllableTokenizer\n",
    "from nltk.tokenize import LegalitySyllableTokenizer\n",
    "from nltk.corpus import words"
   ]
  },
  {
   "cell_type": "code",
   "execution_count": null,
   "metadata": {},
   "outputs": [],
   "source": [
    "def encoding(word_list, mode='abjad', threshold = 3, **kwargs):\n",
    "\t# remove non-initial, non-final vowel letters\n",
    "\tif mode == 'abjad':\n",
    "\t\treturn _encode_by_abjad(word_list, threshold)\n",
    "\telif mode == 'syllabi':\n",
    "\t\tsyllabi_mode = kwargs['syllabi_mode']\n",
    "\t\treturn _encode_by_syllabi(word_list, threshold, mode=syllabi_mode)\n",
    "\treturn \n",
    "\n",
    "def _encode_by_abjad(word_list, threshold):\n",
    "\tencoding_list = []\n",
    "\tvowels = re.compile('[aeiouy]', flags=re.I)\n",
    "\tfor word in word_list:\n",
    "\t\tif len(word) > threshold:\n",
    "\t\t\tencoding = word[0] + re.sub(vowels,'', word[1:])\n",
    "\t\telse:\n",
    "\t\t\tencoding = word\n",
    "\t\tencoding_list.append(encoding)\n",
    "\treturn encoding_list\n",
    "\n",
    "def _encode_by_syllabi(word_list, threshold, mode = 'SSP'):\n",
    "\tencoding_list = []\n",
    "\tif mode == 'SSP':\n",
    "\t\ttokenizer = SyllableTokenizer()\n",
    "\telif mode == 'LP':\n",
    "\t\ttokenizer = LegalitySyllableTokenizer(words.words())\n",
    "\n",
    "\tfor word in word_list:\n",
    "\t\tencoding = '_'.join(tokenizer.tokenize(word))\n",
    "\t\tencoding_list.append(encoding)\n",
    "\treturn encoding_list"
   ]
  },
  {
   "cell_type": "code",
   "execution_count": 8,
   "metadata": {},
   "outputs": [],
   "source": [
    "SSP_tokenization = encoding(word, 'syllabi', syllabi_mode= 'SSP' )\n",
    "LP_tokenization = encoding(word, 'syllabi', syllabi_mode= 'LP' )"
   ]
  },
  {
   "cell_type": "code",
   "execution_count": 9,
   "metadata": {},
   "outputs": [],
   "source": [
    "df_final['SSP_tokenization'] = SSP_tokenization\n",
    "df_final['LP_tokenization'] = LP_tokenization"
   ]
  },
  {
   "cell_type": "code",
   "execution_count": 10,
   "metadata": {},
   "outputs": [
    {
     "data": {
      "text/html": [
       "<div>\n",
       "<style scoped>\n",
       "    .dataframe tbody tr th:only-of-type {\n",
       "        vertical-align: middle;\n",
       "    }\n",
       "\n",
       "    .dataframe tbody tr th {\n",
       "        vertical-align: top;\n",
       "    }\n",
       "\n",
       "    .dataframe thead th {\n",
       "        text-align: right;\n",
       "    }\n",
       "</style>\n",
       "<table border=\"1\" class=\"dataframe\">\n",
       "  <thead>\n",
       "    <tr style=\"text-align: right;\">\n",
       "      <th></th>\n",
       "      <th>WORD</th>\n",
       "      <th>COUNT</th>\n",
       "      <th>SSP_tokenization</th>\n",
       "      <th>LP_tokenization</th>\n",
       "    </tr>\n",
       "    <tr>\n",
       "      <th>#RANKING</th>\n",
       "      <th></th>\n",
       "      <th></th>\n",
       "      <th></th>\n",
       "      <th></th>\n",
       "    </tr>\n",
       "  </thead>\n",
       "  <tbody>\n",
       "    <tr>\n",
       "      <th>22</th>\n",
       "      <td>other</td>\n",
       "      <td>4396</td>\n",
       "      <td>ot_her</td>\n",
       "      <td>o_ther</td>\n",
       "    </tr>\n",
       "    <tr>\n",
       "      <th>24</th>\n",
       "      <td>may</td>\n",
       "      <td>4386</td>\n",
       "      <td>may</td>\n",
       "      <td>m_ay</td>\n",
       "    </tr>\n",
       "    <tr>\n",
       "      <th>37</th>\n",
       "      <td>about</td>\n",
       "      <td>4321</td>\n",
       "      <td>a_bout</td>\n",
       "      <td>ab_out</td>\n",
       "    </tr>\n",
       "    <tr>\n",
       "      <th>39</th>\n",
       "      <td>said</td>\n",
       "      <td>4311</td>\n",
       "      <td>said</td>\n",
       "      <td>s_aid</td>\n",
       "    </tr>\n",
       "    <tr>\n",
       "      <th>45</th>\n",
       "      <td>see</td>\n",
       "      <td>4281</td>\n",
       "      <td>see</td>\n",
       "      <td>s_ee</td>\n",
       "    </tr>\n",
       "    <tr>\n",
       "      <th>...</th>\n",
       "      <td>...</td>\n",
       "      <td>...</td>\n",
       "      <td>...</td>\n",
       "      <td>...</td>\n",
       "    </tr>\n",
       "    <tr>\n",
       "      <th>76629</th>\n",
       "      <td>heavenwardly</td>\n",
       "      <td>0</td>\n",
       "      <td>hea_ven_war_dly</td>\n",
       "      <td>he_a_ven_ward_ly</td>\n",
       "    </tr>\n",
       "    <tr>\n",
       "      <th>76672</th>\n",
       "      <td>obsessivity</td>\n",
       "      <td>0</td>\n",
       "      <td>o_bses_si_vi_ty</td>\n",
       "      <td>ob_ses_si_vi_ty</td>\n",
       "    </tr>\n",
       "    <tr>\n",
       "      <th>76688</th>\n",
       "      <td>radiolocate</td>\n",
       "      <td>0</td>\n",
       "      <td>ra_dio_lo_ca_te</td>\n",
       "      <td>ra_di_o_lo_ca_te</td>\n",
       "    </tr>\n",
       "    <tr>\n",
       "      <th>76689</th>\n",
       "      <td>pelecypodous</td>\n",
       "      <td>0</td>\n",
       "      <td>pe_le_cy_po_dous</td>\n",
       "      <td>pe_le_cy_pod_ous</td>\n",
       "    </tr>\n",
       "    <tr>\n",
       "      <th>76746</th>\n",
       "      <td>imminentness</td>\n",
       "      <td>0</td>\n",
       "      <td>im_mi_nen_tness</td>\n",
       "      <td>im_mi_nent_ness</td>\n",
       "    </tr>\n",
       "  </tbody>\n",
       "</table>\n",
       "<p>23382 rows × 4 columns</p>\n",
       "</div>"
      ],
      "text/plain": [
       "                  WORD  COUNT  SSP_tokenization   LP_tokenization\n",
       "#RANKING                                                         \n",
       "22               other   4396            ot_her            o_ther\n",
       "24                 may   4386               may              m_ay\n",
       "37               about   4321            a_bout            ab_out\n",
       "39                said   4311              said             s_aid\n",
       "45                 see   4281               see              s_ee\n",
       "...                ...    ...               ...               ...\n",
       "76629     heavenwardly      0   hea_ven_war_dly  he_a_ven_ward_ly\n",
       "76672      obsessivity      0   o_bses_si_vi_ty   ob_ses_si_vi_ty\n",
       "76688      radiolocate      0   ra_dio_lo_ca_te  ra_di_o_lo_ca_te\n",
       "76689     pelecypodous      0  pe_le_cy_po_dous  pe_le_cy_pod_ous\n",
       "76746     imminentness      0   im_mi_nen_tness   im_mi_nent_ness\n",
       "\n",
       "[23382 rows x 4 columns]"
      ]
     },
     "execution_count": 10,
     "metadata": {},
     "output_type": "execute_result"
    }
   ],
   "source": [
    "df_final[df_final.SSP_tokenization != df_final.LP_tokenization]"
   ]
  },
  {
   "cell_type": "code",
   "execution_count": 11,
   "metadata": {},
   "outputs": [
    {
     "data": {
      "text/html": [
       "<div>\n",
       "<style scoped>\n",
       "    .dataframe tbody tr th:only-of-type {\n",
       "        vertical-align: middle;\n",
       "    }\n",
       "\n",
       "    .dataframe tbody tr th {\n",
       "        vertical-align: top;\n",
       "    }\n",
       "\n",
       "    .dataframe thead th {\n",
       "        text-align: right;\n",
       "    }\n",
       "</style>\n",
       "<table border=\"1\" class=\"dataframe\">\n",
       "  <thead>\n",
       "    <tr style=\"text-align: right;\">\n",
       "      <th></th>\n",
       "      <th>WORD</th>\n",
       "      <th>COUNT</th>\n",
       "      <th>SSP_tokenization</th>\n",
       "      <th>LP_tokenization</th>\n",
       "    </tr>\n",
       "    <tr>\n",
       "      <th>#RANKING</th>\n",
       "      <th></th>\n",
       "      <th></th>\n",
       "      <th></th>\n",
       "      <th></th>\n",
       "    </tr>\n",
       "  </thead>\n",
       "  <tbody>\n",
       "    <tr>\n",
       "      <th>4520</th>\n",
       "      <td>linguistic</td>\n",
       "      <td>249</td>\n",
       "      <td>lin_guis_tic</td>\n",
       "      <td>lin_gu_i_stic</td>\n",
       "    </tr>\n",
       "  </tbody>\n",
       "</table>\n",
       "</div>"
      ],
      "text/plain": [
       "                WORD  COUNT SSP_tokenization LP_tokenization\n",
       "#RANKING                                                    \n",
       "4520      linguistic    249     lin_guis_tic   lin_gu_i_stic"
      ]
     },
     "execution_count": 11,
     "metadata": {},
     "output_type": "execute_result"
    }
   ],
   "source": [
    "df_final[df_final.WORD == 'linguistic']"
   ]
  },
  {
   "cell_type": "code",
   "execution_count": 12,
   "metadata": {},
   "outputs": [
    {
     "data": {
      "text/plain": [
       "46899"
      ]
     },
     "execution_count": 12,
     "metadata": {},
     "output_type": "execute_result"
    }
   ],
   "source": [
    "len(encoding(word, 'abjad'))"
   ]
  },
  {
   "cell_type": "code",
   "execution_count": 13,
   "metadata": {},
   "outputs": [],
   "source": [
    "df_final['encoding_abjad'] = encoding(word, 'abjad')"
   ]
  },
  {
   "cell_type": "code",
   "execution_count": 33,
   "metadata": {},
   "outputs": [
    {
     "data": {
      "text/html": [
       "<div>\n",
       "<style scoped>\n",
       "    .dataframe tbody tr th:only-of-type {\n",
       "        vertical-align: middle;\n",
       "    }\n",
       "\n",
       "    .dataframe tbody tr th {\n",
       "        vertical-align: top;\n",
       "    }\n",
       "\n",
       "    .dataframe thead th {\n",
       "        text-align: right;\n",
       "    }\n",
       "</style>\n",
       "<table border=\"1\" class=\"dataframe\">\n",
       "  <thead>\n",
       "    <tr style=\"text-align: right;\">\n",
       "      <th></th>\n",
       "      <th>WORD</th>\n",
       "      <th>COUNT</th>\n",
       "      <th>SSP_tokenization</th>\n",
       "      <th>LP_tokenization</th>\n",
       "      <th>encoding_abjad</th>\n",
       "    </tr>\n",
       "    <tr>\n",
       "      <th>#RANKING</th>\n",
       "      <th></th>\n",
       "      <th></th>\n",
       "      <th></th>\n",
       "      <th></th>\n",
       "      <th></th>\n",
       "    </tr>\n",
       "  </thead>\n",
       "  <tbody>\n",
       "    <tr>\n",
       "      <th>260</th>\n",
       "      <td>international</td>\n",
       "      <td>3303</td>\n",
       "      <td>in_ter_na_tio_nal</td>\n",
       "      <td>in_ter_na_ti_o_nal</td>\n",
       "      <td>intrntnl</td>\n",
       "    </tr>\n",
       "    <tr>\n",
       "      <th>555</th>\n",
       "      <td>strong</td>\n",
       "      <td>2329</td>\n",
       "      <td>strong</td>\n",
       "      <td>strong</td>\n",
       "      <td>strng</td>\n",
       "    </tr>\n",
       "    <tr>\n",
       "      <th>850</th>\n",
       "      <td>nation</td>\n",
       "      <td>1709</td>\n",
       "      <td>na_tion</td>\n",
       "      <td>nat_ion</td>\n",
       "      <td>ntn</td>\n",
       "    </tr>\n",
       "    <tr>\n",
       "      <th>1693</th>\n",
       "      <td>schedule</td>\n",
       "      <td>875</td>\n",
       "      <td>sche_du_le</td>\n",
       "      <td>sche_du_le</td>\n",
       "      <td>schdl</td>\n",
       "    </tr>\n",
       "    <tr>\n",
       "      <th>1807</th>\n",
       "      <td>objective</td>\n",
       "      <td>812</td>\n",
       "      <td>ob_jec_ti_ve</td>\n",
       "      <td>ob_jec_ti_ve</td>\n",
       "      <td>objctv</td>\n",
       "    </tr>\n",
       "    <tr>\n",
       "      <th>2184</th>\n",
       "      <td>formula</td>\n",
       "      <td>654</td>\n",
       "      <td>for_mu_la</td>\n",
       "      <td>for_mu_la</td>\n",
       "      <td>frml</td>\n",
       "    </tr>\n",
       "    <tr>\n",
       "      <th>2370</th>\n",
       "      <td>psychological</td>\n",
       "      <td>593</td>\n",
       "      <td>psyc_ho_lo_gi_cal</td>\n",
       "      <td>psy_cho_lo_gi_cal</td>\n",
       "      <td>pschlgcl</td>\n",
       "    </tr>\n",
       "    <tr>\n",
       "      <th>4755</th>\n",
       "      <td>aggressive</td>\n",
       "      <td>230</td>\n",
       "      <td>ag_gres_si_ve</td>\n",
       "      <td>ag_gres_si_ve</td>\n",
       "      <td>aggrssv</td>\n",
       "    </tr>\n",
       "    <tr>\n",
       "      <th>7932</th>\n",
       "      <td>glimpse</td>\n",
       "      <td>102</td>\n",
       "      <td>glim_pse</td>\n",
       "      <td>glim_pse</td>\n",
       "      <td>glmps</td>\n",
       "    </tr>\n",
       "    <tr>\n",
       "      <th>9224</th>\n",
       "      <td>scratch</td>\n",
       "      <td>80</td>\n",
       "      <td>scratch</td>\n",
       "      <td>scratch</td>\n",
       "      <td>scrtch</td>\n",
       "    </tr>\n",
       "  </tbody>\n",
       "</table>\n",
       "</div>"
      ],
      "text/plain": [
       "                   WORD  COUNT   SSP_tokenization     LP_tokenization  \\\n",
       "#RANKING                                                                \n",
       "260       international   3303  in_ter_na_tio_nal  in_ter_na_ti_o_nal   \n",
       "555              strong   2329             strong              strong   \n",
       "850              nation   1709            na_tion             nat_ion   \n",
       "1693           schedule    875         sche_du_le          sche_du_le   \n",
       "1807          objective    812       ob_jec_ti_ve        ob_jec_ti_ve   \n",
       "2184            formula    654          for_mu_la           for_mu_la   \n",
       "2370      psychological    593  psyc_ho_lo_gi_cal   psy_cho_lo_gi_cal   \n",
       "4755         aggressive    230      ag_gres_si_ve       ag_gres_si_ve   \n",
       "7932            glimpse    102           glim_pse            glim_pse   \n",
       "9224            scratch     80            scratch             scratch   \n",
       "\n",
       "         encoding_abjad  \n",
       "#RANKING                 \n",
       "260            intrntnl  \n",
       "555               strng  \n",
       "850                 ntn  \n",
       "1693              schdl  \n",
       "1807             objctv  \n",
       "2184               frml  \n",
       "2370           pschlgcl  \n",
       "4755            aggrssv  \n",
       "7932              glmps  \n",
       "9224             scrtch  "
      ]
     },
     "execution_count": 33,
     "metadata": {},
     "output_type": "execute_result"
    }
   ],
   "source": [
    "df_final[df_final.WORD.isin(['aggressive','objective','formula','international','nation','schedule','scratch','glimpse','psychological','strong'])]"
   ]
  },
  {
   "cell_type": "markdown",
   "metadata": {},
   "source": [
    "## Encoding Statistics"
   ]
  },
  {
   "cell_type": "markdown",
   "metadata": {},
   "source": [
    "### abjad"
   ]
  },
  {
   "cell_type": "markdown",
   "metadata": {},
   "source": [
    "encoding length"
   ]
  },
  {
   "cell_type": "code",
   "execution_count": 15,
   "metadata": {},
   "outputs": [],
   "source": [
    "def plot_string_length_freq(encoding_series: pd.Series):\n",
    "\twd_length = list(map(len, encoding_series))\n",
    "\tplt.hist(np.array(wd_length),alpha = 0.5, bins=range(min(wd_length), max(wd_length)+1,1), label=encoding_series.name)\n",
    "\tlongest, shortest, average = np.max(wd_length), np.min(wd_length), np.mean(wd_length)\n",
    "\tprint('longest length: {}, shortest length: {}, average length: {}'.format(longest, shortest, average))\n",
    "\treturn longest, shortest, average"
   ]
  },
  {
   "cell_type": "markdown",
   "metadata": {},
   "source": [
    "we notice that the encoding length is dramatically reduced. On average cut down 3.3 letters (nearly 34%)"
   ]
  },
  {
   "cell_type": "code",
   "execution_count": 16,
   "metadata": {},
   "outputs": [
    {
     "name": "stdout",
     "output_type": "stream",
     "text": [
      "longest length: 15, shortest length: 1, average length: 5.28525128467558\n",
      "longest length: 23, shortest length: 1, average length: 8.540054158937291\n"
     ]
    },
    {
     "data": {
      "text/plain": [
       "<matplotlib.legend.Legend at 0x26d11b87190>"
      ]
     },
     "execution_count": 16,
     "metadata": {},
     "output_type": "execute_result"
    },
    {
     "data": {
      "image/png": "[encoded data removed]",
      "text/plain": [
       "<Figure size 640x480 with 1 Axes>"
      ]
     },
     "metadata": {},
     "output_type": "display_data"
    }
   ],
   "source": [
    "plt.style.use('seaborn-v0_8-dark')\n",
    "plot_string_length_freq(df_final.encoding_abjad)\n",
    "plot_string_length_freq(df_final.WORD.astype(str))\n",
    "plt.legend()"
   ]
  },
  {
   "cell_type": "markdown",
   "metadata": {},
   "source": [
    "coincident codes: counts of words with same encoding"
   ]
  },
  {
   "cell_type": "code",
   "execution_count": 17,
   "metadata": {},
   "outputs": [],
   "source": [
    "encoding_counts = df_final.encoding_abjad.value_counts()"
   ]
  },
  {
   "cell_type": "markdown",
   "metadata": {},
   "source": [
    "coincide encoding rate is 14%"
   ]
  },
  {
   "cell_type": "code",
   "execution_count": 18,
   "metadata": {},
   "outputs": [
    {
     "name": "stdout",
     "output_type": "stream",
     "text": [
      "(array([ 1,  2,  3,  4,  5,  6,  7,  8,  9, 10, 11, 12, 13, 14, 15, 16, 17,\n",
      "       18, 20], dtype=int64), array([32205,  3512,   866,   343,   162,   123,    78,    42,    37,\n",
      "          23,     7,    12,    13,     7,     3,     3,     2,     4,\n",
      "           1], dtype=int64))\n",
      "0.8601073631920519\n"
     ]
    }
   ],
   "source": [
    "print(np.unique(encoding_counts,return_counts=True))\n",
    "print(np.unique(encoding_counts,return_counts=True)[1][0]/np.unique(encoding_counts,return_counts=True)[1].sum())"
   ]
  },
  {
   "cell_type": "code",
   "execution_count": 19,
   "metadata": {},
   "outputs": [
    {
     "data": {
      "text/plain": [
       "(array([3.2205e+04, 3.5120e+03, 8.6600e+02, 3.4300e+02, 1.6200e+02,\n",
       "        1.2300e+02, 7.8000e+01, 4.2000e+01, 3.7000e+01, 2.3000e+01,\n",
       "        7.0000e+00, 1.2000e+01, 1.3000e+01, 7.0000e+00, 3.0000e+00,\n",
       "        3.0000e+00, 2.0000e+00, 4.0000e+00, 1.0000e+00]),\n",
       " array([ 1.,  2.,  3.,  4.,  5.,  6.,  7.,  8.,  9., 10., 11., 12., 13.,\n",
       "        14., 15., 16., 17., 18., 19., 20.]),\n",
       " <BarContainer object of 19 artists>)"
      ]
     },
     "execution_count": 19,
     "metadata": {},
     "output_type": "execute_result"
    },
    {
     "data": {
      "image/png": "[encoded data removed]",
      "text/plain": [
       "<Figure size 640x480 with 1 Axes>"
      ]
     },
     "metadata": {},
     "output_type": "display_data"
    }
   ],
   "source": [
    "plt.hist(encoding_counts,bins=range(min(encoding_counts), max(encoding_counts)+1,1))"
   ]
  },
  {
   "cell_type": "markdown",
   "metadata": {},
   "source": [
    "Over 99% encodings has a less than 5 coincide codes"
   ]
  },
  {
   "cell_type": "code",
   "execution_count": 20,
   "metadata": {},
   "outputs": [
    {
     "data": {
      "text/plain": [
       "5.0"
      ]
     },
     "execution_count": 20,
     "metadata": {},
     "output_type": "execute_result"
    }
   ],
   "source": [
    "encoding_counts.quantile(0.99)"
   ]
  },
  {
   "cell_type": "markdown",
   "metadata": {},
   "source": [
    "There are many ways to reduce the coincide encoding rate, first let's study the coincide encoding length.\n",
    "We can tolerate coincide codes less than 5"
   ]
  },
  {
   "cell_type": "code",
   "execution_count": 21,
   "metadata": {},
   "outputs": [],
   "source": [
    "coincident_codes = encoding_counts[encoding_counts > 5].index"
   ]
  },
  {
   "cell_type": "code",
   "execution_count": 22,
   "metadata": {},
   "outputs": [
    {
     "name": "stdout",
     "output_type": "stream",
     "text": [
      "longest length: 5, shortest length: 2, average length: 2.895774647887324\n"
     ]
    },
    {
     "data": {
      "text/plain": [
       "(5, 2, 2.895774647887324)"
      ]
     },
     "execution_count": 22,
     "metadata": {},
     "output_type": "execute_result"
    },
    {
     "data": {
      "image/png": "[encoded data removed]",
      "text/plain": [
       "<Figure size 640x480 with 1 Axes>"
      ]
     },
     "metadata": {},
     "output_type": "display_data"
    }
   ],
   "source": [
    "plot_string_length_freq(coincident_codes)"
   ]
  },
  {
   "cell_type": "markdown",
   "metadata": {},
   "source": [
    "They are between 2 to 5."
   ]
  },
  {
   "cell_type": "markdown",
   "metadata": {},
   "source": [
    "length of words that are encoded by coincident codes"
   ]
  },
  {
   "cell_type": "code",
   "execution_count": 23,
   "metadata": {},
   "outputs": [
    {
     "name": "stdout",
     "output_type": "stream",
     "text": [
      "longest length: 9, shortest length: 4, average length: 5.07639366827254\n"
     ]
    },
    {
     "data": {
      "text/plain": [
       "(9, 4, 5.07639366827254)"
      ]
     },
     "execution_count": 23,
     "metadata": {},
     "output_type": "execute_result"
    },
    {
     "data": {
      "image/png": "[encoded data removed]",
      "text/plain": [
       "<Figure size 640x480 with 1 Axes>"
      ]
     },
     "metadata": {},
     "output_type": "display_data"
    }
   ],
   "source": [
    "collision_word = df_final[df_final.encoding_abjad.isin(coincident_codes) & df_final.COUNT > 0].WORD\n",
    "plot_string_length_freq(collision_word)"
   ]
  },
  {
   "cell_type": "markdown",
   "metadata": {},
   "source": [
    "most of them are short words\n",
    "\n",
    "Guess: words with single syllable are easy to mix up after 'abjad' encoding"
   ]
  },
  {
   "cell_type": "markdown",
   "metadata": {},
   "source": [
    "### Syllabi"
   ]
  },
  {
   "cell_type": "code",
   "execution_count": null,
   "metadata": {},
   "outputs": [],
   "source": []
  }
 ],
 "metadata": {
  "kernelspec": {
   "display_name": "Python 3.9.13 ('base')",
   "language": "python",
   "name": "python3"
  },
  "language_info": {
   "codemirror_mode": {
    "name": "ipython",
    "version": 3
   },
   "file_extension": ".py",
   "mimetype": "text/x-python",
   "name": "python",
   "nbconvert_exporter": "python",
   "pygments_lexer": "ipython3",
   "version": "3.9.13"
  },
  "orig_nbformat": 4,
  "vscode": {
   "interpreter": {
    "hash": "88279d2366fe020547cde40dd65aa0e3aa662a6ec1f3ca12d88834876c85e1a6"
   }
  }
 },
 "nbformat": 4,
 "nbformat_minor": 2
}
