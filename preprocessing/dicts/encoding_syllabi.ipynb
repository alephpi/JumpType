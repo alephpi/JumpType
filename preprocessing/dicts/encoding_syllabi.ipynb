{
 "cells": [
  {
   "cell_type": "markdown",
   "metadata": {},
   "source": [
    "## Encoding by pronouciation"
   ]
  },
  {
   "cell_type": "code",
   "execution_count": 235,
   "metadata": {},
   "outputs": [],
   "source": [
    "import numpy as np\n",
    "import pandas as pd\n",
    "import matplotlib.pyplot as plt\n",
    "import seaborn as sn\n",
    "import re"
   ]
  },
  {
   "cell_type": "code",
   "execution_count": 49,
   "metadata": {},
   "outputs": [],
   "source": [
    "import wn\n",
    "from wn import morphy, validate\n",
    "ewn = wn.Wordnet('ewn:2020')\n",
    "m = morphy.Morphy(ewn)"
   ]
  },
  {
   "cell_type": "code",
   "execution_count": 28,
   "metadata": {},
   "outputs": [],
   "source": [
    "pronouncing_dict_path = './cmudict.dict.txt'"
   ]
  },
  {
   "cell_type": "code",
   "execution_count": 29,
   "metadata": {},
   "outputs": [],
   "source": [
    "dico = {}\n",
    "with open(pronouncing_dict_path, 'r', encoding='utf-8') as file:\n",
    "\tfor line in file.readlines():\n",
    "\t\tl = line.strip().split(' ')\n",
    "\t\tword = l[0]\n",
    "\t\tpronounciation = ' '.join(l[1:])\n",
    "\t\t# filter some non standard words\n",
    "\t\tif word.islower() and word.isalpha():\n",
    "\t\t\tdico[word] = pronounciation"
   ]
  },
  {
   "cell_type": "code",
   "execution_count": 225,
   "metadata": {},
   "outputs": [
    {
     "data": {
      "text/plain": [
       "117490"
      ]
     },
     "execution_count": 225,
     "metadata": {},
     "output_type": "execute_result"
    }
   ],
   "source": [
    "len(dico)"
   ]
  },
  {
   "cell_type": "markdown",
   "metadata": {},
   "source": [
    "first check if the word exists in wordnet"
   ]
  },
  {
   "cell_type": "code",
   "execution_count": 62,
   "metadata": {},
   "outputs": [],
   "source": [
    "def validate(word):\n",
    "\t# check if exists\n",
    "\tres = wn.synsets(word)\n",
    "\tif res != []:\n",
    "\t\treturn True\n",
    "\t# otherwise check if as a derivation, the lemma exists\n",
    "\tfor lemmas_per_pos in m(word).values():\n",
    "\t\tfor lemma in lemmas_per_pos:\n",
    "\t\t\tres = wn.synsets(lemma)\n",
    "\t\t\t# if there exists one, return\n",
    "\t\t\tif res != []:\n",
    "\t\t\t\treturn True\n",
    "\treturn False"
   ]
  },
  {
   "cell_type": "code",
   "execution_count": 64,
   "metadata": {},
   "outputs": [],
   "source": [
    "from tqdm import tqdm"
   ]
  },
  {
   "cell_type": "code",
   "execution_count": 65,
   "metadata": {},
   "outputs": [
    {
     "name": "stderr",
     "output_type": "stream",
     "text": [
      "100%|██████████| 117490/117490 [01:01<00:00, 1897.98it/s]\n"
     ]
    }
   ],
   "source": [
    "non_words = []\n",
    "for word in tqdm(dico.keys()):\n",
    "\tif not validate(word):\n",
    "\t\tnon_words.append(word)"
   ]
  },
  {
   "cell_type": "code",
   "execution_count": 66,
   "metadata": {},
   "outputs": [
    {
     "data": {
      "text/plain": [
       "65445"
      ]
     },
     "execution_count": 66,
     "metadata": {},
     "output_type": "execute_result"
    }
   ],
   "source": [
    "len(non_words)"
   ]
  },
  {
   "cell_type": "code",
   "execution_count": null,
   "metadata": {},
   "outputs": [],
   "source": [
    "with open('./non_wordnet_words.txt', 'w', encoding='utf-8') as file:\n",
    "\tfor non_word in non_words:\n",
    "\t\tfile.write(non_word+'\\n')"
   ]
  },
  {
   "cell_type": "markdown",
   "metadata": {},
   "source": [
    "However, wordnet excludes some function words, they should be taken into account in dictionary"
   ]
  },
  {
   "cell_type": "code",
   "execution_count": 37,
   "metadata": {},
   "outputs": [],
   "source": [
    "with open('./non_wordnet_words.txt', 'r', encoding='utf-8') as file:\n",
    "\tnon_words = file.read().splitlines()"
   ]
  },
  {
   "cell_type": "code",
   "execution_count": 31,
   "metadata": {},
   "outputs": [],
   "source": [
    "with open('./wordnet_stopwords.txt', 'r', encoding='utf-8') as file:\n",
    "\tstop_words = file.read().splitlines()"
   ]
  },
  {
   "cell_type": "code",
   "execution_count": 38,
   "metadata": {},
   "outputs": [],
   "source": [
    "for non_word in non_words:\n",
    "\tif not non_word in stop_words:\n",
    "\t\tdico.pop(non_word)"
   ]
  },
  {
   "cell_type": "code",
   "execution_count": 39,
   "metadata": {},
   "outputs": [
    {
     "data": {
      "text/plain": [
       "52123"
      ]
     },
     "execution_count": 39,
     "metadata": {},
     "output_type": "execute_result"
    }
   ],
   "source": [
    "len(dico)"
   ]
  },
  {
   "cell_type": "markdown",
   "metadata": {},
   "source": [
    "now we get a well pronounced, wordnet-validated dictionary"
   ]
  },
  {
   "cell_type": "code",
   "execution_count": 85,
   "metadata": {},
   "outputs": [],
   "source": [
    "df = pd.DataFrame.from_dict(dico, orient='index', columns = ['sound'])"
   ]
  },
  {
   "cell_type": "code",
   "execution_count": 86,
   "metadata": {},
   "outputs": [
    {
     "data": {
      "text/html": [
       "<div>\n",
       "<style scoped>\n",
       "    .dataframe tbody tr th:only-of-type {\n",
       "        vertical-align: middle;\n",
       "    }\n",
       "\n",
       "    .dataframe tbody tr th {\n",
       "        vertical-align: top;\n",
       "    }\n",
       "\n",
       "    .dataframe thead th {\n",
       "        text-align: right;\n",
       "    }\n",
       "</style>\n",
       "<table border=\"1\" class=\"dataframe\">\n",
       "  <thead>\n",
       "    <tr style=\"text-align: right;\">\n",
       "      <th></th>\n",
       "      <th>COUNT</th>\n",
       "    </tr>\n",
       "    <tr>\n",
       "      <th>WORD</th>\n",
       "      <th></th>\n",
       "    </tr>\n",
       "  </thead>\n",
       "  <tbody>\n",
       "    <tr>\n",
       "      <th>in</th>\n",
       "      <td>4501</td>\n",
       "    </tr>\n",
       "    <tr>\n",
       "      <th>a</th>\n",
       "      <td>4496</td>\n",
       "    </tr>\n",
       "    <tr>\n",
       "      <th>as</th>\n",
       "      <td>4491</td>\n",
       "    </tr>\n",
       "    <tr>\n",
       "      <th>it</th>\n",
       "      <td>4486</td>\n",
       "    </tr>\n",
       "    <tr>\n",
       "      <th>be</th>\n",
       "      <td>4481</td>\n",
       "    </tr>\n",
       "    <tr>\n",
       "      <th>...</th>\n",
       "      <td>...</td>\n",
       "    </tr>\n",
       "    <tr>\n",
       "      <th>obsessivity</th>\n",
       "      <td>0</td>\n",
       "    </tr>\n",
       "    <tr>\n",
       "      <th>radiolocate</th>\n",
       "      <td>0</td>\n",
       "    </tr>\n",
       "    <tr>\n",
       "      <th>pelecypodous</th>\n",
       "      <td>0</td>\n",
       "    </tr>\n",
       "    <tr>\n",
       "      <th>sentimentize</th>\n",
       "      <td>0</td>\n",
       "    </tr>\n",
       "    <tr>\n",
       "      <th>imminentness</th>\n",
       "      <td>0</td>\n",
       "    </tr>\n",
       "  </tbody>\n",
       "</table>\n",
       "<p>46899 rows × 1 columns</p>\n",
       "</div>"
      ],
      "text/plain": [
       "              COUNT\n",
       "WORD               \n",
       "in             4501\n",
       "a              4496\n",
       "as             4491\n",
       "it             4486\n",
       "be             4481\n",
       "...             ...\n",
       "obsessivity       0\n",
       "radiolocate       0\n",
       "pelecypodous      0\n",
       "sentimentize      0\n",
       "imminentness      0\n",
       "\n",
       "[46899 rows x 1 columns]"
      ]
     },
     "execution_count": 86,
     "metadata": {},
     "output_type": "execute_result"
    }
   ],
   "source": [
    "df_freq = pd.read_csv('./dict_en.yaml', sep = '\\t', index_col=0, usecols=[1,2])\n",
    "df_freq"
   ]
  },
  {
   "cell_type": "code",
   "execution_count": 87,
   "metadata": {},
   "outputs": [],
   "source": [
    "df = df.join(df_freq.astype('Int64'))"
   ]
  },
  {
   "cell_type": "code",
   "execution_count": 88,
   "metadata": {},
   "outputs": [],
   "source": [
    "df.index.name = 'word'"
   ]
  },
  {
   "cell_type": "code",
   "execution_count": 89,
   "metadata": {},
   "outputs": [],
   "source": [
    "df.rename(columns={'COUNT': 'freq'}, inplace=True)"
   ]
  },
  {
   "cell_type": "code",
   "execution_count": 90,
   "metadata": {},
   "outputs": [
    {
     "data": {
      "text/html": [
       "<div>\n",
       "<style scoped>\n",
       "    .dataframe tbody tr th:only-of-type {\n",
       "        vertical-align: middle;\n",
       "    }\n",
       "\n",
       "    .dataframe tbody tr th {\n",
       "        vertical-align: top;\n",
       "    }\n",
       "\n",
       "    .dataframe thead th {\n",
       "        text-align: right;\n",
       "    }\n",
       "</style>\n",
       "<table border=\"1\" class=\"dataframe\">\n",
       "  <thead>\n",
       "    <tr style=\"text-align: right;\">\n",
       "      <th></th>\n",
       "      <th>sound</th>\n",
       "      <th>freq</th>\n",
       "    </tr>\n",
       "    <tr>\n",
       "      <th>word</th>\n",
       "      <th></th>\n",
       "      <th></th>\n",
       "    </tr>\n",
       "  </thead>\n",
       "  <tbody>\n",
       "    <tr>\n",
       "      <th>a</th>\n",
       "      <td>AH0</td>\n",
       "      <td>4496</td>\n",
       "    </tr>\n",
       "    <tr>\n",
       "      <th>aaa</th>\n",
       "      <td>T R IH2 P AH0 L EY1</td>\n",
       "      <td>&lt;NA&gt;</td>\n",
       "    </tr>\n",
       "    <tr>\n",
       "      <th>aachen</th>\n",
       "      <td>AA1 K AH0 N</td>\n",
       "      <td>&lt;NA&gt;</td>\n",
       "    </tr>\n",
       "    <tr>\n",
       "      <th>aalborg</th>\n",
       "      <td>AO1 L B AO0 R G</td>\n",
       "      <td>&lt;NA&gt;</td>\n",
       "    </tr>\n",
       "    <tr>\n",
       "      <th>aalto</th>\n",
       "      <td>AA1 L T OW2</td>\n",
       "      <td>&lt;NA&gt;</td>\n",
       "    </tr>\n",
       "    <tr>\n",
       "      <th>...</th>\n",
       "      <td>...</td>\n",
       "      <td>...</td>\n",
       "    </tr>\n",
       "    <tr>\n",
       "      <th>zuni</th>\n",
       "      <td>Z UW1 N IY2</td>\n",
       "      <td>&lt;NA&gt;</td>\n",
       "    </tr>\n",
       "    <tr>\n",
       "      <th>zurich</th>\n",
       "      <td>Z UH1 R IH0 K</td>\n",
       "      <td>&lt;NA&gt;</td>\n",
       "    </tr>\n",
       "    <tr>\n",
       "      <th>zweig</th>\n",
       "      <td>Z W AY1 G</td>\n",
       "      <td>&lt;NA&gt;</td>\n",
       "    </tr>\n",
       "    <tr>\n",
       "      <th>zydeco</th>\n",
       "      <td>Z AY1 D AH0 K OW2</td>\n",
       "      <td>&lt;NA&gt;</td>\n",
       "    </tr>\n",
       "    <tr>\n",
       "      <th>zygote</th>\n",
       "      <td>Z AY1 G OW0 T</td>\n",
       "      <td>7</td>\n",
       "    </tr>\n",
       "  </tbody>\n",
       "</table>\n",
       "<p>52123 rows × 2 columns</p>\n",
       "</div>"
      ],
      "text/plain": [
       "                       sound  freq\n",
       "word                              \n",
       "a                        AH0  4496\n",
       "aaa      T R IH2 P AH0 L EY1  <NA>\n",
       "aachen           AA1 K AH0 N  <NA>\n",
       "aalborg      AO1 L B AO0 R G  <NA>\n",
       "aalto            AA1 L T OW2  <NA>\n",
       "...                      ...   ...\n",
       "zuni             Z UW1 N IY2  <NA>\n",
       "zurich         Z UH1 R IH0 K  <NA>\n",
       "zweig              Z W AY1 G  <NA>\n",
       "zydeco     Z AY1 D AH0 K OW2  <NA>\n",
       "zygote         Z AY1 G OW0 T     7\n",
       "\n",
       "[52123 rows x 2 columns]"
      ]
     },
     "execution_count": 90,
     "metadata": {},
     "output_type": "execute_result"
    }
   ],
   "source": [
    "df"
   ]
  },
  {
   "cell_type": "code",
   "execution_count": 91,
   "metadata": {},
   "outputs": [],
   "source": [
    "def encode(phonemes):\n",
    "\tvowels = re.compile('(AO|UW|EH|AH|AA|IY|IH|UH|AE|AW|AY|ER|EY|OW|OY)\\d*', re.VERBOSE)\n",
    "\tphonemes = re.sub(vowels, 'Q', phonemes)\n",
    "\tcomplex_consonant = re.compile('CH|DH|HH|JH|NG|SH|TH|ZH|')\n",
    "\t# complex consonants\n",
    "\tphonemes = re.sub('HH', 'H', phonemes)\n",
    "\tphonemes = re.sub('CH', 'C', phonemes)\n",
    "\tphonemes = re.sub('JH', 'J', phonemes)\n",
    "\tphonemes = re.sub('TH', 'X', phonemes)\n",
    "\tphonemes = re.sub('DH', 'X', phonemes)\n",
    "\tphonemes = re.sub('SH', 'U', phonemes)\n",
    "\tphonemes = re.sub('ZH', 'O', phonemes)\n",
    "\tphonemes = re.sub('NG', 'I', phonemes)\n",
    "\t\n",
    "\t# remove whitespaces\n",
    "\tphonemes = re.sub(' ', '', phonemes)\n",
    "\n",
    "\treturn phonemes"
   ]
  },
  {
   "cell_type": "code",
   "execution_count": 92,
   "metadata": {},
   "outputs": [],
   "source": [
    "def transcribe(phonemes_list):\n",
    "\tencoding_list = []\n",
    "\tfor phonemes in phonemes_list:\n",
    "\t\tencoding_list.append(encode(phonemes))\n",
    "\treturn encoding_list"
   ]
  },
  {
   "cell_type": "code",
   "execution_count": 93,
   "metadata": {},
   "outputs": [],
   "source": [
    "encoding_list = transcribe(df.sound.astype('str'))\n",
    "df['encoding'] = encoding_list"
   ]
  },
  {
   "cell_type": "code",
   "execution_count": 94,
   "metadata": {},
   "outputs": [
    {
     "data": {
      "text/html": [
       "<div>\n",
       "<style scoped>\n",
       "    .dataframe tbody tr th:only-of-type {\n",
       "        vertical-align: middle;\n",
       "    }\n",
       "\n",
       "    .dataframe tbody tr th {\n",
       "        vertical-align: top;\n",
       "    }\n",
       "\n",
       "    .dataframe thead th {\n",
       "        text-align: right;\n",
       "    }\n",
       "</style>\n",
       "<table border=\"1\" class=\"dataframe\">\n",
       "  <thead>\n",
       "    <tr style=\"text-align: right;\">\n",
       "      <th></th>\n",
       "      <th>sound</th>\n",
       "      <th>freq</th>\n",
       "      <th>encoding</th>\n",
       "    </tr>\n",
       "    <tr>\n",
       "      <th>word</th>\n",
       "      <th></th>\n",
       "      <th></th>\n",
       "      <th></th>\n",
       "    </tr>\n",
       "  </thead>\n",
       "  <tbody>\n",
       "    <tr>\n",
       "      <th>a</th>\n",
       "      <td>AH0</td>\n",
       "      <td>4496</td>\n",
       "      <td>Q</td>\n",
       "    </tr>\n",
       "    <tr>\n",
       "      <th>aaa</th>\n",
       "      <td>T R IH2 P AH0 L EY1</td>\n",
       "      <td>&lt;NA&gt;</td>\n",
       "      <td>TRQPQLQ</td>\n",
       "    </tr>\n",
       "    <tr>\n",
       "      <th>aachen</th>\n",
       "      <td>AA1 K AH0 N</td>\n",
       "      <td>&lt;NA&gt;</td>\n",
       "      <td>QKQN</td>\n",
       "    </tr>\n",
       "    <tr>\n",
       "      <th>aalborg</th>\n",
       "      <td>AO1 L B AO0 R G</td>\n",
       "      <td>&lt;NA&gt;</td>\n",
       "      <td>QLBQRG</td>\n",
       "    </tr>\n",
       "    <tr>\n",
       "      <th>aalto</th>\n",
       "      <td>AA1 L T OW2</td>\n",
       "      <td>&lt;NA&gt;</td>\n",
       "      <td>QLTQ</td>\n",
       "    </tr>\n",
       "    <tr>\n",
       "      <th>...</th>\n",
       "      <td>...</td>\n",
       "      <td>...</td>\n",
       "      <td>...</td>\n",
       "    </tr>\n",
       "    <tr>\n",
       "      <th>zuni</th>\n",
       "      <td>Z UW1 N IY2</td>\n",
       "      <td>&lt;NA&gt;</td>\n",
       "      <td>ZQNQ</td>\n",
       "    </tr>\n",
       "    <tr>\n",
       "      <th>zurich</th>\n",
       "      <td>Z UH1 R IH0 K</td>\n",
       "      <td>&lt;NA&gt;</td>\n",
       "      <td>ZQRQK</td>\n",
       "    </tr>\n",
       "    <tr>\n",
       "      <th>zweig</th>\n",
       "      <td>Z W AY1 G</td>\n",
       "      <td>&lt;NA&gt;</td>\n",
       "      <td>ZWQG</td>\n",
       "    </tr>\n",
       "    <tr>\n",
       "      <th>zydeco</th>\n",
       "      <td>Z AY1 D AH0 K OW2</td>\n",
       "      <td>&lt;NA&gt;</td>\n",
       "      <td>ZQDQKQ</td>\n",
       "    </tr>\n",
       "    <tr>\n",
       "      <th>zygote</th>\n",
       "      <td>Z AY1 G OW0 T</td>\n",
       "      <td>7</td>\n",
       "      <td>ZQGQT</td>\n",
       "    </tr>\n",
       "  </tbody>\n",
       "</table>\n",
       "<p>52123 rows × 3 columns</p>\n",
       "</div>"
      ],
      "text/plain": [
       "                       sound  freq encoding\n",
       "word                                       \n",
       "a                        AH0  4496        Q\n",
       "aaa      T R IH2 P AH0 L EY1  <NA>  TRQPQLQ\n",
       "aachen           AA1 K AH0 N  <NA>     QKQN\n",
       "aalborg      AO1 L B AO0 R G  <NA>   QLBQRG\n",
       "aalto            AA1 L T OW2  <NA>     QLTQ\n",
       "...                      ...   ...      ...\n",
       "zuni             Z UW1 N IY2  <NA>     ZQNQ\n",
       "zurich         Z UH1 R IH0 K  <NA>    ZQRQK\n",
       "zweig              Z W AY1 G  <NA>     ZWQG\n",
       "zydeco     Z AY1 D AH0 K OW2  <NA>   ZQDQKQ\n",
       "zygote         Z AY1 G OW0 T     7    ZQGQT\n",
       "\n",
       "[52123 rows x 3 columns]"
      ]
     },
     "execution_count": 94,
     "metadata": {},
     "output_type": "execute_result"
    }
   ],
   "source": [
    "df"
   ]
  },
  {
   "cell_type": "markdown",
   "metadata": {},
   "source": [
    "delete non-initial vowels"
   ]
  },
  {
   "cell_type": "code",
   "execution_count": 76,
   "metadata": {},
   "outputs": [],
   "source": [
    "def remove_vowels(encoding_list):\n",
    "\tres = []\n",
    "\tfor encoding in encoding_list:\n",
    "\t\tif len(encoding) > 1:\n",
    "\t\t\tres.append(encoding[0] + re.sub('Q','', encoding[1:-1]) + encoding[-1])\n",
    "\t\telse:\n",
    "\t\t\tres.append(encoding)\n",
    "\treturn res"
   ]
  },
  {
   "cell_type": "markdown",
   "metadata": {},
   "source": [
    "Normalization\n",
    "\n",
    "We hope that:\n",
    "1. the plurals and the third person single form are uniformly terminated with S(instead of Z or other possible sound)\n",
    "2. the past particles are uniformly terminated with E(instead of T or D or other possible sound)\n",
    "3. the present particles are uniformly terminated with I(this is already done since we encode NG sound by I)\n",
    "\n",
    "you can take these terminations as a grammatical symbol"
   ]
  },
  {
   "cell_type": "code",
   "execution_count": 235,
   "metadata": {},
   "outputs": [
    {
     "data": {
      "text/plain": [
       "aardvarks           QRDVQRKS\n",
       "aarhus                  QHQS\n",
       "abacus                QBQKQS\n",
       "abalones            QBQLQNQZ\n",
       "abandonments    QBQNDQNMQNTS\n",
       "                    ...     \n",
       "zones                   ZQNZ\n",
       "zoologists       ZQWQLQJQSTS\n",
       "zooms                   ZQMZ\n",
       "zoos                     ZQZ\n",
       "zucchinis            ZQKQNQZ\n",
       "Name: encoding, Length: 13316, dtype: object"
      ]
     },
     "execution_count": 235,
     "metadata": {},
     "output_type": "execute_result"
    }
   ],
   "source": [
    "df.encoding.loc[(df.index.str.contains('s$', regex=True) == True)]"
   ]
  },
  {
   "cell_type": "code",
   "execution_count": 236,
   "metadata": {},
   "outputs": [
    {
     "data": {
      "text/plain": [
       "abandoned         QBQNDQND\n",
       "abashed              QBQUT\n",
       "abated              QBQTQD\n",
       "abbreviated    QBRQVQYQTQD\n",
       "abdicated        QBDQKQTQD\n",
       "                  ...     \n",
       "zigzagged          ZQGZQGD\n",
       "zipped                ZQPT\n",
       "zippered             ZQPQD\n",
       "zoned                 ZQND\n",
       "zoomed                ZQMD\n",
       "Name: encoding, Length: 4701, dtype: object"
      ]
     },
     "execution_count": 236,
     "metadata": {},
     "output_type": "execute_result"
    }
   ],
   "source": [
    "df.encoding.loc[(df.index.str.contains('ed$', regex=True) == True)]"
   ]
  },
  {
   "cell_type": "code",
   "execution_count": 237,
   "metadata": {},
   "outputs": [
    {
     "data": {
      "text/plain": [
       "abandoning        QBQNDQNQI\n",
       "abating              QBQTQI\n",
       "abbreviating    QBRQVQYQTQI\n",
       "abdicating        QBDQKQTQI\n",
       "abducting          QBDQKTQI\n",
       "                   ...     \n",
       "zing                    ZQI\n",
       "zippering           ZQPQRQI\n",
       "zipping               ZQPQI\n",
       "zoning                ZQNQI\n",
       "zooming               ZQMQI\n",
       "Name: encoding, Length: 4323, dtype: object"
      ]
     },
     "execution_count": 237,
     "metadata": {},
     "output_type": "execute_result"
    }
   ],
   "source": [
    "df.encoding.loc[(df.index.str.contains('ing$', regex=True) == True)]"
   ]
  },
  {
   "cell_type": "code",
   "execution_count": 107,
   "metadata": {},
   "outputs": [],
   "source": [
    "def normalize(encodings: pd.Series):\n",
    "\tplurals_or_third_single_form  = re.compile('s$')\n",
    "\tpast_particle = re.compile('ed$')\n",
    "\tpresent_particle = re.compile('ing$')\n",
    "\n",
    "\t# print(encodings.head())\n",
    "\t# replace voiced plural suffix\n",
    "\tres1 = encodings.loc[(encodings.index.str.contains(plurals_or_third_single_form, regex=True) == True)].str.replace('Z$', 'S', regex=True)\n",
    "\t# print(res1.head())\n",
    "\t# remove -ed, sometimes together with a vowel sound i.\n",
    "\tres2 = encodings.loc[(encodings.index.str.contains(past_particle, regex=True) == True)].str.replace('Q?[T|D]$', 'E', regex = True)\n",
    "\t# print(res2.head())\n",
    "\t# remove -ing, always with a vowel sound i\n",
    "\tres3 = encodings.loc[(encodings.index.str.contains(present_particle, regex=True) == True)].str.replace('Q?I$', 'I', regex = True)\n",
    "\t# print(res3.head())\n",
    "\t\n",
    "\tres = pd.concat([res1, res2, res3])\n",
    "\treturn res"
   ]
  },
  {
   "cell_type": "code",
   "execution_count": 108,
   "metadata": {},
   "outputs": [],
   "source": [
    "res = normalize(df.encoding)"
   ]
  },
  {
   "cell_type": "code",
   "execution_count": 109,
   "metadata": {},
   "outputs": [
    {
     "data": {
      "text/plain": [
       "word\n",
       "abandons       QBQNDQNZ\n",
       "abandoned      QBQNDQND\n",
       "abandoning    QBQNDQNQI\n",
       "Name: encoding, dtype: object"
      ]
     },
     "execution_count": 109,
     "metadata": {},
     "output_type": "execute_result"
    }
   ],
   "source": [
    "df.loc[['abandons','abandoned','abandoning'], 'encoding']"
   ]
  },
  {
   "cell_type": "code",
   "execution_count": 110,
   "metadata": {},
   "outputs": [],
   "source": [
    "df.loc[res.index, 'encoding'] = res"
   ]
  },
  {
   "cell_type": "code",
   "execution_count": 111,
   "metadata": {},
   "outputs": [
    {
     "data": {
      "text/plain": [
       "word\n",
       "abandons      QBQNDQNS\n",
       "abandoned     QBQNDQNE\n",
       "abandoning    QBQNDQNI\n",
       "Name: encoding, dtype: object"
      ]
     },
     "execution_count": 111,
     "metadata": {},
     "output_type": "execute_result"
    }
   ],
   "source": [
    "df.loc[['abandons','abandoned','abandoning'], 'encoding']"
   ]
  },
  {
   "cell_type": "markdown",
   "metadata": {},
   "source": [
    "Manually correct exceptions"
   ]
  },
  {
   "cell_type": "markdown",
   "metadata": {},
   "source": [
    "Type letters, 2-grams, 3-grams, 4-grams by themselve  "
   ]
  },
  {
   "cell_type": "code",
   "execution_count": 97,
   "metadata": {},
   "outputs": [],
   "source": [
    "df.loc[(df.index.str.len() <= 4), 'encoding'] = df.index[(df.index.str.len() <= 4)].str.upper()"
   ]
  },
  {
   "cell_type": "code",
   "execution_count": 101,
   "metadata": {},
   "outputs": [
    {
     "data": {
      "text/html": [
       "<div>\n",
       "<style scoped>\n",
       "    .dataframe tbody tr th:only-of-type {\n",
       "        vertical-align: middle;\n",
       "    }\n",
       "\n",
       "    .dataframe tbody tr th {\n",
       "        vertical-align: top;\n",
       "    }\n",
       "\n",
       "    .dataframe thead th {\n",
       "        text-align: right;\n",
       "    }\n",
       "</style>\n",
       "<table border=\"1\" class=\"dataframe\">\n",
       "  <thead>\n",
       "    <tr style=\"text-align: right;\">\n",
       "      <th></th>\n",
       "      <th>encoding</th>\n",
       "      <th>freq</th>\n",
       "    </tr>\n",
       "    <tr>\n",
       "      <th>word</th>\n",
       "      <th></th>\n",
       "      <th></th>\n",
       "    </tr>\n",
       "  </thead>\n",
       "  <tbody>\n",
       "    <tr>\n",
       "      <th>a</th>\n",
       "      <td>A</td>\n",
       "      <td>4496</td>\n",
       "    </tr>\n",
       "    <tr>\n",
       "      <th>aaa</th>\n",
       "      <td>AAA</td>\n",
       "      <td>&lt;NA&gt;</td>\n",
       "    </tr>\n",
       "    <tr>\n",
       "      <th>ab</th>\n",
       "      <td>AB</td>\n",
       "      <td>&lt;NA&gt;</td>\n",
       "    </tr>\n",
       "    <tr>\n",
       "      <th>aba</th>\n",
       "      <td>ABA</td>\n",
       "      <td>&lt;NA&gt;</td>\n",
       "    </tr>\n",
       "    <tr>\n",
       "      <th>abbe</th>\n",
       "      <td>ABBE</td>\n",
       "      <td>&lt;NA&gt;</td>\n",
       "    </tr>\n",
       "    <tr>\n",
       "      <th>...</th>\n",
       "      <td>...</td>\n",
       "      <td>...</td>\n",
       "    </tr>\n",
       "    <tr>\n",
       "      <th>zoo</th>\n",
       "      <td>ZOO</td>\n",
       "      <td>56</td>\n",
       "    </tr>\n",
       "    <tr>\n",
       "      <th>zoom</th>\n",
       "      <td>ZOOM</td>\n",
       "      <td>28</td>\n",
       "    </tr>\n",
       "    <tr>\n",
       "      <th>zoos</th>\n",
       "      <td>ZOOS</td>\n",
       "      <td>&lt;NA&gt;</td>\n",
       "    </tr>\n",
       "    <tr>\n",
       "      <th>zulu</th>\n",
       "      <td>ZULU</td>\n",
       "      <td>22</td>\n",
       "    </tr>\n",
       "    <tr>\n",
       "      <th>zuni</th>\n",
       "      <td>ZUNI</td>\n",
       "      <td>&lt;NA&gt;</td>\n",
       "    </tr>\n",
       "  </tbody>\n",
       "</table>\n",
       "<p>3735 rows × 2 columns</p>\n",
       "</div>"
      ],
      "text/plain": [
       "     encoding  freq\n",
       "word               \n",
       "a           A  4496\n",
       "aaa       AAA  <NA>\n",
       "ab         AB  <NA>\n",
       "aba       ABA  <NA>\n",
       "abbe     ABBE  <NA>\n",
       "...       ...   ...\n",
       "zoo       ZOO    56\n",
       "zoom     ZOOM    28\n",
       "zoos     ZOOS  <NA>\n",
       "zulu     ZULU    22\n",
       "zuni     ZUNI  <NA>\n",
       "\n",
       "[3735 rows x 2 columns]"
      ]
     },
     "execution_count": 101,
     "metadata": {},
     "output_type": "execute_result"
    }
   ],
   "source": [
    "df.loc[(df.index.str.len() <= 4) & (df.encoding.str.len() <= 4), ['encoding','freq']]"
   ]
  },
  {
   "cell_type": "markdown",
   "metadata": {},
   "source": [
    "Detect inefficient encoding"
   ]
  },
  {
   "cell_type": "code",
   "execution_count": 115,
   "metadata": {},
   "outputs": [
    {
     "data": {
      "text/html": [
       "<div>\n",
       "<style scoped>\n",
       "    .dataframe tbody tr th:only-of-type {\n",
       "        vertical-align: middle;\n",
       "    }\n",
       "\n",
       "    .dataframe tbody tr th {\n",
       "        vertical-align: top;\n",
       "    }\n",
       "\n",
       "    .dataframe thead th {\n",
       "        text-align: right;\n",
       "    }\n",
       "</style>\n",
       "<table border=\"1\" class=\"dataframe\">\n",
       "  <thead>\n",
       "    <tr style=\"text-align: right;\">\n",
       "      <th></th>\n",
       "      <th>encoding</th>\n",
       "      <th>freq</th>\n",
       "    </tr>\n",
       "    <tr>\n",
       "      <th>word</th>\n",
       "      <th></th>\n",
       "      <th></th>\n",
       "    </tr>\n",
       "  </thead>\n",
       "  <tbody>\n",
       "    <tr>\n",
       "      <th>absenteeism</th>\n",
       "      <td>QBSQNTQYQZQM</td>\n",
       "      <td>23</td>\n",
       "    </tr>\n",
       "    <tr>\n",
       "      <th>absolutism</th>\n",
       "      <td>QBSQLQTQZQM</td>\n",
       "      <td>16</td>\n",
       "    </tr>\n",
       "    <tr>\n",
       "      <th>abuses</th>\n",
       "      <td>QBYQSQS</td>\n",
       "      <td>&lt;NA&gt;</td>\n",
       "    </tr>\n",
       "    <tr>\n",
       "      <th>academia</th>\n",
       "      <td>QKQDQMQYQ</td>\n",
       "      <td>33</td>\n",
       "    </tr>\n",
       "    <tr>\n",
       "      <th>acadia</th>\n",
       "      <td>QKQDQYQ</td>\n",
       "      <td>&lt;NA&gt;</td>\n",
       "    </tr>\n",
       "    <tr>\n",
       "      <th>...</th>\n",
       "      <td>...</td>\n",
       "      <td>...</td>\n",
       "    </tr>\n",
       "    <tr>\n",
       "      <th>zodiac</th>\n",
       "      <td>ZQDQYQK</td>\n",
       "      <td>16</td>\n",
       "    </tr>\n",
       "    <tr>\n",
       "      <th>zoologist</th>\n",
       "      <td>ZQWQLQJQST</td>\n",
       "      <td>9</td>\n",
       "    </tr>\n",
       "    <tr>\n",
       "      <th>zoologists</th>\n",
       "      <td>ZQWQLQJQSTS</td>\n",
       "      <td>&lt;NA&gt;</td>\n",
       "    </tr>\n",
       "    <tr>\n",
       "      <th>zoology</th>\n",
       "      <td>ZQWQLQJQ</td>\n",
       "      <td>83</td>\n",
       "    </tr>\n",
       "    <tr>\n",
       "      <th>zovirax</th>\n",
       "      <td>ZQVQRQKS</td>\n",
       "      <td>&lt;NA&gt;</td>\n",
       "    </tr>\n",
       "  </tbody>\n",
       "</table>\n",
       "<p>2245 rows × 2 columns</p>\n",
       "</div>"
      ],
      "text/plain": [
       "                 encoding  freq\n",
       "word                           \n",
       "absenteeism  QBSQNTQYQZQM    23\n",
       "absolutism    QBSQLQTQZQM    16\n",
       "abuses            QBYQSQS  <NA>\n",
       "academia        QKQDQMQYQ    33\n",
       "acadia            QKQDQYQ  <NA>\n",
       "...                   ...   ...\n",
       "zodiac            ZQDQYQK    16\n",
       "zoologist      ZQWQLQJQST     9\n",
       "zoologists    ZQWQLQJQSTS  <NA>\n",
       "zoology          ZQWQLQJQ    83\n",
       "zovirax          ZQVQRQKS  <NA>\n",
       "\n",
       "[2245 rows x 2 columns]"
      ]
     },
     "execution_count": 115,
     "metadata": {},
     "output_type": "execute_result"
    }
   ],
   "source": [
    "df.loc[(df.index.str.len() < df.encoding.str.len()), ['encoding','freq']]"
   ]
  },
  {
   "cell_type": "code",
   "execution_count": 116,
   "metadata": {},
   "outputs": [],
   "source": [
    "df['vowel_free'] = remove_vowels(df.encoding) "
   ]
  },
  {
   "cell_type": "code",
   "execution_count": 117,
   "metadata": {},
   "outputs": [],
   "source": [
    "df.to_csv('./dict_en.csv')"
   ]
  },
  {
   "cell_type": "code",
   "execution_count": 118,
   "metadata": {},
   "outputs": [],
   "source": [
    "df = pd.read_csv('./dict_en.csv', index_col=0, dtype={'sound':str,'freq':pd.Int64Dtype(),'encoding':str,'vowel_free':str}, na_filter=False)"
   ]
  },
  {
   "cell_type": "code",
   "execution_count": 119,
   "metadata": {},
   "outputs": [
    {
     "data": {
      "text/html": [
       "<div>\n",
       "<style scoped>\n",
       "    .dataframe tbody tr th:only-of-type {\n",
       "        vertical-align: middle;\n",
       "    }\n",
       "\n",
       "    .dataframe tbody tr th {\n",
       "        vertical-align: top;\n",
       "    }\n",
       "\n",
       "    .dataframe thead th {\n",
       "        text-align: right;\n",
       "    }\n",
       "</style>\n",
       "<table border=\"1\" class=\"dataframe\">\n",
       "  <thead>\n",
       "    <tr style=\"text-align: right;\">\n",
       "      <th></th>\n",
       "      <th>sound</th>\n",
       "      <th>freq</th>\n",
       "      <th>encoding</th>\n",
       "      <th>vowel_free</th>\n",
       "    </tr>\n",
       "    <tr>\n",
       "      <th>word</th>\n",
       "      <th></th>\n",
       "      <th></th>\n",
       "      <th></th>\n",
       "      <th></th>\n",
       "    </tr>\n",
       "  </thead>\n",
       "  <tbody>\n",
       "    <tr>\n",
       "      <th>a</th>\n",
       "      <td>AH0</td>\n",
       "      <td>4496</td>\n",
       "      <td>A</td>\n",
       "      <td>A</td>\n",
       "    </tr>\n",
       "    <tr>\n",
       "      <th>aaa</th>\n",
       "      <td>T R IH2 P AH0 L EY1</td>\n",
       "      <td>&lt;NA&gt;</td>\n",
       "      <td>AAA</td>\n",
       "      <td>AAA</td>\n",
       "    </tr>\n",
       "    <tr>\n",
       "      <th>aachen</th>\n",
       "      <td>AA1 K AH0 N</td>\n",
       "      <td>&lt;NA&gt;</td>\n",
       "      <td>QKQN</td>\n",
       "      <td>QKN</td>\n",
       "    </tr>\n",
       "    <tr>\n",
       "      <th>aalborg</th>\n",
       "      <td>AO1 L B AO0 R G</td>\n",
       "      <td>&lt;NA&gt;</td>\n",
       "      <td>QLBQRG</td>\n",
       "      <td>QLBRG</td>\n",
       "    </tr>\n",
       "    <tr>\n",
       "      <th>aalto</th>\n",
       "      <td>AA1 L T OW2</td>\n",
       "      <td>&lt;NA&gt;</td>\n",
       "      <td>QLTQ</td>\n",
       "      <td>QLTQ</td>\n",
       "    </tr>\n",
       "    <tr>\n",
       "      <th>...</th>\n",
       "      <td>...</td>\n",
       "      <td>...</td>\n",
       "      <td>...</td>\n",
       "      <td>...</td>\n",
       "    </tr>\n",
       "    <tr>\n",
       "      <th>zuni</th>\n",
       "      <td>Z UW1 N IY2</td>\n",
       "      <td>&lt;NA&gt;</td>\n",
       "      <td>ZUNI</td>\n",
       "      <td>ZUNI</td>\n",
       "    </tr>\n",
       "    <tr>\n",
       "      <th>zurich</th>\n",
       "      <td>Z UH1 R IH0 K</td>\n",
       "      <td>&lt;NA&gt;</td>\n",
       "      <td>ZQRQK</td>\n",
       "      <td>ZRK</td>\n",
       "    </tr>\n",
       "    <tr>\n",
       "      <th>zweig</th>\n",
       "      <td>Z W AY1 G</td>\n",
       "      <td>&lt;NA&gt;</td>\n",
       "      <td>ZWQG</td>\n",
       "      <td>ZWG</td>\n",
       "    </tr>\n",
       "    <tr>\n",
       "      <th>zydeco</th>\n",
       "      <td>Z AY1 D AH0 K OW2</td>\n",
       "      <td>&lt;NA&gt;</td>\n",
       "      <td>ZQDQKQ</td>\n",
       "      <td>ZDKQ</td>\n",
       "    </tr>\n",
       "    <tr>\n",
       "      <th>zygote</th>\n",
       "      <td>Z AY1 G OW0 T</td>\n",
       "      <td>7</td>\n",
       "      <td>ZQGQT</td>\n",
       "      <td>ZGT</td>\n",
       "    </tr>\n",
       "  </tbody>\n",
       "</table>\n",
       "<p>52123 rows × 4 columns</p>\n",
       "</div>"
      ],
      "text/plain": [
       "                       sound  freq encoding vowel_free\n",
       "word                                                  \n",
       "a                        AH0  4496        A          A\n",
       "aaa      T R IH2 P AH0 L EY1  <NA>      AAA        AAA\n",
       "aachen           AA1 K AH0 N  <NA>     QKQN        QKN\n",
       "aalborg      AO1 L B AO0 R G  <NA>   QLBQRG      QLBRG\n",
       "aalto            AA1 L T OW2  <NA>     QLTQ       QLTQ\n",
       "...                      ...   ...      ...        ...\n",
       "zuni             Z UW1 N IY2  <NA>     ZUNI       ZUNI\n",
       "zurich         Z UH1 R IH0 K  <NA>    ZQRQK        ZRK\n",
       "zweig              Z W AY1 G  <NA>     ZWQG        ZWG\n",
       "zydeco     Z AY1 D AH0 K OW2  <NA>   ZQDQKQ       ZDKQ\n",
       "zygote         Z AY1 G OW0 T     7    ZQGQT        ZGT\n",
       "\n",
       "[52123 rows x 4 columns]"
      ]
     },
     "execution_count": 119,
     "metadata": {},
     "output_type": "execute_result"
    }
   ],
   "source": [
    "df"
   ]
  },
  {
   "cell_type": "code",
   "execution_count": 120,
   "metadata": {},
   "outputs": [
    {
     "data": {
      "text/plain": [
       "sound         AH0 B R IY1 V IY0 Y EY2 T IH0 D\n",
       "freq                                       50\n",
       "encoding                           QBRQVQYQTE\n",
       "vowel_free                            QBRVYTE\n",
       "Name: abbreviated, dtype: object"
      ]
     },
     "execution_count": 120,
     "metadata": {},
     "output_type": "execute_result"
    }
   ],
   "source": [
    "df.loc['abbreviated']"
   ]
  },
  {
   "cell_type": "markdown",
   "metadata": {},
   "source": [
    "## Encoding Statistics"
   ]
  },
  {
   "cell_type": "markdown",
   "metadata": {},
   "source": [
    "encoding length"
   ]
  },
  {
   "cell_type": "code",
   "execution_count": 320,
   "metadata": {},
   "outputs": [],
   "source": [
    "def plot_string_length_freq(encodings: pd.DataFrame):\n",
    "\twd_length = encodings.reset_index().apply(lambda x: x.str.len(), axis=0).astype(pd.Int64Dtype())\n",
    "\tdisplay(wd_length.describe(percentiles=[.9,.95,.99]).drop(['count','50%','min']))\n",
    "\n",
    "\twd_length_count = wd_length.melt()\n",
    "\twd_length_count = wd_length_count.pivot_table(index='value', columns='variable', values='value', aggfunc='size')\n",
    "\tplt.style.use('seaborn-v0_8-notebook')\n",
    "\twd_length_count.plot(kind='bar')\n",
    "\t"
   ]
  },
  {
   "cell_type": "markdown",
   "metadata": {},
   "source": [
    "- less average encoding length: lazier\n",
    "- less standard deviation of encoding length: evener"
   ]
  },
  {
   "cell_type": "code",
   "execution_count": 322,
   "metadata": {},
   "outputs": [
    {
     "data": {
      "text/html": [
       "<div>\n",
       "<style scoped>\n",
       "    .dataframe tbody tr th:only-of-type {\n",
       "        vertical-align: middle;\n",
       "    }\n",
       "\n",
       "    .dataframe tbody tr th {\n",
       "        vertical-align: top;\n",
       "    }\n",
       "\n",
       "    .dataframe thead th {\n",
       "        text-align: right;\n",
       "    }\n",
       "</style>\n",
       "<table border=\"1\" class=\"dataframe\">\n",
       "  <thead>\n",
       "    <tr style=\"text-align: right;\">\n",
       "      <th></th>\n",
       "      <th>word</th>\n",
       "      <th>encoding</th>\n",
       "      <th>vowel_free</th>\n",
       "    </tr>\n",
       "  </thead>\n",
       "  <tbody>\n",
       "    <tr>\n",
       "      <th>mean</th>\n",
       "      <td>7.912553</td>\n",
       "      <td>6.810583</td>\n",
       "      <td>4.791397</td>\n",
       "    </tr>\n",
       "    <tr>\n",
       "      <th>std</th>\n",
       "      <td>2.467701</td>\n",
       "      <td>2.382043</td>\n",
       "      <td>1.459695</td>\n",
       "    </tr>\n",
       "    <tr>\n",
       "      <th>90%</th>\n",
       "      <td>11.0</td>\n",
       "      <td>10.0</td>\n",
       "      <td>7.0</td>\n",
       "    </tr>\n",
       "    <tr>\n",
       "      <th>95%</th>\n",
       "      <td>12.0</td>\n",
       "      <td>11.0</td>\n",
       "      <td>7.0</td>\n",
       "    </tr>\n",
       "    <tr>\n",
       "      <th>99%</th>\n",
       "      <td>14.0</td>\n",
       "      <td>13.0</td>\n",
       "      <td>9.0</td>\n",
       "    </tr>\n",
       "    <tr>\n",
       "      <th>max</th>\n",
       "      <td>20.0</td>\n",
       "      <td>19.0</td>\n",
       "      <td>13.0</td>\n",
       "    </tr>\n",
       "  </tbody>\n",
       "</table>\n",
       "</div>"
      ],
      "text/plain": [
       "          word  encoding  vowel_free\n",
       "mean  7.912553  6.810583    4.791397\n",
       "std   2.467701  2.382043    1.459695\n",
       "90%       11.0      10.0         7.0\n",
       "95%       12.0      11.0         7.0\n",
       "99%       14.0      13.0         9.0\n",
       "max       20.0      19.0        13.0"
      ]
     },
     "metadata": {},
     "output_type": "display_data"
    },
    {
     "data": {
      "image/png": "[encoded data removed]",
      "text/plain": [
       "<Figure size 800x550 with 1 Axes>"
      ]
     },
     "metadata": {},
     "output_type": "display_data"
    }
   ],
   "source": [
    "plot_string_length_freq(df[['encoding', 'vowel_free']])"
   ]
  },
  {
   "cell_type": "markdown",
   "metadata": {},
   "source": [
    "coincident codes: counts of words with same encoding"
   ]
  },
  {
   "cell_type": "code",
   "execution_count": 340,
   "metadata": {},
   "outputs": [],
   "source": [
    "def coincident_stats(encodings: pd.DataFrame, ext = 10):\n",
    "\ttotal = len(encodings)\n",
    "\n",
    "\tmultiplicity = encodings.value_counts()\n",
    "\tmultiplicity.index.name = 'encoding'\n",
    "\tmultiplicity.name = 'multiplicity'\n",
    "\n",
    "\tmultiplicity_freq = multiplicity.value_counts()\n",
    "\tmultiplicity_freq.index.name = 'multiplicity'\n",
    "\tmultiplicity_freq.name = 'freq'\n",
    "\n",
    "\tcoincident_rate = 1 - (multiplicity_freq.loc[1]) / multiplicity_freq.sum()\n",
    "\n",
    "\textremes = multiplicity_freq.loc[ext+1:]\n",
    "\tword_count_with_extreme_encodings = (extremes.index.to_numpy() * extremes.values).sum()\n",
    "\tratio_with_extreme_encodings = np.round( word_count_with_extreme_encodings/total *100 , 2)\n",
    "\n",
    "\tprint(f'coincident_rate: {np.round(coincident_rate * 100,2)}%')\n",
    "\tprint(f'There are {extremes.sum()} encodings have more than {ext} multiplicities, encoding {word_count_with_extreme_encodings}({ratio_with_extreme_encodings}%) words.')\n",
    "\n",
    "\tq = multiplicity.quantile([.8,.9,.95,.99])\n",
    "\tq.index.name = 'quantile'\n",
    "\tq.name = 'multiplicity'\n",
    "\n",
    "\tprint('extreme:')\n",
    "\tdisplay(extremes.to_frame())\n",
    "\tprint('quantile:')\n",
    "\tdisplay(q.to_frame())\n",
    "\n",
    "\textreme_encoding = multiplicity[multiplicity > ext].index.to_series()\n",
    "\textreme_encoding.name = 'freq'\n",
    "\textreme_encoding.index.name = 'encoding_length'\n",
    "\tif len(extreme_encoding) > 0:\n",
    "\t\t# display(extreme_encoding)\n",
    "\t\tsn.barplot(x = extreme_encoding.str.len().value_counts().index, y = extreme_encoding.str.len().value_counts())\n",
    "\t# plt.hist(multiplicity,bins=range(min(multiplicity), max(multiplicity)+1,1))\n",
    "\treturn multiplicity, multiplicity_freq"
   ]
  },
  {
   "cell_type": "markdown",
   "metadata": {},
   "source": [
    "no coincidence in original dictionary lexicon(of course)"
   ]
  },
  {
   "cell_type": "code",
   "execution_count": 341,
   "metadata": {},
   "outputs": [
    {
     "name": "stdout",
     "output_type": "stream",
     "text": [
      "coincident_rate: 0.0%\n",
      "There are 0 encodings have more than 10 multiplicities, encoding 0(0.0%) words.\n",
      "extreme:\n"
     ]
    },
    {
     "data": {
      "text/html": [
       "<div>\n",
       "<style scoped>\n",
       "    .dataframe tbody tr th:only-of-type {\n",
       "        vertical-align: middle;\n",
       "    }\n",
       "\n",
       "    .dataframe tbody tr th {\n",
       "        vertical-align: top;\n",
       "    }\n",
       "\n",
       "    .dataframe thead th {\n",
       "        text-align: right;\n",
       "    }\n",
       "</style>\n",
       "<table border=\"1\" class=\"dataframe\">\n",
       "  <thead>\n",
       "    <tr style=\"text-align: right;\">\n",
       "      <th></th>\n",
       "      <th>freq</th>\n",
       "    </tr>\n",
       "    <tr>\n",
       "      <th>multiplicity</th>\n",
       "      <th></th>\n",
       "    </tr>\n",
       "  </thead>\n",
       "  <tbody>\n",
       "  </tbody>\n",
       "</table>\n",
       "</div>"
      ],
      "text/plain": [
       "Empty DataFrame\n",
       "Columns: [freq]\n",
       "Index: []"
      ]
     },
     "metadata": {},
     "output_type": "display_data"
    },
    {
     "name": "stdout",
     "output_type": "stream",
     "text": [
      "quantile:\n"
     ]
    },
    {
     "data": {
      "text/html": [
       "<div>\n",
       "<style scoped>\n",
       "    .dataframe tbody tr th:only-of-type {\n",
       "        vertical-align: middle;\n",
       "    }\n",
       "\n",
       "    .dataframe tbody tr th {\n",
       "        vertical-align: top;\n",
       "    }\n",
       "\n",
       "    .dataframe thead th {\n",
       "        text-align: right;\n",
       "    }\n",
       "</style>\n",
       "<table border=\"1\" class=\"dataframe\">\n",
       "  <thead>\n",
       "    <tr style=\"text-align: right;\">\n",
       "      <th></th>\n",
       "      <th>multiplicity</th>\n",
       "    </tr>\n",
       "    <tr>\n",
       "      <th>quantile</th>\n",
       "      <th></th>\n",
       "    </tr>\n",
       "  </thead>\n",
       "  <tbody>\n",
       "    <tr>\n",
       "      <th>0.80</th>\n",
       "      <td>1.0</td>\n",
       "    </tr>\n",
       "    <tr>\n",
       "      <th>0.90</th>\n",
       "      <td>1.0</td>\n",
       "    </tr>\n",
       "    <tr>\n",
       "      <th>0.95</th>\n",
       "      <td>1.0</td>\n",
       "    </tr>\n",
       "    <tr>\n",
       "      <th>0.99</th>\n",
       "      <td>1.0</td>\n",
       "    </tr>\n",
       "  </tbody>\n",
       "</table>\n",
       "</div>"
      ],
      "text/plain": [
       "          multiplicity\n",
       "quantile              \n",
       "0.80               1.0\n",
       "0.90               1.0\n",
       "0.95               1.0\n",
       "0.99               1.0"
      ]
     },
     "metadata": {},
     "output_type": "display_data"
    }
   ],
   "source": [
    "_ = coincident_stats(df.index)"
   ]
  },
  {
   "cell_type": "code",
   "execution_count": 342,
   "metadata": {},
   "outputs": [
    {
     "name": "stdout",
     "output_type": "stream",
     "text": [
      "coincident_rate: 11.96%\n",
      "There are 38 encodings have more than 10 multiplicities, encoding 487(0.93%) words.\n",
      "extreme:\n"
     ]
    },
    {
     "data": {
      "text/html": [
       "<div>\n",
       "<style scoped>\n",
       "    .dataframe tbody tr th:only-of-type {\n",
       "        vertical-align: middle;\n",
       "    }\n",
       "\n",
       "    .dataframe tbody tr th {\n",
       "        vertical-align: top;\n",
       "    }\n",
       "\n",
       "    .dataframe thead th {\n",
       "        text-align: right;\n",
       "    }\n",
       "</style>\n",
       "<table border=\"1\" class=\"dataframe\">\n",
       "  <thead>\n",
       "    <tr style=\"text-align: right;\">\n",
       "      <th></th>\n",
       "      <th>freq</th>\n",
       "    </tr>\n",
       "    <tr>\n",
       "      <th>multiplicity</th>\n",
       "      <th></th>\n",
       "    </tr>\n",
       "  </thead>\n",
       "  <tbody>\n",
       "    <tr>\n",
       "      <th>11</th>\n",
       "      <td>18</td>\n",
       "    </tr>\n",
       "    <tr>\n",
       "      <th>13</th>\n",
       "      <td>6</td>\n",
       "    </tr>\n",
       "    <tr>\n",
       "      <th>12</th>\n",
       "      <td>4</td>\n",
       "    </tr>\n",
       "    <tr>\n",
       "      <th>15</th>\n",
       "      <td>3</td>\n",
       "    </tr>\n",
       "    <tr>\n",
       "      <th>17</th>\n",
       "      <td>2</td>\n",
       "    </tr>\n",
       "    <tr>\n",
       "      <th>16</th>\n",
       "      <td>2</td>\n",
       "    </tr>\n",
       "    <tr>\n",
       "      <th>19</th>\n",
       "      <td>2</td>\n",
       "    </tr>\n",
       "    <tr>\n",
       "      <th>14</th>\n",
       "      <td>1</td>\n",
       "    </tr>\n",
       "  </tbody>\n",
       "</table>\n",
       "</div>"
      ],
      "text/plain": [
       "              freq\n",
       "multiplicity      \n",
       "11              18\n",
       "13               6\n",
       "12               4\n",
       "15               3\n",
       "17               2\n",
       "16               2\n",
       "19               2\n",
       "14               1"
      ]
     },
     "metadata": {},
     "output_type": "display_data"
    },
    {
     "name": "stdout",
     "output_type": "stream",
     "text": [
      "quantile:\n"
     ]
    },
    {
     "data": {
      "text/html": [
       "<div>\n",
       "<style scoped>\n",
       "    .dataframe tbody tr th:only-of-type {\n",
       "        vertical-align: middle;\n",
       "    }\n",
       "\n",
       "    .dataframe tbody tr th {\n",
       "        vertical-align: top;\n",
       "    }\n",
       "\n",
       "    .dataframe thead th {\n",
       "        text-align: right;\n",
       "    }\n",
       "</style>\n",
       "<table border=\"1\" class=\"dataframe\">\n",
       "  <thead>\n",
       "    <tr style=\"text-align: right;\">\n",
       "      <th></th>\n",
       "      <th>multiplicity</th>\n",
       "    </tr>\n",
       "    <tr>\n",
       "      <th>quantile</th>\n",
       "      <th></th>\n",
       "    </tr>\n",
       "  </thead>\n",
       "  <tbody>\n",
       "    <tr>\n",
       "      <th>0.80</th>\n",
       "      <td>1.0</td>\n",
       "    </tr>\n",
       "    <tr>\n",
       "      <th>0.90</th>\n",
       "      <td>2.0</td>\n",
       "    </tr>\n",
       "    <tr>\n",
       "      <th>0.95</th>\n",
       "      <td>2.0</td>\n",
       "    </tr>\n",
       "    <tr>\n",
       "      <th>0.99</th>\n",
       "      <td>5.0</td>\n",
       "    </tr>\n",
       "  </tbody>\n",
       "</table>\n",
       "</div>"
      ],
      "text/plain": [
       "          multiplicity\n",
       "quantile              \n",
       "0.80               1.0\n",
       "0.90               2.0\n",
       "0.95               2.0\n",
       "0.99               5.0"
      ]
     },
     "metadata": {},
     "output_type": "display_data"
    },
    {
     "data": {
      "image/png": "[encoded data removed]",
      "text/plain": [
       "<Figure size 800x550 with 1 Axes>"
      ]
     },
     "metadata": {},
     "output_type": "display_data"
    }
   ],
   "source": [
    "_ = coincident_stats(df.encoding)"
   ]
  },
  {
   "cell_type": "code",
   "execution_count": 343,
   "metadata": {},
   "outputs": [
    {
     "name": "stdout",
     "output_type": "stream",
     "text": [
      "coincident_rate: 15.25%\n",
      "There are 108 encodings have more than 10 multiplicities, encoding 1566(3.0%) words.\n",
      "extreme:\n"
     ]
    },
    {
     "data": {
      "text/html": [
       "<div>\n",
       "<style scoped>\n",
       "    .dataframe tbody tr th:only-of-type {\n",
       "        vertical-align: middle;\n",
       "    }\n",
       "\n",
       "    .dataframe tbody tr th {\n",
       "        vertical-align: top;\n",
       "    }\n",
       "\n",
       "    .dataframe thead th {\n",
       "        text-align: right;\n",
       "    }\n",
       "</style>\n",
       "<table border=\"1\" class=\"dataframe\">\n",
       "  <thead>\n",
       "    <tr style=\"text-align: right;\">\n",
       "      <th></th>\n",
       "      <th>freq</th>\n",
       "    </tr>\n",
       "    <tr>\n",
       "      <th>multiplicity</th>\n",
       "      <th></th>\n",
       "    </tr>\n",
       "  </thead>\n",
       "  <tbody>\n",
       "    <tr>\n",
       "      <th>11</th>\n",
       "      <td>28</td>\n",
       "    </tr>\n",
       "    <tr>\n",
       "      <th>12</th>\n",
       "      <td>19</td>\n",
       "    </tr>\n",
       "    <tr>\n",
       "      <th>13</th>\n",
       "      <td>14</td>\n",
       "    </tr>\n",
       "    <tr>\n",
       "      <th>14</th>\n",
       "      <td>9</td>\n",
       "    </tr>\n",
       "    <tr>\n",
       "      <th>15</th>\n",
       "      <td>9</td>\n",
       "    </tr>\n",
       "    <tr>\n",
       "      <th>19</th>\n",
       "      <td>8</td>\n",
       "    </tr>\n",
       "    <tr>\n",
       "      <th>16</th>\n",
       "      <td>6</td>\n",
       "    </tr>\n",
       "    <tr>\n",
       "      <th>17</th>\n",
       "      <td>4</td>\n",
       "    </tr>\n",
       "    <tr>\n",
       "      <th>20</th>\n",
       "      <td>3</td>\n",
       "    </tr>\n",
       "    <tr>\n",
       "      <th>31</th>\n",
       "      <td>2</td>\n",
       "    </tr>\n",
       "    <tr>\n",
       "      <th>18</th>\n",
       "      <td>1</td>\n",
       "    </tr>\n",
       "    <tr>\n",
       "      <th>22</th>\n",
       "      <td>1</td>\n",
       "    </tr>\n",
       "    <tr>\n",
       "      <th>23</th>\n",
       "      <td>1</td>\n",
       "    </tr>\n",
       "    <tr>\n",
       "      <th>24</th>\n",
       "      <td>1</td>\n",
       "    </tr>\n",
       "    <tr>\n",
       "      <th>26</th>\n",
       "      <td>1</td>\n",
       "    </tr>\n",
       "    <tr>\n",
       "      <th>36</th>\n",
       "      <td>1</td>\n",
       "    </tr>\n",
       "  </tbody>\n",
       "</table>\n",
       "</div>"
      ],
      "text/plain": [
       "              freq\n",
       "multiplicity      \n",
       "11              28\n",
       "12              19\n",
       "13              14\n",
       "14               9\n",
       "15               9\n",
       "19               8\n",
       "16               6\n",
       "17               4\n",
       "20               3\n",
       "31               2\n",
       "18               1\n",
       "22               1\n",
       "23               1\n",
       "24               1\n",
       "26               1\n",
       "36               1"
      ]
     },
     "metadata": {},
     "output_type": "display_data"
    },
    {
     "name": "stdout",
     "output_type": "stream",
     "text": [
      "quantile:\n"
     ]
    },
    {
     "data": {
      "text/html": [
       "<div>\n",
       "<style scoped>\n",
       "    .dataframe tbody tr th:only-of-type {\n",
       "        vertical-align: middle;\n",
       "    }\n",
       "\n",
       "    .dataframe tbody tr th {\n",
       "        vertical-align: top;\n",
       "    }\n",
       "\n",
       "    .dataframe thead th {\n",
       "        text-align: right;\n",
       "    }\n",
       "</style>\n",
       "<table border=\"1\" class=\"dataframe\">\n",
       "  <thead>\n",
       "    <tr style=\"text-align: right;\">\n",
       "      <th></th>\n",
       "      <th>multiplicity</th>\n",
       "    </tr>\n",
       "    <tr>\n",
       "      <th>quantile</th>\n",
       "      <th></th>\n",
       "    </tr>\n",
       "  </thead>\n",
       "  <tbody>\n",
       "    <tr>\n",
       "      <th>0.80</th>\n",
       "      <td>1.0</td>\n",
       "    </tr>\n",
       "    <tr>\n",
       "      <th>0.90</th>\n",
       "      <td>2.0</td>\n",
       "    </tr>\n",
       "    <tr>\n",
       "      <th>0.95</th>\n",
       "      <td>3.0</td>\n",
       "    </tr>\n",
       "    <tr>\n",
       "      <th>0.99</th>\n",
       "      <td>6.0</td>\n",
       "    </tr>\n",
       "  </tbody>\n",
       "</table>\n",
       "</div>"
      ],
      "text/plain": [
       "          multiplicity\n",
       "quantile              \n",
       "0.80               1.0\n",
       "0.90               2.0\n",
       "0.95               3.0\n",
       "0.99               6.0"
      ]
     },
     "metadata": {},
     "output_type": "display_data"
    },
    {
     "data": {
      "image/png": "[encoded data removed]",
      "text/plain": [
       "<Figure size 800x550 with 1 Axes>"
      ]
     },
     "metadata": {},
     "output_type": "display_data"
    }
   ],
   "source": [
    "_ = coincident_stats(df.vowel_free)"
   ]
  }
 ],
 "metadata": {
  "kernelspec": {
   "display_name": "Python 3.9.13 ('base')",
   "language": "python",
   "name": "python3"
  },
  "language_info": {
   "codemirror_mode": {
    "name": "ipython",
    "version": 3
   },
   "file_extension": ".py",
   "mimetype": "text/x-python",
   "name": "python",
   "nbconvert_exporter": "python",
   "pygments_lexer": "ipython3",
   "version": "3.9.13"
  },
  "orig_nbformat": 4,
  "vscode": {
   "interpreter": {
    "hash": "88279d2366fe020547cde40dd65aa0e3aa662a6ec1f3ca12d88834876c85e1a6"
   }
  }
 },
 "nbformat": 4,
 "nbformat_minor": 2
}
