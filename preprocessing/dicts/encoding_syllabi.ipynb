{
 "cells": [
  {
   "cell_type": "markdown",
   "metadata": {},
   "source": [
    "# Encoding by pronouciation"
   ]
  },
  {
   "cell_type": "markdown",
   "metadata": {},
   "source": [
    "## preparation"
   ]
  },
  {
   "cell_type": "code",
   "execution_count": 1,
   "metadata": {},
   "outputs": [],
   "source": [
    "import numpy as np\n",
    "import pandas as pd\n",
    "import matplotlib.pyplot as plt\n",
    "import seaborn as sn\n",
    "import re"
   ]
  },
  {
   "cell_type": "code",
   "execution_count": 319,
   "metadata": {},
   "outputs": [],
   "source": [
    "import wn\n",
    "from wn import morphy \n",
    "ewn = wn.Wordnet('ewn:2020')\n",
    "m = morphy.Morphy(ewn)"
   ]
  },
  {
   "cell_type": "code",
   "execution_count": 27,
   "metadata": {},
   "outputs": [],
   "source": [
    "pronouncing_dict_path = './cmudict.dict.txt'"
   ]
  },
  {
   "cell_type": "code",
   "execution_count": 168,
   "metadata": {},
   "outputs": [],
   "source": [
    "dico = {}\n",
    "with open(pronouncing_dict_path, 'r', encoding='utf-8') as file:\n",
    "\tfor line in file.readlines():\n",
    "\t\tline = re.sub('\\d', '', line) # remove tone number\n",
    "\t\tl = line.strip().split(' ')\n",
    "\t\tword = l[0]\n",
    "\t\tpronounciation = ' '.join(l[1:])\n",
    "\t\t# filter some non standard words\n",
    "\t\tif word.islower() and word.isalpha():\n",
    "\t\t\tdico[word] = pronounciation"
   ]
  },
  {
   "cell_type": "code",
   "execution_count": 264,
   "metadata": {},
   "outputs": [
    {
     "data": {
      "text/plain": [
       "52008"
      ]
     },
     "execution_count": 264,
     "metadata": {},
     "output_type": "execute_result"
    }
   ],
   "source": [
    "len(dico)"
   ]
  },
  {
   "cell_type": "markdown",
   "metadata": {},
   "source": [
    "first check if the word exists in wordnet"
   ]
  },
  {
   "cell_type": "code",
   "execution_count": 171,
   "metadata": {},
   "outputs": [],
   "source": [
    "def validate(word):\n",
    "\t# check if exists\n",
    "\tres = wn.synsets(word)\n",
    "\tif res != []:\n",
    "\t\treturn True\n",
    "\t# otherwise check if as a derivation, the lemma exists\n",
    "\tfor lemmas_per_pos in m(word).values():\n",
    "\t\tfor lemma in lemmas_per_pos:\n",
    "\t\t\tres = wn.synsets(lemma)\n",
    "\t\t\t# if there exists one, return\n",
    "\t\t\tif res != []:\n",
    "\t\t\t\treturn True\n",
    "\treturn False"
   ]
  },
  {
   "cell_type": "code",
   "execution_count": 318,
   "metadata": {},
   "outputs": [],
   "source": [
    "from tqdm import tqdm"
   ]
  },
  {
   "cell_type": "code",
   "execution_count": 65,
   "metadata": {},
   "outputs": [
    {
     "name": "stderr",
     "output_type": "stream",
     "text": [
      "100%|██████████| 117490/117490 [01:01<00:00, 1897.98it/s]\n"
     ]
    }
   ],
   "source": [
    "non_words = []\n",
    "for word in tqdm(dico.keys()):\n",
    "\tif not validate(word):\n",
    "\t\tnon_words.append(word)"
   ]
  },
  {
   "cell_type": "code",
   "execution_count": 66,
   "metadata": {},
   "outputs": [
    {
     "data": {
      "text/plain": [
       "65445"
      ]
     },
     "execution_count": 66,
     "metadata": {},
     "output_type": "execute_result"
    }
   ],
   "source": [
    "len(non_words)"
   ]
  },
  {
   "cell_type": "code",
   "execution_count": null,
   "metadata": {},
   "outputs": [],
   "source": [
    "with open('./non_wordnet_words.txt', 'w', encoding='utf-8') as file:\n",
    "\tfor non_word in non_words:\n",
    "\t\tfile.write(non_word+'\\n')"
   ]
  },
  {
   "cell_type": "markdown",
   "metadata": {},
   "source": [
    "However, wordnet excludes some function words, they should be taken into account in dictionary"
   ]
  },
  {
   "cell_type": "code",
   "execution_count": 172,
   "metadata": {},
   "outputs": [],
   "source": [
    "with open('./non_wordnet_words.txt', 'r', encoding='utf-8') as file:\n",
    "\tnon_words = file.read().splitlines()"
   ]
  },
  {
   "cell_type": "code",
   "execution_count": 173,
   "metadata": {},
   "outputs": [],
   "source": [
    "with open('./wordnet_stopwords.txt', 'r', encoding='utf-8') as file:\n",
    "\tstop_words = file.read().splitlines()"
   ]
  },
  {
   "cell_type": "code",
   "execution_count": 174,
   "metadata": {},
   "outputs": [],
   "source": [
    "for non_word in non_words:\n",
    "\tif not non_word in stop_words:\n",
    "\t\tdico.pop(non_word)"
   ]
  },
  {
   "cell_type": "code",
   "execution_count": 175,
   "metadata": {},
   "outputs": [
    {
     "data": {
      "text/plain": [
       "52123"
      ]
     },
     "execution_count": 175,
     "metadata": {},
     "output_type": "execute_result"
    }
   ],
   "source": [
    "len(dico)"
   ]
  },
  {
   "cell_type": "markdown",
   "metadata": {},
   "source": [
    "Notice that many of them are acronyms, which is pronounced as individual letters, we could remove them directly from the cmu dict, the acronyms will be dealed in another independent dico."
   ]
  },
  {
   "cell_type": "markdown",
   "metadata": {},
   "source": [
    "## Remove acronyms"
   ]
  },
  {
   "cell_type": "markdown",
   "metadata": {},
   "source": [
    "first collect single letter sound"
   ]
  },
  {
   "cell_type": "code",
   "execution_count": 176,
   "metadata": {},
   "outputs": [],
   "source": [
    "letter_sound = {}\n",
    "syllable_count = {}\n",
    "for word, sound in dico.items():\n",
    "\tif len(word) == 1:\n",
    "\t\tletter_sound[word] = list(sound.split(' '))\n",
    "\t\tsyllable_count[word] = len(sound.split(' '))"
   ]
  },
  {
   "cell_type": "code",
   "execution_count": 177,
   "metadata": {},
   "outputs": [],
   "source": [
    "letter_sound['a'] = ['EY'] # A sounds EY1 not AH0"
   ]
  },
  {
   "cell_type": "code",
   "execution_count": 178,
   "metadata": {},
   "outputs": [
    {
     "data": {
      "text/plain": [
       "({'a': ['EY'],\n",
       "  'b': ['B', 'IY'],\n",
       "  'c': ['S', 'IY'],\n",
       "  'd': ['D', 'IY'],\n",
       "  'e': ['IY'],\n",
       "  'f': ['EH', 'F'],\n",
       "  'g': ['JH', 'IY'],\n",
       "  'h': ['EY', 'CH'],\n",
       "  'i': ['AY'],\n",
       "  'j': ['JH', 'EY'],\n",
       "  'k': ['K', 'EY'],\n",
       "  'l': ['EH', 'L'],\n",
       "  'm': ['EH', 'M'],\n",
       "  'n': ['EH', 'N'],\n",
       "  'o': ['OW'],\n",
       "  'p': ['P', 'IY'],\n",
       "  'q': ['K', 'Y', 'UW'],\n",
       "  'r': ['AA', 'R'],\n",
       "  's': ['EH', 'S'],\n",
       "  't': ['T', 'IY'],\n",
       "  'u': ['Y', 'UW'],\n",
       "  'v': ['V', 'IY'],\n",
       "  'w': ['D', 'AH', 'B', 'AH', 'L', 'Y', 'UW'],\n",
       "  'x': ['EH', 'K', 'S'],\n",
       "  'y': ['W', 'AY'],\n",
       "  'z': ['Z', 'IY']},\n",
       " {'a': 1,\n",
       "  'b': 2,\n",
       "  'c': 2,\n",
       "  'd': 2,\n",
       "  'e': 1,\n",
       "  'f': 2,\n",
       "  'g': 2,\n",
       "  'h': 2,\n",
       "  'i': 1,\n",
       "  'j': 2,\n",
       "  'k': 2,\n",
       "  'l': 2,\n",
       "  'm': 2,\n",
       "  'n': 2,\n",
       "  'o': 1,\n",
       "  'p': 2,\n",
       "  'q': 3,\n",
       "  'r': 2,\n",
       "  's': 2,\n",
       "  't': 2,\n",
       "  'u': 2,\n",
       "  'v': 2,\n",
       "  'w': 7,\n",
       "  'x': 3,\n",
       "  'y': 2,\n",
       "  'z': 2})"
      ]
     },
     "execution_count": 178,
     "metadata": {},
     "output_type": "execute_result"
    }
   ],
   "source": [
    "letter_sound, syllable_count"
   ]
  },
  {
   "cell_type": "code",
   "execution_count": 193,
   "metadata": {},
   "outputs": [],
   "source": [
    "def is_acronym(word, sound, threshold=2, show = False):\n",
    "\tmatched = 0\n",
    "\toffset = 0\n",
    "\tsound_list = sound.split(' ')\n",
    "\tfor letter in word:\n",
    "\t\tstep = syllable_count[letter]\n",
    "\t\tif show:\n",
    "\t\t\tprint(letter_sound[letter])\n",
    "\t\t\tprint(sound_list[offset:offset+step])\n",
    "\n",
    "\t\tif letter_sound[letter] == sound_list[offset:offset+step]:\n",
    "\t\t\tmatched += 1\n",
    "\t\tif matched >= threshold:\n",
    "\t\t\treturn True\n",
    "\t\toffset += step\n",
    "\treturn False"
   ]
  },
  {
   "cell_type": "code",
   "execution_count": 194,
   "metadata": {},
   "outputs": [
    {
     "name": "stdout",
     "output_type": "stream",
     "text": [
      "['EY']\n",
      "['AA']\n",
      "['EY']\n",
      "['R']\n",
      "['AA', 'R']\n",
      "['D', 'V']\n",
      "['D', 'IY']\n",
      "['AA', 'R']\n",
      "['V', 'IY']\n",
      "['K']\n",
      "['EY']\n",
      "[]\n",
      "['AA', 'R']\n",
      "[]\n",
      "['K', 'EY']\n",
      "[]\n"
     ]
    },
    {
     "data": {
      "text/plain": [
       "(True, False, False)"
      ]
     },
     "execution_count": 194,
     "metadata": {},
     "output_type": "execute_result"
    }
   ],
   "source": [
    "is_acronym('abc',dico['abc']), is_acronym('good', dico['good']), is_acronym('aardvark', dico['aardvark'], show=True)"
   ]
  },
  {
   "cell_type": "code",
   "execution_count": 201,
   "metadata": {},
   "outputs": [],
   "source": [
    "acronyms = []\n",
    "for (word, sound) in dico.items():\n",
    "\tif len(word) > 4:\n",
    "\t\tcontinue\n",
    "\tif is_acronym(word, sound, 2):\n",
    "\t\tacronyms.append(word)"
   ]
  },
  {
   "cell_type": "code",
   "execution_count": 202,
   "metadata": {},
   "outputs": [
    {
     "data": {
      "text/plain": [
       "114"
      ]
     },
     "execution_count": 202,
     "metadata": {},
     "output_type": "execute_result"
    }
   ],
   "source": [
    "len(acronyms)"
   ]
  },
  {
   "cell_type": "code",
   "execution_count": 204,
   "metadata": {},
   "outputs": [],
   "source": [
    "for word in acronyms:\n",
    "\tdico.pop(word)"
   ]
  },
  {
   "cell_type": "code",
   "execution_count": 213,
   "metadata": {},
   "outputs": [
    {
     "data": {
      "text/plain": [
       "'T R IH P AH L EY'"
      ]
     },
     "execution_count": 213,
     "metadata": {},
     "output_type": "execute_result"
    }
   ],
   "source": [
    "dico.pop('aaa')"
   ]
  },
  {
   "cell_type": "code",
   "execution_count": 270,
   "metadata": {},
   "outputs": [
    {
     "data": {
      "text/plain": [
       "52008"
      ]
     },
     "execution_count": 270,
     "metadata": {},
     "output_type": "execute_result"
    }
   ],
   "source": [
    "len(dico)"
   ]
  },
  {
   "cell_type": "markdown",
   "metadata": {},
   "source": [
    "now we get a well pronounced, wordnet-validated dictionary"
   ]
  },
  {
   "cell_type": "code",
   "execution_count": 271,
   "metadata": {},
   "outputs": [],
   "source": [
    "df = pd.DataFrame.from_dict(dico, orient='index', columns = ['sound'])"
   ]
  },
  {
   "cell_type": "code",
   "execution_count": 265,
   "metadata": {},
   "outputs": [
    {
     "data": {
      "text/html": [
       "<div>\n",
       "<style scoped>\n",
       "    .dataframe tbody tr th:only-of-type {\n",
       "        vertical-align: middle;\n",
       "    }\n",
       "\n",
       "    .dataframe tbody tr th {\n",
       "        vertical-align: top;\n",
       "    }\n",
       "\n",
       "    .dataframe thead th {\n",
       "        text-align: right;\n",
       "    }\n",
       "</style>\n",
       "<table border=\"1\" class=\"dataframe\">\n",
       "  <thead>\n",
       "    <tr style=\"text-align: right;\">\n",
       "      <th></th>\n",
       "      <th>COUNT</th>\n",
       "    </tr>\n",
       "    <tr>\n",
       "      <th>WORD</th>\n",
       "      <th></th>\n",
       "    </tr>\n",
       "  </thead>\n",
       "  <tbody>\n",
       "    <tr>\n",
       "      <th>the</th>\n",
       "      <td>4888</td>\n",
       "    </tr>\n",
       "    <tr>\n",
       "      <th>of</th>\n",
       "      <td>4883</td>\n",
       "    </tr>\n",
       "    <tr>\n",
       "      <th>and</th>\n",
       "      <td>4878</td>\n",
       "    </tr>\n",
       "    <tr>\n",
       "      <th>to</th>\n",
       "      <td>4873</td>\n",
       "    </tr>\n",
       "    <tr>\n",
       "      <th>in</th>\n",
       "      <td>4868</td>\n",
       "    </tr>\n",
       "    <tr>\n",
       "      <th>...</th>\n",
       "      <td>...</td>\n",
       "    </tr>\n",
       "    <tr>\n",
       "      <th>bepride</th>\n",
       "      <td>0</td>\n",
       "    </tr>\n",
       "    <tr>\n",
       "      <th>batterable</th>\n",
       "      <td>0</td>\n",
       "    </tr>\n",
       "    <tr>\n",
       "      <th>batsome</th>\n",
       "      <td>0</td>\n",
       "    </tr>\n",
       "    <tr>\n",
       "      <th>adpugne</th>\n",
       "      <td>0</td>\n",
       "    </tr>\n",
       "    <tr>\n",
       "      <th>adaration</th>\n",
       "      <td>0</td>\n",
       "    </tr>\n",
       "  </tbody>\n",
       "</table>\n",
       "<p>186632 rows × 1 columns</p>\n",
       "</div>"
      ],
      "text/plain": [
       "            COUNT\n",
       "WORD             \n",
       "the          4888\n",
       "of           4883\n",
       "and          4878\n",
       "to           4873\n",
       "in           4868\n",
       "...           ...\n",
       "bepride         0\n",
       "batterable      0\n",
       "batsome         0\n",
       "adpugne         0\n",
       "adaration       0\n",
       "\n",
       "[186632 rows x 1 columns]"
      ]
     },
     "execution_count": 265,
     "metadata": {},
     "output_type": "execute_result"
    }
   ],
   "source": [
    "df_freq = pd.read_csv('./dict_freq_en.yaml', sep = '\\t', index_col=0, usecols=[1,2])\n",
    "df_freq"
   ]
  },
  {
   "cell_type": "code",
   "execution_count": 272,
   "metadata": {},
   "outputs": [],
   "source": [
    "df = df.join(df_freq.astype('Int64'))"
   ]
  },
  {
   "cell_type": "code",
   "execution_count": 273,
   "metadata": {},
   "outputs": [],
   "source": [
    "df.index.name = 'word'"
   ]
  },
  {
   "cell_type": "code",
   "execution_count": 274,
   "metadata": {},
   "outputs": [],
   "source": [
    "df.rename(columns={'COUNT': 'freq'}, inplace=True)"
   ]
  },
  {
   "cell_type": "code",
   "execution_count": 275,
   "metadata": {},
   "outputs": [
    {
     "data": {
      "text/html": [
       "<div>\n",
       "<style scoped>\n",
       "    .dataframe tbody tr th:only-of-type {\n",
       "        vertical-align: middle;\n",
       "    }\n",
       "\n",
       "    .dataframe tbody tr th {\n",
       "        vertical-align: top;\n",
       "    }\n",
       "\n",
       "    .dataframe thead th {\n",
       "        text-align: right;\n",
       "    }\n",
       "</style>\n",
       "<table border=\"1\" class=\"dataframe\">\n",
       "  <thead>\n",
       "    <tr style=\"text-align: right;\">\n",
       "      <th></th>\n",
       "      <th>sound</th>\n",
       "      <th>freq</th>\n",
       "    </tr>\n",
       "    <tr>\n",
       "      <th>word</th>\n",
       "      <th></th>\n",
       "      <th></th>\n",
       "    </tr>\n",
       "  </thead>\n",
       "  <tbody>\n",
       "    <tr>\n",
       "      <th>a</th>\n",
       "      <td>AH</td>\n",
       "      <td>4863</td>\n",
       "    </tr>\n",
       "    <tr>\n",
       "      <th>aachen</th>\n",
       "      <td>AA K AH N</td>\n",
       "      <td>&lt;NA&gt;</td>\n",
       "    </tr>\n",
       "    <tr>\n",
       "      <th>aalborg</th>\n",
       "      <td>AO L B AO R G</td>\n",
       "      <td>&lt;NA&gt;</td>\n",
       "    </tr>\n",
       "    <tr>\n",
       "      <th>aalto</th>\n",
       "      <td>AA L T OW</td>\n",
       "      <td>&lt;NA&gt;</td>\n",
       "    </tr>\n",
       "    <tr>\n",
       "      <th>aardvark</th>\n",
       "      <td>AA R D V AA R K</td>\n",
       "      <td>&lt;NA&gt;</td>\n",
       "    </tr>\n",
       "    <tr>\n",
       "      <th>...</th>\n",
       "      <td>...</td>\n",
       "      <td>...</td>\n",
       "    </tr>\n",
       "    <tr>\n",
       "      <th>zuni</th>\n",
       "      <td>Z UW N IY</td>\n",
       "      <td>&lt;NA&gt;</td>\n",
       "    </tr>\n",
       "    <tr>\n",
       "      <th>zurich</th>\n",
       "      <td>Z UH R IH K</td>\n",
       "      <td>&lt;NA&gt;</td>\n",
       "    </tr>\n",
       "    <tr>\n",
       "      <th>zweig</th>\n",
       "      <td>Z W AY G</td>\n",
       "      <td>&lt;NA&gt;</td>\n",
       "    </tr>\n",
       "    <tr>\n",
       "      <th>zydeco</th>\n",
       "      <td>Z AY D AH K OW</td>\n",
       "      <td>0</td>\n",
       "    </tr>\n",
       "    <tr>\n",
       "      <th>zygote</th>\n",
       "      <td>Z AY G OW T</td>\n",
       "      <td>7</td>\n",
       "    </tr>\n",
       "  </tbody>\n",
       "</table>\n",
       "<p>52008 rows × 2 columns</p>\n",
       "</div>"
      ],
      "text/plain": [
       "                    sound  freq\n",
       "word                           \n",
       "a                      AH  4863\n",
       "aachen          AA K AH N  <NA>\n",
       "aalborg     AO L B AO R G  <NA>\n",
       "aalto           AA L T OW  <NA>\n",
       "aardvark  AA R D V AA R K  <NA>\n",
       "...                   ...   ...\n",
       "zuni            Z UW N IY  <NA>\n",
       "zurich        Z UH R IH K  <NA>\n",
       "zweig            Z W AY G  <NA>\n",
       "zydeco     Z AY D AH K OW     0\n",
       "zygote        Z AY G OW T     7\n",
       "\n",
       "[52008 rows x 2 columns]"
      ]
     },
     "execution_count": 275,
     "metadata": {},
     "output_type": "execute_result"
    }
   ],
   "source": [
    "df"
   ]
  },
  {
   "cell_type": "markdown",
   "metadata": {},
   "source": [
    "## Transcription"
   ]
  },
  {
   "cell_type": "code",
   "execution_count": 221,
   "metadata": {},
   "outputs": [],
   "source": [
    "def encode(phonemes):\n",
    "\tvowels = re.compile('(AO|UW|EH|AH|AA|IY|IH|UH|AE|AW|AY|ER|EY|OW|OY)\\d*', re.VERBOSE)\n",
    "\tphonemes = re.sub(vowels, 'Q', phonemes)\n",
    "\tcomplex_consonant = re.compile('CH|DH|HH|JH|NG|SH|TH|ZH|')\n",
    "\t# complex consonants\n",
    "\tphonemes = re.sub('HH', 'H', phonemes)\n",
    "\tphonemes = re.sub('CH', 'C', phonemes)\n",
    "\tphonemes = re.sub('JH', 'J', phonemes)\n",
    "\tphonemes = re.sub('TH', 'X', phonemes)\n",
    "\tphonemes = re.sub('DH', 'X', phonemes)\n",
    "\tphonemes = re.sub('SH', 'U', phonemes)\n",
    "\tphonemes = re.sub('ZH', 'O', phonemes)\n",
    "\tphonemes = re.sub('NG', 'I', phonemes)\n",
    "\t\n",
    "\t# remove whitespaces\n",
    "\tphonemes = re.sub(' ', '', phonemes)\n",
    "\n",
    "\treturn phonemes"
   ]
  },
  {
   "cell_type": "code",
   "execution_count": 222,
   "metadata": {},
   "outputs": [],
   "source": [
    "def transcribe(phonemes_list):\n",
    "\tencoding_list = []\n",
    "\tfor phonemes in phonemes_list:\n",
    "\t\tencoding_list.append(encode(phonemes))\n",
    "\treturn encoding_list"
   ]
  },
  {
   "cell_type": "code",
   "execution_count": 276,
   "metadata": {},
   "outputs": [],
   "source": [
    "encoding_list = transcribe(df.sound.astype('str'))\n",
    "df['encoding'] = encoding_list"
   ]
  },
  {
   "cell_type": "code",
   "execution_count": 277,
   "metadata": {},
   "outputs": [
    {
     "data": {
      "text/html": [
       "<div>\n",
       "<style scoped>\n",
       "    .dataframe tbody tr th:only-of-type {\n",
       "        vertical-align: middle;\n",
       "    }\n",
       "\n",
       "    .dataframe tbody tr th {\n",
       "        vertical-align: top;\n",
       "    }\n",
       "\n",
       "    .dataframe thead th {\n",
       "        text-align: right;\n",
       "    }\n",
       "</style>\n",
       "<table border=\"1\" class=\"dataframe\">\n",
       "  <thead>\n",
       "    <tr style=\"text-align: right;\">\n",
       "      <th></th>\n",
       "      <th>sound</th>\n",
       "      <th>freq</th>\n",
       "      <th>encoding</th>\n",
       "    </tr>\n",
       "    <tr>\n",
       "      <th>word</th>\n",
       "      <th></th>\n",
       "      <th></th>\n",
       "      <th></th>\n",
       "    </tr>\n",
       "  </thead>\n",
       "  <tbody>\n",
       "    <tr>\n",
       "      <th>a</th>\n",
       "      <td>AH</td>\n",
       "      <td>4863</td>\n",
       "      <td>Q</td>\n",
       "    </tr>\n",
       "    <tr>\n",
       "      <th>aachen</th>\n",
       "      <td>AA K AH N</td>\n",
       "      <td>&lt;NA&gt;</td>\n",
       "      <td>QKQN</td>\n",
       "    </tr>\n",
       "    <tr>\n",
       "      <th>aalborg</th>\n",
       "      <td>AO L B AO R G</td>\n",
       "      <td>&lt;NA&gt;</td>\n",
       "      <td>QLBQRG</td>\n",
       "    </tr>\n",
       "    <tr>\n",
       "      <th>aalto</th>\n",
       "      <td>AA L T OW</td>\n",
       "      <td>&lt;NA&gt;</td>\n",
       "      <td>QLTQ</td>\n",
       "    </tr>\n",
       "    <tr>\n",
       "      <th>aardvark</th>\n",
       "      <td>AA R D V AA R K</td>\n",
       "      <td>&lt;NA&gt;</td>\n",
       "      <td>QRDVQRK</td>\n",
       "    </tr>\n",
       "    <tr>\n",
       "      <th>...</th>\n",
       "      <td>...</td>\n",
       "      <td>...</td>\n",
       "      <td>...</td>\n",
       "    </tr>\n",
       "    <tr>\n",
       "      <th>zuni</th>\n",
       "      <td>Z UW N IY</td>\n",
       "      <td>&lt;NA&gt;</td>\n",
       "      <td>ZQNQ</td>\n",
       "    </tr>\n",
       "    <tr>\n",
       "      <th>zurich</th>\n",
       "      <td>Z UH R IH K</td>\n",
       "      <td>&lt;NA&gt;</td>\n",
       "      <td>ZQRQK</td>\n",
       "    </tr>\n",
       "    <tr>\n",
       "      <th>zweig</th>\n",
       "      <td>Z W AY G</td>\n",
       "      <td>&lt;NA&gt;</td>\n",
       "      <td>ZWQG</td>\n",
       "    </tr>\n",
       "    <tr>\n",
       "      <th>zydeco</th>\n",
       "      <td>Z AY D AH K OW</td>\n",
       "      <td>0</td>\n",
       "      <td>ZQDQKQ</td>\n",
       "    </tr>\n",
       "    <tr>\n",
       "      <th>zygote</th>\n",
       "      <td>Z AY G OW T</td>\n",
       "      <td>7</td>\n",
       "      <td>ZQGQT</td>\n",
       "    </tr>\n",
       "  </tbody>\n",
       "</table>\n",
       "<p>52008 rows × 3 columns</p>\n",
       "</div>"
      ],
      "text/plain": [
       "                    sound  freq encoding\n",
       "word                                    \n",
       "a                      AH  4863        Q\n",
       "aachen          AA K AH N  <NA>     QKQN\n",
       "aalborg     AO L B AO R G  <NA>   QLBQRG\n",
       "aalto           AA L T OW  <NA>     QLTQ\n",
       "aardvark  AA R D V AA R K  <NA>  QRDVQRK\n",
       "...                   ...   ...      ...\n",
       "zuni            Z UW N IY  <NA>     ZQNQ\n",
       "zurich        Z UH R IH K  <NA>    ZQRQK\n",
       "zweig            Z W AY G  <NA>     ZWQG\n",
       "zydeco     Z AY D AH K OW     0   ZQDQKQ\n",
       "zygote        Z AY G OW T     7    ZQGQT\n",
       "\n",
       "[52008 rows x 3 columns]"
      ]
     },
     "execution_count": 277,
     "metadata": {},
     "output_type": "execute_result"
    }
   ],
   "source": [
    "df"
   ]
  },
  {
   "cell_type": "markdown",
   "metadata": {},
   "source": [
    "## delete non-initial vowels"
   ]
  },
  {
   "cell_type": "code",
   "execution_count": 225,
   "metadata": {},
   "outputs": [],
   "source": [
    "def remove_vowels(encoding_list):\n",
    "\tres = []\n",
    "\tfor encoding in encoding_list:\n",
    "\t\tif len(encoding) > 1:\n",
    "\t\t\tres.append(encoding[0] + re.sub('Q','', encoding[1:-1]) + encoding[-1])\n",
    "\t\telse:\n",
    "\t\t\tres.append(encoding)\n",
    "\treturn res"
   ]
  },
  {
   "cell_type": "markdown",
   "metadata": {},
   "source": [
    "## Normalization\n",
    "\n",
    "We hope that:\n",
    "1. the plurals and the third person single form are uniformly terminated with S(instead of Z)\n",
    "2. the past particles are uniformly terminated with E(instead of T or D)\n",
    "3. the present particles are uniformly terminated with I(this is already done since we encode NG sound by I)\n",
    "\n",
    "you can take these terminations as a grammatical symbol"
   ]
  },
  {
   "cell_type": "code",
   "execution_count": 226,
   "metadata": {},
   "outputs": [
    {
     "data": {
      "text/plain": [
       "word\n",
       "aardvarks           QRDVQRKS\n",
       "aarhus                  QHQS\n",
       "abacus                QBQKQS\n",
       "abalones            QBQLQNQZ\n",
       "abandonments    QBQNDQNMQNTS\n",
       "                    ...     \n",
       "zones                   ZQNZ\n",
       "zoologists        ZQQLQJQSTS\n",
       "zooms                   ZQMZ\n",
       "zoos                     ZQZ\n",
       "zucchinis            ZQKQNQZ\n",
       "Name: encoding, Length: 13299, dtype: object"
      ]
     },
     "execution_count": 226,
     "metadata": {},
     "output_type": "execute_result"
    }
   ],
   "source": [
    "df.encoding.loc[(df.index.str.contains('s$', regex=True) == True)]"
   ]
  },
  {
   "cell_type": "code",
   "execution_count": 227,
   "metadata": {},
   "outputs": [
    {
     "data": {
      "text/plain": [
       "word\n",
       "abandoned        QBQNDQND\n",
       "abashed             QBQUT\n",
       "abated             QBQTQD\n",
       "abbreviated    QBRQVQQTQD\n",
       "abdicated       QBDQKQTQD\n",
       "                  ...    \n",
       "zigzagged         ZQGZQGD\n",
       "zipped               ZQPT\n",
       "zippered            ZQPQD\n",
       "zoned                ZQND\n",
       "zoomed               ZQMD\n",
       "Name: encoding, Length: 4701, dtype: object"
      ]
     },
     "execution_count": 227,
     "metadata": {},
     "output_type": "execute_result"
    }
   ],
   "source": [
    "df.encoding.loc[(df.index.str.contains('ed$', regex=True) == True)]"
   ]
  },
  {
   "cell_type": "code",
   "execution_count": 228,
   "metadata": {},
   "outputs": [
    {
     "data": {
      "text/plain": [
       "word\n",
       "abandoning       QBQNDQNQI\n",
       "abating             QBQTQI\n",
       "abbreviating    QBRQVQQTQI\n",
       "abdicating       QBDQKQTQI\n",
       "abducting         QBDQKTQI\n",
       "                   ...    \n",
       "zing                   ZQI\n",
       "zippering          ZQPQRQI\n",
       "zipping              ZQPQI\n",
       "zoning               ZQNQI\n",
       "zooming              ZQMQI\n",
       "Name: encoding, Length: 4323, dtype: object"
      ]
     },
     "execution_count": 228,
     "metadata": {},
     "output_type": "execute_result"
    }
   ],
   "source": [
    "df.encoding.loc[(df.index.str.contains('ing$', regex=True) == True)]"
   ]
  },
  {
   "cell_type": "code",
   "execution_count": 229,
   "metadata": {},
   "outputs": [],
   "source": [
    "def normalize(encodings: pd.Series):\n",
    "\tplurals_or_third_single_form  = re.compile('s$')\n",
    "\tpast_particle = re.compile('ed$')\n",
    "\tpresent_particle = re.compile('ing$')\n",
    "\n",
    "\t# print(encodings.head())\n",
    "\t# normalize voiced plural suffix\n",
    "\tres1 = encodings.loc[(encodings.index.str.contains(plurals_or_third_single_form, regex=True) == True)].str.replace('Z$', 'S', regex=True)\n",
    "\t# print(res1.head())\n",
    "\t# normalize -ed, sometimes together with a vowel sound i.\n",
    "\tres2 = encodings.loc[(encodings.index.str.contains(past_particle, regex=True) == True)].str.replace('[T|D]$', 'E', regex = True)\n",
    "\t# print(res2.head())\n",
    "\t# normalize -ing, always with a vowel sound i\n",
    "\t# we put it here for compeleteness, though no need to do\n",
    "\t# res3 = encodings.loc[(encodings.index.str.contains(present_particle, regex=True) == True)].str.replace('I$', 'I', regex = True)\n",
    "\t# print(res3.head())\n",
    "\t\n",
    "\tres = pd.concat([res1\n",
    "\t\t\t\t\t\t\t\t\t,res2\n",
    "\t\t\t\t\t\t\t\t\t# ,res3\n",
    "\t\t\t\t\t\t\t\t\t])\n",
    "\treturn res"
   ]
  },
  {
   "cell_type": "code",
   "execution_count": 278,
   "metadata": {},
   "outputs": [],
   "source": [
    "res = normalize(df.encoding)"
   ]
  },
  {
   "cell_type": "code",
   "execution_count": 279,
   "metadata": {},
   "outputs": [
    {
     "data": {
      "text/plain": [
       "word\n",
       "depends       DQPQNDZ\n",
       "depended     DQPQNDQD\n",
       "depending    DQPQNDQI\n",
       "Name: encoding, dtype: object"
      ]
     },
     "execution_count": 279,
     "metadata": {},
     "output_type": "execute_result"
    }
   ],
   "source": [
    "df.loc[['depends','depended','depending'], 'encoding']"
   ]
  },
  {
   "cell_type": "code",
   "execution_count": 280,
   "metadata": {},
   "outputs": [],
   "source": [
    "df.loc[res.index, 'encoding'] = res"
   ]
  },
  {
   "cell_type": "code",
   "execution_count": 281,
   "metadata": {},
   "outputs": [
    {
     "data": {
      "text/plain": [
       "word\n",
       "depends       DQPQNDS\n",
       "depended     DQPQNDQE\n",
       "depending    DQPQNDQI\n",
       "Name: encoding, dtype: object"
      ]
     },
     "execution_count": 281,
     "metadata": {},
     "output_type": "execute_result"
    }
   ],
   "source": [
    "df.loc[['depends','depended','depending'], 'encoding']"
   ]
  },
  {
   "cell_type": "markdown",
   "metadata": {},
   "source": [
    "## Detect inefficient encoding"
   ]
  },
  {
   "cell_type": "code",
   "execution_count": 282,
   "metadata": {},
   "outputs": [],
   "source": [
    "df['vowel_free'] = remove_vowels(df.encoding) "
   ]
  },
  {
   "cell_type": "code",
   "execution_count": 283,
   "metadata": {},
   "outputs": [
    {
     "data": {
      "text/html": [
       "<div>\n",
       "<style scoped>\n",
       "    .dataframe tbody tr th:only-of-type {\n",
       "        vertical-align: middle;\n",
       "    }\n",
       "\n",
       "    .dataframe tbody tr th {\n",
       "        vertical-align: top;\n",
       "    }\n",
       "\n",
       "    .dataframe thead th {\n",
       "        text-align: right;\n",
       "    }\n",
       "</style>\n",
       "<table border=\"1\" class=\"dataframe\">\n",
       "  <thead>\n",
       "    <tr style=\"text-align: right;\">\n",
       "      <th></th>\n",
       "      <th>sound</th>\n",
       "      <th>encoding</th>\n",
       "      <th>vowel_free</th>\n",
       "      <th>freq</th>\n",
       "    </tr>\n",
       "    <tr>\n",
       "      <th>word</th>\n",
       "      <th></th>\n",
       "      <th></th>\n",
       "      <th></th>\n",
       "      <th></th>\n",
       "    </tr>\n",
       "  </thead>\n",
       "  <tbody>\n",
       "    <tr>\n",
       "      <th>aug</th>\n",
       "      <td>AO G AH S T</td>\n",
       "      <td>QGQST</td>\n",
       "      <td>QGST</td>\n",
       "      <td>&lt;NA&gt;</td>\n",
       "    </tr>\n",
       "    <tr>\n",
       "      <th>ct</th>\n",
       "      <td>K AO R T</td>\n",
       "      <td>KQRT</td>\n",
       "      <td>KRT</td>\n",
       "      <td>&lt;NA&gt;</td>\n",
       "    </tr>\n",
       "    <tr>\n",
       "      <th>emu</th>\n",
       "      <td>IY M Y UW</td>\n",
       "      <td>QMYQ</td>\n",
       "      <td>QMYQ</td>\n",
       "      <td>&lt;NA&gt;</td>\n",
       "    </tr>\n",
       "    <tr>\n",
       "      <th>expo</th>\n",
       "      <td>EH K S P OW</td>\n",
       "      <td>QKSPQ</td>\n",
       "      <td>QKSPQ</td>\n",
       "      <td>&lt;NA&gt;</td>\n",
       "    </tr>\n",
       "    <tr>\n",
       "      <th>feb</th>\n",
       "      <td>F EH B Y AH W EH R IY</td>\n",
       "      <td>FQBYQWQRQ</td>\n",
       "      <td>FBYWRQ</td>\n",
       "      <td>&lt;NA&gt;</td>\n",
       "    </tr>\n",
       "    <tr>\n",
       "      <th>hz</th>\n",
       "      <td>HH ER T Z</td>\n",
       "      <td>HQTZ</td>\n",
       "      <td>HTZ</td>\n",
       "      <td>&lt;NA&gt;</td>\n",
       "    </tr>\n",
       "    <tr>\n",
       "      <th>jr</th>\n",
       "      <td>JH UW N Y ER</td>\n",
       "      <td>JQNYQ</td>\n",
       "      <td>JNYQ</td>\n",
       "      <td>&lt;NA&gt;</td>\n",
       "    </tr>\n",
       "    <tr>\n",
       "      <th>lb</th>\n",
       "      <td>P AW N D</td>\n",
       "      <td>PQND</td>\n",
       "      <td>PND</td>\n",
       "      <td>&lt;NA&gt;</td>\n",
       "    </tr>\n",
       "    <tr>\n",
       "      <th>lbs</th>\n",
       "      <td>P AW N D Z</td>\n",
       "      <td>PQNDS</td>\n",
       "      <td>PNDS</td>\n",
       "      <td>&lt;NA&gt;</td>\n",
       "    </tr>\n",
       "    <tr>\n",
       "      <th>lxi</th>\n",
       "      <td>L K S IY</td>\n",
       "      <td>LKSQ</td>\n",
       "      <td>LKSQ</td>\n",
       "      <td>&lt;NA&gt;</td>\n",
       "    </tr>\n",
       "    <tr>\n",
       "      <th>mg</th>\n",
       "      <td>EH M G IY</td>\n",
       "      <td>QMGQ</td>\n",
       "      <td>QMGQ</td>\n",
       "      <td>&lt;NA&gt;</td>\n",
       "    </tr>\n",
       "    <tr>\n",
       "      <th>mr</th>\n",
       "      <td>M IH S T ER</td>\n",
       "      <td>MQSTQ</td>\n",
       "      <td>MSTQ</td>\n",
       "      <td>&lt;NA&gt;</td>\n",
       "    </tr>\n",
       "    <tr>\n",
       "      <th>mt</th>\n",
       "      <td>M AW N T</td>\n",
       "      <td>MQNT</td>\n",
       "      <td>MNT</td>\n",
       "      <td>&lt;NA&gt;</td>\n",
       "    </tr>\n",
       "    <tr>\n",
       "      <th>ngo</th>\n",
       "      <td>EH NG G OW</td>\n",
       "      <td>QIGQ</td>\n",
       "      <td>QIGQ</td>\n",
       "      <td>&lt;NA&gt;</td>\n",
       "    </tr>\n",
       "    <tr>\n",
       "      <th>sr</th>\n",
       "      <td>S IY N Y ER</td>\n",
       "      <td>SQNYQ</td>\n",
       "      <td>SNYQ</td>\n",
       "      <td>&lt;NA&gt;</td>\n",
       "    </tr>\n",
       "  </tbody>\n",
       "</table>\n",
       "</div>"
      ],
      "text/plain": [
       "                      sound   encoding vowel_free  freq\n",
       "word                                                   \n",
       "aug             AO G AH S T      QGQST       QGST  <NA>\n",
       "ct                 K AO R T       KQRT        KRT  <NA>\n",
       "emu               IY M Y UW       QMYQ       QMYQ  <NA>\n",
       "expo            EH K S P OW      QKSPQ      QKSPQ  <NA>\n",
       "feb   F EH B Y AH W EH R IY  FQBYQWQRQ     FBYWRQ  <NA>\n",
       "hz                HH ER T Z       HQTZ        HTZ  <NA>\n",
       "jr             JH UW N Y ER      JQNYQ       JNYQ  <NA>\n",
       "lb                 P AW N D       PQND        PND  <NA>\n",
       "lbs              P AW N D Z      PQNDS       PNDS  <NA>\n",
       "lxi                L K S IY       LKSQ       LKSQ  <NA>\n",
       "mg                EH M G IY       QMGQ       QMGQ  <NA>\n",
       "mr              M IH S T ER      MQSTQ       MSTQ  <NA>\n",
       "mt                 M AW N T       MQNT        MNT  <NA>\n",
       "ngo              EH NG G OW       QIGQ       QIGQ  <NA>\n",
       "sr              S IY N Y ER      SQNYQ       SNYQ  <NA>"
      ]
     },
     "metadata": {},
     "output_type": "display_data"
    }
   ],
   "source": [
    "# with pd.option_context('display.max_rows', None):\n",
    "acronym_residue = df.loc[(df.index.str.len() > 1) & (df.index.str.len() <= 4) & (df.index.str.len() < df.vowel_free.str.len()) & (~df.freq.notna()), ['sound','encoding','vowel_free','freq']]\n",
    "display(acronym_residue)"
   ]
  },
  {
   "cell_type": "code",
   "execution_count": 284,
   "metadata": {},
   "outputs": [],
   "source": [
    "df.drop(acronym_residue.index, inplace=True)"
   ]
  },
  {
   "cell_type": "code",
   "execution_count": 285,
   "metadata": {},
   "outputs": [
    {
     "data": {
      "text/plain": [
       "51993"
      ]
     },
     "execution_count": 285,
     "metadata": {},
     "output_type": "execute_result"
    }
   ],
   "source": [
    "len(df)"
   ]
  },
  {
   "cell_type": "markdown",
   "metadata": {},
   "source": [
    "Notice that many of them are acronyms, which is pronounced as individual letters, we could remove them directly from the cmu dict, the acronyms will be dealed in another independent dico."
   ]
  },
  {
   "cell_type": "code",
   "execution_count": 286,
   "metadata": {},
   "outputs": [],
   "source": [
    "df.to_csv('./dict_en.csv')"
   ]
  },
  {
   "cell_type": "code",
   "execution_count": 287,
   "metadata": {},
   "outputs": [],
   "source": [
    "df = pd.read_csv('./dict_en.csv', index_col=0, dtype={'sound':str,'freq':pd.Int64Dtype(),'encoding':str,'vowel_free':str}, na_filter=False)"
   ]
  },
  {
   "cell_type": "code",
   "execution_count": 288,
   "metadata": {},
   "outputs": [
    {
     "data": {
      "text/html": [
       "<div>\n",
       "<style scoped>\n",
       "    .dataframe tbody tr th:only-of-type {\n",
       "        vertical-align: middle;\n",
       "    }\n",
       "\n",
       "    .dataframe tbody tr th {\n",
       "        vertical-align: top;\n",
       "    }\n",
       "\n",
       "    .dataframe thead th {\n",
       "        text-align: right;\n",
       "    }\n",
       "</style>\n",
       "<table border=\"1\" class=\"dataframe\">\n",
       "  <thead>\n",
       "    <tr style=\"text-align: right;\">\n",
       "      <th></th>\n",
       "      <th>sound</th>\n",
       "      <th>freq</th>\n",
       "      <th>encoding</th>\n",
       "      <th>vowel_free</th>\n",
       "    </tr>\n",
       "    <tr>\n",
       "      <th>word</th>\n",
       "      <th></th>\n",
       "      <th></th>\n",
       "      <th></th>\n",
       "      <th></th>\n",
       "    </tr>\n",
       "  </thead>\n",
       "  <tbody>\n",
       "    <tr>\n",
       "      <th>a</th>\n",
       "      <td>AH</td>\n",
       "      <td>4863</td>\n",
       "      <td>Q</td>\n",
       "      <td>Q</td>\n",
       "    </tr>\n",
       "    <tr>\n",
       "      <th>aachen</th>\n",
       "      <td>AA K AH N</td>\n",
       "      <td>&lt;NA&gt;</td>\n",
       "      <td>QKQN</td>\n",
       "      <td>QKN</td>\n",
       "    </tr>\n",
       "    <tr>\n",
       "      <th>aalborg</th>\n",
       "      <td>AO L B AO R G</td>\n",
       "      <td>&lt;NA&gt;</td>\n",
       "      <td>QLBQRG</td>\n",
       "      <td>QLBRG</td>\n",
       "    </tr>\n",
       "    <tr>\n",
       "      <th>aalto</th>\n",
       "      <td>AA L T OW</td>\n",
       "      <td>&lt;NA&gt;</td>\n",
       "      <td>QLTQ</td>\n",
       "      <td>QLTQ</td>\n",
       "    </tr>\n",
       "    <tr>\n",
       "      <th>aardvark</th>\n",
       "      <td>AA R D V AA R K</td>\n",
       "      <td>&lt;NA&gt;</td>\n",
       "      <td>QRDVQRK</td>\n",
       "      <td>QRDVRK</td>\n",
       "    </tr>\n",
       "    <tr>\n",
       "      <th>...</th>\n",
       "      <td>...</td>\n",
       "      <td>...</td>\n",
       "      <td>...</td>\n",
       "      <td>...</td>\n",
       "    </tr>\n",
       "    <tr>\n",
       "      <th>zuni</th>\n",
       "      <td>Z UW N IY</td>\n",
       "      <td>&lt;NA&gt;</td>\n",
       "      <td>ZQNQ</td>\n",
       "      <td>ZNQ</td>\n",
       "    </tr>\n",
       "    <tr>\n",
       "      <th>zurich</th>\n",
       "      <td>Z UH R IH K</td>\n",
       "      <td>&lt;NA&gt;</td>\n",
       "      <td>ZQRQK</td>\n",
       "      <td>ZRK</td>\n",
       "    </tr>\n",
       "    <tr>\n",
       "      <th>zweig</th>\n",
       "      <td>Z W AY G</td>\n",
       "      <td>&lt;NA&gt;</td>\n",
       "      <td>ZWQG</td>\n",
       "      <td>ZWG</td>\n",
       "    </tr>\n",
       "    <tr>\n",
       "      <th>zydeco</th>\n",
       "      <td>Z AY D AH K OW</td>\n",
       "      <td>0</td>\n",
       "      <td>ZQDQKQ</td>\n",
       "      <td>ZDKQ</td>\n",
       "    </tr>\n",
       "    <tr>\n",
       "      <th>zygote</th>\n",
       "      <td>Z AY G OW T</td>\n",
       "      <td>7</td>\n",
       "      <td>ZQGQT</td>\n",
       "      <td>ZGT</td>\n",
       "    </tr>\n",
       "  </tbody>\n",
       "</table>\n",
       "<p>51993 rows × 4 columns</p>\n",
       "</div>"
      ],
      "text/plain": [
       "                    sound  freq encoding vowel_free\n",
       "word                                               \n",
       "a                      AH  4863        Q          Q\n",
       "aachen          AA K AH N  <NA>     QKQN        QKN\n",
       "aalborg     AO L B AO R G  <NA>   QLBQRG      QLBRG\n",
       "aalto           AA L T OW  <NA>     QLTQ       QLTQ\n",
       "aardvark  AA R D V AA R K  <NA>  QRDVQRK     QRDVRK\n",
       "...                   ...   ...      ...        ...\n",
       "zuni            Z UW N IY  <NA>     ZQNQ        ZNQ\n",
       "zurich        Z UH R IH K  <NA>    ZQRQK        ZRK\n",
       "zweig            Z W AY G  <NA>     ZWQG        ZWG\n",
       "zydeco     Z AY D AH K OW     0   ZQDQKQ       ZDKQ\n",
       "zygote        Z AY G OW T     7    ZQGQT        ZGT\n",
       "\n",
       "[51993 rows x 4 columns]"
      ]
     },
     "execution_count": 288,
     "metadata": {},
     "output_type": "execute_result"
    }
   ],
   "source": [
    "df"
   ]
  },
  {
   "cell_type": "code",
   "execution_count": 289,
   "metadata": {},
   "outputs": [
    {
     "data": {
      "text/plain": [
       "sound         AH B R IY V IY EY T IH D\n",
       "freq                                50\n",
       "encoding                    QBRQVQQTQE\n",
       "vowel_free                      QBRVTE\n",
       "Name: abbreviated, dtype: object"
      ]
     },
     "execution_count": 289,
     "metadata": {},
     "output_type": "execute_result"
    }
   ],
   "source": [
    "df.loc['abbreviated']"
   ]
  },
  {
   "cell_type": "markdown",
   "metadata": {},
   "source": [
    "## Encoding Statistics"
   ]
  },
  {
   "cell_type": "markdown",
   "metadata": {},
   "source": [
    "encoding length"
   ]
  },
  {
   "cell_type": "code",
   "execution_count": 306,
   "metadata": {},
   "outputs": [],
   "source": [
    "def plot_string_length_freq(encodings: pd.DataFrame):\n",
    "\twd_length = encodings.reset_index().apply(lambda x: x.str.len(), axis=0).astype(pd.Int64Dtype())\n",
    "\tdisplay(wd_length.describe(percentiles=[.9,.95,.99]).drop(['count','50%','min']))\n",
    "\n",
    "\twd_length_count = wd_length.melt()\n",
    "\twd_length_count = wd_length_count.pivot_table(index='value', columns='variable', values='value', aggfunc='size')\n",
    "\tplt.style.use('seaborn-v0_8-notebook')\n",
    "\twd_length_count.plot(kind='bar')\n",
    "\t"
   ]
  },
  {
   "cell_type": "markdown",
   "metadata": {},
   "source": [
    "- less average encoding length: lazier\n",
    "- less standard deviation of encoding length: evener"
   ]
  },
  {
   "cell_type": "code",
   "execution_count": 307,
   "metadata": {},
   "outputs": [
    {
     "data": {
      "text/html": [
       "<div>\n",
       "<style scoped>\n",
       "    .dataframe tbody tr th:only-of-type {\n",
       "        vertical-align: middle;\n",
       "    }\n",
       "\n",
       "    .dataframe tbody tr th {\n",
       "        vertical-align: top;\n",
       "    }\n",
       "\n",
       "    .dataframe thead th {\n",
       "        text-align: right;\n",
       "    }\n",
       "</style>\n",
       "<table border=\"1\" class=\"dataframe\">\n",
       "  <thead>\n",
       "    <tr style=\"text-align: right;\">\n",
       "      <th></th>\n",
       "      <th>word</th>\n",
       "      <th>encoding</th>\n",
       "      <th>vowel_free</th>\n",
       "    </tr>\n",
       "  </thead>\n",
       "  <tbody>\n",
       "    <tr>\n",
       "      <th>mean</th>\n",
       "      <td>7.930279</td>\n",
       "      <td>6.840308</td>\n",
       "      <td>4.642964</td>\n",
       "    </tr>\n",
       "    <tr>\n",
       "      <th>std</th>\n",
       "      <td>2.452292</td>\n",
       "      <td>2.36637</td>\n",
       "      <td>1.509648</td>\n",
       "    </tr>\n",
       "    <tr>\n",
       "      <th>90%</th>\n",
       "      <td>11.0</td>\n",
       "      <td>10.0</td>\n",
       "      <td>7.0</td>\n",
       "    </tr>\n",
       "    <tr>\n",
       "      <th>95%</th>\n",
       "      <td>12.0</td>\n",
       "      <td>11.0</td>\n",
       "      <td>7.0</td>\n",
       "    </tr>\n",
       "    <tr>\n",
       "      <th>99%</th>\n",
       "      <td>14.0</td>\n",
       "      <td>13.0</td>\n",
       "      <td>9.0</td>\n",
       "    </tr>\n",
       "    <tr>\n",
       "      <th>max</th>\n",
       "      <td>20.0</td>\n",
       "      <td>18.0</td>\n",
       "      <td>12.0</td>\n",
       "    </tr>\n",
       "  </tbody>\n",
       "</table>\n",
       "</div>"
      ],
      "text/plain": [
       "          word  encoding  vowel_free\n",
       "mean  7.930279  6.840308    4.642964\n",
       "std   2.452292   2.36637    1.509648\n",
       "90%       11.0      10.0         7.0\n",
       "95%       12.0      11.0         7.0\n",
       "99%       14.0      13.0         9.0\n",
       "max       20.0      18.0        12.0"
      ]
     },
     "metadata": {},
     "output_type": "display_data"
    },
    {
     "data": {
      "image/png": "[encoded data removed]",
      "text/plain": [
       "<Figure size 800x550 with 1 Axes>"
      ]
     },
     "metadata": {},
     "output_type": "display_data"
    }
   ],
   "source": [
    "plot_string_length_freq(df[['encoding', 'vowel_free']])"
   ]
  },
  {
   "cell_type": "markdown",
   "metadata": {},
   "source": [
    "coincident codes: counts of words with same encoding"
   ]
  },
  {
   "cell_type": "code",
   "execution_count": 308,
   "metadata": {},
   "outputs": [],
   "source": [
    "def coincident_stats(encodings: pd.DataFrame, ext = 10):\n",
    "\ttotal = len(encodings)\n",
    "\n",
    "\tmultiplicity = encodings.value_counts()\n",
    "\tmultiplicity.index.name = 'encoding'\n",
    "\tmultiplicity.name = 'multiplicity'\n",
    "\n",
    "\tmultiplicity_freq = multiplicity.value_counts()\n",
    "\tmultiplicity_freq.index.name = 'multiplicity'\n",
    "\tmultiplicity_freq.name = 'freq'\n",
    "\n",
    "\tcoincident_rate = 1 - (multiplicity_freq.loc[1]) / multiplicity_freq.sum()\n",
    "\n",
    "\textremes = multiplicity_freq.loc[ext+1:]\n",
    "\tword_count_with_extreme_encodings = (extremes.index.to_numpy() * extremes.values).sum()\n",
    "\tratio_with_extreme_encodings = np.round( word_count_with_extreme_encodings/total *100 , 2)\n",
    "\n",
    "\tprint(f'coincident_rate: {np.round(coincident_rate * 100,2)}%')\n",
    "\tprint(f'There are {extremes.sum()} encodings have more than {ext} multiplicities, encoding {word_count_with_extreme_encodings}({ratio_with_extreme_encodings}%) words.')\n",
    "\n",
    "\tq = multiplicity.quantile([.8,.9,.95,.99])\n",
    "\tq.index.name = 'quantile'\n",
    "\tq.name = 'multiplicity'\n",
    "\n",
    "\tprint('extreme:')\n",
    "\tdisplay(extremes.to_frame())\n",
    "\tprint('quantile:')\n",
    "\tdisplay(q.to_frame())\n",
    "\n",
    "\textreme_encoding = pd.Series(multiplicity[multiplicity > ext].index)\n",
    "\textreme_encoding.name = 'freq'\n",
    "\textreme_encoding.index.name = 'encoding_length'\n",
    "\tif len(extreme_encoding) > 0:\n",
    "\t\t# display(extreme_encoding)\n",
    "\t\tsn.barplot(x = extreme_encoding.str.len().value_counts().index, y = extreme_encoding.str.len().value_counts())\n",
    "\t# plt.hist(multiplicity,bins=range(min(multiplicity), max(multiplicity)+1,1))\n",
    "\treturn multiplicity, multiplicity_freq, extreme_encoding"
   ]
  },
  {
   "cell_type": "markdown",
   "metadata": {},
   "source": [
    "no coincidence in original dictionary lexicon(of course)"
   ]
  },
  {
   "cell_type": "code",
   "execution_count": 309,
   "metadata": {},
   "outputs": [
    {
     "name": "stdout",
     "output_type": "stream",
     "text": [
      "coincident_rate: 0.0%\n",
      "There are 0 encodings have more than 10 multiplicities, encoding 0(0.0%) words.\n",
      "extreme:\n"
     ]
    },
    {
     "data": {
      "text/html": [
       "<div>\n",
       "<style scoped>\n",
       "    .dataframe tbody tr th:only-of-type {\n",
       "        vertical-align: middle;\n",
       "    }\n",
       "\n",
       "    .dataframe tbody tr th {\n",
       "        vertical-align: top;\n",
       "    }\n",
       "\n",
       "    .dataframe thead th {\n",
       "        text-align: right;\n",
       "    }\n",
       "</style>\n",
       "<table border=\"1\" class=\"dataframe\">\n",
       "  <thead>\n",
       "    <tr style=\"text-align: right;\">\n",
       "      <th></th>\n",
       "      <th>freq</th>\n",
       "    </tr>\n",
       "    <tr>\n",
       "      <th>multiplicity</th>\n",
       "      <th></th>\n",
       "    </tr>\n",
       "  </thead>\n",
       "  <tbody>\n",
       "  </tbody>\n",
       "</table>\n",
       "</div>"
      ],
      "text/plain": [
       "Empty DataFrame\n",
       "Columns: [freq]\n",
       "Index: []"
      ]
     },
     "metadata": {},
     "output_type": "display_data"
    },
    {
     "name": "stdout",
     "output_type": "stream",
     "text": [
      "quantile:\n"
     ]
    },
    {
     "data": {
      "text/html": [
       "<div>\n",
       "<style scoped>\n",
       "    .dataframe tbody tr th:only-of-type {\n",
       "        vertical-align: middle;\n",
       "    }\n",
       "\n",
       "    .dataframe tbody tr th {\n",
       "        vertical-align: top;\n",
       "    }\n",
       "\n",
       "    .dataframe thead th {\n",
       "        text-align: right;\n",
       "    }\n",
       "</style>\n",
       "<table border=\"1\" class=\"dataframe\">\n",
       "  <thead>\n",
       "    <tr style=\"text-align: right;\">\n",
       "      <th></th>\n",
       "      <th>multiplicity</th>\n",
       "    </tr>\n",
       "    <tr>\n",
       "      <th>quantile</th>\n",
       "      <th></th>\n",
       "    </tr>\n",
       "  </thead>\n",
       "  <tbody>\n",
       "    <tr>\n",
       "      <th>0.80</th>\n",
       "      <td>1.0</td>\n",
       "    </tr>\n",
       "    <tr>\n",
       "      <th>0.90</th>\n",
       "      <td>1.0</td>\n",
       "    </tr>\n",
       "    <tr>\n",
       "      <th>0.95</th>\n",
       "      <td>1.0</td>\n",
       "    </tr>\n",
       "    <tr>\n",
       "      <th>0.99</th>\n",
       "      <td>1.0</td>\n",
       "    </tr>\n",
       "  </tbody>\n",
       "</table>\n",
       "</div>"
      ],
      "text/plain": [
       "          multiplicity\n",
       "quantile              \n",
       "0.80               1.0\n",
       "0.90               1.0\n",
       "0.95               1.0\n",
       "0.99               1.0"
      ]
     },
     "metadata": {},
     "output_type": "display_data"
    }
   ],
   "source": [
    "_ = coincident_stats(df.index)"
   ]
  },
  {
   "cell_type": "code",
   "execution_count": 310,
   "metadata": {},
   "outputs": [
    {
     "name": "stdout",
     "output_type": "stream",
     "text": [
      "coincident_rate: 13.81%\n",
      "There are 97 encodings have more than 10 multiplicities, encoding 1294(2.49%) words.\n",
      "extreme:\n"
     ]
    },
    {
     "data": {
      "text/html": [
       "<div>\n",
       "<style scoped>\n",
       "    .dataframe tbody tr th:only-of-type {\n",
       "        vertical-align: middle;\n",
       "    }\n",
       "\n",
       "    .dataframe tbody tr th {\n",
       "        vertical-align: top;\n",
       "    }\n",
       "\n",
       "    .dataframe thead th {\n",
       "        text-align: right;\n",
       "    }\n",
       "</style>\n",
       "<table border=\"1\" class=\"dataframe\">\n",
       "  <thead>\n",
       "    <tr style=\"text-align: right;\">\n",
       "      <th></th>\n",
       "      <th>freq</th>\n",
       "    </tr>\n",
       "    <tr>\n",
       "      <th>multiplicity</th>\n",
       "      <th></th>\n",
       "    </tr>\n",
       "  </thead>\n",
       "  <tbody>\n",
       "    <tr>\n",
       "      <th>11</th>\n",
       "      <td>28</td>\n",
       "    </tr>\n",
       "    <tr>\n",
       "      <th>13</th>\n",
       "      <td>18</td>\n",
       "    </tr>\n",
       "    <tr>\n",
       "      <th>12</th>\n",
       "      <td>17</td>\n",
       "    </tr>\n",
       "    <tr>\n",
       "      <th>14</th>\n",
       "      <td>14</td>\n",
       "    </tr>\n",
       "    <tr>\n",
       "      <th>15</th>\n",
       "      <td>6</td>\n",
       "    </tr>\n",
       "    <tr>\n",
       "      <th>19</th>\n",
       "      <td>4</td>\n",
       "    </tr>\n",
       "    <tr>\n",
       "      <th>20</th>\n",
       "      <td>3</td>\n",
       "    </tr>\n",
       "    <tr>\n",
       "      <th>18</th>\n",
       "      <td>3</td>\n",
       "    </tr>\n",
       "    <tr>\n",
       "      <th>16</th>\n",
       "      <td>2</td>\n",
       "    </tr>\n",
       "    <tr>\n",
       "      <th>17</th>\n",
       "      <td>1</td>\n",
       "    </tr>\n",
       "    <tr>\n",
       "      <th>23</th>\n",
       "      <td>1</td>\n",
       "    </tr>\n",
       "  </tbody>\n",
       "</table>\n",
       "</div>"
      ],
      "text/plain": [
       "              freq\n",
       "multiplicity      \n",
       "11              28\n",
       "13              18\n",
       "12              17\n",
       "14              14\n",
       "15               6\n",
       "19               4\n",
       "20               3\n",
       "18               3\n",
       "16               2\n",
       "17               1\n",
       "23               1"
      ]
     },
     "metadata": {},
     "output_type": "display_data"
    },
    {
     "name": "stdout",
     "output_type": "stream",
     "text": [
      "quantile:\n"
     ]
    },
    {
     "data": {
      "text/html": [
       "<div>\n",
       "<style scoped>\n",
       "    .dataframe tbody tr th:only-of-type {\n",
       "        vertical-align: middle;\n",
       "    }\n",
       "\n",
       "    .dataframe tbody tr th {\n",
       "        vertical-align: top;\n",
       "    }\n",
       "\n",
       "    .dataframe thead th {\n",
       "        text-align: right;\n",
       "    }\n",
       "</style>\n",
       "<table border=\"1\" class=\"dataframe\">\n",
       "  <thead>\n",
       "    <tr style=\"text-align: right;\">\n",
       "      <th></th>\n",
       "      <th>multiplicity</th>\n",
       "    </tr>\n",
       "    <tr>\n",
       "      <th>quantile</th>\n",
       "      <th></th>\n",
       "    </tr>\n",
       "  </thead>\n",
       "  <tbody>\n",
       "    <tr>\n",
       "      <th>0.80</th>\n",
       "      <td>1.0</td>\n",
       "    </tr>\n",
       "    <tr>\n",
       "      <th>0.90</th>\n",
       "      <td>2.0</td>\n",
       "    </tr>\n",
       "    <tr>\n",
       "      <th>0.95</th>\n",
       "      <td>3.0</td>\n",
       "    </tr>\n",
       "    <tr>\n",
       "      <th>0.99</th>\n",
       "      <td>6.0</td>\n",
       "    </tr>\n",
       "  </tbody>\n",
       "</table>\n",
       "</div>"
      ],
      "text/plain": [
       "          multiplicity\n",
       "quantile              \n",
       "0.80               1.0\n",
       "0.90               2.0\n",
       "0.95               3.0\n",
       "0.99               6.0"
      ]
     },
     "metadata": {},
     "output_type": "display_data"
    },
    {
     "data": {
      "image/png": "[encoded data removed]",
      "text/plain": [
       "<Figure size 800x550 with 1 Axes>"
      ]
     },
     "metadata": {},
     "output_type": "display_data"
    }
   ],
   "source": [
    "_ = coincident_stats(df.encoding)"
   ]
  },
  {
   "cell_type": "code",
   "execution_count": 311,
   "metadata": {},
   "outputs": [
    {
     "name": "stdout",
     "output_type": "stream",
     "text": [
      "coincident_rate: 18.47%\n",
      "There are 240 encodings have more than 10 multiplicities, encoding 3658(7.04%) words.\n",
      "extreme:\n"
     ]
    },
    {
     "data": {
      "text/html": [
       "<div>\n",
       "<style scoped>\n",
       "    .dataframe tbody tr th:only-of-type {\n",
       "        vertical-align: middle;\n",
       "    }\n",
       "\n",
       "    .dataframe tbody tr th {\n",
       "        vertical-align: top;\n",
       "    }\n",
       "\n",
       "    .dataframe thead th {\n",
       "        text-align: right;\n",
       "    }\n",
       "</style>\n",
       "<table border=\"1\" class=\"dataframe\">\n",
       "  <thead>\n",
       "    <tr style=\"text-align: right;\">\n",
       "      <th></th>\n",
       "      <th>freq</th>\n",
       "    </tr>\n",
       "    <tr>\n",
       "      <th>multiplicity</th>\n",
       "      <th></th>\n",
       "    </tr>\n",
       "  </thead>\n",
       "  <tbody>\n",
       "    <tr>\n",
       "      <th>11</th>\n",
       "      <td>48</td>\n",
       "    </tr>\n",
       "    <tr>\n",
       "      <th>12</th>\n",
       "      <td>41</td>\n",
       "    </tr>\n",
       "    <tr>\n",
       "      <th>14</th>\n",
       "      <td>31</td>\n",
       "    </tr>\n",
       "    <tr>\n",
       "      <th>13</th>\n",
       "      <td>26</td>\n",
       "    </tr>\n",
       "    <tr>\n",
       "      <th>15</th>\n",
       "      <td>19</td>\n",
       "    </tr>\n",
       "    <tr>\n",
       "      <th>16</th>\n",
       "      <td>14</td>\n",
       "    </tr>\n",
       "    <tr>\n",
       "      <th>19</th>\n",
       "      <td>11</td>\n",
       "    </tr>\n",
       "    <tr>\n",
       "      <th>17</th>\n",
       "      <td>10</td>\n",
       "    </tr>\n",
       "    <tr>\n",
       "      <th>21</th>\n",
       "      <td>7</td>\n",
       "    </tr>\n",
       "    <tr>\n",
       "      <th>22</th>\n",
       "      <td>6</td>\n",
       "    </tr>\n",
       "    <tr>\n",
       "      <th>18</th>\n",
       "      <td>5</td>\n",
       "    </tr>\n",
       "    <tr>\n",
       "      <th>20</th>\n",
       "      <td>4</td>\n",
       "    </tr>\n",
       "    <tr>\n",
       "      <th>24</th>\n",
       "      <td>3</td>\n",
       "    </tr>\n",
       "    <tr>\n",
       "      <th>25</th>\n",
       "      <td>2</td>\n",
       "    </tr>\n",
       "    <tr>\n",
       "      <th>26</th>\n",
       "      <td>2</td>\n",
       "    </tr>\n",
       "    <tr>\n",
       "      <th>30</th>\n",
       "      <td>2</td>\n",
       "    </tr>\n",
       "    <tr>\n",
       "      <th>35</th>\n",
       "      <td>2</td>\n",
       "    </tr>\n",
       "    <tr>\n",
       "      <th>38</th>\n",
       "      <td>1</td>\n",
       "    </tr>\n",
       "    <tr>\n",
       "      <th>23</th>\n",
       "      <td>1</td>\n",
       "    </tr>\n",
       "    <tr>\n",
       "      <th>27</th>\n",
       "      <td>1</td>\n",
       "    </tr>\n",
       "    <tr>\n",
       "      <th>31</th>\n",
       "      <td>1</td>\n",
       "    </tr>\n",
       "    <tr>\n",
       "      <th>33</th>\n",
       "      <td>1</td>\n",
       "    </tr>\n",
       "    <tr>\n",
       "      <th>34</th>\n",
       "      <td>1</td>\n",
       "    </tr>\n",
       "    <tr>\n",
       "      <th>39</th>\n",
       "      <td>1</td>\n",
       "    </tr>\n",
       "  </tbody>\n",
       "</table>\n",
       "</div>"
      ],
      "text/plain": [
       "              freq\n",
       "multiplicity      \n",
       "11              48\n",
       "12              41\n",
       "14              31\n",
       "13              26\n",
       "15              19\n",
       "16              14\n",
       "19              11\n",
       "17              10\n",
       "21               7\n",
       "22               6\n",
       "18               5\n",
       "20               4\n",
       "24               3\n",
       "25               2\n",
       "26               2\n",
       "30               2\n",
       "35               2\n",
       "38               1\n",
       "23               1\n",
       "27               1\n",
       "31               1\n",
       "33               1\n",
       "34               1\n",
       "39               1"
      ]
     },
     "metadata": {},
     "output_type": "display_data"
    },
    {
     "name": "stdout",
     "output_type": "stream",
     "text": [
      "quantile:\n"
     ]
    },
    {
     "data": {
      "text/html": [
       "<div>\n",
       "<style scoped>\n",
       "    .dataframe tbody tr th:only-of-type {\n",
       "        vertical-align: middle;\n",
       "    }\n",
       "\n",
       "    .dataframe tbody tr th {\n",
       "        vertical-align: top;\n",
       "    }\n",
       "\n",
       "    .dataframe thead th {\n",
       "        text-align: right;\n",
       "    }\n",
       "</style>\n",
       "<table border=\"1\" class=\"dataframe\">\n",
       "  <thead>\n",
       "    <tr style=\"text-align: right;\">\n",
       "      <th></th>\n",
       "      <th>multiplicity</th>\n",
       "    </tr>\n",
       "    <tr>\n",
       "      <th>quantile</th>\n",
       "      <th></th>\n",
       "    </tr>\n",
       "  </thead>\n",
       "  <tbody>\n",
       "    <tr>\n",
       "      <th>0.80</th>\n",
       "      <td>1.0</td>\n",
       "    </tr>\n",
       "    <tr>\n",
       "      <th>0.90</th>\n",
       "      <td>2.0</td>\n",
       "    </tr>\n",
       "    <tr>\n",
       "      <th>0.95</th>\n",
       "      <td>3.0</td>\n",
       "    </tr>\n",
       "    <tr>\n",
       "      <th>0.99</th>\n",
       "      <td>9.0</td>\n",
       "    </tr>\n",
       "  </tbody>\n",
       "</table>\n",
       "</div>"
      ],
      "text/plain": [
       "          multiplicity\n",
       "quantile              \n",
       "0.80               1.0\n",
       "0.90               2.0\n",
       "0.95               3.0\n",
       "0.99               9.0"
      ]
     },
     "metadata": {},
     "output_type": "display_data"
    },
    {
     "data": {
      "image/png": "[encoded data removed]",
      "text/plain": [
       "<Figure size 800x550 with 1 Axes>"
      ]
     },
     "metadata": {},
     "output_type": "display_data"
    }
   ],
   "source": [
    "multiplicity, _, extreme_encoding = coincident_stats(df.vowel_free)"
   ]
  },
  {
   "cell_type": "markdown",
   "metadata": {},
   "source": [
    "let's taker a careful look at the extreme encodings"
   ]
  },
  {
   "cell_type": "code",
   "execution_count": 312,
   "metadata": {},
   "outputs": [
    {
     "data": {
      "text/plain": [
       "encoding_length\n",
       "0      BLS\n",
       "1      FLS\n",
       "2      KLS\n",
       "3      FLQ\n",
       "4      PLS\n",
       "      ... \n",
       "235     KK\n",
       "236     MN\n",
       "237    NTS\n",
       "238    BNT\n",
       "239     BQ\n",
       "Name: freq, Length: 240, dtype: object"
      ]
     },
     "execution_count": 312,
     "metadata": {},
     "output_type": "execute_result"
    }
   ],
   "source": [
    "extreme_encoding"
   ]
  },
  {
   "cell_type": "code",
   "execution_count": 313,
   "metadata": {},
   "outputs": [
    {
     "data": {
      "text/plain": [
       "encoding\n",
       "BLS    39\n",
       "FLS    38\n",
       "KLS    35\n",
       "FLQ    35\n",
       "PLS    34\n",
       "       ..\n",
       "KK     11\n",
       "MN     11\n",
       "NTS    11\n",
       "BNT    11\n",
       "BQ     11\n",
       "Name: multiplicity, Length: 240, dtype: int64"
      ]
     },
     "execution_count": 313,
     "metadata": {},
     "output_type": "execute_result"
    }
   ],
   "source": [
    "multiplicity[multiplicity > 10]"
   ]
  },
  {
   "cell_type": "code",
   "execution_count": 367,
   "metadata": {},
   "outputs": [
    {
     "data": {
      "text/plain": [
       "encoding\n",
       "BLS     36\n",
       "FLS     31\n",
       "KLS     31\n",
       "PLS     26\n",
       "BRS     24\n",
       "SLS     23\n",
       "KRS     22\n",
       "PRS     20\n",
       "WLS     20\n",
       "GLS     20\n",
       "HLS     19\n",
       "DNS     19\n",
       "KLQ     19\n",
       "BTS     19\n",
       "MTS     19\n",
       "FLQ     19\n",
       "MNS     19\n",
       "BKS     19\n",
       "LKS     18\n",
       "BLQ     17\n",
       "TNQ     17\n",
       "TRS     17\n",
       "SRS     17\n",
       "FLTS    16\n",
       "PLTS    16\n",
       "HRS     16\n",
       "MLQ     16\n",
       "SKTS    16\n",
       "FRS     16\n",
       "HLQ     15\n",
       "BLE     15\n",
       "LNS     15\n",
       "BRN     15\n",
       "KKS     15\n",
       "TNS     15\n",
       "MRS     15\n",
       "RKS     15\n",
       "STS     15\n",
       "SLQ     14\n",
       "RLS     14\n",
       "PLT     14\n",
       "PPS     14\n",
       "WLQ     14\n",
       "BRQ     14\n",
       "QLS     14\n",
       "TLS     14\n",
       "BNS     14\n",
       "PSS     13\n",
       "FLI     13\n",
       "RDS     13\n",
       "MLS     13\n",
       "RMS     13\n",
       "DKS     13\n",
       "HKS     13\n",
       "SPS     13\n",
       "TMS     13\n",
       "MNQ     13\n",
       "STRS    13\n",
       "STE     13\n",
       "TKS     13\n",
       "GRS     13\n",
       "BRKS    12\n",
       "STKS    12\n",
       "DKQ     12\n",
       "SPRS    12\n",
       "TRTS    12\n",
       "LTS     12\n",
       "STL     12\n",
       "PKS     12\n",
       "STN     12\n",
       "RTS     12\n",
       "SLTS    12\n",
       "UTS     12\n",
       "DMS     12\n",
       "RDQ     12\n",
       "KRNS    12\n",
       "DLS     12\n",
       "FLE     12\n",
       "PLQ     12\n",
       "KLI     12\n",
       "HMS     11\n",
       "BRK     11\n",
       "KLN     11\n",
       "SKQ     11\n",
       "SKL     11\n",
       "WKS     11\n",
       "MTQ     11\n",
       "SNS     11\n",
       "KRNQ    11\n",
       "PLE     11\n",
       "KNS     11\n",
       "RSTS    11\n",
       "LVS     11\n",
       "LKQ     11\n",
       "HLE     11\n",
       "PTQ     11\n",
       "SNQ     11\n",
       "SKS     11\n",
       "MKQ     11\n",
       "RNS     11\n",
       "BTQ     11\n",
       "KLE     11\n",
       "JNS     11\n",
       "KRL     11\n",
       "KTS     11\n",
       "LNQ     11\n",
       "TLQ     11\n",
       "TTS     11\n",
       "Name: multiplicity, dtype: int64"
      ]
     },
     "metadata": {},
     "output_type": "display_data"
    },
    {
     "data": {
      "text/html": [
       "<div>\n",
       "<style scoped>\n",
       "    .dataframe tbody tr th:only-of-type {\n",
       "        vertical-align: middle;\n",
       "    }\n",
       "\n",
       "    .dataframe tbody tr th {\n",
       "        vertical-align: top;\n",
       "    }\n",
       "\n",
       "    .dataframe thead th {\n",
       "        text-align: right;\n",
       "    }\n",
       "</style>\n",
       "<table border=\"1\" class=\"dataframe\">\n",
       "  <thead>\n",
       "    <tr style=\"text-align: right;\">\n",
       "      <th></th>\n",
       "      <th>sound</th>\n",
       "      <th>freq</th>\n",
       "      <th>encoding</th>\n",
       "      <th>vowel_free</th>\n",
       "    </tr>\n",
       "    <tr>\n",
       "      <th>word</th>\n",
       "      <th></th>\n",
       "      <th></th>\n",
       "      <th></th>\n",
       "      <th></th>\n",
       "    </tr>\n",
       "  </thead>\n",
       "  <tbody>\n",
       "    <tr>\n",
       "      <th>bailes</th>\n",
       "      <td>B EY1 L Z</td>\n",
       "      <td>&lt;NA&gt;</td>\n",
       "      <td>BQLS</td>\n",
       "      <td>BLS</td>\n",
       "    </tr>\n",
       "    <tr>\n",
       "      <th>baileys</th>\n",
       "      <td>B EY1 L IY0 Z</td>\n",
       "      <td>&lt;NA&gt;</td>\n",
       "      <td>BQLQS</td>\n",
       "      <td>BLS</td>\n",
       "    </tr>\n",
       "    <tr>\n",
       "      <th>bails</th>\n",
       "      <td>B EY1 L Z</td>\n",
       "      <td>&lt;NA&gt;</td>\n",
       "      <td>BQLS</td>\n",
       "      <td>BLS</td>\n",
       "    </tr>\n",
       "    <tr>\n",
       "      <th>balas</th>\n",
       "      <td>B AE1 L AH0 S</td>\n",
       "      <td>&lt;NA&gt;</td>\n",
       "      <td>BQLQS</td>\n",
       "      <td>BLS</td>\n",
       "    </tr>\n",
       "    <tr>\n",
       "      <th>bales</th>\n",
       "      <td>B EY1 L Z</td>\n",
       "      <td>&lt;NA&gt;</td>\n",
       "      <td>BQLS</td>\n",
       "      <td>BLS</td>\n",
       "    </tr>\n",
       "    <tr>\n",
       "      <th>balles</th>\n",
       "      <td>B EY1 L Z</td>\n",
       "      <td>&lt;NA&gt;</td>\n",
       "      <td>BQLS</td>\n",
       "      <td>BLS</td>\n",
       "    </tr>\n",
       "    <tr>\n",
       "      <th>ballets</th>\n",
       "      <td>B AE0 L EY1 Z</td>\n",
       "      <td>&lt;NA&gt;</td>\n",
       "      <td>BQLQS</td>\n",
       "      <td>BLS</td>\n",
       "    </tr>\n",
       "    <tr>\n",
       "      <th>balls</th>\n",
       "      <td>B AO1 L Z</td>\n",
       "      <td>&lt;NA&gt;</td>\n",
       "      <td>BQLS</td>\n",
       "      <td>BLS</td>\n",
       "    </tr>\n",
       "    <tr>\n",
       "      <th>bawls</th>\n",
       "      <td>B AO1 L Z</td>\n",
       "      <td>&lt;NA&gt;</td>\n",
       "      <td>BQLS</td>\n",
       "      <td>BLS</td>\n",
       "    </tr>\n",
       "    <tr>\n",
       "      <th>belies</th>\n",
       "      <td>B IH0 L AY1 Z</td>\n",
       "      <td>&lt;NA&gt;</td>\n",
       "      <td>BQLQS</td>\n",
       "      <td>BLS</td>\n",
       "    </tr>\n",
       "    <tr>\n",
       "      <th>belles</th>\n",
       "      <td>B EH1 L Z</td>\n",
       "      <td>&lt;NA&gt;</td>\n",
       "      <td>BQLS</td>\n",
       "      <td>BLS</td>\n",
       "    </tr>\n",
       "    <tr>\n",
       "      <th>bellies</th>\n",
       "      <td>B EH1 L IY0 Z</td>\n",
       "      <td>&lt;NA&gt;</td>\n",
       "      <td>BQLQS</td>\n",
       "      <td>BLS</td>\n",
       "    </tr>\n",
       "    <tr>\n",
       "      <th>bellis</th>\n",
       "      <td>B EH1 L IH0 S</td>\n",
       "      <td>&lt;NA&gt;</td>\n",
       "      <td>BQLQS</td>\n",
       "      <td>BLS</td>\n",
       "    </tr>\n",
       "    <tr>\n",
       "      <th>bellows</th>\n",
       "      <td>B EH1 L OW0 Z</td>\n",
       "      <td>40</td>\n",
       "      <td>BQLQS</td>\n",
       "      <td>BLS</td>\n",
       "    </tr>\n",
       "    <tr>\n",
       "      <th>bells</th>\n",
       "      <td>B EH1 L Z</td>\n",
       "      <td>&lt;NA&gt;</td>\n",
       "      <td>BQLS</td>\n",
       "      <td>BLS</td>\n",
       "    </tr>\n",
       "    <tr>\n",
       "      <th>biles</th>\n",
       "      <td>B AY1 L Z</td>\n",
       "      <td>&lt;NA&gt;</td>\n",
       "      <td>BQLS</td>\n",
       "      <td>BLS</td>\n",
       "    </tr>\n",
       "    <tr>\n",
       "      <th>billes</th>\n",
       "      <td>B IH1 L Z</td>\n",
       "      <td>&lt;NA&gt;</td>\n",
       "      <td>BQLS</td>\n",
       "      <td>BLS</td>\n",
       "    </tr>\n",
       "    <tr>\n",
       "      <th>billows</th>\n",
       "      <td>B IH1 L OW0 Z</td>\n",
       "      <td>&lt;NA&gt;</td>\n",
       "      <td>BQLQS</td>\n",
       "      <td>BLS</td>\n",
       "    </tr>\n",
       "    <tr>\n",
       "      <th>bills</th>\n",
       "      <td>B IH1 L Z</td>\n",
       "      <td>&lt;NA&gt;</td>\n",
       "      <td>BQLS</td>\n",
       "      <td>BLS</td>\n",
       "    </tr>\n",
       "    <tr>\n",
       "      <th>bless</th>\n",
       "      <td>B L EH1 S</td>\n",
       "      <td>133</td>\n",
       "      <td>BLQS</td>\n",
       "      <td>BLS</td>\n",
       "    </tr>\n",
       "    <tr>\n",
       "      <th>bliss</th>\n",
       "      <td>B L IH1 S</td>\n",
       "      <td>107</td>\n",
       "      <td>BLQS</td>\n",
       "      <td>BLS</td>\n",
       "    </tr>\n",
       "    <tr>\n",
       "      <th>blouse</th>\n",
       "      <td>B L AW1 S</td>\n",
       "      <td>33</td>\n",
       "      <td>BLQS</td>\n",
       "      <td>BLS</td>\n",
       "    </tr>\n",
       "    <tr>\n",
       "      <th>blows</th>\n",
       "      <td>B L OW1 Z</td>\n",
       "      <td>&lt;NA&gt;</td>\n",
       "      <td>BLQS</td>\n",
       "      <td>BLS</td>\n",
       "    </tr>\n",
       "    <tr>\n",
       "      <th>blues</th>\n",
       "      <td>B L UW1 Z</td>\n",
       "      <td>98</td>\n",
       "      <td>BLQS</td>\n",
       "      <td>BLS</td>\n",
       "    </tr>\n",
       "    <tr>\n",
       "      <th>blurs</th>\n",
       "      <td>B L ER1 Z</td>\n",
       "      <td>&lt;NA&gt;</td>\n",
       "      <td>BLQS</td>\n",
       "      <td>BLS</td>\n",
       "    </tr>\n",
       "    <tr>\n",
       "      <th>boilers</th>\n",
       "      <td>B OY1 L ER0 Z</td>\n",
       "      <td>&lt;NA&gt;</td>\n",
       "      <td>BQLQS</td>\n",
       "      <td>BLS</td>\n",
       "    </tr>\n",
       "    <tr>\n",
       "      <th>boils</th>\n",
       "      <td>B OY1 L Z</td>\n",
       "      <td>&lt;NA&gt;</td>\n",
       "      <td>BQLS</td>\n",
       "      <td>BLS</td>\n",
       "    </tr>\n",
       "    <tr>\n",
       "      <th>boles</th>\n",
       "      <td>B OW1 L Z</td>\n",
       "      <td>&lt;NA&gt;</td>\n",
       "      <td>BQLS</td>\n",
       "      <td>BLS</td>\n",
       "    </tr>\n",
       "    <tr>\n",
       "      <th>bolls</th>\n",
       "      <td>B OW1 L Z</td>\n",
       "      <td>&lt;NA&gt;</td>\n",
       "      <td>BQLS</td>\n",
       "      <td>BLS</td>\n",
       "    </tr>\n",
       "    <tr>\n",
       "      <th>bolus</th>\n",
       "      <td>B OW1 L AH0 S</td>\n",
       "      <td>16</td>\n",
       "      <td>BQLQS</td>\n",
       "      <td>BLS</td>\n",
       "    </tr>\n",
       "    <tr>\n",
       "      <th>bowlers</th>\n",
       "      <td>B OW1 L ER0 Z</td>\n",
       "      <td>&lt;NA&gt;</td>\n",
       "      <td>BQLQS</td>\n",
       "      <td>BLS</td>\n",
       "    </tr>\n",
       "    <tr>\n",
       "      <th>bowles</th>\n",
       "      <td>B OW1 L Z</td>\n",
       "      <td>&lt;NA&gt;</td>\n",
       "      <td>BQLS</td>\n",
       "      <td>BLS</td>\n",
       "    </tr>\n",
       "    <tr>\n",
       "      <th>bowls</th>\n",
       "      <td>B OW1 L Z</td>\n",
       "      <td>60</td>\n",
       "      <td>BQLS</td>\n",
       "      <td>BLS</td>\n",
       "    </tr>\n",
       "    <tr>\n",
       "      <th>bullies</th>\n",
       "      <td>B UH1 L IY0 Z</td>\n",
       "      <td>&lt;NA&gt;</td>\n",
       "      <td>BQLQS</td>\n",
       "      <td>BLS</td>\n",
       "    </tr>\n",
       "    <tr>\n",
       "      <th>bulls</th>\n",
       "      <td>B UH1 L Z</td>\n",
       "      <td>&lt;NA&gt;</td>\n",
       "      <td>BQLS</td>\n",
       "      <td>BLS</td>\n",
       "    </tr>\n",
       "    <tr>\n",
       "      <th>bylaws</th>\n",
       "      <td>B AY1 L AO2 Z</td>\n",
       "      <td>&lt;NA&gt;</td>\n",
       "      <td>BQLQS</td>\n",
       "      <td>BLS</td>\n",
       "    </tr>\n",
       "    <tr>\n",
       "      <th>fails</th>\n",
       "      <td>F EY1 L Z</td>\n",
       "      <td>&lt;NA&gt;</td>\n",
       "      <td>FQLS</td>\n",
       "      <td>FLS</td>\n",
       "    </tr>\n",
       "    <tr>\n",
       "      <th>fallows</th>\n",
       "      <td>F AE1 L OW2 Z</td>\n",
       "      <td>&lt;NA&gt;</td>\n",
       "      <td>FQLQS</td>\n",
       "      <td>FLS</td>\n",
       "    </tr>\n",
       "    <tr>\n",
       "      <th>falls</th>\n",
       "      <td>F AO1 L Z</td>\n",
       "      <td>754</td>\n",
       "      <td>FQLS</td>\n",
       "      <td>FLS</td>\n",
       "    </tr>\n",
       "    <tr>\n",
       "      <th>false</th>\n",
       "      <td>F AO1 L S</td>\n",
       "      <td>833</td>\n",
       "      <td>FQLS</td>\n",
       "      <td>FLS</td>\n",
       "    </tr>\n",
       "    <tr>\n",
       "      <th>feelers</th>\n",
       "      <td>F IY1 L ER0 Z</td>\n",
       "      <td>&lt;NA&gt;</td>\n",
       "      <td>FQLQS</td>\n",
       "      <td>FLS</td>\n",
       "    </tr>\n",
       "    <tr>\n",
       "      <th>feels</th>\n",
       "      <td>F IY1 L Z</td>\n",
       "      <td>&lt;NA&gt;</td>\n",
       "      <td>FQLS</td>\n",
       "      <td>FLS</td>\n",
       "    </tr>\n",
       "    <tr>\n",
       "      <th>felis</th>\n",
       "      <td>F EH1 L IH0 S</td>\n",
       "      <td>&lt;NA&gt;</td>\n",
       "      <td>FQLQS</td>\n",
       "      <td>FLS</td>\n",
       "    </tr>\n",
       "    <tr>\n",
       "      <th>fellas</th>\n",
       "      <td>F EH1 L AH0 S</td>\n",
       "      <td>&lt;NA&gt;</td>\n",
       "      <td>FQLQS</td>\n",
       "      <td>FLS</td>\n",
       "    </tr>\n",
       "    <tr>\n",
       "      <th>fellers</th>\n",
       "      <td>F EH1 L ER0 Z</td>\n",
       "      <td>&lt;NA&gt;</td>\n",
       "      <td>FQLQS</td>\n",
       "      <td>FLS</td>\n",
       "    </tr>\n",
       "    <tr>\n",
       "      <th>fellows</th>\n",
       "      <td>F EH1 L OW0 Z</td>\n",
       "      <td>&lt;NA&gt;</td>\n",
       "      <td>FQLQS</td>\n",
       "      <td>FLS</td>\n",
       "    </tr>\n",
       "    <tr>\n",
       "      <th>fells</th>\n",
       "      <td>F EH1 L Z</td>\n",
       "      <td>&lt;NA&gt;</td>\n",
       "      <td>FQLS</td>\n",
       "      <td>FLS</td>\n",
       "    </tr>\n",
       "    <tr>\n",
       "      <th>filers</th>\n",
       "      <td>F AY1 L ER0 Z</td>\n",
       "      <td>&lt;NA&gt;</td>\n",
       "      <td>FQLQS</td>\n",
       "      <td>FLS</td>\n",
       "    </tr>\n",
       "    <tr>\n",
       "      <th>files</th>\n",
       "      <td>F AY1 L Z</td>\n",
       "      <td>&lt;NA&gt;</td>\n",
       "      <td>FQLS</td>\n",
       "      <td>FLS</td>\n",
       "    </tr>\n",
       "    <tr>\n",
       "      <th>filets</th>\n",
       "      <td>F IH0 L EY1 Z</td>\n",
       "      <td>&lt;NA&gt;</td>\n",
       "      <td>FQLQS</td>\n",
       "      <td>FLS</td>\n",
       "    </tr>\n",
       "    <tr>\n",
       "      <th>fillers</th>\n",
       "      <td>F IH1 L ER0 Z</td>\n",
       "      <td>&lt;NA&gt;</td>\n",
       "      <td>FQLQS</td>\n",
       "      <td>FLS</td>\n",
       "    </tr>\n",
       "    <tr>\n",
       "      <th>fillies</th>\n",
       "      <td>F IH1 L IY0 Z</td>\n",
       "      <td>&lt;NA&gt;</td>\n",
       "      <td>FQLQS</td>\n",
       "      <td>FLS</td>\n",
       "    </tr>\n",
       "    <tr>\n",
       "      <th>fills</th>\n",
       "      <td>F IH1 L Z</td>\n",
       "      <td>&lt;NA&gt;</td>\n",
       "      <td>FQLS</td>\n",
       "      <td>FLS</td>\n",
       "    </tr>\n",
       "    <tr>\n",
       "      <th>flaws</th>\n",
       "      <td>F L AO1 Z</td>\n",
       "      <td>&lt;NA&gt;</td>\n",
       "      <td>FLQS</td>\n",
       "      <td>FLS</td>\n",
       "    </tr>\n",
       "    <tr>\n",
       "      <th>fleas</th>\n",
       "      <td>F L IY1 Z</td>\n",
       "      <td>&lt;NA&gt;</td>\n",
       "      <td>FLQS</td>\n",
       "      <td>FLS</td>\n",
       "    </tr>\n",
       "    <tr>\n",
       "      <th>fleece</th>\n",
       "      <td>F L IY1 S</td>\n",
       "      <td>29</td>\n",
       "      <td>FLQS</td>\n",
       "      <td>FLS</td>\n",
       "    </tr>\n",
       "    <tr>\n",
       "      <th>flees</th>\n",
       "      <td>F L IY1 Z</td>\n",
       "      <td>&lt;NA&gt;</td>\n",
       "      <td>FLQS</td>\n",
       "      <td>FLS</td>\n",
       "    </tr>\n",
       "    <tr>\n",
       "      <th>flies</th>\n",
       "      <td>F L AY1 Z</td>\n",
       "      <td>174</td>\n",
       "      <td>FLQS</td>\n",
       "      <td>FLS</td>\n",
       "    </tr>\n",
       "    <tr>\n",
       "      <th>floss</th>\n",
       "      <td>F L AA1 S</td>\n",
       "      <td>11</td>\n",
       "      <td>FLQS</td>\n",
       "      <td>FLS</td>\n",
       "    </tr>\n",
       "    <tr>\n",
       "      <th>flows</th>\n",
       "      <td>F L OW1 Z</td>\n",
       "      <td>&lt;NA&gt;</td>\n",
       "      <td>FLQS</td>\n",
       "      <td>FLS</td>\n",
       "    </tr>\n",
       "    <tr>\n",
       "      <th>foiles</th>\n",
       "      <td>F AA1 AY0 L Z</td>\n",
       "      <td>&lt;NA&gt;</td>\n",
       "      <td>FQQLS</td>\n",
       "      <td>FLS</td>\n",
       "    </tr>\n",
       "    <tr>\n",
       "      <th>foils</th>\n",
       "      <td>F OY1 L Z</td>\n",
       "      <td>&lt;NA&gt;</td>\n",
       "      <td>FQLS</td>\n",
       "      <td>FLS</td>\n",
       "    </tr>\n",
       "    <tr>\n",
       "      <th>follies</th>\n",
       "      <td>F AA1 L IY0 Z</td>\n",
       "      <td>27</td>\n",
       "      <td>FQLQS</td>\n",
       "      <td>FLS</td>\n",
       "    </tr>\n",
       "    <tr>\n",
       "      <th>follows</th>\n",
       "      <td>F AA1 L OW0 Z</td>\n",
       "      <td>&lt;NA&gt;</td>\n",
       "      <td>FQLQS</td>\n",
       "      <td>FLS</td>\n",
       "    </tr>\n",
       "    <tr>\n",
       "      <th>fools</th>\n",
       "      <td>F UW1 L Z</td>\n",
       "      <td>&lt;NA&gt;</td>\n",
       "      <td>FQLS</td>\n",
       "      <td>FLS</td>\n",
       "    </tr>\n",
       "    <tr>\n",
       "      <th>fouls</th>\n",
       "      <td>F AW1 L Z</td>\n",
       "      <td>&lt;NA&gt;</td>\n",
       "      <td>FQLS</td>\n",
       "      <td>FLS</td>\n",
       "    </tr>\n",
       "    <tr>\n",
       "      <th>furloughs</th>\n",
       "      <td>F ER1 L OW0 Z</td>\n",
       "      <td>&lt;NA&gt;</td>\n",
       "      <td>FQLQS</td>\n",
       "      <td>FLS</td>\n",
       "    </tr>\n",
       "  </tbody>\n",
       "</table>\n",
       "</div>"
      ],
      "text/plain": [
       "                   sound  freq encoding vowel_free\n",
       "word                                              \n",
       "bailes         B EY1 L Z  <NA>     BQLS        BLS\n",
       "baileys    B EY1 L IY0 Z  <NA>    BQLQS        BLS\n",
       "bails          B EY1 L Z  <NA>     BQLS        BLS\n",
       "balas      B AE1 L AH0 S  <NA>    BQLQS        BLS\n",
       "bales          B EY1 L Z  <NA>     BQLS        BLS\n",
       "balles         B EY1 L Z  <NA>     BQLS        BLS\n",
       "ballets    B AE0 L EY1 Z  <NA>    BQLQS        BLS\n",
       "balls          B AO1 L Z  <NA>     BQLS        BLS\n",
       "bawls          B AO1 L Z  <NA>     BQLS        BLS\n",
       "belies     B IH0 L AY1 Z  <NA>    BQLQS        BLS\n",
       "belles         B EH1 L Z  <NA>     BQLS        BLS\n",
       "bellies    B EH1 L IY0 Z  <NA>    BQLQS        BLS\n",
       "bellis     B EH1 L IH0 S  <NA>    BQLQS        BLS\n",
       "bellows    B EH1 L OW0 Z    40    BQLQS        BLS\n",
       "bells          B EH1 L Z  <NA>     BQLS        BLS\n",
       "biles          B AY1 L Z  <NA>     BQLS        BLS\n",
       "billes         B IH1 L Z  <NA>     BQLS        BLS\n",
       "billows    B IH1 L OW0 Z  <NA>    BQLQS        BLS\n",
       "bills          B IH1 L Z  <NA>     BQLS        BLS\n",
       "bless          B L EH1 S   133     BLQS        BLS\n",
       "bliss          B L IH1 S   107     BLQS        BLS\n",
       "blouse         B L AW1 S    33     BLQS        BLS\n",
       "blows          B L OW1 Z  <NA>     BLQS        BLS\n",
       "blues          B L UW1 Z    98     BLQS        BLS\n",
       "blurs          B L ER1 Z  <NA>     BLQS        BLS\n",
       "boilers    B OY1 L ER0 Z  <NA>    BQLQS        BLS\n",
       "boils          B OY1 L Z  <NA>     BQLS        BLS\n",
       "boles          B OW1 L Z  <NA>     BQLS        BLS\n",
       "bolls          B OW1 L Z  <NA>     BQLS        BLS\n",
       "bolus      B OW1 L AH0 S    16    BQLQS        BLS\n",
       "bowlers    B OW1 L ER0 Z  <NA>    BQLQS        BLS\n",
       "bowles         B OW1 L Z  <NA>     BQLS        BLS\n",
       "bowls          B OW1 L Z    60     BQLS        BLS\n",
       "bullies    B UH1 L IY0 Z  <NA>    BQLQS        BLS\n",
       "bulls          B UH1 L Z  <NA>     BQLS        BLS\n",
       "bylaws     B AY1 L AO2 Z  <NA>    BQLQS        BLS\n",
       "fails          F EY1 L Z  <NA>     FQLS        FLS\n",
       "fallows    F AE1 L OW2 Z  <NA>    FQLQS        FLS\n",
       "falls          F AO1 L Z   754     FQLS        FLS\n",
       "false          F AO1 L S   833     FQLS        FLS\n",
       "feelers    F IY1 L ER0 Z  <NA>    FQLQS        FLS\n",
       "feels          F IY1 L Z  <NA>     FQLS        FLS\n",
       "felis      F EH1 L IH0 S  <NA>    FQLQS        FLS\n",
       "fellas     F EH1 L AH0 S  <NA>    FQLQS        FLS\n",
       "fellers    F EH1 L ER0 Z  <NA>    FQLQS        FLS\n",
       "fellows    F EH1 L OW0 Z  <NA>    FQLQS        FLS\n",
       "fells          F EH1 L Z  <NA>     FQLS        FLS\n",
       "filers     F AY1 L ER0 Z  <NA>    FQLQS        FLS\n",
       "files          F AY1 L Z  <NA>     FQLS        FLS\n",
       "filets     F IH0 L EY1 Z  <NA>    FQLQS        FLS\n",
       "fillers    F IH1 L ER0 Z  <NA>    FQLQS        FLS\n",
       "fillies    F IH1 L IY0 Z  <NA>    FQLQS        FLS\n",
       "fills          F IH1 L Z  <NA>     FQLS        FLS\n",
       "flaws          F L AO1 Z  <NA>     FLQS        FLS\n",
       "fleas          F L IY1 Z  <NA>     FLQS        FLS\n",
       "fleece         F L IY1 S    29     FLQS        FLS\n",
       "flees          F L IY1 Z  <NA>     FLQS        FLS\n",
       "flies          F L AY1 Z   174     FLQS        FLS\n",
       "floss          F L AA1 S    11     FLQS        FLS\n",
       "flows          F L OW1 Z  <NA>     FLQS        FLS\n",
       "foiles     F AA1 AY0 L Z  <NA>    FQQLS        FLS\n",
       "foils          F OY1 L Z  <NA>     FQLS        FLS\n",
       "follies    F AA1 L IY0 Z    27    FQLQS        FLS\n",
       "follows    F AA1 L OW0 Z  <NA>    FQLQS        FLS\n",
       "fools          F UW1 L Z  <NA>     FQLS        FLS\n",
       "fouls          F AW1 L Z  <NA>     FQLS        FLS\n",
       "furloughs  F ER1 L OW0 Z  <NA>    FQLQS        FLS"
      ]
     },
     "metadata": {},
     "output_type": "display_data"
    }
   ],
   "source": [
    "with pd.option_context('display.max_rows', None, 'display.max_columns', None):\n",
    "\tdisplay(multiplicity[multiplicity > 10])\n",
    "\tdisplay(df[df.vowel_free.isin(['BLS','FLS'])])"
   ]
  },
  {
   "cell_type": "markdown",
   "metadata": {},
   "source": [
    "notice that most of the extreme encodings have the `S` termination, which is due to enormous derivations in plurals/single third person form (we call them S-form). So it's better to spare another grammatical termination for them.\n",
    "\n",
    "To do so, we must first recognize the S-form, there are two necessary criterion (yet not proved to be sufficient, perhaps some risks of mis-recognize?)\n",
    "\n",
    "1. phonetic criterion: end with s|z\n",
    "2. morphological criterion: word differs its lemma by s(es,ies et etc)\n",
    "\n",
    "notice that we don't account for irregular words.\n"
   ]
  },
  {
   "cell_type": "code",
   "execution_count": 314,
   "metadata": {},
   "outputs": [
    {
     "data": {
      "text/plain": [
       "Index(['aardvarks', 'aarhus', 'abacus', 'abalones', 'abandonments', 'abandons',\n",
       "       'abatements', 'abates', 'abbreviates', 'abbreviations',\n",
       "       ...\n",
       "       'zirconiums', 'zircons', 'zithers', 'zlotys', 'zombies', 'zones',\n",
       "       'zoologists', 'zooms', 'zoos', 'zucchinis'],\n",
       "      dtype='object', name='word', length=13272)"
      ]
     },
     "execution_count": 314,
     "metadata": {},
     "output_type": "execute_result"
    }
   ],
   "source": [
    "words_sound_end_with_s = df.loc[df.index.str.contains('s$',regex=True) & df.sound.str.contains('[SZ]$',regex=True)].index\n",
    "words_sound_end_with_s"
   ]
  },
  {
   "cell_type": "code",
   "execution_count": 315,
   "metadata": {},
   "outputs": [],
   "source": [
    "def get_suffix(word, lemma):\n",
    "    cnt = sum(w==l for w, l in zip(word, lemma))\n",
    "    return word[cnt:]"
   ]
  },
  {
   "cell_type": "code",
   "execution_count": 316,
   "metadata": {},
   "outputs": [],
   "source": [
    "def is_s_form(word, non_s_forms: list):\n",
    "\tfor lemmas_per_pos in m(word).values():\n",
    "\t\tfor lemma in lemmas_per_pos:\n",
    "\t\t\tsuffix = get_suffix(word, lemma)\n",
    "\t\t\tif suffix in ['s','es','ies']:\n",
    "\t\t\t\treturn True\n",
    "\tnon_s_forms.append(word)"
   ]
  },
  {
   "cell_type": "code",
   "execution_count": 320,
   "metadata": {},
   "outputs": [
    {
     "name": "stderr",
     "output_type": "stream",
     "text": [
      "100%|██████████| 13272/13272 [00:00<00:00, 44535.65it/s]\n"
     ]
    }
   ],
   "source": [
    "non_s_forms = []\n",
    "for word in tqdm(words_sound_end_with_s):\n",
    "\tis_s_form(word, non_s_forms)"
   ]
  },
  {
   "cell_type": "code",
   "execution_count": 321,
   "metadata": {},
   "outputs": [
    {
     "data": {
      "text/plain": [
       "1838"
      ]
     },
     "execution_count": 321,
     "metadata": {},
     "output_type": "execute_result"
    }
   ],
   "source": [
    "len(non_s_forms)"
   ]
  },
  {
   "cell_type": "markdown",
   "metadata": {},
   "source": [
    "simple verification"
   ]
  },
  {
   "cell_type": "code",
   "execution_count": 322,
   "metadata": {},
   "outputs": [
    {
     "data": {
      "text/plain": [
       "(False, True)"
      ]
     },
     "execution_count": 322,
     "metadata": {},
     "output_type": "execute_result"
    }
   ],
   "source": [
    "'produces' in non_s_forms, 'bliss' in non_s_forms"
   ]
  },
  {
   "cell_type": "code",
   "execution_count": 323,
   "metadata": {},
   "outputs": [],
   "source": [
    "s_form_candidates = words_sound_end_with_s.to_list()\n",
    "for word in non_s_forms:\n",
    "\ts_form_candidates.remove(word)\n",
    "\n",
    "s_forms = pd.Index(s_form_candidates)"
   ]
  },
  {
   "cell_type": "code",
   "execution_count": 324,
   "metadata": {},
   "outputs": [
    {
     "data": {
      "text/plain": [
       "Index(['aardvarks', 'abalones', 'abandonments', 'abandons', 'abatements',\n",
       "       'abates', 'abbreviates', 'abbreviations', 'abdicates', 'abductions',\n",
       "       ...\n",
       "       'zirconiums', 'zircons', 'zithers', 'zlotys', 'zombies', 'zones',\n",
       "       'zoologists', 'zooms', 'zoos', 'zucchinis'],\n",
       "      dtype='object', length=11434)"
      ]
     },
     "execution_count": 324,
     "metadata": {},
     "output_type": "execute_result"
    }
   ],
   "source": [
    "s_forms"
   ]
  },
  {
   "cell_type": "markdown",
   "metadata": {},
   "source": [
    "reencoding s-forms by `A`-termination"
   ]
  },
  {
   "cell_type": "code",
   "execution_count": 326,
   "metadata": {},
   "outputs": [],
   "source": [
    "df.loc[s_forms, 'encoding'] = df.loc[s_forms, 'encoding'].str.replace('S$', 'A', regex=True)"
   ]
  },
  {
   "cell_type": "code",
   "execution_count": 327,
   "metadata": {},
   "outputs": [
    {
     "data": {
      "text/plain": [
       "aardvarks           QRDVQRKA\n",
       "abalones            QBQLQNQA\n",
       "abandonments    QBQNDQNMQNTA\n",
       "abandons            QBQNDQNA\n",
       "abatements         QBQTMQNTA\n",
       "                    ...     \n",
       "zones                   ZQNA\n",
       "zoologists        ZQQLQJQSTA\n",
       "zooms                   ZQMA\n",
       "zoos                     ZQA\n",
       "zucchinis            ZQKQNQA\n",
       "Name: encoding, Length: 11434, dtype: object"
      ]
     },
     "execution_count": 327,
     "metadata": {},
     "output_type": "execute_result"
    }
   ],
   "source": [
    "df.loc[s_forms, 'encoding']"
   ]
  },
  {
   "cell_type": "code",
   "execution_count": 328,
   "metadata": {},
   "outputs": [],
   "source": [
    "df['vowel_free'] = remove_vowels(df.encoding)"
   ]
  },
  {
   "cell_type": "code",
   "execution_count": 329,
   "metadata": {},
   "outputs": [
    {
     "data": {
      "text/plain": [
       "word\n",
       "a                A\n",
       "aachen         QKN\n",
       "aalborg      QLBRG\n",
       "aalto         QLTQ\n",
       "aardvark    QRDVRK\n",
       "             ...  \n",
       "zuni           ZNQ\n",
       "zurich         ZRK\n",
       "zweig          ZWG\n",
       "zydeco        ZDKQ\n",
       "zygote         ZGT\n",
       "Name: vowel_free, Length: 51950, dtype: object"
      ]
     },
     "execution_count": 329,
     "metadata": {},
     "output_type": "execute_result"
    }
   ],
   "source": [
    "df['vowel_free']"
   ]
  },
  {
   "cell_type": "markdown",
   "metadata": {},
   "source": [
    "## Manually correct exceptions"
   ]
  },
  {
   "cell_type": "markdown",
   "metadata": {},
   "source": [
    "Type letters, 2-grams, 3-grams by themselve  "
   ]
  },
  {
   "cell_type": "code",
   "execution_count": 338,
   "metadata": {},
   "outputs": [],
   "source": [
    "rare_2_grams =  df.loc[(df.index.str.len() == 2) & (~df.freq.notna()), ['encoding','freq']].drop('hi')"
   ]
  },
  {
   "cell_type": "code",
   "execution_count": 339,
   "metadata": {},
   "outputs": [
    {
     "data": {
      "text/html": [
       "<div>\n",
       "<style scoped>\n",
       "    .dataframe tbody tr th:only-of-type {\n",
       "        vertical-align: middle;\n",
       "    }\n",
       "\n",
       "    .dataframe tbody tr th {\n",
       "        vertical-align: top;\n",
       "    }\n",
       "\n",
       "    .dataframe thead th {\n",
       "        text-align: right;\n",
       "    }\n",
       "</style>\n",
       "<table border=\"1\" class=\"dataframe\">\n",
       "  <thead>\n",
       "    <tr style=\"text-align: right;\">\n",
       "      <th></th>\n",
       "      <th>encoding</th>\n",
       "      <th>freq</th>\n",
       "    </tr>\n",
       "    <tr>\n",
       "      <th>word</th>\n",
       "      <th></th>\n",
       "      <th></th>\n",
       "    </tr>\n",
       "  </thead>\n",
       "  <tbody>\n",
       "  </tbody>\n",
       "</table>\n",
       "</div>"
      ],
      "text/plain": [
       "Empty DataFrame\n",
       "Columns: [encoding, freq]\n",
       "Index: []"
      ]
     },
     "execution_count": 339,
     "metadata": {},
     "output_type": "execute_result"
    }
   ],
   "source": [
    "rare_2_grams"
   ]
  },
  {
   "cell_type": "code",
   "execution_count": null,
   "metadata": {},
   "outputs": [],
   "source": [
    "df.drop(rare_2_grams.index, inplace=True)"
   ]
  },
  {
   "cell_type": "code",
   "execution_count": 340,
   "metadata": {},
   "outputs": [],
   "source": [
    "df.loc[(df.index.str.len() <= 3), 'encoding'] = df.index[(df.index.str.len() <= 3)].str.upper()\n",
    "df.loc[(df.index.str.len() <= 3), 'vowel_free'] = df.index[(df.index.str.len() <= 3)].str.upper()"
   ]
  },
  {
   "cell_type": "markdown",
   "metadata": {},
   "source": [
    "reexaminate stats"
   ]
  },
  {
   "cell_type": "code",
   "execution_count": 341,
   "metadata": {},
   "outputs": [
    {
     "name": "stdout",
     "output_type": "stream",
     "text": [
      "coincident_rate: 18.0%\n",
      "There are 269 encodings have more than 10 multiplicities, encoding 3634(7.0%) words.\n",
      "extreme:\n"
     ]
    },
    {
     "data": {
      "text/html": [
       "<div>\n",
       "<style scoped>\n",
       "    .dataframe tbody tr th:only-of-type {\n",
       "        vertical-align: middle;\n",
       "    }\n",
       "\n",
       "    .dataframe tbody tr th {\n",
       "        vertical-align: top;\n",
       "    }\n",
       "\n",
       "    .dataframe thead th {\n",
       "        text-align: right;\n",
       "    }\n",
       "</style>\n",
       "<table border=\"1\" class=\"dataframe\">\n",
       "  <thead>\n",
       "    <tr style=\"text-align: right;\">\n",
       "      <th></th>\n",
       "      <th>freq</th>\n",
       "    </tr>\n",
       "    <tr>\n",
       "      <th>multiplicity</th>\n",
       "      <th></th>\n",
       "    </tr>\n",
       "  </thead>\n",
       "  <tbody>\n",
       "    <tr>\n",
       "      <th>11</th>\n",
       "      <td>53</td>\n",
       "    </tr>\n",
       "    <tr>\n",
       "      <th>10</th>\n",
       "      <td>52</td>\n",
       "    </tr>\n",
       "    <tr>\n",
       "      <th>12</th>\n",
       "      <td>40</td>\n",
       "    </tr>\n",
       "    <tr>\n",
       "      <th>14</th>\n",
       "      <td>30</td>\n",
       "    </tr>\n",
       "    <tr>\n",
       "      <th>13</th>\n",
       "      <td>29</td>\n",
       "    </tr>\n",
       "    <tr>\n",
       "      <th>15</th>\n",
       "      <td>18</td>\n",
       "    </tr>\n",
       "    <tr>\n",
       "      <th>16</th>\n",
       "      <td>10</td>\n",
       "    </tr>\n",
       "    <tr>\n",
       "      <th>17</th>\n",
       "      <td>6</td>\n",
       "    </tr>\n",
       "    <tr>\n",
       "      <th>18</th>\n",
       "      <td>5</td>\n",
       "    </tr>\n",
       "    <tr>\n",
       "      <th>19</th>\n",
       "      <td>5</td>\n",
       "    </tr>\n",
       "    <tr>\n",
       "      <th>20</th>\n",
       "      <td>4</td>\n",
       "    </tr>\n",
       "    <tr>\n",
       "      <th>21</th>\n",
       "      <td>3</td>\n",
       "    </tr>\n",
       "    <tr>\n",
       "      <th>22</th>\n",
       "      <td>2</td>\n",
       "    </tr>\n",
       "    <tr>\n",
       "      <th>25</th>\n",
       "      <td>2</td>\n",
       "    </tr>\n",
       "    <tr>\n",
       "      <th>34</th>\n",
       "      <td>1</td>\n",
       "    </tr>\n",
       "    <tr>\n",
       "      <th>24</th>\n",
       "      <td>1</td>\n",
       "    </tr>\n",
       "    <tr>\n",
       "      <th>26</th>\n",
       "      <td>1</td>\n",
       "    </tr>\n",
       "    <tr>\n",
       "      <th>27</th>\n",
       "      <td>1</td>\n",
       "    </tr>\n",
       "    <tr>\n",
       "      <th>28</th>\n",
       "      <td>1</td>\n",
       "    </tr>\n",
       "    <tr>\n",
       "      <th>30</th>\n",
       "      <td>1</td>\n",
       "    </tr>\n",
       "    <tr>\n",
       "      <th>31</th>\n",
       "      <td>1</td>\n",
       "    </tr>\n",
       "    <tr>\n",
       "      <th>32</th>\n",
       "      <td>1</td>\n",
       "    </tr>\n",
       "    <tr>\n",
       "      <th>33</th>\n",
       "      <td>1</td>\n",
       "    </tr>\n",
       "    <tr>\n",
       "      <th>35</th>\n",
       "      <td>1</td>\n",
       "    </tr>\n",
       "  </tbody>\n",
       "</table>\n",
       "</div>"
      ],
      "text/plain": [
       "              freq\n",
       "multiplicity      \n",
       "11              53\n",
       "10              52\n",
       "12              40\n",
       "14              30\n",
       "13              29\n",
       "15              18\n",
       "16              10\n",
       "17               6\n",
       "18               5\n",
       "19               5\n",
       "20               4\n",
       "21               3\n",
       "22               2\n",
       "25               2\n",
       "34               1\n",
       "24               1\n",
       "26               1\n",
       "27               1\n",
       "28               1\n",
       "30               1\n",
       "31               1\n",
       "32               1\n",
       "33               1\n",
       "35               1"
      ]
     },
     "metadata": {},
     "output_type": "display_data"
    },
    {
     "name": "stdout",
     "output_type": "stream",
     "text": [
      "quantile:\n"
     ]
    },
    {
     "data": {
      "text/html": [
       "<div>\n",
       "<style scoped>\n",
       "    .dataframe tbody tr th:only-of-type {\n",
       "        vertical-align: middle;\n",
       "    }\n",
       "\n",
       "    .dataframe tbody tr th {\n",
       "        vertical-align: top;\n",
       "    }\n",
       "\n",
       "    .dataframe thead th {\n",
       "        text-align: right;\n",
       "    }\n",
       "</style>\n",
       "<table border=\"1\" class=\"dataframe\">\n",
       "  <thead>\n",
       "    <tr style=\"text-align: right;\">\n",
       "      <th></th>\n",
       "      <th>multiplicity</th>\n",
       "    </tr>\n",
       "    <tr>\n",
       "      <th>quantile</th>\n",
       "      <th></th>\n",
       "    </tr>\n",
       "  </thead>\n",
       "  <tbody>\n",
       "    <tr>\n",
       "      <th>0.80</th>\n",
       "      <td>1.0</td>\n",
       "    </tr>\n",
       "    <tr>\n",
       "      <th>0.90</th>\n",
       "      <td>2.0</td>\n",
       "    </tr>\n",
       "    <tr>\n",
       "      <th>0.95</th>\n",
       "      <td>3.0</td>\n",
       "    </tr>\n",
       "    <tr>\n",
       "      <th>0.99</th>\n",
       "      <td>8.0</td>\n",
       "    </tr>\n",
       "  </tbody>\n",
       "</table>\n",
       "</div>"
      ],
      "text/plain": [
       "          multiplicity\n",
       "quantile              \n",
       "0.80               1.0\n",
       "0.90               2.0\n",
       "0.95               3.0\n",
       "0.99               8.0"
      ]
     },
     "metadata": {},
     "output_type": "display_data"
    },
    {
     "data": {
      "image/png": "[encoded data removed]",
      "text/plain": [
       "<Figure size 800x550 with 1 Axes>"
      ]
     },
     "metadata": {},
     "output_type": "display_data"
    }
   ],
   "source": [
    "multiplicity, _, extreme_encoding = coincident_stats(df.vowel_free)"
   ]
  },
  {
   "cell_type": "code",
   "execution_count": 336,
   "metadata": {},
   "outputs": [
    {
     "data": {
      "text/plain": [
       "encoding_length\n",
       "0       FLQ\n",
       "1       FLA\n",
       "2       BRQ\n",
       "3       BLA\n",
       "4       KLQ\n",
       "       ... \n",
       "212    PRTQ\n",
       "213     SKL\n",
       "214     PLI\n",
       "215     STI\n",
       "216     KRT\n",
       "Name: freq, Length: 217, dtype: object"
      ]
     },
     "execution_count": 336,
     "metadata": {},
     "output_type": "execute_result"
    }
   ],
   "source": [
    "extreme_encoding"
   ]
  },
  {
   "cell_type": "code",
   "execution_count": 337,
   "metadata": {},
   "outputs": [
    {
     "data": {
      "text/plain": [
       "encoding\n",
       "FLQ     35\n",
       "FLA     34\n",
       "BRQ     33\n",
       "BLA     32\n",
       "KLQ     31\n",
       "        ..\n",
       "PRTQ    11\n",
       "SKL     11\n",
       "PLI     11\n",
       "STI     11\n",
       "KRT     11\n",
       "Name: multiplicity, Length: 217, dtype: int64"
      ]
     },
     "execution_count": 337,
     "metadata": {},
     "output_type": "execute_result"
    }
   ],
   "source": [
    "multiplicity[multiplicity > 10]"
   ]
  },
  {
   "cell_type": "code",
   "execution_count": 342,
   "metadata": {},
   "outputs": [],
   "source": [
    "df.to_csv('./dict_en.csv')"
   ]
  },
  {
   "cell_type": "markdown",
   "metadata": {},
   "source": [
    "### Experiments"
   ]
  },
  {
   "cell_type": "markdown",
   "metadata": {},
   "source": [
    "continue reducing the encoding length and the multiplicity (although sometimes we need to trade off between these two objectives)"
   ]
  },
  {
   "cell_type": "code",
   "execution_count": 343,
   "metadata": {},
   "outputs": [],
   "source": [
    "df = pd.read_csv('./dict_en.csv', index_col=0, dtype={'sound':str,'freq':pd.Int64Dtype(),'encoding':str,'vowel_free':str}, na_filter=False)"
   ]
  },
  {
   "cell_type": "code",
   "execution_count": 345,
   "metadata": {},
   "outputs": [
    {
     "data": {
      "text/plain": [
       "encoding      BLQKBQRD\n",
       "vowel_free      BLKBRD\n",
       "Name: blackboard, dtype: object"
      ]
     },
     "execution_count": 345,
     "metadata": {},
     "output_type": "execute_result"
    }
   ],
   "source": [
    "df.loc['blackboard',['encoding','vowel_free']]"
   ]
  },
  {
   "cell_type": "code",
   "execution_count": 351,
   "metadata": {},
   "outputs": [
    {
     "data": {
      "text/html": [
       "<div>\n",
       "<style scoped>\n",
       "    .dataframe tbody tr th:only-of-type {\n",
       "        vertical-align: middle;\n",
       "    }\n",
       "\n",
       "    .dataframe tbody tr th {\n",
       "        vertical-align: top;\n",
       "    }\n",
       "\n",
       "    .dataframe thead th {\n",
       "        text-align: right;\n",
       "    }\n",
       "</style>\n",
       "<table border=\"1\" class=\"dataframe\">\n",
       "  <thead>\n",
       "    <tr style=\"text-align: right;\">\n",
       "      <th></th>\n",
       "      <th>sound</th>\n",
       "      <th>freq</th>\n",
       "      <th>encoding</th>\n",
       "      <th>vowel_free</th>\n",
       "    </tr>\n",
       "    <tr>\n",
       "      <th>word</th>\n",
       "      <th></th>\n",
       "      <th></th>\n",
       "      <th></th>\n",
       "      <th></th>\n",
       "    </tr>\n",
       "  </thead>\n",
       "  <tbody>\n",
       "    <tr>\n",
       "      <th>actual</th>\n",
       "      <td>AE K CH AH W AH L</td>\n",
       "      <td>1788</td>\n",
       "      <td>QKCQWQL</td>\n",
       "      <td>QKCWL</td>\n",
       "    </tr>\n",
       "    <tr>\n",
       "      <th>afterward</th>\n",
       "      <td>AE F T ER W ER D</td>\n",
       "      <td>187</td>\n",
       "      <td>QFTQWQD</td>\n",
       "      <td>QFTWD</td>\n",
       "    </tr>\n",
       "    <tr>\n",
       "      <th>afterwards</th>\n",
       "      <td>AE F T ER W ER D Z</td>\n",
       "      <td>714</td>\n",
       "      <td>QFTQWQDS</td>\n",
       "      <td>QFTWDS</td>\n",
       "    </tr>\n",
       "    <tr>\n",
       "      <th>alleyway</th>\n",
       "      <td>AE L IY W EY</td>\n",
       "      <td>6</td>\n",
       "      <td>QLQWQ</td>\n",
       "      <td>QLWQ</td>\n",
       "    </tr>\n",
       "    <tr>\n",
       "      <th>alleyways</th>\n",
       "      <td>AE L IY W EY Z</td>\n",
       "      <td>&lt;NA&gt;</td>\n",
       "      <td>QLQWQA</td>\n",
       "      <td>QLWA</td>\n",
       "    </tr>\n",
       "    <tr>\n",
       "      <th>...</th>\n",
       "      <td>...</td>\n",
       "      <td>...</td>\n",
       "      <td>...</td>\n",
       "      <td>...</td>\n",
       "    </tr>\n",
       "    <tr>\n",
       "      <th>welterweight</th>\n",
       "      <td>W EH L T ER W EY T</td>\n",
       "      <td>0</td>\n",
       "      <td>WQLTQWQT</td>\n",
       "      <td>WLTWT</td>\n",
       "    </tr>\n",
       "    <tr>\n",
       "      <th>whippoorwills</th>\n",
       "      <td>W IH P ER W IH L Z</td>\n",
       "      <td>&lt;NA&gt;</td>\n",
       "      <td>WQPQWQLA</td>\n",
       "      <td>WPWLA</td>\n",
       "    </tr>\n",
       "    <tr>\n",
       "      <th>willowy</th>\n",
       "      <td>W IH L AH W IY</td>\n",
       "      <td>2</td>\n",
       "      <td>WQLQWQ</td>\n",
       "      <td>WLWQ</td>\n",
       "    </tr>\n",
       "    <tr>\n",
       "      <th>yahweh</th>\n",
       "      <td>Y AA W EH</td>\n",
       "      <td>&lt;NA&gt;</td>\n",
       "      <td>YQWQ</td>\n",
       "      <td>YWQ</td>\n",
       "    </tr>\n",
       "    <tr>\n",
       "      <th>yesteryear</th>\n",
       "      <td>Y EH S T ER Y IH R</td>\n",
       "      <td>4</td>\n",
       "      <td>YQSTQYQR</td>\n",
       "      <td>YSTYR</td>\n",
       "    </tr>\n",
       "  </tbody>\n",
       "</table>\n",
       "<p>324 rows × 4 columns</p>\n",
       "</div>"
      ],
      "text/plain": [
       "                            sound  freq  encoding vowel_free\n",
       "word                                                        \n",
       "actual          AE K CH AH W AH L  1788   QKCQWQL      QKCWL\n",
       "afterward        AE F T ER W ER D   187   QFTQWQD      QFTWD\n",
       "afterwards     AE F T ER W ER D Z   714  QFTQWQDS     QFTWDS\n",
       "alleyway             AE L IY W EY     6     QLQWQ       QLWQ\n",
       "alleyways          AE L IY W EY Z  <NA>    QLQWQA       QLWA\n",
       "...                           ...   ...       ...        ...\n",
       "welterweight   W EH L T ER W EY T     0  WQLTQWQT      WLTWT\n",
       "whippoorwills  W IH P ER W IH L Z  <NA>  WQPQWQLA      WPWLA\n",
       "willowy            W IH L AH W IY     2    WQLQWQ       WLWQ\n",
       "yahweh                  Y AA W EH  <NA>      YQWQ        YWQ\n",
       "yesteryear     Y EH S T ER Y IH R     4  YQSTQYQR      YSTYR\n",
       "\n",
       "[324 rows x 4 columns]"
      ]
     },
     "execution_count": 351,
     "metadata": {},
     "output_type": "execute_result"
    }
   ],
   "source": [
    "df.loc[df['encoding'].str.contains('Q[Y|W][Q]', regex=True)]"
   ]
  },
  {
   "cell_type": "markdown",
   "metadata": {},
   "source": [
    "Further reductions:\n",
    "\n",
    "This will be accounted for lazy/fuzzy pronounciation and be implemented by the users and not directly in the encoding.\n",
    "\n",
    "For example we can reduce approximants whose property can be considered as an interpolation between a vowel and a consonant. Sometimes it's not easy to tell them from a continuous speech flow and usually omitted by lazy speakers.\n",
    "\n",
    "There are several phonological circumstances for approximants in English:\n",
    "`A` for approximant, `C` for consonant, `V` for vowel\n",
    "\n",
    "1. At the beginning `A-V` (`A-C` is not possible)\n",
    "2. At the end `-A`\n",
    "3. `V-A-C`\n",
    "4. `V-A-V`\n",
    "5. `C-A-V`\n",
    "\n",
    "- for semi-vowels `Y,W`, we identify the following circumstances as reducable: 2, 3, 4, 5\n",
    "- for approximant `R,L`, we identify the following circumstances as reducable: 2, 3\n",
    "\n",
    "and even more radical reduction: e.g. nasal elision\n",
    "- for nasal `M,N,NG`: 2, 3(condition to certain trailing consonant)\n"
   ]
  }
 ],
 "metadata": {
  "kernelspec": {
   "display_name": "Python 3.9.13 ('base')",
   "language": "python",
   "name": "python3"
  },
  "language_info": {
   "codemirror_mode": {
    "name": "ipython",
    "version": 3
   },
   "file_extension": ".py",
   "mimetype": "text/x-python",
   "name": "python",
   "nbconvert_exporter": "python",
   "pygments_lexer": "ipython3",
   "version": "3.9.13"
  },
  "orig_nbformat": 4,
  "vscode": {
   "interpreter": {
    "hash": "88279d2366fe020547cde40dd65aa0e3aa662a6ec1f3ca12d88834876c85e1a6"
   }
  }
 },
 "nbformat": 4,
 "nbformat_minor": 2
}
