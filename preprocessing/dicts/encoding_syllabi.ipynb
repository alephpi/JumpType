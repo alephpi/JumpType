{
 "cells": [
  {
   "cell_type": "markdown",
   "metadata": {},
   "source": [
    "# Encoding by pronouciation"
   ]
  },
  {
   "cell_type": "markdown",
   "metadata": {},
   "source": [
    "## preparation"
   ]
  },
  {
   "cell_type": "code",
   "execution_count": 1,
   "metadata": {},
   "outputs": [],
   "source": [
    "import numpy as np\n",
    "import pandas as pd\n",
    "import matplotlib.pyplot as plt\n",
    "import seaborn as sn\n",
    "import re"
   ]
  },
  {
   "cell_type": "code",
   "execution_count": 2,
   "metadata": {},
   "outputs": [],
   "source": [
    "import wn\n",
    "from wn import morphy \n",
    "ewn = wn.Wordnet('ewn:2020')\n",
    "m = morphy.Morphy(ewn)"
   ]
  },
  {
   "cell_type": "code",
   "execution_count": 48,
   "metadata": {},
   "outputs": [],
   "source": [
    "from tqdm import tqdm"
   ]
  },
  {
   "cell_type": "code",
   "execution_count": 381,
   "metadata": {},
   "outputs": [],
   "source": [
    "pronouncing_dict_path = './cmudict.dict.txt'"
   ]
  },
  {
   "cell_type": "code",
   "execution_count": 382,
   "metadata": {},
   "outputs": [],
   "source": [
    "dico = {}\n",
    "with open(pronouncing_dict_path, 'r', encoding='utf-8') as file:\n",
    "\tfor line in file.readlines():\n",
    "\t\tline = re.sub('\\d', '', line) # remove tone number\n",
    "\t\tl = line.strip().split(' ')\n",
    "\t\tword = l[0]\n",
    "\t\tpronounciation = ' '.join(l[1:])\n",
    "\t\t# filter some non standard words\n",
    "\t\tif word.islower() and word.isalpha():\n",
    "\t\t\tdico[word] = pronounciation"
   ]
  },
  {
   "cell_type": "code",
   "execution_count": 383,
   "metadata": {},
   "outputs": [
    {
     "data": {
      "text/plain": [
       "117490"
      ]
     },
     "execution_count": 383,
     "metadata": {},
     "output_type": "execute_result"
    }
   ],
   "source": [
    "len(dico)"
   ]
  },
  {
   "cell_type": "markdown",
   "metadata": {},
   "source": [
    "first check if the word exists in wordnet"
   ]
  },
  {
   "cell_type": "code",
   "execution_count": 384,
   "metadata": {},
   "outputs": [],
   "source": [
    "def validate(word):\n",
    "\t# check if exists\n",
    "\tres = wn.synsets(word)\n",
    "\tif res != []:\n",
    "\t\treturn True\n",
    "\t# otherwise check if as a derivation, the lemma exists\n",
    "\tfor lemmas_per_pos in m(word).values():\n",
    "\t\tfor lemma in lemmas_per_pos:\n",
    "\t\t\tres = wn.synsets(lemma)\n",
    "\t\t\t# if there exists one, return\n",
    "\t\t\tif res != []:\n",
    "\t\t\t\treturn True\n",
    "\treturn False"
   ]
  },
  {
   "cell_type": "code",
   "execution_count": null,
   "metadata": {},
   "outputs": [],
   "source": [
    "non_words = []\n",
    "for word in tqdm(dico.keys()):\n",
    "\tif not validate(word):\n",
    "\t\tnon_words.append(word)"
   ]
  },
  {
   "cell_type": "code",
   "execution_count": 386,
   "metadata": {},
   "outputs": [
    {
     "data": {
      "text/plain": [
       "1"
      ]
     },
     "execution_count": 386,
     "metadata": {},
     "output_type": "execute_result"
    }
   ],
   "source": [
    "len(non_words)"
   ]
  },
  {
   "cell_type": "code",
   "execution_count": null,
   "metadata": {},
   "outputs": [],
   "source": [
    "with open('./non_wordnet_words.txt', 'w', encoding='utf-8') as file:\n",
    "\tfor non_word in non_words:\n",
    "\t\tfile.write(non_word+'\\n')"
   ]
  },
  {
   "cell_type": "markdown",
   "metadata": {},
   "source": [
    "However, wordnet excludes some function words, they should be taken into account in dictionary"
   ]
  },
  {
   "cell_type": "code",
   "execution_count": 387,
   "metadata": {},
   "outputs": [],
   "source": [
    "with open('./non_wordnet_words.txt', 'r', encoding='utf-8') as file:\n",
    "\tnon_words = file.read().splitlines()"
   ]
  },
  {
   "cell_type": "code",
   "execution_count": 388,
   "metadata": {},
   "outputs": [],
   "source": [
    "with open('./wordnet_stopwords.txt', 'r', encoding='utf-8') as file:\n",
    "\tstop_words = file.read().splitlines()"
   ]
  },
  {
   "cell_type": "code",
   "execution_count": 389,
   "metadata": {},
   "outputs": [],
   "source": [
    "for non_word in non_words:\n",
    "\tif not non_word in stop_words:\n",
    "\t\tdico.pop(non_word)"
   ]
  },
  {
   "cell_type": "code",
   "execution_count": 390,
   "metadata": {},
   "outputs": [
    {
     "data": {
      "text/plain": [
       "52123"
      ]
     },
     "execution_count": 390,
     "metadata": {},
     "output_type": "execute_result"
    }
   ],
   "source": [
    "len(dico)"
   ]
  },
  {
   "cell_type": "markdown",
   "metadata": {},
   "source": [
    "Notice that many of them are acronyms, which is pronounced as individual letters, we could remove them directly from the cmu dict, the acronyms will be dealed in another independent dico."
   ]
  },
  {
   "cell_type": "markdown",
   "metadata": {},
   "source": [
    "## Remove acronyms"
   ]
  },
  {
   "cell_type": "markdown",
   "metadata": {},
   "source": [
    "first collect single letter sound"
   ]
  },
  {
   "cell_type": "code",
   "execution_count": 391,
   "metadata": {},
   "outputs": [],
   "source": [
    "letter_sound = {}\n",
    "syllable_count = {}\n",
    "for word, sound in dico.items():\n",
    "\tif len(word) == 1:\n",
    "\t\tletter_sound[word] = list(sound.split(' '))\n",
    "\t\tsyllable_count[word] = len(sound.split(' '))"
   ]
  },
  {
   "cell_type": "code",
   "execution_count": 392,
   "metadata": {},
   "outputs": [],
   "source": [
    "letter_sound['a'] = ['EY'] # A sounds EY1 not AH0"
   ]
  },
  {
   "cell_type": "code",
   "execution_count": 393,
   "metadata": {},
   "outputs": [
    {
     "data": {
      "text/plain": [
       "({'a': ['EY'],\n",
       "  'b': ['B', 'IY'],\n",
       "  'c': ['S', 'IY'],\n",
       "  'd': ['D', 'IY'],\n",
       "  'e': ['IY'],\n",
       "  'f': ['EH', 'F'],\n",
       "  'g': ['JH', 'IY'],\n",
       "  'h': ['EY', 'CH'],\n",
       "  'i': ['AY'],\n",
       "  'j': ['JH', 'EY'],\n",
       "  'k': ['K', 'EY'],\n",
       "  'l': ['EH', 'L'],\n",
       "  'm': ['EH', 'M'],\n",
       "  'n': ['EH', 'N'],\n",
       "  'o': ['OW'],\n",
       "  'p': ['P', 'IY'],\n",
       "  'q': ['K', 'Y', 'UW'],\n",
       "  'r': ['AA', 'R'],\n",
       "  's': ['EH', 'S'],\n",
       "  't': ['T', 'IY'],\n",
       "  'u': ['Y', 'UW'],\n",
       "  'v': ['V', 'IY'],\n",
       "  'w': ['D', 'AH', 'B', 'AH', 'L', 'Y', 'UW'],\n",
       "  'x': ['EH', 'K', 'S'],\n",
       "  'y': ['W', 'AY'],\n",
       "  'z': ['Z', 'IY']},\n",
       " {'a': 1,\n",
       "  'b': 2,\n",
       "  'c': 2,\n",
       "  'd': 2,\n",
       "  'e': 1,\n",
       "  'f': 2,\n",
       "  'g': 2,\n",
       "  'h': 2,\n",
       "  'i': 1,\n",
       "  'j': 2,\n",
       "  'k': 2,\n",
       "  'l': 2,\n",
       "  'm': 2,\n",
       "  'n': 2,\n",
       "  'o': 1,\n",
       "  'p': 2,\n",
       "  'q': 3,\n",
       "  'r': 2,\n",
       "  's': 2,\n",
       "  't': 2,\n",
       "  'u': 2,\n",
       "  'v': 2,\n",
       "  'w': 7,\n",
       "  'x': 3,\n",
       "  'y': 2,\n",
       "  'z': 2})"
      ]
     },
     "execution_count": 393,
     "metadata": {},
     "output_type": "execute_result"
    }
   ],
   "source": [
    "letter_sound, syllable_count"
   ]
  },
  {
   "cell_type": "code",
   "execution_count": 394,
   "metadata": {},
   "outputs": [],
   "source": [
    "def is_acronym(word, sound, threshold=2, show = False):\n",
    "\tmatched = 0\n",
    "\toffset = 0\n",
    "\tsound_list = sound.split(' ')\n",
    "\tfor letter in word:\n",
    "\t\tstep = syllable_count[letter]\n",
    "\t\tif show:\n",
    "\t\t\tprint(letter_sound[letter])\n",
    "\t\t\tprint(sound_list[offset:offset+step])\n",
    "\n",
    "\t\tif letter_sound[letter] == sound_list[offset:offset+step]:\n",
    "\t\t\tmatched += 1\n",
    "\t\tif matched >= threshold:\n",
    "\t\t\treturn True\n",
    "\t\toffset += step\n",
    "\treturn False"
   ]
  },
  {
   "cell_type": "code",
   "execution_count": 395,
   "metadata": {},
   "outputs": [
    {
     "name": "stdout",
     "output_type": "stream",
     "text": [
      "['EY']\n",
      "['AA']\n",
      "['EY']\n",
      "['R']\n",
      "['AA', 'R']\n",
      "['D', 'V']\n",
      "['D', 'IY']\n",
      "['AA', 'R']\n",
      "['V', 'IY']\n",
      "['K']\n",
      "['EY']\n",
      "[]\n",
      "['AA', 'R']\n",
      "[]\n",
      "['K', 'EY']\n",
      "[]\n"
     ]
    },
    {
     "data": {
      "text/plain": [
       "(True, False, False)"
      ]
     },
     "execution_count": 395,
     "metadata": {},
     "output_type": "execute_result"
    }
   ],
   "source": [
    "is_acronym('abc',dico['abc']), is_acronym('good', dico['good']), is_acronym('aardvark', dico['aardvark'], show=True)"
   ]
  },
  {
   "cell_type": "code",
   "execution_count": 396,
   "metadata": {},
   "outputs": [],
   "source": [
    "acronyms = []\n",
    "for (word, sound) in dico.items():\n",
    "\tif len(word) > 4:\n",
    "\t\tcontinue\n",
    "\tif is_acronym(word, sound, 2):\n",
    "\t\tacronyms.append(word)"
   ]
  },
  {
   "cell_type": "code",
   "execution_count": 397,
   "metadata": {},
   "outputs": [
    {
     "data": {
      "text/plain": [
       "114"
      ]
     },
     "execution_count": 397,
     "metadata": {},
     "output_type": "execute_result"
    }
   ],
   "source": [
    "len(acronyms)"
   ]
  },
  {
   "cell_type": "code",
   "execution_count": 398,
   "metadata": {},
   "outputs": [],
   "source": [
    "for word in acronyms:\n",
    "\tdico.pop(word)"
   ]
  },
  {
   "cell_type": "code",
   "execution_count": 399,
   "metadata": {},
   "outputs": [
    {
     "data": {
      "text/plain": [
       "'T R IH P AH L EY'"
      ]
     },
     "execution_count": 399,
     "metadata": {},
     "output_type": "execute_result"
    }
   ],
   "source": [
    "dico.pop('aaa')"
   ]
  },
  {
   "cell_type": "code",
   "execution_count": 400,
   "metadata": {},
   "outputs": [
    {
     "data": {
      "text/plain": [
       "52008"
      ]
     },
     "execution_count": 400,
     "metadata": {},
     "output_type": "execute_result"
    }
   ],
   "source": [
    "len(dico)"
   ]
  },
  {
   "cell_type": "markdown",
   "metadata": {},
   "source": [
    "now we get a well pronounced, wordnet-validated dictionary"
   ]
  },
  {
   "cell_type": "code",
   "execution_count": 401,
   "metadata": {},
   "outputs": [],
   "source": [
    "df = pd.DataFrame.from_dict(dico, orient='index', columns = ['sound'])"
   ]
  },
  {
   "cell_type": "code",
   "execution_count": 402,
   "metadata": {},
   "outputs": [
    {
     "data": {
      "text/html": [
       "<div>\n",
       "<style scoped>\n",
       "    .dataframe tbody tr th:only-of-type {\n",
       "        vertical-align: middle;\n",
       "    }\n",
       "\n",
       "    .dataframe tbody tr th {\n",
       "        vertical-align: top;\n",
       "    }\n",
       "\n",
       "    .dataframe thead th {\n",
       "        text-align: right;\n",
       "    }\n",
       "</style>\n",
       "<table border=\"1\" class=\"dataframe\">\n",
       "  <thead>\n",
       "    <tr style=\"text-align: right;\">\n",
       "      <th></th>\n",
       "      <th>COUNT</th>\n",
       "    </tr>\n",
       "    <tr>\n",
       "      <th>WORD</th>\n",
       "      <th></th>\n",
       "    </tr>\n",
       "  </thead>\n",
       "  <tbody>\n",
       "    <tr>\n",
       "      <th>the</th>\n",
       "      <td>4888</td>\n",
       "    </tr>\n",
       "    <tr>\n",
       "      <th>of</th>\n",
       "      <td>4883</td>\n",
       "    </tr>\n",
       "    <tr>\n",
       "      <th>and</th>\n",
       "      <td>4878</td>\n",
       "    </tr>\n",
       "    <tr>\n",
       "      <th>to</th>\n",
       "      <td>4873</td>\n",
       "    </tr>\n",
       "    <tr>\n",
       "      <th>in</th>\n",
       "      <td>4868</td>\n",
       "    </tr>\n",
       "    <tr>\n",
       "      <th>...</th>\n",
       "      <td>...</td>\n",
       "    </tr>\n",
       "    <tr>\n",
       "      <th>bepride</th>\n",
       "      <td>0</td>\n",
       "    </tr>\n",
       "    <tr>\n",
       "      <th>batterable</th>\n",
       "      <td>0</td>\n",
       "    </tr>\n",
       "    <tr>\n",
       "      <th>batsome</th>\n",
       "      <td>0</td>\n",
       "    </tr>\n",
       "    <tr>\n",
       "      <th>adpugne</th>\n",
       "      <td>0</td>\n",
       "    </tr>\n",
       "    <tr>\n",
       "      <th>adaration</th>\n",
       "      <td>0</td>\n",
       "    </tr>\n",
       "  </tbody>\n",
       "</table>\n",
       "<p>186632 rows × 1 columns</p>\n",
       "</div>"
      ],
      "text/plain": [
       "            COUNT\n",
       "WORD             \n",
       "the          4888\n",
       "of           4883\n",
       "and          4878\n",
       "to           4873\n",
       "in           4868\n",
       "...           ...\n",
       "bepride         0\n",
       "batterable      0\n",
       "batsome         0\n",
       "adpugne         0\n",
       "adaration       0\n",
       "\n",
       "[186632 rows x 1 columns]"
      ]
     },
     "execution_count": 402,
     "metadata": {},
     "output_type": "execute_result"
    }
   ],
   "source": [
    "df_freq = pd.read_csv('./dict_freq_en.yaml', sep = '\\t', index_col=0, usecols=[1,2])\n",
    "df_freq"
   ]
  },
  {
   "cell_type": "code",
   "execution_count": 403,
   "metadata": {},
   "outputs": [],
   "source": [
    "df = df.join(df_freq.astype('Int64'))"
   ]
  },
  {
   "cell_type": "code",
   "execution_count": 404,
   "metadata": {},
   "outputs": [],
   "source": [
    "df.index.name = 'word'"
   ]
  },
  {
   "cell_type": "code",
   "execution_count": 405,
   "metadata": {},
   "outputs": [],
   "source": [
    "df.rename(columns={'COUNT': 'freq'}, inplace=True)"
   ]
  },
  {
   "cell_type": "code",
   "execution_count": 406,
   "metadata": {},
   "outputs": [
    {
     "data": {
      "text/html": [
       "<div>\n",
       "<style scoped>\n",
       "    .dataframe tbody tr th:only-of-type {\n",
       "        vertical-align: middle;\n",
       "    }\n",
       "\n",
       "    .dataframe tbody tr th {\n",
       "        vertical-align: top;\n",
       "    }\n",
       "\n",
       "    .dataframe thead th {\n",
       "        text-align: right;\n",
       "    }\n",
       "</style>\n",
       "<table border=\"1\" class=\"dataframe\">\n",
       "  <thead>\n",
       "    <tr style=\"text-align: right;\">\n",
       "      <th></th>\n",
       "      <th>sound</th>\n",
       "      <th>freq</th>\n",
       "    </tr>\n",
       "    <tr>\n",
       "      <th>word</th>\n",
       "      <th></th>\n",
       "      <th></th>\n",
       "    </tr>\n",
       "  </thead>\n",
       "  <tbody>\n",
       "    <tr>\n",
       "      <th>a</th>\n",
       "      <td>AH</td>\n",
       "      <td>4863</td>\n",
       "    </tr>\n",
       "    <tr>\n",
       "      <th>aachen</th>\n",
       "      <td>AA K AH N</td>\n",
       "      <td>&lt;NA&gt;</td>\n",
       "    </tr>\n",
       "    <tr>\n",
       "      <th>aalborg</th>\n",
       "      <td>AO L B AO R G</td>\n",
       "      <td>&lt;NA&gt;</td>\n",
       "    </tr>\n",
       "    <tr>\n",
       "      <th>aalto</th>\n",
       "      <td>AA L T OW</td>\n",
       "      <td>&lt;NA&gt;</td>\n",
       "    </tr>\n",
       "    <tr>\n",
       "      <th>aardvark</th>\n",
       "      <td>AA R D V AA R K</td>\n",
       "      <td>&lt;NA&gt;</td>\n",
       "    </tr>\n",
       "    <tr>\n",
       "      <th>...</th>\n",
       "      <td>...</td>\n",
       "      <td>...</td>\n",
       "    </tr>\n",
       "    <tr>\n",
       "      <th>zuni</th>\n",
       "      <td>Z UW N IY</td>\n",
       "      <td>&lt;NA&gt;</td>\n",
       "    </tr>\n",
       "    <tr>\n",
       "      <th>zurich</th>\n",
       "      <td>Z UH R IH K</td>\n",
       "      <td>&lt;NA&gt;</td>\n",
       "    </tr>\n",
       "    <tr>\n",
       "      <th>zweig</th>\n",
       "      <td>Z W AY G</td>\n",
       "      <td>&lt;NA&gt;</td>\n",
       "    </tr>\n",
       "    <tr>\n",
       "      <th>zydeco</th>\n",
       "      <td>Z AY D AH K OW</td>\n",
       "      <td>0</td>\n",
       "    </tr>\n",
       "    <tr>\n",
       "      <th>zygote</th>\n",
       "      <td>Z AY G OW T</td>\n",
       "      <td>7</td>\n",
       "    </tr>\n",
       "  </tbody>\n",
       "</table>\n",
       "<p>52008 rows × 2 columns</p>\n",
       "</div>"
      ],
      "text/plain": [
       "                    sound  freq\n",
       "word                           \n",
       "a                      AH  4863\n",
       "aachen          AA K AH N  <NA>\n",
       "aalborg     AO L B AO R G  <NA>\n",
       "aalto           AA L T OW  <NA>\n",
       "aardvark  AA R D V AA R K  <NA>\n",
       "...                   ...   ...\n",
       "zuni            Z UW N IY  <NA>\n",
       "zurich        Z UH R IH K  <NA>\n",
       "zweig            Z W AY G  <NA>\n",
       "zydeco     Z AY D AH K OW     0\n",
       "zygote        Z AY G OW T     7\n",
       "\n",
       "[52008 rows x 2 columns]"
      ]
     },
     "execution_count": 406,
     "metadata": {},
     "output_type": "execute_result"
    }
   ],
   "source": [
    "df"
   ]
  },
  {
   "cell_type": "markdown",
   "metadata": {},
   "source": [
    "## Transcription"
   ]
  },
  {
   "cell_type": "code",
   "execution_count": 108,
   "metadata": {},
   "outputs": [],
   "source": [
    "def encode(phonemes):\n",
    "\tvowels = re.compile('(AO|UW|EH|AH|AA|IY|IH|UH|AE|AW|AY|ER|EY|OW|OY)\\d*', re.VERBOSE)\n",
    "\tphonemes = re.sub(vowels, 'Q', phonemes)\n",
    "\tcomplex_consonant = re.compile('CH|DH|HH|JH|NG|SH|TH|ZH|')\n",
    "\t# complex consonants\n",
    "\tphonemes = re.sub('HH', 'H', phonemes)\n",
    "\tphonemes = re.sub('CH', 'C', phonemes)\n",
    "\tphonemes = re.sub('JH', 'J', phonemes)\n",
    "\tphonemes = re.sub('TH', 'X', phonemes)\n",
    "\tphonemes = re.sub('DH', 'X', phonemes)\n",
    "\tphonemes = re.sub('SH', 'U', phonemes)\n",
    "\tphonemes = re.sub('ZH', 'O', phonemes)\n",
    "\tphonemes = re.sub('NG', 'I', phonemes)\n",
    "\t\n",
    "\t# remove whitespaces\n",
    "\tphonemes = re.sub(' ', '', phonemes)\n",
    "\n",
    "\treturn phonemes"
   ]
  },
  {
   "cell_type": "code",
   "execution_count": 109,
   "metadata": {},
   "outputs": [],
   "source": [
    "def transcribe(phonemes_list):\n",
    "\tencoding_list = []\n",
    "\tfor phonemes in phonemes_list:\n",
    "\t\tencoding_list.append(encode(phonemes))\n",
    "\treturn encoding_list"
   ]
  },
  {
   "cell_type": "code",
   "execution_count": 110,
   "metadata": {},
   "outputs": [],
   "source": [
    "encoding_list = transcribe(df.sound.astype('str'))\n",
    "df['encoding'] = encoding_list"
   ]
  },
  {
   "cell_type": "code",
   "execution_count": 111,
   "metadata": {},
   "outputs": [
    {
     "data": {
      "text/html": [
       "<div>\n",
       "<style scoped>\n",
       "    .dataframe tbody tr th:only-of-type {\n",
       "        vertical-align: middle;\n",
       "    }\n",
       "\n",
       "    .dataframe tbody tr th {\n",
       "        vertical-align: top;\n",
       "    }\n",
       "\n",
       "    .dataframe thead th {\n",
       "        text-align: right;\n",
       "    }\n",
       "</style>\n",
       "<table border=\"1\" class=\"dataframe\">\n",
       "  <thead>\n",
       "    <tr style=\"text-align: right;\">\n",
       "      <th></th>\n",
       "      <th>sound</th>\n",
       "      <th>freq</th>\n",
       "      <th>encoding</th>\n",
       "      <th>vowel_free</th>\n",
       "    </tr>\n",
       "    <tr>\n",
       "      <th>word</th>\n",
       "      <th></th>\n",
       "      <th></th>\n",
       "      <th></th>\n",
       "      <th></th>\n",
       "    </tr>\n",
       "  </thead>\n",
       "  <tbody>\n",
       "    <tr>\n",
       "      <th>a</th>\n",
       "      <td>AH</td>\n",
       "      <td>4863</td>\n",
       "      <td>Q</td>\n",
       "      <td>A</td>\n",
       "    </tr>\n",
       "    <tr>\n",
       "      <th>aachen</th>\n",
       "      <td>AA K AH N</td>\n",
       "      <td></td>\n",
       "      <td>QKQN</td>\n",
       "      <td>QKN</td>\n",
       "    </tr>\n",
       "    <tr>\n",
       "      <th>aalborg</th>\n",
       "      <td>AO L B AO R G</td>\n",
       "      <td></td>\n",
       "      <td>QLBQRG</td>\n",
       "      <td>QLBRG</td>\n",
       "    </tr>\n",
       "    <tr>\n",
       "      <th>aalto</th>\n",
       "      <td>AA L T OW</td>\n",
       "      <td></td>\n",
       "      <td>QLTQ</td>\n",
       "      <td>QLTQ</td>\n",
       "    </tr>\n",
       "    <tr>\n",
       "      <th>aardvark</th>\n",
       "      <td>AA R D V AA R K</td>\n",
       "      <td></td>\n",
       "      <td>QRDVQRK</td>\n",
       "      <td>QRDVRK</td>\n",
       "    </tr>\n",
       "    <tr>\n",
       "      <th>...</th>\n",
       "      <td>...</td>\n",
       "      <td>...</td>\n",
       "      <td>...</td>\n",
       "      <td>...</td>\n",
       "    </tr>\n",
       "    <tr>\n",
       "      <th>zuni</th>\n",
       "      <td>Z UW N IY</td>\n",
       "      <td></td>\n",
       "      <td>ZQNQ</td>\n",
       "      <td>ZNQ</td>\n",
       "    </tr>\n",
       "    <tr>\n",
       "      <th>zurich</th>\n",
       "      <td>Z UH R IH K</td>\n",
       "      <td></td>\n",
       "      <td>ZQRQK</td>\n",
       "      <td>ZRK</td>\n",
       "    </tr>\n",
       "    <tr>\n",
       "      <th>zweig</th>\n",
       "      <td>Z W AY G</td>\n",
       "      <td></td>\n",
       "      <td>ZWQG</td>\n",
       "      <td>ZWG</td>\n",
       "    </tr>\n",
       "    <tr>\n",
       "      <th>zydeco</th>\n",
       "      <td>Z AY D AH K OW</td>\n",
       "      <td>0</td>\n",
       "      <td>ZQDQKQ</td>\n",
       "      <td>ZDKQ</td>\n",
       "    </tr>\n",
       "    <tr>\n",
       "      <th>zygote</th>\n",
       "      <td>Z AY G OW T</td>\n",
       "      <td>7</td>\n",
       "      <td>ZQGQT</td>\n",
       "      <td>ZGT</td>\n",
       "    </tr>\n",
       "  </tbody>\n",
       "</table>\n",
       "<p>51950 rows × 4 columns</p>\n",
       "</div>"
      ],
      "text/plain": [
       "                    sound  freq encoding vowel_free\n",
       "word                                               \n",
       "a                      AH  4863        Q          A\n",
       "aachen          AA K AH N           QKQN        QKN\n",
       "aalborg     AO L B AO R G         QLBQRG      QLBRG\n",
       "aalto           AA L T OW           QLTQ       QLTQ\n",
       "aardvark  AA R D V AA R K        QRDVQRK     QRDVRK\n",
       "...                   ...   ...      ...        ...\n",
       "zuni            Z UW N IY           ZQNQ        ZNQ\n",
       "zurich        Z UH R IH K          ZQRQK        ZRK\n",
       "zweig            Z W AY G           ZWQG        ZWG\n",
       "zydeco     Z AY D AH K OW     0   ZQDQKQ       ZDKQ\n",
       "zygote        Z AY G OW T     7    ZQGQT        ZGT\n",
       "\n",
       "[51950 rows x 4 columns]"
      ]
     },
     "execution_count": 111,
     "metadata": {},
     "output_type": "execute_result"
    }
   ],
   "source": [
    "df"
   ]
  },
  {
   "cell_type": "markdown",
   "metadata": {},
   "source": [
    "## delete non-initial vowels"
   ]
  },
  {
   "cell_type": "code",
   "execution_count": 153,
   "metadata": {},
   "outputs": [],
   "source": [
    "def remove_vowels(encoding_list):\n",
    "\tres = []\n",
    "\tfor encoding in encoding_list:\n",
    "\t\tif len(encoding) > 1:\n",
    "\t\t\tres.append(encoding[0] + re.sub('Q','', encoding[1:-1]) + encoding[-1])\n",
    "\t\telse:\n",
    "\t\t\tres.append(encoding)\n",
    "\treturn res"
   ]
  },
  {
   "cell_type": "markdown",
   "metadata": {},
   "source": [
    "## Detect inefficient encoding"
   ]
  },
  {
   "cell_type": "code",
   "execution_count": 420,
   "metadata": {},
   "outputs": [],
   "source": [
    "df['vowel_free'] = remove_vowels(df.encoding) "
   ]
  },
  {
   "cell_type": "code",
   "execution_count": 421,
   "metadata": {},
   "outputs": [
    {
     "data": {
      "text/html": [
       "<div>\n",
       "<style scoped>\n",
       "    .dataframe tbody tr th:only-of-type {\n",
       "        vertical-align: middle;\n",
       "    }\n",
       "\n",
       "    .dataframe tbody tr th {\n",
       "        vertical-align: top;\n",
       "    }\n",
       "\n",
       "    .dataframe thead th {\n",
       "        text-align: right;\n",
       "    }\n",
       "</style>\n",
       "<table border=\"1\" class=\"dataframe\">\n",
       "  <thead>\n",
       "    <tr style=\"text-align: right;\">\n",
       "      <th></th>\n",
       "      <th>sound</th>\n",
       "      <th>encoding</th>\n",
       "      <th>vowel_free</th>\n",
       "      <th>freq</th>\n",
       "    </tr>\n",
       "    <tr>\n",
       "      <th>word</th>\n",
       "      <th></th>\n",
       "      <th></th>\n",
       "      <th></th>\n",
       "      <th></th>\n",
       "    </tr>\n",
       "  </thead>\n",
       "  <tbody>\n",
       "    <tr>\n",
       "      <th>aug</th>\n",
       "      <td>AO G AH S T</td>\n",
       "      <td>QGQST</td>\n",
       "      <td>QGST</td>\n",
       "      <td>&lt;NA&gt;</td>\n",
       "    </tr>\n",
       "    <tr>\n",
       "      <th>ct</th>\n",
       "      <td>K AO R T</td>\n",
       "      <td>KQRT</td>\n",
       "      <td>KRT</td>\n",
       "      <td>&lt;NA&gt;</td>\n",
       "    </tr>\n",
       "    <tr>\n",
       "      <th>emu</th>\n",
       "      <td>IY M Y UW</td>\n",
       "      <td>QMYQ</td>\n",
       "      <td>QMYQ</td>\n",
       "      <td>&lt;NA&gt;</td>\n",
       "    </tr>\n",
       "    <tr>\n",
       "      <th>expo</th>\n",
       "      <td>EH K S P OW</td>\n",
       "      <td>QKSPQ</td>\n",
       "      <td>QKSPQ</td>\n",
       "      <td>&lt;NA&gt;</td>\n",
       "    </tr>\n",
       "    <tr>\n",
       "      <th>feb</th>\n",
       "      <td>F EH B Y AH W EH R IY</td>\n",
       "      <td>FQBYQWQRQ</td>\n",
       "      <td>FBYWRQ</td>\n",
       "      <td>&lt;NA&gt;</td>\n",
       "    </tr>\n",
       "    <tr>\n",
       "      <th>hz</th>\n",
       "      <td>HH ER T Z</td>\n",
       "      <td>HQTZ</td>\n",
       "      <td>HTZ</td>\n",
       "      <td>&lt;NA&gt;</td>\n",
       "    </tr>\n",
       "    <tr>\n",
       "      <th>jr</th>\n",
       "      <td>JH UW N Y ER</td>\n",
       "      <td>JQNYQ</td>\n",
       "      <td>JNYQ</td>\n",
       "      <td>&lt;NA&gt;</td>\n",
       "    </tr>\n",
       "    <tr>\n",
       "      <th>lb</th>\n",
       "      <td>P AW N D</td>\n",
       "      <td>PQND</td>\n",
       "      <td>PND</td>\n",
       "      <td>&lt;NA&gt;</td>\n",
       "    </tr>\n",
       "    <tr>\n",
       "      <th>lbs</th>\n",
       "      <td>P AW N D Z</td>\n",
       "      <td>PQNDS</td>\n",
       "      <td>PNDS</td>\n",
       "      <td>&lt;NA&gt;</td>\n",
       "    </tr>\n",
       "    <tr>\n",
       "      <th>lxi</th>\n",
       "      <td>L K S IY</td>\n",
       "      <td>LKSQ</td>\n",
       "      <td>LKSQ</td>\n",
       "      <td>&lt;NA&gt;</td>\n",
       "    </tr>\n",
       "    <tr>\n",
       "      <th>mg</th>\n",
       "      <td>EH M G IY</td>\n",
       "      <td>QMGQ</td>\n",
       "      <td>QMGQ</td>\n",
       "      <td>&lt;NA&gt;</td>\n",
       "    </tr>\n",
       "    <tr>\n",
       "      <th>mr</th>\n",
       "      <td>M IH S T ER</td>\n",
       "      <td>MQSTQ</td>\n",
       "      <td>MSTQ</td>\n",
       "      <td>&lt;NA&gt;</td>\n",
       "    </tr>\n",
       "    <tr>\n",
       "      <th>mt</th>\n",
       "      <td>M AW N T</td>\n",
       "      <td>MQNT</td>\n",
       "      <td>MNT</td>\n",
       "      <td>&lt;NA&gt;</td>\n",
       "    </tr>\n",
       "    <tr>\n",
       "      <th>ngo</th>\n",
       "      <td>EH NG G OW</td>\n",
       "      <td>QIGQ</td>\n",
       "      <td>QIGQ</td>\n",
       "      <td>&lt;NA&gt;</td>\n",
       "    </tr>\n",
       "    <tr>\n",
       "      <th>sr</th>\n",
       "      <td>S IY N Y ER</td>\n",
       "      <td>SQNYQ</td>\n",
       "      <td>SNYQ</td>\n",
       "      <td>&lt;NA&gt;</td>\n",
       "    </tr>\n",
       "  </tbody>\n",
       "</table>\n",
       "</div>"
      ],
      "text/plain": [
       "                      sound   encoding vowel_free  freq\n",
       "word                                                   \n",
       "aug             AO G AH S T      QGQST       QGST  <NA>\n",
       "ct                 K AO R T       KQRT        KRT  <NA>\n",
       "emu               IY M Y UW       QMYQ       QMYQ  <NA>\n",
       "expo            EH K S P OW      QKSPQ      QKSPQ  <NA>\n",
       "feb   F EH B Y AH W EH R IY  FQBYQWQRQ     FBYWRQ  <NA>\n",
       "hz                HH ER T Z       HQTZ        HTZ  <NA>\n",
       "jr             JH UW N Y ER      JQNYQ       JNYQ  <NA>\n",
       "lb                 P AW N D       PQND        PND  <NA>\n",
       "lbs              P AW N D Z      PQNDS       PNDS  <NA>\n",
       "lxi                L K S IY       LKSQ       LKSQ  <NA>\n",
       "mg                EH M G IY       QMGQ       QMGQ  <NA>\n",
       "mr              M IH S T ER      MQSTQ       MSTQ  <NA>\n",
       "mt                 M AW N T       MQNT        MNT  <NA>\n",
       "ngo              EH NG G OW       QIGQ       QIGQ  <NA>\n",
       "sr              S IY N Y ER      SQNYQ       SNYQ  <NA>"
      ]
     },
     "metadata": {},
     "output_type": "display_data"
    }
   ],
   "source": [
    "# with pd.option_context('display.max_rows', None):\n",
    "acronym_residue = df.loc[(df.index.str.len() > 1) & (df.index.str.len() <= 4) & (df.index.str.len() < df.vowel_free.str.len()) & (~df.freq.notna()), ['sound','encoding','vowel_free','freq']]\n",
    "display(acronym_residue)"
   ]
  },
  {
   "cell_type": "code",
   "execution_count": 422,
   "metadata": {},
   "outputs": [],
   "source": [
    "df.drop(acronym_residue.index, inplace=True)"
   ]
  },
  {
   "cell_type": "code",
   "execution_count": 423,
   "metadata": {},
   "outputs": [
    {
     "data": {
      "text/plain": [
       "51993"
      ]
     },
     "execution_count": 423,
     "metadata": {},
     "output_type": "execute_result"
    }
   ],
   "source": [
    "len(df)"
   ]
  },
  {
   "cell_type": "markdown",
   "metadata": {},
   "source": [
    "Notice that many of them are acronyms, which is pronounced as individual letters, we could remove them directly from the cmu dict, the acronyms will be dealed in another independent dico."
   ]
  },
  {
   "cell_type": "code",
   "execution_count": 426,
   "metadata": {},
   "outputs": [
    {
     "data": {
      "text/html": [
       "<div>\n",
       "<style scoped>\n",
       "    .dataframe tbody tr th:only-of-type {\n",
       "        vertical-align: middle;\n",
       "    }\n",
       "\n",
       "    .dataframe tbody tr th {\n",
       "        vertical-align: top;\n",
       "    }\n",
       "\n",
       "    .dataframe thead th {\n",
       "        text-align: right;\n",
       "    }\n",
       "</style>\n",
       "<table border=\"1\" class=\"dataframe\">\n",
       "  <thead>\n",
       "    <tr style=\"text-align: right;\">\n",
       "      <th></th>\n",
       "      <th>sound</th>\n",
       "      <th>freq</th>\n",
       "      <th>encoding</th>\n",
       "      <th>vowel_free</th>\n",
       "    </tr>\n",
       "    <tr>\n",
       "      <th>word</th>\n",
       "      <th></th>\n",
       "      <th></th>\n",
       "      <th></th>\n",
       "      <th></th>\n",
       "    </tr>\n",
       "  </thead>\n",
       "  <tbody>\n",
       "    <tr>\n",
       "      <th>a</th>\n",
       "      <td>AH</td>\n",
       "      <td>4863</td>\n",
       "      <td>Q</td>\n",
       "      <td>Q</td>\n",
       "    </tr>\n",
       "    <tr>\n",
       "      <th>aachen</th>\n",
       "      <td>AA K AH N</td>\n",
       "      <td>&lt;NA&gt;</td>\n",
       "      <td>QKQN</td>\n",
       "      <td>QKN</td>\n",
       "    </tr>\n",
       "    <tr>\n",
       "      <th>aalborg</th>\n",
       "      <td>AO L B AO R G</td>\n",
       "      <td>&lt;NA&gt;</td>\n",
       "      <td>QLBQRG</td>\n",
       "      <td>QLBRG</td>\n",
       "    </tr>\n",
       "    <tr>\n",
       "      <th>aalto</th>\n",
       "      <td>AA L T OW</td>\n",
       "      <td>&lt;NA&gt;</td>\n",
       "      <td>QLTQ</td>\n",
       "      <td>QLTQ</td>\n",
       "    </tr>\n",
       "    <tr>\n",
       "      <th>aardvark</th>\n",
       "      <td>AA R D V AA R K</td>\n",
       "      <td>&lt;NA&gt;</td>\n",
       "      <td>QRDVQRK</td>\n",
       "      <td>QRDVRK</td>\n",
       "    </tr>\n",
       "    <tr>\n",
       "      <th>...</th>\n",
       "      <td>...</td>\n",
       "      <td>...</td>\n",
       "      <td>...</td>\n",
       "      <td>...</td>\n",
       "    </tr>\n",
       "    <tr>\n",
       "      <th>zuni</th>\n",
       "      <td>Z UW N IY</td>\n",
       "      <td>&lt;NA&gt;</td>\n",
       "      <td>ZQNQ</td>\n",
       "      <td>ZNQ</td>\n",
       "    </tr>\n",
       "    <tr>\n",
       "      <th>zurich</th>\n",
       "      <td>Z UH R IH K</td>\n",
       "      <td>&lt;NA&gt;</td>\n",
       "      <td>ZQRQK</td>\n",
       "      <td>ZRK</td>\n",
       "    </tr>\n",
       "    <tr>\n",
       "      <th>zweig</th>\n",
       "      <td>Z W AY G</td>\n",
       "      <td>&lt;NA&gt;</td>\n",
       "      <td>ZWQG</td>\n",
       "      <td>ZWG</td>\n",
       "    </tr>\n",
       "    <tr>\n",
       "      <th>zydeco</th>\n",
       "      <td>Z AY D AH K OW</td>\n",
       "      <td>0</td>\n",
       "      <td>ZQDQKQ</td>\n",
       "      <td>ZDKQ</td>\n",
       "    </tr>\n",
       "    <tr>\n",
       "      <th>zygote</th>\n",
       "      <td>Z AY G OW T</td>\n",
       "      <td>7</td>\n",
       "      <td>ZQGQT</td>\n",
       "      <td>ZGT</td>\n",
       "    </tr>\n",
       "  </tbody>\n",
       "</table>\n",
       "<p>51993 rows × 4 columns</p>\n",
       "</div>"
      ],
      "text/plain": [
       "                    sound  freq encoding vowel_free\n",
       "word                                               \n",
       "a                      AH  4863        Q          Q\n",
       "aachen          AA K AH N  <NA>     QKQN        QKN\n",
       "aalborg     AO L B AO R G  <NA>   QLBQRG      QLBRG\n",
       "aalto           AA L T OW  <NA>     QLTQ       QLTQ\n",
       "aardvark  AA R D V AA R K  <NA>  QRDVQRK     QRDVRK\n",
       "...                   ...   ...      ...        ...\n",
       "zuni            Z UW N IY  <NA>     ZQNQ        ZNQ\n",
       "zurich        Z UH R IH K  <NA>    ZQRQK        ZRK\n",
       "zweig            Z W AY G  <NA>     ZWQG        ZWG\n",
       "zydeco     Z AY D AH K OW     0   ZQDQKQ       ZDKQ\n",
       "zygote        Z AY G OW T     7    ZQGQT        ZGT\n",
       "\n",
       "[51993 rows x 4 columns]"
      ]
     },
     "execution_count": 426,
     "metadata": {},
     "output_type": "execute_result"
    }
   ],
   "source": [
    "df"
   ]
  },
  {
   "cell_type": "code",
   "execution_count": 427,
   "metadata": {},
   "outputs": [
    {
     "data": {
      "text/plain": [
       "sound         AH B R IY V IY EY T IH D\n",
       "freq                                50\n",
       "encoding                    QBRQVQQTQE\n",
       "vowel_free                      QBRVTE\n",
       "Name: abbreviated, dtype: object"
      ]
     },
     "execution_count": 427,
     "metadata": {},
     "output_type": "execute_result"
    }
   ],
   "source": [
    "df.loc['abbreviated']"
   ]
  },
  {
   "cell_type": "markdown",
   "metadata": {},
   "source": [
    "## Encoding Statistics"
   ]
  },
  {
   "cell_type": "markdown",
   "metadata": {},
   "source": [
    "encoding length"
   ]
  },
  {
   "cell_type": "code",
   "execution_count": 165,
   "metadata": {},
   "outputs": [],
   "source": [
    "def plot_string_length_freq(encodings: pd.DataFrame):\n",
    "\twd_length = encodings.reset_index().apply(lambda x: x.str.len(), axis=0).astype(pd.Int64Dtype())\n",
    "\tdisplay(wd_length.describe(percentiles=[.9,.95,.99]).drop(['count','50%','min']))\n",
    "\n",
    "\twd_length_count = wd_length.melt()\n",
    "\twd_length_count = wd_length_count.pivot_table(index='value', columns='variable', values='value', aggfunc='size')\n",
    "\tplt.style.use('seaborn-v0_8-notebook')\n",
    "\twd_length_count.plot(kind='bar')\n",
    "\t"
   ]
  },
  {
   "cell_type": "markdown",
   "metadata": {},
   "source": [
    "- less average encoding length: lazier\n",
    "- less standard deviation of encoding length: evener"
   ]
  },
  {
   "cell_type": "code",
   "execution_count": null,
   "metadata": {},
   "outputs": [],
   "source": [
    "plot_string_length_freq(df[['encoding', 'vowel_free']])"
   ]
  },
  {
   "cell_type": "markdown",
   "metadata": {},
   "source": [
    "coincident codes: counts of words with same encoding"
   ]
  },
  {
   "cell_type": "code",
   "execution_count": null,
   "metadata": {},
   "outputs": [],
   "source": [
    "def coincident_stats(encodings: pd.DataFrame, ext = 10):\n",
    "\ttotal = len(encodings)\n",
    "\n",
    "\tmultiplicity = encodings.value_counts()\n",
    "\tmultiplicity.index.name = 'encoding'\n",
    "\tmultiplicity.name = 'multiplicity'\n",
    "\n",
    "\tmultiplicity_freq = multiplicity.value_counts()\n",
    "\tmultiplicity_freq.index.name = 'multiplicity'\n",
    "\tmultiplicity_freq.name = 'freq'\n",
    "\n",
    "\tcoincident_rate = 1 - (multiplicity_freq.loc[1]) / multiplicity_freq.sum()\n",
    "\n",
    "\textremes = multiplicity_freq.loc[ext+1:]\n",
    "\tword_count_with_extreme_encodings = (extremes.index.to_numpy() * extremes.values).sum()\n",
    "\tratio_with_extreme_encodings = np.round( word_count_with_extreme_encodings/total *100 , 2)\n",
    "\n",
    "\tprint(f'coincident_rate: {np.round(coincident_rate * 100,2)}%')\n",
    "\tprint(f'There are {extremes.sum()} encodings have more than {ext} multiplicities, encoding {word_count_with_extreme_encodings}({ratio_with_extreme_encodings}%) words.')\n",
    "\n",
    "\tq = multiplicity.quantile([.8,.9,.95,.99])\n",
    "\tq.index.name = 'quantile'\n",
    "\tq.name = 'multiplicity'\n",
    "\n",
    "\tprint('extreme:')\n",
    "\tdisplay(extremes.to_frame())\n",
    "\tprint('quantile:')\n",
    "\tdisplay(q.to_frame())\n",
    "\n",
    "\textreme_encoding = pd.Series(multiplicity[multiplicity > ext].index)\n",
    "\textreme_encoding.name = 'freq'\n",
    "\textreme_encoding.index.name = 'encoding_length'\n",
    "\tif len(extreme_encoding) > 0:\n",
    "\t\t# display(extreme_encoding)\n",
    "\t\tsn.barplot(x = extreme_encoding.str.len().value_counts().index, y = extreme_encoding.str.len().value_counts())\n",
    "\t# plt.hist(multiplicity,bins=range(min(multiplicity), max(multiplicity)+1,1))\n",
    "\treturn multiplicity, multiplicity_freq, extreme_encoding"
   ]
  },
  {
   "cell_type": "markdown",
   "metadata": {},
   "source": [
    "no coincidence in original dictionary lexicon(of course)"
   ]
  },
  {
   "cell_type": "code",
   "execution_count": null,
   "metadata": {},
   "outputs": [],
   "source": [
    "_ = coincident_stats(df.index)"
   ]
  },
  {
   "cell_type": "code",
   "execution_count": null,
   "metadata": {},
   "outputs": [],
   "source": [
    "_ = coincident_stats(df.encoding)"
   ]
  },
  {
   "cell_type": "code",
   "execution_count": null,
   "metadata": {},
   "outputs": [],
   "source": [
    "multiplicity, _, extreme_encoding = coincident_stats(df.vowel_free)"
   ]
  },
  {
   "cell_type": "markdown",
   "metadata": {},
   "source": [
    "let's taker a careful look at the extreme encodings"
   ]
  },
  {
   "cell_type": "code",
   "execution_count": null,
   "metadata": {},
   "outputs": [],
   "source": [
    "extreme_encoding"
   ]
  },
  {
   "cell_type": "code",
   "execution_count": null,
   "metadata": {},
   "outputs": [],
   "source": [
    "multiplicity[multiplicity > 10]"
   ]
  },
  {
   "cell_type": "code",
   "execution_count": null,
   "metadata": {},
   "outputs": [],
   "source": [
    "with pd.option_context('display.max_rows', None, 'display.max_columns', None):\n",
    "\tdisplay(multiplicity[multiplicity > 10])\n",
    "\tdisplay(df[df.vowel_free.isin(['BLS','FLS'])])"
   ]
  },
  {
   "cell_type": "markdown",
   "metadata": {},
   "source": [
    "## Normalization\n",
    "\n",
    "We hope that:\n",
    "1. the plurals and the third person single form are uniformly terminated with S(instead of Z)\n",
    "2. the past particles are uniformly terminated with E(instead of T or D)\n",
    "3. the present particles are uniformly terminated with I(this is already done since we encode NG sound by I)\n",
    "\n",
    "you can take these terminations as a grammatical symbol"
   ]
  },
  {
   "cell_type": "code",
   "execution_count": 112,
   "metadata": {},
   "outputs": [
    {
     "data": {
      "text/plain": [
       "word\n",
       "aardvarks           QRDVQRKS\n",
       "aarhus                  QHQS\n",
       "abacus                QBQKQS\n",
       "abalones            QBQLQNQZ\n",
       "abandonments    QBQNDQNMQNTS\n",
       "                    ...     \n",
       "zones                   ZQNZ\n",
       "zoologists        ZQQLQJQSTS\n",
       "zooms                   ZQMZ\n",
       "zoos                     ZQZ\n",
       "zucchinis            ZQKQNQZ\n",
       "Name: encoding, Length: 13296, dtype: object"
      ]
     },
     "execution_count": 112,
     "metadata": {},
     "output_type": "execute_result"
    }
   ],
   "source": [
    "df.encoding.loc[(df.index.str.contains('s$', regex=True) == True)]"
   ]
  },
  {
   "cell_type": "code",
   "execution_count": 113,
   "metadata": {},
   "outputs": [
    {
     "data": {
      "text/plain": [
       "word\n",
       "abandoned        QBQNDQND\n",
       "abashed             QBQUT\n",
       "abated             QBQTQD\n",
       "abbreviated    QBRQVQQTQD\n",
       "abdicated       QBDQKQTQD\n",
       "                  ...    \n",
       "zigzagged         ZQGZQGD\n",
       "zipped               ZQPT\n",
       "zippered            ZQPQD\n",
       "zoned                ZQND\n",
       "zoomed               ZQMD\n",
       "Name: encoding, Length: 4701, dtype: object"
      ]
     },
     "execution_count": 113,
     "metadata": {},
     "output_type": "execute_result"
    }
   ],
   "source": [
    "df.encoding.loc[(df.index.str.contains('ed$', regex=True) == True)]"
   ]
  },
  {
   "cell_type": "code",
   "execution_count": 114,
   "metadata": {},
   "outputs": [
    {
     "data": {
      "text/plain": [
       "word\n",
       "abandoning       QBQNDQNQI\n",
       "abating             QBQTQI\n",
       "abbreviating    QBRQVQQTQI\n",
       "abdicating       QBDQKQTQI\n",
       "abducting         QBDQKTQI\n",
       "                   ...    \n",
       "zing                   ZQI\n",
       "zippering          ZQPQRQI\n",
       "zipping              ZQPQI\n",
       "zoning               ZQNQI\n",
       "zooming              ZQMQI\n",
       "Name: encoding, Length: 4323, dtype: object"
      ]
     },
     "execution_count": 114,
     "metadata": {},
     "output_type": "execute_result"
    }
   ],
   "source": [
    "df.encoding.loc[(df.index.str.contains('ing$', regex=True) == True)]"
   ]
  },
  {
   "cell_type": "markdown",
   "metadata": {},
   "source": [
    "### Normalize S-form\n",
    "\n",
    "notice that most of the extreme encodings have the `S` termination, which is due to enormous derivations in plurals/single third person form (we call them S-form). So it's better to spare another grammatical termination for them.\n",
    "\n",
    "To do so, we must first recognize the S-form, there are two necessary criterion (yet not proved to be sufficient, perhaps some risks of mis-recognize?)\n",
    "\n",
    "1. phonetic criterion: end with s|z\n",
    "2. morphological criterion: word differs its lemma by s(es,ies et etc)\n",
    "\n",
    "notice that we don't account for irregular words.\n"
   ]
  },
  {
   "cell_type": "code",
   "execution_count": 115,
   "metadata": {},
   "outputs": [
    {
     "data": {
      "text/plain": [
       "Index(['aardvarks', 'aarhus', 'abacus', 'abalones', 'abandonments', 'abandons',\n",
       "       'abatements', 'abates', 'abbreviates', 'abbreviations',\n",
       "       ...\n",
       "       'zirconiums', 'zircons', 'zithers', 'zlotys', 'zombies', 'zones',\n",
       "       'zoologists', 'zooms', 'zoos', 'zucchinis'],\n",
       "      dtype='object', name='word', length=13272)"
      ]
     },
     "execution_count": 115,
     "metadata": {},
     "output_type": "execute_result"
    }
   ],
   "source": [
    "words_sound_end_with_s = df.loc[df.index.str.contains('s$',regex=True) & df.sound.str.contains('[SZ]$',regex=True)].index\n",
    "words_sound_end_with_s"
   ]
  },
  {
   "cell_type": "code",
   "execution_count": 116,
   "metadata": {},
   "outputs": [],
   "source": [
    "def get_suffix(word, lemma):\n",
    "    cnt = sum(w==l for w, l in zip(word, lemma))\n",
    "    return word[cnt:]"
   ]
  },
  {
   "cell_type": "code",
   "execution_count": 117,
   "metadata": {},
   "outputs": [],
   "source": [
    "def is_s_form(word, non_s_forms: list):\n",
    "\tfor lemmas_per_pos in m(word).values():\n",
    "\t\tfor lemma in lemmas_per_pos:\n",
    "\t\t\tsuffix = get_suffix(word, lemma)\n",
    "\t\t\tif suffix in ['s','es','ies', 'ves', 'ces', 'ses', 'ices', 'zes']:\n",
    "\t\t\t# if 's' in suffix :\n",
    "\t\t\t\treturn True\n",
    "\tnon_s_forms.append(word)"
   ]
  },
  {
   "cell_type": "code",
   "execution_count": 118,
   "metadata": {},
   "outputs": [
    {
     "name": "stderr",
     "output_type": "stream",
     "text": [
      "100%|██████████| 13272/13272 [00:00<00:00, 31704.99it/s]\n"
     ]
    }
   ],
   "source": [
    "non_s_forms = []\n",
    "for word in tqdm(words_sound_end_with_s):\n",
    "\tis_s_form(word, non_s_forms)"
   ]
  },
  {
   "cell_type": "code",
   "execution_count": 119,
   "metadata": {},
   "outputs": [
    {
     "data": {
      "text/plain": [
       "1820"
      ]
     },
     "execution_count": 119,
     "metadata": {},
     "output_type": "execute_result"
    }
   ],
   "source": [
    "len(non_s_forms)"
   ]
  },
  {
   "cell_type": "markdown",
   "metadata": {},
   "source": [
    "some rare s-forms we exclude them"
   ]
  },
  {
   "cell_type": "code",
   "execution_count": 121,
   "metadata": {},
   "outputs": [
    {
     "data": {
      "text/plain": [
       "{'n': {'pons'}}"
      ]
     },
     "execution_count": 121,
     "metadata": {},
     "output_type": "execute_result"
    }
   ],
   "source": [
    "m('pontes')"
   ]
  },
  {
   "cell_type": "markdown",
   "metadata": {},
   "source": [
    "simple verification"
   ]
  },
  {
   "cell_type": "code",
   "execution_count": 123,
   "metadata": {},
   "outputs": [
    {
     "data": {
      "text/plain": [
       "(False, True)"
      ]
     },
     "execution_count": 123,
     "metadata": {},
     "output_type": "execute_result"
    }
   ],
   "source": [
    "'produces' in non_s_forms, 'bliss' in non_s_forms"
   ]
  },
  {
   "cell_type": "code",
   "execution_count": 124,
   "metadata": {},
   "outputs": [],
   "source": [
    "s_form_candidates = words_sound_end_with_s.to_list()\n",
    "for word in non_s_forms:\n",
    "\ts_form_candidates.remove(word)\n",
    "\n",
    "s_forms = pd.Index(s_form_candidates)"
   ]
  },
  {
   "cell_type": "code",
   "execution_count": 125,
   "metadata": {},
   "outputs": [
    {
     "data": {
      "text/plain": [
       "Index(['aardvarks', 'abalones', 'abandonments', 'abandons', 'abatements',\n",
       "       'abates', 'abbreviates', 'abbreviations', 'abdicates', 'abductions',\n",
       "       ...\n",
       "       'zirconiums', 'zircons', 'zithers', 'zlotys', 'zombies', 'zones',\n",
       "       'zoologists', 'zooms', 'zoos', 'zucchinis'],\n",
       "      dtype='object', length=11452)"
      ]
     },
     "execution_count": 125,
     "metadata": {},
     "output_type": "execute_result"
    }
   ],
   "source": [
    "s_forms"
   ]
  },
  {
   "cell_type": "markdown",
   "metadata": {},
   "source": [
    "reencoding s-forms by `A`-termination"
   ]
  },
  {
   "cell_type": "code",
   "execution_count": 128,
   "metadata": {},
   "outputs": [],
   "source": [
    "df.loc[s_forms, 'encoding'] = df.loc[s_forms, 'encoding'].str.replace('[SZ]$', 'A', regex=True)"
   ]
  },
  {
   "cell_type": "code",
   "execution_count": 129,
   "metadata": {},
   "outputs": [
    {
     "data": {
      "text/plain": [
       "aardvarks           QRDVQRKA\n",
       "abalones            QBQLQNQA\n",
       "abandonments    QBQNDQNMQNTA\n",
       "abandons            QBQNDQNA\n",
       "abatements         QBQTMQNTA\n",
       "                    ...     \n",
       "zones                   ZQNA\n",
       "zoologists        ZQQLQJQSTA\n",
       "zooms                   ZQMA\n",
       "zoos                     ZQA\n",
       "zucchinis            ZQKQNQA\n",
       "Name: encoding, Length: 11452, dtype: object"
      ]
     },
     "execution_count": 129,
     "metadata": {},
     "output_type": "execute_result"
    }
   ],
   "source": [
    "df.loc[s_forms, 'encoding']"
   ]
  },
  {
   "cell_type": "markdown",
   "metadata": {},
   "source": [
    "### Normalize past particle"
   ]
  },
  {
   "cell_type": "markdown",
   "metadata": {},
   "source": [
    "words terminates with `-ed` consists also a large part of english vocabulary. Likewise, we need to recognize the past particle from all `-ed` form. The criterion is:\n",
    "\n",
    "1. phonetic criterion: end with t|d\n",
    "2. morphological criterion: word differs its lemma by ed(or d)"
   ]
  },
  {
   "cell_type": "code",
   "execution_count": 130,
   "metadata": {},
   "outputs": [
    {
     "data": {
      "text/plain": [
       "Index(['abandoned', 'abashed', 'abated', 'abbreviated', 'abdicated',\n",
       "       'abducted', 'abed', 'abetted', 'abhorred', 'abided',\n",
       "       ...\n",
       "       'yielded', 'yoked', 'zapped', 'zed', 'zeroed', 'zigzagged', 'zipped',\n",
       "       'zippered', 'zoned', 'zoomed'],\n",
       "      dtype='object', name='word', length=4701)"
      ]
     },
     "execution_count": 130,
     "metadata": {},
     "output_type": "execute_result"
    }
   ],
   "source": [
    "words_sound_end_with_t_or_d = df.loc[df.index.str.contains('ed$',regex=True) & df.sound.str.contains('[TD]$',regex=True)].index\n",
    "words_sound_end_with_t_or_d"
   ]
  },
  {
   "cell_type": "code",
   "execution_count": 140,
   "metadata": {},
   "outputs": [],
   "source": [
    "def is_past_particle(word, non_past_particles: list):\n",
    "\tfor lemmas_per_pos in m(word).values():\n",
    "\t\tfor lemma in lemmas_per_pos:\n",
    "\t\t\tsuffix = get_suffix(word, lemma)\n",
    "\t\t\tif 'd' in suffix:\n",
    "\t\t\t\treturn True\n",
    "\tnon_past_particles.append(word)"
   ]
  },
  {
   "cell_type": "code",
   "execution_count": 132,
   "metadata": {},
   "outputs": [
    {
     "data": {
      "text/plain": [
       "({'v': {'fee', 'feed'}}, {'v': {'need'}})"
      ]
     },
     "execution_count": 132,
     "metadata": {},
     "output_type": "execute_result"
    }
   ],
   "source": [
    "m('feed','v'), m('need','v')"
   ]
  },
  {
   "cell_type": "code",
   "execution_count": 141,
   "metadata": {},
   "outputs": [
    {
     "name": "stderr",
     "output_type": "stream",
     "text": [
      "100%|██████████| 4701/4701 [00:00<00:00, 25226.03it/s]\n"
     ]
    }
   ],
   "source": [
    "non_past_particles = []\n",
    "for word in tqdm(words_sound_end_with_t_or_d):\n",
    "\tis_past_particle(word, non_past_particles)"
   ]
  },
  {
   "cell_type": "code",
   "execution_count": 142,
   "metadata": {},
   "outputs": [
    {
     "data": {
      "text/plain": [
       "446"
      ]
     },
     "execution_count": 142,
     "metadata": {},
     "output_type": "execute_result"
    }
   ],
   "source": [
    "len(non_past_particles)"
   ]
  },
  {
   "cell_type": "code",
   "execution_count": 143,
   "metadata": {},
   "outputs": [
    {
     "data": {
      "text/plain": [
       "True"
      ]
     },
     "execution_count": 143,
     "metadata": {},
     "output_type": "execute_result"
    }
   ],
   "source": [
    "'embed' in non_past_particles"
   ]
  },
  {
   "cell_type": "code",
   "execution_count": 146,
   "metadata": {},
   "outputs": [
    {
     "data": {
      "text/plain": [
       "False"
      ]
     },
     "execution_count": 146,
     "metadata": {},
     "output_type": "execute_result"
    }
   ],
   "source": [
    "'feed' in non_past_particles"
   ]
  },
  {
   "cell_type": "markdown",
   "metadata": {},
   "source": [
    "some common word may be the past particle of a rare word, e.g. `fee-feed`, so there are some particular case need to be treated separately."
   ]
  },
  {
   "cell_type": "code",
   "execution_count": 147,
   "metadata": {},
   "outputs": [],
   "source": [
    "non_past_particles.append('feed')"
   ]
  },
  {
   "cell_type": "markdown",
   "metadata": {},
   "source": [
    "reencoding past particle by 'E'-termination"
   ]
  },
  {
   "cell_type": "code",
   "execution_count": 149,
   "metadata": {},
   "outputs": [],
   "source": [
    "past_particle_candidate = words_sound_end_with_t_or_d.to_list()\n",
    "for word in  non_past_particles:\n",
    "\tpast_particle_candidate.remove(word)\n",
    "\n",
    "past_particles = pd.Index(past_particle_candidate)"
   ]
  },
  {
   "cell_type": "code",
   "execution_count": 150,
   "metadata": {},
   "outputs": [
    {
     "data": {
      "text/plain": [
       "Index(['abandoned', 'abashed', 'abated', 'abbreviated', 'abdicated',\n",
       "       'abducted', 'abetted', 'abhorred', 'abided', 'abolished',\n",
       "       ...\n",
       "       'yelped', 'yielded', 'yoked', 'zapped', 'zeroed', 'zigzagged', 'zipped',\n",
       "       'zippered', 'zoned', 'zoomed'],\n",
       "      dtype='object', length=4254)"
      ]
     },
     "execution_count": 150,
     "metadata": {},
     "output_type": "execute_result"
    }
   ],
   "source": [
    "past_particles"
   ]
  },
  {
   "cell_type": "code",
   "execution_count": 151,
   "metadata": {},
   "outputs": [],
   "source": [
    "df.loc[past_particles, 'encoding'] = df.loc[past_particles, 'encoding'].str.replace('[TD]$', 'E', regex=True)"
   ]
  },
  {
   "cell_type": "code",
   "execution_count": 154,
   "metadata": {},
   "outputs": [],
   "source": [
    "df['vowel_free'] = remove_vowels(df.encoding)"
   ]
  },
  {
   "cell_type": "code",
   "execution_count": 155,
   "metadata": {},
   "outputs": [
    {
     "data": {
      "text/plain": [
       "word\n",
       "a                Q\n",
       "aachen         QKN\n",
       "aalborg      QLBRG\n",
       "aalto         QLTQ\n",
       "aardvark    QRDVRK\n",
       "             ...  \n",
       "zuni           ZNQ\n",
       "zurich         ZRK\n",
       "zweig          ZWG\n",
       "zydeco        ZDKQ\n",
       "zygote         ZGT\n",
       "Name: vowel_free, Length: 51950, dtype: object"
      ]
     },
     "execution_count": 155,
     "metadata": {},
     "output_type": "execute_result"
    }
   ],
   "source": [
    "df['vowel_free']"
   ]
  },
  {
   "cell_type": "markdown",
   "metadata": {},
   "source": [
    "## Manually correct exceptions"
   ]
  },
  {
   "cell_type": "markdown",
   "metadata": {},
   "source": [
    "Type letters, 2-grams, 3-grams by themselve  "
   ]
  },
  {
   "cell_type": "code",
   "execution_count": 158,
   "metadata": {},
   "outputs": [
    {
     "data": {
      "text/plain": [
       "sound         HH AY\n",
       "freq               \n",
       "encoding         HQ\n",
       "vowel_free       HQ\n",
       "Name: hi, dtype: object"
      ]
     },
     "execution_count": 158,
     "metadata": {},
     "output_type": "execute_result"
    }
   ],
   "source": [
    "df.loc['hi']"
   ]
  },
  {
   "cell_type": "code",
   "execution_count": 159,
   "metadata": {},
   "outputs": [],
   "source": [
    "rare_2_grams =  df.loc[(df.index.str.len() == 2) & (~df.freq.notna()), ['encoding','freq']].drop('hi')"
   ]
  },
  {
   "cell_type": "code",
   "execution_count": 443,
   "metadata": {},
   "outputs": [],
   "source": [
    "df.drop(rare_2_grams.index, inplace=True)"
   ]
  },
  {
   "cell_type": "code",
   "execution_count": 163,
   "metadata": {},
   "outputs": [],
   "source": [
    "df.loc[(df.index.str.len() <= 3), 'vowel_free'] = df.index[(df.index.str.len() <= 3)].str.upper()"
   ]
  },
  {
   "cell_type": "markdown",
   "metadata": {},
   "source": [
    "### reexaminate stats"
   ]
  },
  {
   "cell_type": "code",
   "execution_count": 166,
   "metadata": {},
   "outputs": [
    {
     "data": {
      "text/html": [
       "<div>\n",
       "<style scoped>\n",
       "    .dataframe tbody tr th:only-of-type {\n",
       "        vertical-align: middle;\n",
       "    }\n",
       "\n",
       "    .dataframe tbody tr th {\n",
       "        vertical-align: top;\n",
       "    }\n",
       "\n",
       "    .dataframe thead th {\n",
       "        text-align: right;\n",
       "    }\n",
       "</style>\n",
       "<table border=\"1\" class=\"dataframe\">\n",
       "  <thead>\n",
       "    <tr style=\"text-align: right;\">\n",
       "      <th></th>\n",
       "      <th>word</th>\n",
       "      <th>encoding</th>\n",
       "      <th>vowel_free</th>\n",
       "    </tr>\n",
       "  </thead>\n",
       "  <tbody>\n",
       "    <tr>\n",
       "      <th>mean</th>\n",
       "      <td>7.930279</td>\n",
       "      <td>6.837421</td>\n",
       "      <td>4.642964</td>\n",
       "    </tr>\n",
       "    <tr>\n",
       "      <th>std</th>\n",
       "      <td>2.452292</td>\n",
       "      <td>2.371894</td>\n",
       "      <td>1.509648</td>\n",
       "    </tr>\n",
       "    <tr>\n",
       "      <th>90%</th>\n",
       "      <td>11.0</td>\n",
       "      <td>10.0</td>\n",
       "      <td>7.0</td>\n",
       "    </tr>\n",
       "    <tr>\n",
       "      <th>95%</th>\n",
       "      <td>12.0</td>\n",
       "      <td>11.0</td>\n",
       "      <td>7.0</td>\n",
       "    </tr>\n",
       "    <tr>\n",
       "      <th>99%</th>\n",
       "      <td>14.0</td>\n",
       "      <td>13.0</td>\n",
       "      <td>9.0</td>\n",
       "    </tr>\n",
       "    <tr>\n",
       "      <th>max</th>\n",
       "      <td>20.0</td>\n",
       "      <td>18.0</td>\n",
       "      <td>12.0</td>\n",
       "    </tr>\n",
       "  </tbody>\n",
       "</table>\n",
       "</div>"
      ],
      "text/plain": [
       "          word  encoding  vowel_free\n",
       "mean  7.930279  6.837421    4.642964\n",
       "std   2.452292  2.371894    1.509648\n",
       "90%       11.0      10.0         7.0\n",
       "95%       12.0      11.0         7.0\n",
       "99%       14.0      13.0         9.0\n",
       "max       20.0      18.0        12.0"
      ]
     },
     "metadata": {},
     "output_type": "display_data"
    },
    {
     "data": {
      "image/png": "[encoded data removed]",
      "text/plain": [
       "<Figure size 800x550 with 1 Axes>"
      ]
     },
     "metadata": {},
     "output_type": "display_data"
    }
   ],
   "source": [
    "plot_string_length_freq(df[['encoding', 'vowel_free']])"
   ]
  },
  {
   "cell_type": "code",
   "execution_count": 446,
   "metadata": {},
   "outputs": [
    {
     "name": "stdout",
     "output_type": "stream",
     "text": [
      "coincident_rate: 18.0%\n",
      "There are 269 encodings have more than 10 multiplicities, encoding 3634(7.0%) words.\n",
      "extreme:\n"
     ]
    },
    {
     "data": {
      "text/html": [
       "<div>\n",
       "<style scoped>\n",
       "    .dataframe tbody tr th:only-of-type {\n",
       "        vertical-align: middle;\n",
       "    }\n",
       "\n",
       "    .dataframe tbody tr th {\n",
       "        vertical-align: top;\n",
       "    }\n",
       "\n",
       "    .dataframe thead th {\n",
       "        text-align: right;\n",
       "    }\n",
       "</style>\n",
       "<table border=\"1\" class=\"dataframe\">\n",
       "  <thead>\n",
       "    <tr style=\"text-align: right;\">\n",
       "      <th></th>\n",
       "      <th>freq</th>\n",
       "    </tr>\n",
       "    <tr>\n",
       "      <th>multiplicity</th>\n",
       "      <th></th>\n",
       "    </tr>\n",
       "  </thead>\n",
       "  <tbody>\n",
       "    <tr>\n",
       "      <th>11</th>\n",
       "      <td>53</td>\n",
       "    </tr>\n",
       "    <tr>\n",
       "      <th>10</th>\n",
       "      <td>52</td>\n",
       "    </tr>\n",
       "    <tr>\n",
       "      <th>12</th>\n",
       "      <td>40</td>\n",
       "    </tr>\n",
       "    <tr>\n",
       "      <th>14</th>\n",
       "      <td>30</td>\n",
       "    </tr>\n",
       "    <tr>\n",
       "      <th>13</th>\n",
       "      <td>29</td>\n",
       "    </tr>\n",
       "    <tr>\n",
       "      <th>15</th>\n",
       "      <td>18</td>\n",
       "    </tr>\n",
       "    <tr>\n",
       "      <th>16</th>\n",
       "      <td>10</td>\n",
       "    </tr>\n",
       "    <tr>\n",
       "      <th>17</th>\n",
       "      <td>6</td>\n",
       "    </tr>\n",
       "    <tr>\n",
       "      <th>18</th>\n",
       "      <td>5</td>\n",
       "    </tr>\n",
       "    <tr>\n",
       "      <th>19</th>\n",
       "      <td>5</td>\n",
       "    </tr>\n",
       "    <tr>\n",
       "      <th>20</th>\n",
       "      <td>4</td>\n",
       "    </tr>\n",
       "    <tr>\n",
       "      <th>21</th>\n",
       "      <td>3</td>\n",
       "    </tr>\n",
       "    <tr>\n",
       "      <th>22</th>\n",
       "      <td>2</td>\n",
       "    </tr>\n",
       "    <tr>\n",
       "      <th>25</th>\n",
       "      <td>2</td>\n",
       "    </tr>\n",
       "    <tr>\n",
       "      <th>34</th>\n",
       "      <td>1</td>\n",
       "    </tr>\n",
       "    <tr>\n",
       "      <th>24</th>\n",
       "      <td>1</td>\n",
       "    </tr>\n",
       "    <tr>\n",
       "      <th>26</th>\n",
       "      <td>1</td>\n",
       "    </tr>\n",
       "    <tr>\n",
       "      <th>27</th>\n",
       "      <td>1</td>\n",
       "    </tr>\n",
       "    <tr>\n",
       "      <th>28</th>\n",
       "      <td>1</td>\n",
       "    </tr>\n",
       "    <tr>\n",
       "      <th>30</th>\n",
       "      <td>1</td>\n",
       "    </tr>\n",
       "    <tr>\n",
       "      <th>31</th>\n",
       "      <td>1</td>\n",
       "    </tr>\n",
       "    <tr>\n",
       "      <th>32</th>\n",
       "      <td>1</td>\n",
       "    </tr>\n",
       "    <tr>\n",
       "      <th>33</th>\n",
       "      <td>1</td>\n",
       "    </tr>\n",
       "    <tr>\n",
       "      <th>35</th>\n",
       "      <td>1</td>\n",
       "    </tr>\n",
       "  </tbody>\n",
       "</table>\n",
       "</div>"
      ],
      "text/plain": [
       "              freq\n",
       "multiplicity      \n",
       "11              53\n",
       "10              52\n",
       "12              40\n",
       "14              30\n",
       "13              29\n",
       "15              18\n",
       "16              10\n",
       "17               6\n",
       "18               5\n",
       "19               5\n",
       "20               4\n",
       "21               3\n",
       "22               2\n",
       "25               2\n",
       "34               1\n",
       "24               1\n",
       "26               1\n",
       "27               1\n",
       "28               1\n",
       "30               1\n",
       "31               1\n",
       "32               1\n",
       "33               1\n",
       "35               1"
      ]
     },
     "metadata": {},
     "output_type": "display_data"
    },
    {
     "name": "stdout",
     "output_type": "stream",
     "text": [
      "quantile:\n"
     ]
    },
    {
     "data": {
      "text/html": [
       "<div>\n",
       "<style scoped>\n",
       "    .dataframe tbody tr th:only-of-type {\n",
       "        vertical-align: middle;\n",
       "    }\n",
       "\n",
       "    .dataframe tbody tr th {\n",
       "        vertical-align: top;\n",
       "    }\n",
       "\n",
       "    .dataframe thead th {\n",
       "        text-align: right;\n",
       "    }\n",
       "</style>\n",
       "<table border=\"1\" class=\"dataframe\">\n",
       "  <thead>\n",
       "    <tr style=\"text-align: right;\">\n",
       "      <th></th>\n",
       "      <th>multiplicity</th>\n",
       "    </tr>\n",
       "    <tr>\n",
       "      <th>quantile</th>\n",
       "      <th></th>\n",
       "    </tr>\n",
       "  </thead>\n",
       "  <tbody>\n",
       "    <tr>\n",
       "      <th>0.80</th>\n",
       "      <td>1.0</td>\n",
       "    </tr>\n",
       "    <tr>\n",
       "      <th>0.90</th>\n",
       "      <td>2.0</td>\n",
       "    </tr>\n",
       "    <tr>\n",
       "      <th>0.95</th>\n",
       "      <td>3.0</td>\n",
       "    </tr>\n",
       "    <tr>\n",
       "      <th>0.99</th>\n",
       "      <td>8.0</td>\n",
       "    </tr>\n",
       "  </tbody>\n",
       "</table>\n",
       "</div>"
      ],
      "text/plain": [
       "          multiplicity\n",
       "quantile              \n",
       "0.80               1.0\n",
       "0.90               2.0\n",
       "0.95               3.0\n",
       "0.99               8.0"
      ]
     },
     "metadata": {},
     "output_type": "display_data"
    },
    {
     "data": {
      "image/png": "[encoded data removed]",
      "text/plain": [
       "<Figure size 800x550 with 1 Axes>"
      ]
     },
     "metadata": {},
     "output_type": "display_data"
    }
   ],
   "source": [
    "multiplicity, _, extreme_encoding = coincident_stats(df.vowel_free)"
   ]
  },
  {
   "cell_type": "code",
   "execution_count": 447,
   "metadata": {},
   "outputs": [
    {
     "data": {
      "text/plain": [
       "encoding_length\n",
       "0       FLQ\n",
       "1       FLA\n",
       "2       BRQ\n",
       "3       BLA\n",
       "4       KLQ\n",
       "       ... \n",
       "212    PRTQ\n",
       "213     SKL\n",
       "214     PLI\n",
       "215     STI\n",
       "216     KRT\n",
       "Name: freq, Length: 217, dtype: object"
      ]
     },
     "execution_count": 447,
     "metadata": {},
     "output_type": "execute_result"
    }
   ],
   "source": [
    "extreme_encoding"
   ]
  },
  {
   "cell_type": "code",
   "execution_count": 448,
   "metadata": {},
   "outputs": [
    {
     "data": {
      "text/plain": [
       "encoding\n",
       "FLQ     35\n",
       "FLA     34\n",
       "BRQ     33\n",
       "BLA     32\n",
       "KLQ     31\n",
       "        ..\n",
       "PRTQ    11\n",
       "SKL     11\n",
       "PLI     11\n",
       "STI     11\n",
       "KRT     11\n",
       "Name: multiplicity, Length: 217, dtype: int64"
      ]
     },
     "execution_count": 448,
     "metadata": {},
     "output_type": "execute_result"
    }
   ],
   "source": [
    "multiplicity[multiplicity > 10]"
   ]
  },
  {
   "cell_type": "code",
   "execution_count": 167,
   "metadata": {},
   "outputs": [],
   "source": [
    "df.to_csv('./dict_en.csv')"
   ]
  },
  {
   "cell_type": "code",
   "execution_count": 13,
   "metadata": {},
   "outputs": [],
   "source": [
    "df= pd.read_csv('./dict_en.csv', sep = ',', index_col=0)"
   ]
  },
  {
   "cell_type": "code",
   "execution_count": 14,
   "metadata": {},
   "outputs": [
    {
     "data": {
      "text/html": [
       "<div>\n",
       "<style scoped>\n",
       "    .dataframe tbody tr th:only-of-type {\n",
       "        vertical-align: middle;\n",
       "    }\n",
       "\n",
       "    .dataframe tbody tr th {\n",
       "        vertical-align: top;\n",
       "    }\n",
       "\n",
       "    .dataframe thead th {\n",
       "        text-align: right;\n",
       "    }\n",
       "</style>\n",
       "<table border=\"1\" class=\"dataframe\">\n",
       "  <thead>\n",
       "    <tr style=\"text-align: right;\">\n",
       "      <th></th>\n",
       "      <th>sound</th>\n",
       "      <th>freq</th>\n",
       "      <th>encoding</th>\n",
       "      <th>vowel_free</th>\n",
       "    </tr>\n",
       "    <tr>\n",
       "      <th>word</th>\n",
       "      <th></th>\n",
       "      <th></th>\n",
       "      <th></th>\n",
       "      <th></th>\n",
       "    </tr>\n",
       "  </thead>\n",
       "  <tbody>\n",
       "    <tr>\n",
       "      <th>a</th>\n",
       "      <td>AH</td>\n",
       "      <td>4863.0</td>\n",
       "      <td>Q</td>\n",
       "      <td>A</td>\n",
       "    </tr>\n",
       "    <tr>\n",
       "      <th>aachen</th>\n",
       "      <td>AA K AH N</td>\n",
       "      <td>NaN</td>\n",
       "      <td>QKQN</td>\n",
       "      <td>QKN</td>\n",
       "    </tr>\n",
       "    <tr>\n",
       "      <th>aalborg</th>\n",
       "      <td>AO L B AO R G</td>\n",
       "      <td>NaN</td>\n",
       "      <td>QLBQRG</td>\n",
       "      <td>QLBRG</td>\n",
       "    </tr>\n",
       "    <tr>\n",
       "      <th>aalto</th>\n",
       "      <td>AA L T OW</td>\n",
       "      <td>NaN</td>\n",
       "      <td>QLTQ</td>\n",
       "      <td>QLTQ</td>\n",
       "    </tr>\n",
       "    <tr>\n",
       "      <th>aardvark</th>\n",
       "      <td>AA R D V AA R K</td>\n",
       "      <td>NaN</td>\n",
       "      <td>QRDVQRK</td>\n",
       "      <td>QRDVRK</td>\n",
       "    </tr>\n",
       "  </tbody>\n",
       "</table>\n",
       "</div>"
      ],
      "text/plain": [
       "                    sound    freq encoding vowel_free\n",
       "word                                                 \n",
       "a                      AH  4863.0        Q          A\n",
       "aachen          AA K AH N     NaN     QKQN        QKN\n",
       "aalborg     AO L B AO R G     NaN   QLBQRG      QLBRG\n",
       "aalto           AA L T OW     NaN     QLTQ       QLTQ\n",
       "aardvark  AA R D V AA R K     NaN  QRDVQRK     QRDVRK"
      ]
     },
     "execution_count": 14,
     "metadata": {},
     "output_type": "execute_result"
    }
   ],
   "source": [
    "df.head()"
   ]
  },
  {
   "cell_type": "code",
   "execution_count": 15,
   "metadata": {},
   "outputs": [],
   "source": [
    "df.vowel_free = df.vowel_free.str.lower()"
   ]
  },
  {
   "cell_type": "code",
   "execution_count": 168,
   "metadata": {},
   "outputs": [],
   "source": [
    "df.loc[:,['vowel_free','freq']].to_csv('./dict_en.yaml', sep ='\\t')"
   ]
  },
  {
   "cell_type": "markdown",
   "metadata": {},
   "source": [
    "### Convenient abbr for common words use"
   ]
  },
  {
   "cell_type": "code",
   "execution_count": 458,
   "metadata": {},
   "outputs": [
    {
     "data": {
      "text/html": [
       "<div>\n",
       "<style scoped>\n",
       "    .dataframe tbody tr th:only-of-type {\n",
       "        vertical-align: middle;\n",
       "    }\n",
       "\n",
       "    .dataframe tbody tr th {\n",
       "        vertical-align: top;\n",
       "    }\n",
       "\n",
       "    .dataframe thead th {\n",
       "        text-align: right;\n",
       "    }\n",
       "</style>\n",
       "<table border=\"1\" class=\"dataframe\">\n",
       "  <thead>\n",
       "    <tr style=\"text-align: right;\">\n",
       "      <th></th>\n",
       "      <th>sound</th>\n",
       "      <th>freq</th>\n",
       "      <th>encoding</th>\n",
       "      <th>vowel_free</th>\n",
       "    </tr>\n",
       "    <tr>\n",
       "      <th>word</th>\n",
       "      <th></th>\n",
       "      <th></th>\n",
       "      <th></th>\n",
       "      <th></th>\n",
       "    </tr>\n",
       "  </thead>\n",
       "  <tbody>\n",
       "    <tr>\n",
       "      <th>able</th>\n",
       "      <td>EY B AH L</td>\n",
       "      <td>2940</td>\n",
       "      <td>QBQL</td>\n",
       "      <td>QBL</td>\n",
       "    </tr>\n",
       "    <tr>\n",
       "      <th>age</th>\n",
       "      <td>EY JH</td>\n",
       "      <td>3253</td>\n",
       "      <td>QJ</td>\n",
       "      <td>AGE</td>\n",
       "    </tr>\n",
       "    <tr>\n",
       "      <th>air</th>\n",
       "      <td>EH R</td>\n",
       "      <td>3492</td>\n",
       "      <td>QR</td>\n",
       "      <td>AIR</td>\n",
       "    </tr>\n",
       "    <tr>\n",
       "      <th>all</th>\n",
       "      <td>AO L</td>\n",
       "      <td>4718</td>\n",
       "      <td>QL</td>\n",
       "      <td>ALL</td>\n",
       "    </tr>\n",
       "    <tr>\n",
       "      <th>also</th>\n",
       "      <td>AO L S OW</td>\n",
       "      <td>4553</td>\n",
       "      <td>QLSQ</td>\n",
       "      <td>QLSQ</td>\n",
       "    </tr>\n",
       "    <tr>\n",
       "      <th>and</th>\n",
       "      <td>AH N D</td>\n",
       "      <td>4878</td>\n",
       "      <td>QND</td>\n",
       "      <td>AND</td>\n",
       "    </tr>\n",
       "    <tr>\n",
       "      <th>any</th>\n",
       "      <td>EH N IY</td>\n",
       "      <td>4613</td>\n",
       "      <td>QNQ</td>\n",
       "      <td>ANY</td>\n",
       "    </tr>\n",
       "    <tr>\n",
       "      <th>are</th>\n",
       "      <td>AA R</td>\n",
       "      <td>4788</td>\n",
       "      <td>QR</td>\n",
       "      <td>ARE</td>\n",
       "    </tr>\n",
       "    <tr>\n",
       "      <th>area</th>\n",
       "      <td>EH R IY AH</td>\n",
       "      <td>3820</td>\n",
       "      <td>QRQQ</td>\n",
       "      <td>QRQ</td>\n",
       "    </tr>\n",
       "    <tr>\n",
       "      <th>art</th>\n",
       "      <td>AA R T</td>\n",
       "      <td>2728</td>\n",
       "      <td>QRT</td>\n",
       "      <td>ART</td>\n",
       "    </tr>\n",
       "    <tr>\n",
       "      <th>away</th>\n",
       "      <td>AH W EY</td>\n",
       "      <td>3290</td>\n",
       "      <td>QWQ</td>\n",
       "      <td>QWQ</td>\n",
       "    </tr>\n",
       "    <tr>\n",
       "      <th>best</th>\n",
       "      <td>B EH S T</td>\n",
       "      <td>3552</td>\n",
       "      <td>BQST</td>\n",
       "      <td>BST</td>\n",
       "    </tr>\n",
       "    <tr>\n",
       "      <th>body</th>\n",
       "      <td>B AA D IY</td>\n",
       "      <td>3399</td>\n",
       "      <td>BQDQ</td>\n",
       "      <td>BDQ</td>\n",
       "    </tr>\n",
       "    <tr>\n",
       "      <th>but</th>\n",
       "      <td>B AH T</td>\n",
       "      <td>4748</td>\n",
       "      <td>BQT</td>\n",
       "      <td>BUT</td>\n",
       "    </tr>\n",
       "    <tr>\n",
       "      <th>can</th>\n",
       "      <td>K AE N</td>\n",
       "      <td>4683</td>\n",
       "      <td>KQN</td>\n",
       "      <td>CAN</td>\n",
       "    </tr>\n",
       "    <tr>\n",
       "      <th>cent</th>\n",
       "      <td>S EH N T</td>\n",
       "      <td>3214</td>\n",
       "      <td>SQNT</td>\n",
       "      <td>SNT</td>\n",
       "    </tr>\n",
       "    <tr>\n",
       "      <th>city</th>\n",
       "      <td>S IH T IY</td>\n",
       "      <td>4010</td>\n",
       "      <td>SQTQ</td>\n",
       "      <td>STQ</td>\n",
       "    </tr>\n",
       "    <tr>\n",
       "      <th>cost</th>\n",
       "      <td>K AA S T</td>\n",
       "      <td>3472</td>\n",
       "      <td>KQST</td>\n",
       "      <td>KST</td>\n",
       "    </tr>\n",
       "    <tr>\n",
       "      <th>cut</th>\n",
       "      <td>K AH T</td>\n",
       "      <td>2054</td>\n",
       "      <td>KQT</td>\n",
       "      <td>CUT</td>\n",
       "    </tr>\n",
       "    <tr>\n",
       "      <th>data</th>\n",
       "      <td>D EY T AH</td>\n",
       "      <td>3955</td>\n",
       "      <td>DQTQ</td>\n",
       "      <td>DTQ</td>\n",
       "    </tr>\n",
       "    <tr>\n",
       "      <th>day</th>\n",
       "      <td>D EY</td>\n",
       "      <td>4251</td>\n",
       "      <td>DQ</td>\n",
       "      <td>DAY</td>\n",
       "    </tr>\n",
       "    <tr>\n",
       "      <th>did</th>\n",
       "      <td>D IH D</td>\n",
       "      <td>4383</td>\n",
       "      <td>DQD</td>\n",
       "      <td>DID</td>\n",
       "    </tr>\n",
       "    <tr>\n",
       "      <th>due</th>\n",
       "      <td>D UW</td>\n",
       "      <td>3369</td>\n",
       "      <td>DQ</td>\n",
       "      <td>DUE</td>\n",
       "    </tr>\n",
       "    <tr>\n",
       "      <th>duty</th>\n",
       "      <td>D UW T IY</td>\n",
       "      <td>2085</td>\n",
       "      <td>DQTQ</td>\n",
       "      <td>DTQ</td>\n",
       "    </tr>\n",
       "    <tr>\n",
       "      <th>end</th>\n",
       "      <td>EH N D</td>\n",
       "      <td>3925</td>\n",
       "      <td>QND</td>\n",
       "      <td>END</td>\n",
       "    </tr>\n",
       "    <tr>\n",
       "      <th>even</th>\n",
       "      <td>IY V IH N</td>\n",
       "      <td>4318</td>\n",
       "      <td>QVQN</td>\n",
       "      <td>QVN</td>\n",
       "    </tr>\n",
       "    <tr>\n",
       "      <th>ever</th>\n",
       "      <td>EH V ER</td>\n",
       "      <td>3072</td>\n",
       "      <td>QVQ</td>\n",
       "      <td>QVQ</td>\n",
       "    </tr>\n",
       "    <tr>\n",
       "      <th>fact</th>\n",
       "      <td>F AE K T</td>\n",
       "      <td>3894</td>\n",
       "      <td>FQKT</td>\n",
       "      <td>FKT</td>\n",
       "    </tr>\n",
       "    <tr>\n",
       "      <th>far</th>\n",
       "      <td>F AA R</td>\n",
       "      <td>3685</td>\n",
       "      <td>FQR</td>\n",
       "      <td>FAR</td>\n",
       "    </tr>\n",
       "    <tr>\n",
       "      <th>felt</th>\n",
       "      <td>F EH L T</td>\n",
       "      <td>2302</td>\n",
       "      <td>FQLT</td>\n",
       "      <td>FLT</td>\n",
       "    </tr>\n",
       "    <tr>\n",
       "      <th>few</th>\n",
       "      <td>F Y UW</td>\n",
       "      <td>3850</td>\n",
       "      <td>FYQ</td>\n",
       "      <td>FEW</td>\n",
       "    </tr>\n",
       "    <tr>\n",
       "      <th>find</th>\n",
       "      <td>F AY N D</td>\n",
       "      <td>3590</td>\n",
       "      <td>FQND</td>\n",
       "      <td>FND</td>\n",
       "    </tr>\n",
       "    <tr>\n",
       "      <th>for</th>\n",
       "      <td>F AO R</td>\n",
       "      <td>4848</td>\n",
       "      <td>FQR</td>\n",
       "      <td>FOR</td>\n",
       "    </tr>\n",
       "    <tr>\n",
       "      <th>form</th>\n",
       "      <td>F AO R M</td>\n",
       "      <td>3970</td>\n",
       "      <td>FQRM</td>\n",
       "      <td>FRM</td>\n",
       "    </tr>\n",
       "    <tr>\n",
       "      <th>free</th>\n",
       "      <td>F R IY</td>\n",
       "      <td>3387</td>\n",
       "      <td>FRQ</td>\n",
       "      <td>FRQ</td>\n",
       "    </tr>\n",
       "    <tr>\n",
       "      <th>from</th>\n",
       "      <td>F R AH M</td>\n",
       "      <td>4778</td>\n",
       "      <td>FRQM</td>\n",
       "      <td>FRM</td>\n",
       "    </tr>\n",
       "    <tr>\n",
       "      <th>gas</th>\n",
       "      <td>G AE S</td>\n",
       "      <td>2537</td>\n",
       "      <td>GQS</td>\n",
       "      <td>GAS</td>\n",
       "    </tr>\n",
       "    <tr>\n",
       "      <th>get</th>\n",
       "      <td>G EH T</td>\n",
       "      <td>3920</td>\n",
       "      <td>GQT</td>\n",
       "      <td>GET</td>\n",
       "    </tr>\n",
       "    <tr>\n",
       "      <th>got</th>\n",
       "      <td>G AA T</td>\n",
       "      <td>2652</td>\n",
       "      <td>GQT</td>\n",
       "      <td>GOT</td>\n",
       "    </tr>\n",
       "    <tr>\n",
       "      <th>had</th>\n",
       "      <td>HH AE D</td>\n",
       "      <td>4728</td>\n",
       "      <td>HQD</td>\n",
       "      <td>HAD</td>\n",
       "    </tr>\n",
       "    <tr>\n",
       "      <th>hand</th>\n",
       "      <td>HH AE N D</td>\n",
       "      <td>3747</td>\n",
       "      <td>HQND</td>\n",
       "      <td>HND</td>\n",
       "    </tr>\n",
       "    <tr>\n",
       "      <th>hard</th>\n",
       "      <td>HH AA R D</td>\n",
       "      <td>2205</td>\n",
       "      <td>HQRD</td>\n",
       "      <td>HRD</td>\n",
       "    </tr>\n",
       "    <tr>\n",
       "      <th>has</th>\n",
       "      <td>HH AE Z</td>\n",
       "      <td>4708</td>\n",
       "      <td>HQA</td>\n",
       "      <td>HAS</td>\n",
       "    </tr>\n",
       "    <tr>\n",
       "      <th>held</th>\n",
       "      <td>HH EH L D</td>\n",
       "      <td>3531</td>\n",
       "      <td>HQLD</td>\n",
       "      <td>HLD</td>\n",
       "    </tr>\n",
       "    <tr>\n",
       "      <th>help</th>\n",
       "      <td>HH EH L P</td>\n",
       "      <td>3078</td>\n",
       "      <td>HQLP</td>\n",
       "      <td>HLP</td>\n",
       "    </tr>\n",
       "    <tr>\n",
       "      <th>her</th>\n",
       "      <td>HH ER</td>\n",
       "      <td>4658</td>\n",
       "      <td>HQ</td>\n",
       "      <td>HER</td>\n",
       "    </tr>\n",
       "    <tr>\n",
       "      <th>him</th>\n",
       "      <td>HH IH M</td>\n",
       "      <td>4538</td>\n",
       "      <td>HQM</td>\n",
       "      <td>HIM</td>\n",
       "    </tr>\n",
       "    <tr>\n",
       "      <th>his</th>\n",
       "      <td>HH IH Z</td>\n",
       "      <td>4763</td>\n",
       "      <td>HQA</td>\n",
       "      <td>HIS</td>\n",
       "    </tr>\n",
       "    <tr>\n",
       "      <th>into</th>\n",
       "      <td>IH N T UW</td>\n",
       "      <td>4568</td>\n",
       "      <td>QNTQ</td>\n",
       "      <td>QNTQ</td>\n",
       "    </tr>\n",
       "    <tr>\n",
       "      <th>its</th>\n",
       "      <td>IH T S</td>\n",
       "      <td>4633</td>\n",
       "      <td>QTS</td>\n",
       "      <td>ITS</td>\n",
       "    </tr>\n",
       "    <tr>\n",
       "      <th>just</th>\n",
       "      <td>JH AH S T</td>\n",
       "      <td>4159</td>\n",
       "      <td>JQST</td>\n",
       "      <td>JST</td>\n",
       "    </tr>\n",
       "    <tr>\n",
       "      <th>kind</th>\n",
       "      <td>K AY N D</td>\n",
       "      <td>2848</td>\n",
       "      <td>KQND</td>\n",
       "      <td>KND</td>\n",
       "    </tr>\n",
       "    <tr>\n",
       "      <th>land</th>\n",
       "      <td>L AE N D</td>\n",
       "      <td>3771</td>\n",
       "      <td>LQND</td>\n",
       "      <td>LND</td>\n",
       "    </tr>\n",
       "    <tr>\n",
       "      <th>last</th>\n",
       "      <td>L AE S T</td>\n",
       "      <td>4015</td>\n",
       "      <td>LQST</td>\n",
       "      <td>LST</td>\n",
       "    </tr>\n",
       "    <tr>\n",
       "      <th>law</th>\n",
       "      <td>L AO</td>\n",
       "      <td>4197</td>\n",
       "      <td>LQ</td>\n",
       "      <td>LAW</td>\n",
       "    </tr>\n",
       "    <tr>\n",
       "      <th>left</th>\n",
       "      <td>L EH F T</td>\n",
       "      <td>3665</td>\n",
       "      <td>LQFT</td>\n",
       "      <td>LFT</td>\n",
       "    </tr>\n",
       "    <tr>\n",
       "      <th>let</th>\n",
       "      <td>L EH T</td>\n",
       "      <td>3405</td>\n",
       "      <td>LQT</td>\n",
       "      <td>LET</td>\n",
       "    </tr>\n",
       "    <tr>\n",
       "      <th>list</th>\n",
       "      <td>L IH S T</td>\n",
       "      <td>2179</td>\n",
       "      <td>LQST</td>\n",
       "      <td>LST</td>\n",
       "    </tr>\n",
       "    <tr>\n",
       "      <th>lost</th>\n",
       "      <td>L AO S T</td>\n",
       "      <td>2058</td>\n",
       "      <td>LQST</td>\n",
       "      <td>LST</td>\n",
       "    </tr>\n",
       "    <tr>\n",
       "      <th>low</th>\n",
       "      <td>L OW</td>\n",
       "      <td>3238</td>\n",
       "      <td>LQ</td>\n",
       "      <td>LOW</td>\n",
       "    </tr>\n",
       "    <tr>\n",
       "      <th>man</th>\n",
       "      <td>M AE N</td>\n",
       "      <td>4241</td>\n",
       "      <td>MQN</td>\n",
       "      <td>MAN</td>\n",
       "    </tr>\n",
       "    <tr>\n",
       "      <th>many</th>\n",
       "      <td>M EH N IY</td>\n",
       "      <td>4398</td>\n",
       "      <td>MQNQ</td>\n",
       "      <td>MNQ</td>\n",
       "    </tr>\n",
       "    <tr>\n",
       "      <th>may</th>\n",
       "      <td>M EY</td>\n",
       "      <td>4653</td>\n",
       "      <td>MQ</td>\n",
       "      <td>MAY</td>\n",
       "    </tr>\n",
       "    <tr>\n",
       "      <th>men</th>\n",
       "      <td>M EH N</td>\n",
       "      <td>4053</td>\n",
       "      <td>MQN</td>\n",
       "      <td>MEN</td>\n",
       "    </tr>\n",
       "    <tr>\n",
       "      <th>mind</th>\n",
       "      <td>M AY N D</td>\n",
       "      <td>2955</td>\n",
       "      <td>MQND</td>\n",
       "      <td>MND</td>\n",
       "    </tr>\n",
       "    <tr>\n",
       "      <th>most</th>\n",
       "      <td>M OW S T</td>\n",
       "      <td>4463</td>\n",
       "      <td>MQST</td>\n",
       "      <td>MST</td>\n",
       "    </tr>\n",
       "    <tr>\n",
       "      <th>must</th>\n",
       "      <td>M AH S T</td>\n",
       "      <td>4368</td>\n",
       "      <td>MQST</td>\n",
       "      <td>MST</td>\n",
       "    </tr>\n",
       "    <tr>\n",
       "      <th>new</th>\n",
       "      <td>N UW</td>\n",
       "      <td>4603</td>\n",
       "      <td>NQ</td>\n",
       "      <td>NEW</td>\n",
       "    </tr>\n",
       "    <tr>\n",
       "      <th>next</th>\n",
       "      <td>N EH K S T</td>\n",
       "      <td>3364</td>\n",
       "      <td>NQKST</td>\n",
       "      <td>NKST</td>\n",
       "    </tr>\n",
       "    <tr>\n",
       "      <th>non</th>\n",
       "      <td>N AA N</td>\n",
       "      <td>2910</td>\n",
       "      <td>NQN</td>\n",
       "      <td>NON</td>\n",
       "    </tr>\n",
       "    <tr>\n",
       "      <th>nor</th>\n",
       "      <td>N AO R</td>\n",
       "      <td>2801</td>\n",
       "      <td>NQR</td>\n",
       "      <td>NOR</td>\n",
       "    </tr>\n",
       "    <tr>\n",
       "      <th>not</th>\n",
       "      <td>N AA T</td>\n",
       "      <td>4808</td>\n",
       "      <td>NQT</td>\n",
       "      <td>NOT</td>\n",
       "    </tr>\n",
       "    <tr>\n",
       "      <th>now</th>\n",
       "      <td>N AW</td>\n",
       "      <td>4433</td>\n",
       "      <td>NQ</td>\n",
       "      <td>NOW</td>\n",
       "    </tr>\n",
       "    <tr>\n",
       "      <th>off</th>\n",
       "      <td>AO F</td>\n",
       "      <td>3825</td>\n",
       "      <td>QF</td>\n",
       "      <td>OFF</td>\n",
       "    </tr>\n",
       "    <tr>\n",
       "      <th>oil</th>\n",
       "      <td>OY L</td>\n",
       "      <td>2730</td>\n",
       "      <td>QL</td>\n",
       "      <td>OIL</td>\n",
       "    </tr>\n",
       "    <tr>\n",
       "      <th>old</th>\n",
       "      <td>OW L D</td>\n",
       "      <td>3975</td>\n",
       "      <td>QLD</td>\n",
       "      <td>OLD</td>\n",
       "    </tr>\n",
       "    <tr>\n",
       "      <th>once</th>\n",
       "      <td>W AH N S</td>\n",
       "      <td>3354</td>\n",
       "      <td>WQNS</td>\n",
       "      <td>WNS</td>\n",
       "    </tr>\n",
       "    <tr>\n",
       "      <th>one</th>\n",
       "      <td>W AH N</td>\n",
       "      <td>4713</td>\n",
       "      <td>WQN</td>\n",
       "      <td>ONE</td>\n",
       "    </tr>\n",
       "    <tr>\n",
       "      <th>only</th>\n",
       "      <td>OW N L IY</td>\n",
       "      <td>4573</td>\n",
       "      <td>QNLQ</td>\n",
       "      <td>QNLQ</td>\n",
       "    </tr>\n",
       "    <tr>\n",
       "      <th>open</th>\n",
       "      <td>OW P AH N</td>\n",
       "      <td>3110</td>\n",
       "      <td>QPQN</td>\n",
       "      <td>QPN</td>\n",
       "    </tr>\n",
       "    <tr>\n",
       "      <th>our</th>\n",
       "      <td>AW ER</td>\n",
       "      <td>4518</td>\n",
       "      <td>QQ</td>\n",
       "      <td>OUR</td>\n",
       "    </tr>\n",
       "    <tr>\n",
       "      <th>out</th>\n",
       "      <td>AW T</td>\n",
       "      <td>4543</td>\n",
       "      <td>QT</td>\n",
       "      <td>OUT</td>\n",
       "    </tr>\n",
       "    <tr>\n",
       "      <th>over</th>\n",
       "      <td>OW V ER</td>\n",
       "      <td>4458</td>\n",
       "      <td>QVQ</td>\n",
       "      <td>QVQ</td>\n",
       "    </tr>\n",
       "    <tr>\n",
       "      <th>own</th>\n",
       "      <td>OW N</td>\n",
       "      <td>4173</td>\n",
       "      <td>QN</td>\n",
       "      <td>OWN</td>\n",
       "    </tr>\n",
       "    <tr>\n",
       "      <th>part</th>\n",
       "      <td>P AA R T</td>\n",
       "      <td>4343</td>\n",
       "      <td>PQRT</td>\n",
       "      <td>PRT</td>\n",
       "    </tr>\n",
       "    <tr>\n",
       "      <th>past</th>\n",
       "      <td>P AE S T</td>\n",
       "      <td>2841</td>\n",
       "      <td>PQST</td>\n",
       "      <td>PST</td>\n",
       "    </tr>\n",
       "    <tr>\n",
       "      <th>pay</th>\n",
       "      <td>P EY</td>\n",
       "      <td>2907</td>\n",
       "      <td>PQ</td>\n",
       "      <td>PAY</td>\n",
       "    </tr>\n",
       "    <tr>\n",
       "      <th>per</th>\n",
       "      <td>P ER</td>\n",
       "      <td>4278</td>\n",
       "      <td>PQ</td>\n",
       "      <td>PER</td>\n",
       "    </tr>\n",
       "    <tr>\n",
       "      <th>plan</th>\n",
       "      <td>P L AE N</td>\n",
       "      <td>2967</td>\n",
       "      <td>PLQN</td>\n",
       "      <td>PLN</td>\n",
       "    </tr>\n",
       "    <tr>\n",
       "      <th>post</th>\n",
       "      <td>P OW S T</td>\n",
       "      <td>2139</td>\n",
       "      <td>PQST</td>\n",
       "      <td>PST</td>\n",
       "    </tr>\n",
       "    <tr>\n",
       "      <th>put</th>\n",
       "      <td>P UH T</td>\n",
       "      <td>3461</td>\n",
       "      <td>PQT</td>\n",
       "      <td>PUT</td>\n",
       "    </tr>\n",
       "    <tr>\n",
       "      <th>red</th>\n",
       "      <td>R EH D</td>\n",
       "      <td>2319</td>\n",
       "      <td>RQE</td>\n",
       "      <td>RED</td>\n",
       "    </tr>\n",
       "    <tr>\n",
       "      <th>run</th>\n",
       "      <td>R AH N</td>\n",
       "      <td>2098</td>\n",
       "      <td>RQN</td>\n",
       "      <td>RUN</td>\n",
       "    </tr>\n",
       "    <tr>\n",
       "      <th>saw</th>\n",
       "      <td>S AO</td>\n",
       "      <td>2457</td>\n",
       "      <td>SQ</td>\n",
       "      <td>SAW</td>\n",
       "    </tr>\n",
       "    <tr>\n",
       "      <th>say</th>\n",
       "      <td>S EY</td>\n",
       "      <td>3910</td>\n",
       "      <td>SQ</td>\n",
       "      <td>SAY</td>\n",
       "    </tr>\n",
       "    <tr>\n",
       "      <th>sea</th>\n",
       "      <td>S IY</td>\n",
       "      <td>2256</td>\n",
       "      <td>SQ</td>\n",
       "      <td>SEA</td>\n",
       "    </tr>\n",
       "    <tr>\n",
       "      <th>see</th>\n",
       "      <td>S IY</td>\n",
       "      <td>4488</td>\n",
       "      <td>SQ</td>\n",
       "      <td>SEE</td>\n",
       "    </tr>\n",
       "    <tr>\n",
       "      <th>self</th>\n",
       "      <td>S EH L F</td>\n",
       "      <td>2817</td>\n",
       "      <td>SQLF</td>\n",
       "      <td>SLF</td>\n",
       "    </tr>\n",
       "    <tr>\n",
       "      <th>sent</th>\n",
       "      <td>S EH N T</td>\n",
       "      <td>2278</td>\n",
       "      <td>SQNT</td>\n",
       "      <td>SNT</td>\n",
       "    </tr>\n",
       "    <tr>\n",
       "      <th>set</th>\n",
       "      <td>S EH T</td>\n",
       "      <td>3920</td>\n",
       "      <td>SQT</td>\n",
       "      <td>SET</td>\n",
       "    </tr>\n",
       "    <tr>\n",
       "      <th>she</th>\n",
       "      <td>SH IY</td>\n",
       "      <td>4608</td>\n",
       "      <td>UQ</td>\n",
       "      <td>SHE</td>\n",
       "    </tr>\n",
       "    <tr>\n",
       "      <th>six</th>\n",
       "      <td>S IH K S</td>\n",
       "      <td>2831</td>\n",
       "      <td>SQKS</td>\n",
       "      <td>SIX</td>\n",
       "    </tr>\n",
       "    <tr>\n",
       "      <th>son</th>\n",
       "      <td>S AH N</td>\n",
       "      <td>2370</td>\n",
       "      <td>SQN</td>\n",
       "      <td>SON</td>\n",
       "    </tr>\n",
       "    <tr>\n",
       "      <th>tax</th>\n",
       "      <td>T AE K S</td>\n",
       "      <td>3144</td>\n",
       "      <td>TQKS</td>\n",
       "      <td>TAX</td>\n",
       "    </tr>\n",
       "    <tr>\n",
       "      <th>ten</th>\n",
       "      <td>T EH N</td>\n",
       "      <td>2261</td>\n",
       "      <td>TQN</td>\n",
       "      <td>TEN</td>\n",
       "    </tr>\n",
       "    <tr>\n",
       "      <th>test</th>\n",
       "      <td>T EH S T</td>\n",
       "      <td>2802</td>\n",
       "      <td>TQST</td>\n",
       "      <td>TST</td>\n",
       "    </tr>\n",
       "    <tr>\n",
       "      <th>the</th>\n",
       "      <td>DH AH</td>\n",
       "      <td>4888</td>\n",
       "      <td>XQ</td>\n",
       "      <td>THE</td>\n",
       "    </tr>\n",
       "    <tr>\n",
       "      <th>told</th>\n",
       "      <td>T OW L D</td>\n",
       "      <td>2725</td>\n",
       "      <td>TQLD</td>\n",
       "      <td>TLD</td>\n",
       "    </tr>\n",
       "    <tr>\n",
       "      <th>too</th>\n",
       "      <td>T UW</td>\n",
       "      <td>3950</td>\n",
       "      <td>TQ</td>\n",
       "      <td>TOO</td>\n",
       "    </tr>\n",
       "    <tr>\n",
       "      <th>top</th>\n",
       "      <td>T AA P</td>\n",
       "      <td>2151</td>\n",
       "      <td>TQP</td>\n",
       "      <td>TOP</td>\n",
       "    </tr>\n",
       "    <tr>\n",
       "      <th>true</th>\n",
       "      <td>T R UW</td>\n",
       "      <td>3028</td>\n",
       "      <td>TRQ</td>\n",
       "      <td>TRQ</td>\n",
       "    </tr>\n",
       "    <tr>\n",
       "      <th>two</th>\n",
       "      <td>T UW</td>\n",
       "      <td>4558</td>\n",
       "      <td>TQ</td>\n",
       "      <td>TWO</td>\n",
       "    </tr>\n",
       "    <tr>\n",
       "      <th>unit</th>\n",
       "      <td>Y UW N AH T</td>\n",
       "      <td>2190</td>\n",
       "      <td>YQNQT</td>\n",
       "      <td>YNT</td>\n",
       "    </tr>\n",
       "    <tr>\n",
       "      <th>upon</th>\n",
       "      <td>AH P AA N</td>\n",
       "      <td>4363</td>\n",
       "      <td>QPQN</td>\n",
       "      <td>QPN</td>\n",
       "    </tr>\n",
       "    <tr>\n",
       "      <th>use</th>\n",
       "      <td>Y UW S</td>\n",
       "      <td>4348</td>\n",
       "      <td>YQS</td>\n",
       "      <td>USE</td>\n",
       "    </tr>\n",
       "    <tr>\n",
       "      <th>used</th>\n",
       "      <td>Y UW Z D</td>\n",
       "      <td>4328</td>\n",
       "      <td>YQZE</td>\n",
       "      <td>YZE</td>\n",
       "    </tr>\n",
       "    <tr>\n",
       "      <th>very</th>\n",
       "      <td>V EH R IY</td>\n",
       "      <td>4453</td>\n",
       "      <td>VQRQ</td>\n",
       "      <td>VRQ</td>\n",
       "    </tr>\n",
       "    <tr>\n",
       "      <th>view</th>\n",
       "      <td>V Y UW</td>\n",
       "      <td>3201</td>\n",
       "      <td>VYQ</td>\n",
       "      <td>VYQ</td>\n",
       "    </tr>\n",
       "    <tr>\n",
       "      <th>want</th>\n",
       "      <td>W AA N T</td>\n",
       "      <td>3243</td>\n",
       "      <td>WQNT</td>\n",
       "      <td>WNT</td>\n",
       "    </tr>\n",
       "    <tr>\n",
       "      <th>war</th>\n",
       "      <td>W AO R</td>\n",
       "      <td>3801</td>\n",
       "      <td>WQR</td>\n",
       "      <td>WAR</td>\n",
       "    </tr>\n",
       "    <tr>\n",
       "      <th>was</th>\n",
       "      <td>W AA Z</td>\n",
       "      <td>4818</td>\n",
       "      <td>WQS</td>\n",
       "      <td>WAS</td>\n",
       "    </tr>\n",
       "    <tr>\n",
       "      <th>way</th>\n",
       "      <td>W EY</td>\n",
       "      <td>4263</td>\n",
       "      <td>WQ</td>\n",
       "      <td>WAY</td>\n",
       "    </tr>\n",
       "    <tr>\n",
       "      <th>went</th>\n",
       "      <td>W EH N T</td>\n",
       "      <td>3063</td>\n",
       "      <td>WQNT</td>\n",
       "      <td>WNT</td>\n",
       "    </tr>\n",
       "    <tr>\n",
       "      <th>who</th>\n",
       "      <td>HH UW</td>\n",
       "      <td>4628</td>\n",
       "      <td>HQ</td>\n",
       "      <td>WHO</td>\n",
       "    </tr>\n",
       "    <tr>\n",
       "      <th>why</th>\n",
       "      <td>W AY</td>\n",
       "      <td>3304</td>\n",
       "      <td>WQ</td>\n",
       "      <td>WHY</td>\n",
       "    </tr>\n",
       "    <tr>\n",
       "      <th>yet</th>\n",
       "      <td>Y EH T</td>\n",
       "      <td>3629</td>\n",
       "      <td>YQT</td>\n",
       "      <td>YET</td>\n",
       "    </tr>\n",
       "    <tr>\n",
       "      <th>you</th>\n",
       "      <td>Y UW</td>\n",
       "      <td>4743</td>\n",
       "      <td>YQ</td>\n",
       "      <td>YOU</td>\n",
       "    </tr>\n",
       "  </tbody>\n",
       "</table>\n",
       "</div>"
      ],
      "text/plain": [
       "            sound  freq encoding vowel_free\n",
       "word                                       \n",
       "able    EY B AH L  2940     QBQL        QBL\n",
       "age         EY JH  3253       QJ        AGE\n",
       "air          EH R  3492       QR        AIR\n",
       "all          AO L  4718       QL        ALL\n",
       "also    AO L S OW  4553     QLSQ       QLSQ\n",
       "and        AH N D  4878      QND        AND\n",
       "any       EH N IY  4613      QNQ        ANY\n",
       "are          AA R  4788       QR        ARE\n",
       "area   EH R IY AH  3820     QRQQ        QRQ\n",
       "art        AA R T  2728      QRT        ART\n",
       "away      AH W EY  3290      QWQ        QWQ\n",
       "best     B EH S T  3552     BQST        BST\n",
       "body    B AA D IY  3399     BQDQ        BDQ\n",
       "but        B AH T  4748      BQT        BUT\n",
       "can        K AE N  4683      KQN        CAN\n",
       "cent     S EH N T  3214     SQNT        SNT\n",
       "city    S IH T IY  4010     SQTQ        STQ\n",
       "cost     K AA S T  3472     KQST        KST\n",
       "cut        K AH T  2054      KQT        CUT\n",
       "data    D EY T AH  3955     DQTQ        DTQ\n",
       "day          D EY  4251       DQ        DAY\n",
       "did        D IH D  4383      DQD        DID\n",
       "due          D UW  3369       DQ        DUE\n",
       "duty    D UW T IY  2085     DQTQ        DTQ\n",
       "end        EH N D  3925      QND        END\n",
       "even    IY V IH N  4318     QVQN        QVN\n",
       "ever      EH V ER  3072      QVQ        QVQ\n",
       "fact     F AE K T  3894     FQKT        FKT\n",
       "far        F AA R  3685      FQR        FAR\n",
       "felt     F EH L T  2302     FQLT        FLT\n",
       "few        F Y UW  3850      FYQ        FEW\n",
       "find     F AY N D  3590     FQND        FND\n",
       "for        F AO R  4848      FQR        FOR\n",
       "form     F AO R M  3970     FQRM        FRM\n",
       "free       F R IY  3387      FRQ        FRQ\n",
       "from     F R AH M  4778     FRQM        FRM\n",
       "gas        G AE S  2537      GQS        GAS\n",
       "get        G EH T  3920      GQT        GET\n",
       "got        G AA T  2652      GQT        GOT\n",
       "had       HH AE D  4728      HQD        HAD\n",
       "hand    HH AE N D  3747     HQND        HND\n",
       "hard    HH AA R D  2205     HQRD        HRD\n",
       "has       HH AE Z  4708      HQA        HAS\n",
       "held    HH EH L D  3531     HQLD        HLD\n",
       "help    HH EH L P  3078     HQLP        HLP\n",
       "her         HH ER  4658       HQ        HER\n",
       "him       HH IH M  4538      HQM        HIM\n",
       "his       HH IH Z  4763      HQA        HIS\n",
       "into    IH N T UW  4568     QNTQ       QNTQ\n",
       "its        IH T S  4633      QTS        ITS\n",
       "just    JH AH S T  4159     JQST        JST\n",
       "kind     K AY N D  2848     KQND        KND\n",
       "land     L AE N D  3771     LQND        LND\n",
       "last     L AE S T  4015     LQST        LST\n",
       "law          L AO  4197       LQ        LAW\n",
       "left     L EH F T  3665     LQFT        LFT\n",
       "let        L EH T  3405      LQT        LET\n",
       "list     L IH S T  2179     LQST        LST\n",
       "lost     L AO S T  2058     LQST        LST\n",
       "low          L OW  3238       LQ        LOW\n",
       "man        M AE N  4241      MQN        MAN\n",
       "many    M EH N IY  4398     MQNQ        MNQ\n",
       "may          M EY  4653       MQ        MAY\n",
       "men        M EH N  4053      MQN        MEN\n",
       "mind     M AY N D  2955     MQND        MND\n",
       "most     M OW S T  4463     MQST        MST\n",
       "must     M AH S T  4368     MQST        MST\n",
       "new          N UW  4603       NQ        NEW\n",
       "next   N EH K S T  3364    NQKST       NKST\n",
       "non        N AA N  2910      NQN        NON\n",
       "nor        N AO R  2801      NQR        NOR\n",
       "not        N AA T  4808      NQT        NOT\n",
       "now          N AW  4433       NQ        NOW\n",
       "off          AO F  3825       QF        OFF\n",
       "oil          OY L  2730       QL        OIL\n",
       "old        OW L D  3975      QLD        OLD\n",
       "once     W AH N S  3354     WQNS        WNS\n",
       "one        W AH N  4713      WQN        ONE\n",
       "only    OW N L IY  4573     QNLQ       QNLQ\n",
       "open    OW P AH N  3110     QPQN        QPN\n",
       "our         AW ER  4518       QQ        OUR\n",
       "out          AW T  4543       QT        OUT\n",
       "over      OW V ER  4458      QVQ        QVQ\n",
       "own          OW N  4173       QN        OWN\n",
       "part     P AA R T  4343     PQRT        PRT\n",
       "past     P AE S T  2841     PQST        PST\n",
       "pay          P EY  2907       PQ        PAY\n",
       "per          P ER  4278       PQ        PER\n",
       "plan     P L AE N  2967     PLQN        PLN\n",
       "post     P OW S T  2139     PQST        PST\n",
       "put        P UH T  3461      PQT        PUT\n",
       "red        R EH D  2319      RQE        RED\n",
       "run        R AH N  2098      RQN        RUN\n",
       "saw          S AO  2457       SQ        SAW\n",
       "say          S EY  3910       SQ        SAY\n",
       "sea          S IY  2256       SQ        SEA\n",
       "see          S IY  4488       SQ        SEE\n",
       "self     S EH L F  2817     SQLF        SLF\n",
       "sent     S EH N T  2278     SQNT        SNT\n",
       "set        S EH T  3920      SQT        SET\n",
       "she         SH IY  4608       UQ        SHE\n",
       "six      S IH K S  2831     SQKS        SIX\n",
       "son        S AH N  2370      SQN        SON\n",
       "tax      T AE K S  3144     TQKS        TAX\n",
       "ten        T EH N  2261      TQN        TEN\n",
       "test     T EH S T  2802     TQST        TST\n",
       "the         DH AH  4888       XQ        THE\n",
       "told     T OW L D  2725     TQLD        TLD\n",
       "too          T UW  3950       TQ        TOO\n",
       "top        T AA P  2151      TQP        TOP\n",
       "true       T R UW  3028      TRQ        TRQ\n",
       "two          T UW  4558       TQ        TWO\n",
       "unit  Y UW N AH T  2190    YQNQT        YNT\n",
       "upon    AH P AA N  4363     QPQN        QPN\n",
       "use        Y UW S  4348      YQS        USE\n",
       "used     Y UW Z D  4328     YQZE        YZE\n",
       "very    V EH R IY  4453     VQRQ        VRQ\n",
       "view       V Y UW  3201      VYQ        VYQ\n",
       "want     W AA N T  3243     WQNT        WNT\n",
       "war        W AO R  3801      WQR        WAR\n",
       "was        W AA Z  4818      WQS        WAS\n",
       "way          W EY  4263       WQ        WAY\n",
       "went     W EH N T  3063     WQNT        WNT\n",
       "who         HH UW  4628       HQ        WHO\n",
       "why          W AY  3304       WQ        WHY\n",
       "yet        Y EH T  3629      YQT        YET\n",
       "you          Y UW  4743       YQ        YOU"
      ]
     },
     "metadata": {},
     "output_type": "display_data"
    }
   ],
   "source": [
    "with pd.option_context('display.max_rows', None):\n",
    "\tdisplay(df.loc[(df.freq > 2000) &(df.index.str.len() <=4) & (df.vowel_free.str.len() > 2)])"
   ]
  },
  {
   "cell_type": "markdown",
   "metadata": {},
   "source": [
    "### Further reductions:\n",
    "\n",
    "continue reducing the encoding length and the multiplicity (although sometimes we need to trade off between these two objectives)\n",
    "\n",
    "This will be accounted for lazy/fuzzy pronounciation and be implemented by the users and not directly in the encoding.\n",
    "\n",
    "For example we can reduce approximants whose property can be considered as an interpolation between a vowel and a consonant. Sometimes it's not easy to tell them from a continuous speech flow and usually omitted by lazy speakers.\n",
    "\n",
    "There are several phonological circumstances for approximants in English:\n",
    "`A` for approximant, `C` for consonant, `V` for vowel\n",
    "\n",
    "1. At the beginning `A-V` (`A-C` is not possible)\n",
    "2. At the end `-A`\n",
    "3. `V-A-C`\n",
    "4. `V-A-V`\n",
    "5. `C-A-V`\n",
    "\n",
    "- for semi-vowels `Y,W`, we identify the following circumstances as reducable: 2, 3, 4, 5\n",
    "- for approximant `R,L`, we identify the following circumstances as reducable: 2, 3\n",
    "\n",
    "and even more radical reduction: e.g. nasal elision\n",
    "- for nasal `M,N,NG`: 2, 3(condition to certain trailing consonant)\n"
   ]
  }
 ],
 "metadata": {
  "kernelspec": {
   "display_name": "Python 3.9.13 ('base')",
   "language": "python",
   "name": "python3"
  },
  "language_info": {
   "codemirror_mode": {
    "name": "ipython",
    "version": 3
   },
   "file_extension": ".py",
   "mimetype": "text/x-python",
   "name": "python",
   "nbconvert_exporter": "python",
   "pygments_lexer": "ipython3",
   "version": "3.9.13"
  },
  "orig_nbformat": 4,
  "vscode": {
   "interpreter": {
    "hash": "88279d2366fe020547cde40dd65aa0e3aa662a6ec1f3ca12d88834876c85e1a6"
   }
  }
 },
 "nbformat": 4,
 "nbformat_minor": 2
}
