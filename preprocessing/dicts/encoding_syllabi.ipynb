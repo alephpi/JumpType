{
 "cells": [
  {
   "cell_type": "markdown",
   "metadata": {},
   "source": [
    "## Encoding by pronouciation"
   ]
  },
  {
   "cell_type": "code",
   "execution_count": 1,
   "metadata": {},
   "outputs": [],
   "source": [
    "import numpy as np\n",
    "import pandas as pd\n",
    "import matplotlib.pyplot as plt\n",
    "import re"
   ]
  },
  {
   "cell_type": "code",
   "execution_count": 49,
   "metadata": {},
   "outputs": [],
   "source": [
    "import wn\n",
    "from wn import morphy, validate\n",
    "ewn = wn.Wordnet('ewn:2020')\n",
    "m = morphy.Morphy(ewn)"
   ]
  },
  {
   "cell_type": "code",
   "execution_count": 3,
   "metadata": {},
   "outputs": [],
   "source": [
    "pronouncing_dict_path = './cmudict.dict.txt'"
   ]
  },
  {
   "cell_type": "code",
   "execution_count": 224,
   "metadata": {},
   "outputs": [],
   "source": [
    "dico = {}\n",
    "with open(pronouncing_dict_path, 'r', encoding='utf-8') as file:\n",
    "\tfor line in file.readlines():\n",
    "\t\tl = line.strip().split(' ')\n",
    "\t\tword = l[0]\n",
    "\t\tpronounciation = ' '.join(l[1:])\n",
    "\t\t# filter some non standard words\n",
    "\t\tif word.islower() and word.isalpha():\n",
    "\t\t\tdico[word] = pronounciation"
   ]
  },
  {
   "cell_type": "code",
   "execution_count": 225,
   "metadata": {},
   "outputs": [
    {
     "data": {
      "text/plain": [
       "117490"
      ]
     },
     "execution_count": 225,
     "metadata": {},
     "output_type": "execute_result"
    }
   ],
   "source": [
    "len(dico)"
   ]
  },
  {
   "cell_type": "markdown",
   "metadata": {},
   "source": [
    "first check if the word exists in wordnet"
   ]
  },
  {
   "cell_type": "code",
   "execution_count": 62,
   "metadata": {},
   "outputs": [],
   "source": [
    "def validate(word):\n",
    "\t# check if exists\n",
    "\tres = wn.synsets(word)\n",
    "\tif res != []:\n",
    "\t\treturn True\n",
    "\t# otherwise check if as a derivation, the lemma exists\n",
    "\tfor lemmas_per_pos in m(word).values():\n",
    "\t\tfor lemma in lemmas_per_pos:\n",
    "\t\t\tres = wn.synsets(lemma)\n",
    "\t\t\t# if there exists one, return\n",
    "\t\t\tif res != []:\n",
    "\t\t\t\treturn True\n",
    "\treturn False"
   ]
  },
  {
   "cell_type": "code",
   "execution_count": 64,
   "metadata": {},
   "outputs": [],
   "source": [
    "from tqdm import tqdm"
   ]
  },
  {
   "cell_type": "code",
   "execution_count": 65,
   "metadata": {},
   "outputs": [
    {
     "name": "stderr",
     "output_type": "stream",
     "text": [
      "100%|██████████| 117490/117490 [01:01<00:00, 1897.98it/s]\n"
     ]
    }
   ],
   "source": [
    "non_words = []\n",
    "for word in tqdm(dico.keys()):\n",
    "\tif not validate(word):\n",
    "\t\tnon_words.append(word)"
   ]
  },
  {
   "cell_type": "code",
   "execution_count": 66,
   "metadata": {},
   "outputs": [
    {
     "data": {
      "text/plain": [
       "65445"
      ]
     },
     "execution_count": 66,
     "metadata": {},
     "output_type": "execute_result"
    }
   ],
   "source": [
    "len(non_words)"
   ]
  },
  {
   "cell_type": "code",
   "execution_count": 226,
   "metadata": {},
   "outputs": [],
   "source": [
    "with open('./non_wordnet_words.txt', 'w', encoding='utf-8') as file:\n",
    "\tfor non_word in non_words:\n",
    "\t\tfile.write(non_word+'\\n')"
   ]
  },
  {
   "cell_type": "markdown",
   "metadata": {},
   "source": [
    "However, wordnet excludes some function words, they should be taken into account in dictionary"
   ]
  },
  {
   "cell_type": "code",
   "execution_count": 222,
   "metadata": {},
   "outputs": [],
   "source": [
    "with open('./wordnet_stopwords.txt', 'r', encoding='utf-8') as file:\n",
    "\tstop_words = file.read().splitlines()"
   ]
  },
  {
   "cell_type": "code",
   "execution_count": 227,
   "metadata": {},
   "outputs": [],
   "source": [
    "for non_word in non_words:\n",
    "\tif not non_word in stop_words:\n",
    "\t\tdico.pop(non_word)"
   ]
  },
  {
   "cell_type": "code",
   "execution_count": 228,
   "metadata": {},
   "outputs": [
    {
     "data": {
      "text/plain": [
       "52123"
      ]
     },
     "execution_count": 228,
     "metadata": {},
     "output_type": "execute_result"
    }
   ],
   "source": [
    "len(dico)"
   ]
  },
  {
   "cell_type": "markdown",
   "metadata": {},
   "source": [
    "now we get a well pronounced, wordnet-validated dictionary"
   ]
  },
  {
   "cell_type": "code",
   "execution_count": 229,
   "metadata": {},
   "outputs": [],
   "source": [
    "df = pd.DataFrame.from_dict(dico, orient='index', columns = ['sound'])"
   ]
  },
  {
   "cell_type": "code",
   "execution_count": 290,
   "metadata": {},
   "outputs": [],
   "source": [
    "df.index.name = 'word'"
   ]
  },
  {
   "cell_type": "code",
   "execution_count": 291,
   "metadata": {},
   "outputs": [
    {
     "data": {
      "text/html": [
       "<div>\n",
       "<style scoped>\n",
       "    .dataframe tbody tr th:only-of-type {\n",
       "        vertical-align: middle;\n",
       "    }\n",
       "\n",
       "    .dataframe tbody tr th {\n",
       "        vertical-align: top;\n",
       "    }\n",
       "\n",
       "    .dataframe thead th {\n",
       "        text-align: right;\n",
       "    }\n",
       "</style>\n",
       "<table border=\"1\" class=\"dataframe\">\n",
       "  <thead>\n",
       "    <tr style=\"text-align: right;\">\n",
       "      <th></th>\n",
       "      <th>sound</th>\n",
       "      <th>COUNT</th>\n",
       "      <th>encoding</th>\n",
       "      <th>vowel_free</th>\n",
       "    </tr>\n",
       "    <tr>\n",
       "      <th>word</th>\n",
       "      <th></th>\n",
       "      <th></th>\n",
       "      <th></th>\n",
       "      <th></th>\n",
       "    </tr>\n",
       "  </thead>\n",
       "  <tbody>\n",
       "    <tr>\n",
       "      <th>a</th>\n",
       "      <td>AH0</td>\n",
       "      <td>4496.0</td>\n",
       "      <td>A</td>\n",
       "      <td>A</td>\n",
       "    </tr>\n",
       "    <tr>\n",
       "      <th>aaa</th>\n",
       "      <td>T R IH2 P AH0 L EY1</td>\n",
       "      <td>NaN</td>\n",
       "      <td>AAA</td>\n",
       "      <td>AAA</td>\n",
       "    </tr>\n",
       "    <tr>\n",
       "      <th>aachen</th>\n",
       "      <td>AA1 K AH0 N</td>\n",
       "      <td>NaN</td>\n",
       "      <td>QKQN</td>\n",
       "      <td>QKN</td>\n",
       "    </tr>\n",
       "    <tr>\n",
       "      <th>aalborg</th>\n",
       "      <td>AO1 L B AO0 R G</td>\n",
       "      <td>NaN</td>\n",
       "      <td>QLBQRG</td>\n",
       "      <td>QLBRG</td>\n",
       "    </tr>\n",
       "    <tr>\n",
       "      <th>aalto</th>\n",
       "      <td>AA1 L T OW2</td>\n",
       "      <td>NaN</td>\n",
       "      <td>QLTQ</td>\n",
       "      <td>QLTQ</td>\n",
       "    </tr>\n",
       "    <tr>\n",
       "      <th>...</th>\n",
       "      <td>...</td>\n",
       "      <td>...</td>\n",
       "      <td>...</td>\n",
       "      <td>...</td>\n",
       "    </tr>\n",
       "    <tr>\n",
       "      <th>zuni</th>\n",
       "      <td>Z UW1 N IY2</td>\n",
       "      <td>NaN</td>\n",
       "      <td>ZUNI</td>\n",
       "      <td>ZUNI</td>\n",
       "    </tr>\n",
       "    <tr>\n",
       "      <th>zurich</th>\n",
       "      <td>Z UH1 R IH0 K</td>\n",
       "      <td>NaN</td>\n",
       "      <td>ZQRQK</td>\n",
       "      <td>ZRK</td>\n",
       "    </tr>\n",
       "    <tr>\n",
       "      <th>zweig</th>\n",
       "      <td>Z W AY1 G</td>\n",
       "      <td>NaN</td>\n",
       "      <td>ZWQG</td>\n",
       "      <td>ZWG</td>\n",
       "    </tr>\n",
       "    <tr>\n",
       "      <th>zydeco</th>\n",
       "      <td>Z AY1 D AH0 K OW2</td>\n",
       "      <td>NaN</td>\n",
       "      <td>ZQDQKQ</td>\n",
       "      <td>ZDKQ</td>\n",
       "    </tr>\n",
       "    <tr>\n",
       "      <th>zygote</th>\n",
       "      <td>Z AY1 G OW0 T</td>\n",
       "      <td>7.0</td>\n",
       "      <td>ZQGQT</td>\n",
       "      <td>ZGT</td>\n",
       "    </tr>\n",
       "  </tbody>\n",
       "</table>\n",
       "<p>52123 rows × 4 columns</p>\n",
       "</div>"
      ],
      "text/plain": [
       "                       sound   COUNT encoding vowel_free\n",
       "word                                                    \n",
       "a                        AH0  4496.0        A          A\n",
       "aaa      T R IH2 P AH0 L EY1     NaN      AAA        AAA\n",
       "aachen           AA1 K AH0 N     NaN     QKQN        QKN\n",
       "aalborg      AO1 L B AO0 R G     NaN   QLBQRG      QLBRG\n",
       "aalto            AA1 L T OW2     NaN     QLTQ       QLTQ\n",
       "...                      ...     ...      ...        ...\n",
       "zuni             Z UW1 N IY2     NaN     ZUNI       ZUNI\n",
       "zurich         Z UH1 R IH0 K     NaN    ZQRQK        ZRK\n",
       "zweig              Z W AY1 G     NaN     ZWQG        ZWG\n",
       "zydeco     Z AY1 D AH0 K OW2     NaN   ZQDQKQ       ZDKQ\n",
       "zygote         Z AY1 G OW0 T     7.0    ZQGQT        ZGT\n",
       "\n",
       "[52123 rows x 4 columns]"
      ]
     },
     "execution_count": 291,
     "metadata": {},
     "output_type": "execute_result"
    }
   ],
   "source": [
    "df"
   ]
  },
  {
   "cell_type": "code",
   "execution_count": 231,
   "metadata": {},
   "outputs": [
    {
     "data": {
      "text/html": [
       "<div>\n",
       "<style scoped>\n",
       "    .dataframe tbody tr th:only-of-type {\n",
       "        vertical-align: middle;\n",
       "    }\n",
       "\n",
       "    .dataframe tbody tr th {\n",
       "        vertical-align: top;\n",
       "    }\n",
       "\n",
       "    .dataframe thead th {\n",
       "        text-align: right;\n",
       "    }\n",
       "</style>\n",
       "<table border=\"1\" class=\"dataframe\">\n",
       "  <thead>\n",
       "    <tr style=\"text-align: right;\">\n",
       "      <th></th>\n",
       "      <th>COUNT</th>\n",
       "    </tr>\n",
       "    <tr>\n",
       "      <th>WORD</th>\n",
       "      <th></th>\n",
       "    </tr>\n",
       "  </thead>\n",
       "  <tbody>\n",
       "    <tr>\n",
       "      <th>in</th>\n",
       "      <td>4501</td>\n",
       "    </tr>\n",
       "    <tr>\n",
       "      <th>a</th>\n",
       "      <td>4496</td>\n",
       "    </tr>\n",
       "    <tr>\n",
       "      <th>as</th>\n",
       "      <td>4491</td>\n",
       "    </tr>\n",
       "    <tr>\n",
       "      <th>it</th>\n",
       "      <td>4486</td>\n",
       "    </tr>\n",
       "    <tr>\n",
       "      <th>be</th>\n",
       "      <td>4481</td>\n",
       "    </tr>\n",
       "    <tr>\n",
       "      <th>...</th>\n",
       "      <td>...</td>\n",
       "    </tr>\n",
       "    <tr>\n",
       "      <th>obsessivity</th>\n",
       "      <td>0</td>\n",
       "    </tr>\n",
       "    <tr>\n",
       "      <th>radiolocate</th>\n",
       "      <td>0</td>\n",
       "    </tr>\n",
       "    <tr>\n",
       "      <th>pelecypodous</th>\n",
       "      <td>0</td>\n",
       "    </tr>\n",
       "    <tr>\n",
       "      <th>sentimentize</th>\n",
       "      <td>0</td>\n",
       "    </tr>\n",
       "    <tr>\n",
       "      <th>imminentness</th>\n",
       "      <td>0</td>\n",
       "    </tr>\n",
       "  </tbody>\n",
       "</table>\n",
       "<p>46899 rows × 1 columns</p>\n",
       "</div>"
      ],
      "text/plain": [
       "              COUNT\n",
       "WORD               \n",
       "in             4501\n",
       "a              4496\n",
       "as             4491\n",
       "it             4486\n",
       "be             4481\n",
       "...             ...\n",
       "obsessivity       0\n",
       "radiolocate       0\n",
       "pelecypodous      0\n",
       "sentimentize      0\n",
       "imminentness      0\n",
       "\n",
       "[46899 rows x 1 columns]"
      ]
     },
     "execution_count": 231,
     "metadata": {},
     "output_type": "execute_result"
    }
   ],
   "source": [
    "df_freq = pd.read_csv('./dict_en.yaml', sep = '\\t', index_col=0, usecols=[1,2])\n",
    "df_freq"
   ]
  },
  {
   "cell_type": "code",
   "execution_count": 232,
   "metadata": {},
   "outputs": [],
   "source": [
    "df = df.join(df_freq)"
   ]
  },
  {
   "cell_type": "code",
   "execution_count": 294,
   "metadata": {},
   "outputs": [],
   "source": [
    "df.rename(columns={'COUNT': 'freq'}, inplace=True)"
   ]
  },
  {
   "cell_type": "code",
   "execution_count": 77,
   "metadata": {},
   "outputs": [],
   "source": [
    "def encode(phonemes):\n",
    "\tvowels = re.compile('(AO|UW|EH|AH|AA|IY|IH|UH|AE|AW|AY|ER|EY|OW|OY)\\d*', re.VERBOSE)\n",
    "\tphonemes = re.sub(vowels, 'Q', phonemes)\n",
    "\tcomplex_consonant = re.compile('CH|DH|HH|JH|NG|SH|TH|ZH|')\n",
    "\t# complex consonants\n",
    "\tphonemes = re.sub('HH', 'H', phonemes)\n",
    "\tphonemes = re.sub('CH', 'C', phonemes)\n",
    "\tphonemes = re.sub('JH', 'J', phonemes)\n",
    "\tphonemes = re.sub('TH', 'X', phonemes)\n",
    "\tphonemes = re.sub('DH', 'X', phonemes)\n",
    "\tphonemes = re.sub('SH', 'U', phonemes)\n",
    "\tphonemes = re.sub('ZH', 'O', phonemes)\n",
    "\tphonemes = re.sub('NG', 'I', phonemes)\n",
    "\t\n",
    "\t# remove whitespaces\n",
    "\tphonemes = re.sub(' ', '', phonemes)\n",
    "\n",
    "\treturn phonemes"
   ]
  },
  {
   "cell_type": "code",
   "execution_count": 78,
   "metadata": {},
   "outputs": [],
   "source": [
    "def transcribe(phonemes_list):\n",
    "\tencoding_list = []\n",
    "\tfor phonemes in phonemes_list:\n",
    "\t\tencoding_list.append(encode(phonemes))\n",
    "\treturn encoding_list"
   ]
  },
  {
   "cell_type": "code",
   "execution_count": 262,
   "metadata": {},
   "outputs": [],
   "source": [
    "encoding_list = transcribe(df.sound.astype('str'))\n",
    "df['encoding'] = encoding_list"
   ]
  },
  {
   "cell_type": "code",
   "execution_count": 263,
   "metadata": {},
   "outputs": [
    {
     "data": {
      "text/html": [
       "<div>\n",
       "<style scoped>\n",
       "    .dataframe tbody tr th:only-of-type {\n",
       "        vertical-align: middle;\n",
       "    }\n",
       "\n",
       "    .dataframe tbody tr th {\n",
       "        vertical-align: top;\n",
       "    }\n",
       "\n",
       "    .dataframe thead th {\n",
       "        text-align: right;\n",
       "    }\n",
       "</style>\n",
       "<table border=\"1\" class=\"dataframe\">\n",
       "  <thead>\n",
       "    <tr style=\"text-align: right;\">\n",
       "      <th></th>\n",
       "      <th>sound</th>\n",
       "      <th>COUNT</th>\n",
       "      <th>encoding</th>\n",
       "    </tr>\n",
       "  </thead>\n",
       "  <tbody>\n",
       "    <tr>\n",
       "      <th>a</th>\n",
       "      <td>AH0</td>\n",
       "      <td>4496.0</td>\n",
       "      <td>Q</td>\n",
       "    </tr>\n",
       "    <tr>\n",
       "      <th>aaa</th>\n",
       "      <td>T R IH2 P AH0 L EY1</td>\n",
       "      <td>NaN</td>\n",
       "      <td>TRQPQLQ</td>\n",
       "    </tr>\n",
       "    <tr>\n",
       "      <th>aachen</th>\n",
       "      <td>AA1 K AH0 N</td>\n",
       "      <td>NaN</td>\n",
       "      <td>QKQN</td>\n",
       "    </tr>\n",
       "    <tr>\n",
       "      <th>aalborg</th>\n",
       "      <td>AO1 L B AO0 R G</td>\n",
       "      <td>NaN</td>\n",
       "      <td>QLBQRG</td>\n",
       "    </tr>\n",
       "    <tr>\n",
       "      <th>aalto</th>\n",
       "      <td>AA1 L T OW2</td>\n",
       "      <td>NaN</td>\n",
       "      <td>QLTQ</td>\n",
       "    </tr>\n",
       "    <tr>\n",
       "      <th>...</th>\n",
       "      <td>...</td>\n",
       "      <td>...</td>\n",
       "      <td>...</td>\n",
       "    </tr>\n",
       "    <tr>\n",
       "      <th>zuni</th>\n",
       "      <td>Z UW1 N IY2</td>\n",
       "      <td>NaN</td>\n",
       "      <td>ZQNQ</td>\n",
       "    </tr>\n",
       "    <tr>\n",
       "      <th>zurich</th>\n",
       "      <td>Z UH1 R IH0 K</td>\n",
       "      <td>NaN</td>\n",
       "      <td>ZQRQK</td>\n",
       "    </tr>\n",
       "    <tr>\n",
       "      <th>zweig</th>\n",
       "      <td>Z W AY1 G</td>\n",
       "      <td>NaN</td>\n",
       "      <td>ZWQG</td>\n",
       "    </tr>\n",
       "    <tr>\n",
       "      <th>zydeco</th>\n",
       "      <td>Z AY1 D AH0 K OW2</td>\n",
       "      <td>NaN</td>\n",
       "      <td>ZQDQKQ</td>\n",
       "    </tr>\n",
       "    <tr>\n",
       "      <th>zygote</th>\n",
       "      <td>Z AY1 G OW0 T</td>\n",
       "      <td>7.0</td>\n",
       "      <td>ZQGQT</td>\n",
       "    </tr>\n",
       "  </tbody>\n",
       "</table>\n",
       "<p>52123 rows × 3 columns</p>\n",
       "</div>"
      ],
      "text/plain": [
       "                       sound   COUNT encoding\n",
       "a                        AH0  4496.0        Q\n",
       "aaa      T R IH2 P AH0 L EY1     NaN  TRQPQLQ\n",
       "aachen           AA1 K AH0 N     NaN     QKQN\n",
       "aalborg      AO1 L B AO0 R G     NaN   QLBQRG\n",
       "aalto            AA1 L T OW2     NaN     QLTQ\n",
       "...                      ...     ...      ...\n",
       "zuni             Z UW1 N IY2     NaN     ZQNQ\n",
       "zurich         Z UH1 R IH0 K     NaN    ZQRQK\n",
       "zweig              Z W AY1 G     NaN     ZWQG\n",
       "zydeco     Z AY1 D AH0 K OW2     NaN   ZQDQKQ\n",
       "zygote         Z AY1 G OW0 T     7.0    ZQGQT\n",
       "\n",
       "[52123 rows x 3 columns]"
      ]
     },
     "execution_count": 263,
     "metadata": {},
     "output_type": "execute_result"
    }
   ],
   "source": [
    "df"
   ]
  },
  {
   "cell_type": "markdown",
   "metadata": {},
   "source": [
    "delete non-initial vowels"
   ]
  },
  {
   "cell_type": "code",
   "execution_count": 264,
   "metadata": {},
   "outputs": [],
   "source": [
    "def remove_vowels(encoding_list):\n",
    "\tres = []\n",
    "\tfor encoding in encoding_list:\n",
    "\t\tif len(encoding) > 1:\n",
    "\t\t\tres.append(encoding[0] + re.sub('Q','', encoding[1:-1]) + encoding[-1])\n",
    "\t\telse:\n",
    "\t\t\tres.append(encoding)\n",
    "\treturn res"
   ]
  },
  {
   "cell_type": "markdown",
   "metadata": {},
   "source": [
    "Normalization\n",
    "\n",
    "We hope that:\n",
    "1. the plurals and the third person single form are uniformly terminated with S(instead of Z or other possible sound)\n",
    "2. the past particles are uniformly terminated with E(instead of T or D or other possible sound)\n",
    "3. the present particles are uniformly terminated with I(this is already done since we encode NG sound by I)\n",
    "\n",
    "you can take these terminations as a grammatical symbol"
   ]
  },
  {
   "cell_type": "code",
   "execution_count": 235,
   "metadata": {},
   "outputs": [
    {
     "data": {
      "text/plain": [
       "aardvarks           QRDVQRKS\n",
       "aarhus                  QHQS\n",
       "abacus                QBQKQS\n",
       "abalones            QBQLQNQZ\n",
       "abandonments    QBQNDQNMQNTS\n",
       "                    ...     \n",
       "zones                   ZQNZ\n",
       "zoologists       ZQWQLQJQSTS\n",
       "zooms                   ZQMZ\n",
       "zoos                     ZQZ\n",
       "zucchinis            ZQKQNQZ\n",
       "Name: encoding, Length: 13316, dtype: object"
      ]
     },
     "execution_count": 235,
     "metadata": {},
     "output_type": "execute_result"
    }
   ],
   "source": [
    "df.encoding.loc[(df.index.str.contains('s$', regex=True) == True)]"
   ]
  },
  {
   "cell_type": "code",
   "execution_count": 236,
   "metadata": {},
   "outputs": [
    {
     "data": {
      "text/plain": [
       "abandoned         QBQNDQND\n",
       "abashed              QBQUT\n",
       "abated              QBQTQD\n",
       "abbreviated    QBRQVQYQTQD\n",
       "abdicated        QBDQKQTQD\n",
       "                  ...     \n",
       "zigzagged          ZQGZQGD\n",
       "zipped                ZQPT\n",
       "zippered             ZQPQD\n",
       "zoned                 ZQND\n",
       "zoomed                ZQMD\n",
       "Name: encoding, Length: 4701, dtype: object"
      ]
     },
     "execution_count": 236,
     "metadata": {},
     "output_type": "execute_result"
    }
   ],
   "source": [
    "df.encoding.loc[(df.index.str.contains('ed$', regex=True) == True)]"
   ]
  },
  {
   "cell_type": "code",
   "execution_count": 237,
   "metadata": {},
   "outputs": [
    {
     "data": {
      "text/plain": [
       "abandoning        QBQNDQNQI\n",
       "abating              QBQTQI\n",
       "abbreviating    QBRQVQYQTQI\n",
       "abdicating        QBDQKQTQI\n",
       "abducting          QBDQKTQI\n",
       "                   ...     \n",
       "zing                    ZQI\n",
       "zippering           ZQPQRQI\n",
       "zipping               ZQPQI\n",
       "zoning                ZQNQI\n",
       "zooming               ZQMQI\n",
       "Name: encoding, Length: 4323, dtype: object"
      ]
     },
     "execution_count": 237,
     "metadata": {},
     "output_type": "execute_result"
    }
   ],
   "source": [
    "df.encoding.loc[(df.index.str.contains('ing$', regex=True) == True)]"
   ]
  },
  {
   "cell_type": "code",
   "execution_count": 267,
   "metadata": {},
   "outputs": [],
   "source": [
    "def normalize(encodings: pd.Series):\n",
    "\tplurals_or_third_single_form  = re.compile('s$')\n",
    "\tpast_particle = re.compile('ed$')\n",
    "\tpresent_particle = re.compile('ing$')\n",
    "\n",
    "\t# print(encodings.head())\n",
    "\t# replace voiced plural suffix\n",
    "\tres1 = encodings.loc[(encodings.index.str.contains(plurals_or_third_single_form, regex=True) == True)].str.replace('Z$', 'S', regex=True)\n",
    "\t# print(res1.head())\n",
    "\t# remove -ed, sometimes together with a vowel sound i.\n",
    "\tres2 = encodings.loc[(encodings.index.str.contains(past_particle, regex=True) == True)].str.replace('Q?[T|D]$', 'E', regex = True)\n",
    "\t# print(res2.head())\n",
    "\t# remove -ing, always with a vowel sound i\n",
    "\tres3 = encodings.loc[(encodings.index.str.contains(present_particle, regex=True) == True)].str.replace('Q?I$', 'I', regex = True)\n",
    "\t# print(res3.head())\n",
    "\t\n",
    "\tres = pd.concat([res1, res2, res3])\n",
    "\treturn res"
   ]
  },
  {
   "cell_type": "code",
   "execution_count": 266,
   "metadata": {},
   "outputs": [],
   "source": [
    "res = normalize(df.encoding)"
   ]
  },
  {
   "cell_type": "code",
   "execution_count": 272,
   "metadata": {},
   "outputs": [
    {
     "data": {
      "text/plain": [
       "abandons       QBQNDQNZ\n",
       "abandoned      QBQNDQND\n",
       "abandoning    QBQNDQNQI\n",
       "Name: encoding, dtype: object"
      ]
     },
     "execution_count": 272,
     "metadata": {},
     "output_type": "execute_result"
    }
   ],
   "source": [
    "df.loc[['abandons','abandoned','abandoning'], 'encoding']"
   ]
  },
  {
   "cell_type": "code",
   "execution_count": 273,
   "metadata": {},
   "outputs": [],
   "source": [
    "df.loc[res.index, 'encoding'] = res"
   ]
  },
  {
   "cell_type": "code",
   "execution_count": 274,
   "metadata": {},
   "outputs": [
    {
     "data": {
      "text/plain": [
       "abandons      QBQNDQNS\n",
       "abandoned     QBQNDQNE\n",
       "abandoning    QBQNDQNI\n",
       "Name: encoding, dtype: object"
      ]
     },
     "execution_count": 274,
     "metadata": {},
     "output_type": "execute_result"
    }
   ],
   "source": [
    "df.loc[['abandons','abandoned','abandoning'], 'encoding']"
   ]
  },
  {
   "cell_type": "markdown",
   "metadata": {},
   "source": [
    "Manually correct exceptions"
   ]
  },
  {
   "cell_type": "markdown",
   "metadata": {},
   "source": [
    "Type letters, 2-grams, 3-grams, 4-grams by themselve  "
   ]
  },
  {
   "cell_type": "code",
   "execution_count": 276,
   "metadata": {},
   "outputs": [],
   "source": [
    "df.loc[(df.index.str.len() <= 4), 'encoding'] = df.index[(df.index.str.len() <= 4)].str.upper()"
   ]
  },
  {
   "cell_type": "code",
   "execution_count": 277,
   "metadata": {},
   "outputs": [
    {
     "data": {
      "text/html": [
       "<div>\n",
       "<style scoped>\n",
       "    .dataframe tbody tr th:only-of-type {\n",
       "        vertical-align: middle;\n",
       "    }\n",
       "\n",
       "    .dataframe tbody tr th {\n",
       "        vertical-align: top;\n",
       "    }\n",
       "\n",
       "    .dataframe thead th {\n",
       "        text-align: right;\n",
       "    }\n",
       "</style>\n",
       "<table border=\"1\" class=\"dataframe\">\n",
       "  <thead>\n",
       "    <tr style=\"text-align: right;\">\n",
       "      <th></th>\n",
       "      <th>encoding</th>\n",
       "      <th>COUNT</th>\n",
       "    </tr>\n",
       "  </thead>\n",
       "  <tbody>\n",
       "    <tr>\n",
       "      <th>ad</th>\n",
       "      <td>AD</td>\n",
       "      <td>920.0</td>\n",
       "    </tr>\n",
       "    <tr>\n",
       "      <th>ai</th>\n",
       "      <td>AI</td>\n",
       "      <td>150.0</td>\n",
       "    </tr>\n",
       "    <tr>\n",
       "      <th>al</th>\n",
       "      <td>AL</td>\n",
       "      <td>3163.0</td>\n",
       "    </tr>\n",
       "    <tr>\n",
       "      <th>am</th>\n",
       "      <td>AM</td>\n",
       "      <td>3592.0</td>\n",
       "    </tr>\n",
       "    <tr>\n",
       "      <th>an</th>\n",
       "      <td>AN</td>\n",
       "      <td>4431.0</td>\n",
       "    </tr>\n",
       "    <tr>\n",
       "      <th>as</th>\n",
       "      <td>AS</td>\n",
       "      <td>4491.0</td>\n",
       "    </tr>\n",
       "    <tr>\n",
       "      <th>at</th>\n",
       "      <td>AT</td>\n",
       "      <td>4446.0</td>\n",
       "    </tr>\n",
       "    <tr>\n",
       "      <th>au</th>\n",
       "      <td>AU</td>\n",
       "      <td>239.0</td>\n",
       "    </tr>\n",
       "    <tr>\n",
       "      <th>av</th>\n",
       "      <td>AV</td>\n",
       "      <td>151.0</td>\n",
       "    </tr>\n",
       "    <tr>\n",
       "      <th>ax</th>\n",
       "      <td>AX</td>\n",
       "      <td>61.0</td>\n",
       "    </tr>\n",
       "    <tr>\n",
       "      <th>be</th>\n",
       "      <td>BE</td>\n",
       "      <td>4481.0</td>\n",
       "    </tr>\n",
       "    <tr>\n",
       "      <th>bi</th>\n",
       "      <td>BI</td>\n",
       "      <td>148.0</td>\n",
       "    </tr>\n",
       "    <tr>\n",
       "      <th>by</th>\n",
       "      <td>BY</td>\n",
       "      <td>4476.0</td>\n",
       "    </tr>\n",
       "    <tr>\n",
       "      <th>ce</th>\n",
       "      <td>CE</td>\n",
       "      <td>179.0</td>\n",
       "    </tr>\n",
       "    <tr>\n",
       "      <th>co</th>\n",
       "      <td>CO</td>\n",
       "      <td>2310.0</td>\n",
       "    </tr>\n",
       "    <tr>\n",
       "      <th>da</th>\n",
       "      <td>DA</td>\n",
       "      <td>342.0</td>\n",
       "    </tr>\n",
       "    <tr>\n",
       "      <th>de</th>\n",
       "      <td>DE</td>\n",
       "      <td>3597.0</td>\n",
       "    </tr>\n",
       "    <tr>\n",
       "      <th>do</th>\n",
       "      <td>DO</td>\n",
       "      <td>4346.0</td>\n",
       "    </tr>\n",
       "    <tr>\n",
       "      <th>ed</th>\n",
       "      <td>ED</td>\n",
       "      <td>2120.0</td>\n",
       "    </tr>\n",
       "    <tr>\n",
       "      <th>ee</th>\n",
       "      <td>EE</td>\n",
       "      <td>82.0</td>\n",
       "    </tr>\n",
       "    <tr>\n",
       "      <th>el</th>\n",
       "      <td>EL</td>\n",
       "      <td>687.0</td>\n",
       "    </tr>\n",
       "    <tr>\n",
       "      <th>em</th>\n",
       "      <td>EM</td>\n",
       "      <td>302.0</td>\n",
       "    </tr>\n",
       "    <tr>\n",
       "      <th>en</th>\n",
       "      <td>EN</td>\n",
       "      <td>897.0</td>\n",
       "    </tr>\n",
       "    <tr>\n",
       "      <th>er</th>\n",
       "      <td>ER</td>\n",
       "      <td>360.0</td>\n",
       "    </tr>\n",
       "    <tr>\n",
       "      <th>es</th>\n",
       "      <td>ES</td>\n",
       "      <td>287.0</td>\n",
       "    </tr>\n",
       "    <tr>\n",
       "      <th>ex</th>\n",
       "      <td>EX</td>\n",
       "      <td>857.0</td>\n",
       "    </tr>\n",
       "    <tr>\n",
       "      <th>go</th>\n",
       "      <td>GO</td>\n",
       "      <td>3756.0</td>\n",
       "    </tr>\n",
       "    <tr>\n",
       "      <th>gu</th>\n",
       "      <td>GU</td>\n",
       "      <td>31.0</td>\n",
       "    </tr>\n",
       "    <tr>\n",
       "      <th>ha</th>\n",
       "      <td>HA</td>\n",
       "      <td>356.0</td>\n",
       "    </tr>\n",
       "    <tr>\n",
       "      <th>he</th>\n",
       "      <td>HE</td>\n",
       "      <td>4441.0</td>\n",
       "    </tr>\n",
       "    <tr>\n",
       "      <th>hi</th>\n",
       "      <td>HI</td>\n",
       "      <td>296.0</td>\n",
       "    </tr>\n",
       "    <tr>\n",
       "      <th>id</th>\n",
       "      <td>ID</td>\n",
       "      <td>678.0</td>\n",
       "    </tr>\n",
       "    <tr>\n",
       "      <th>in</th>\n",
       "      <td>IN</td>\n",
       "      <td>4501.0</td>\n",
       "    </tr>\n",
       "    <tr>\n",
       "      <th>io</th>\n",
       "      <td>IO</td>\n",
       "      <td>177.0</td>\n",
       "    </tr>\n",
       "    <tr>\n",
       "      <th>it</th>\n",
       "      <td>IT</td>\n",
       "      <td>4486.0</td>\n",
       "    </tr>\n",
       "    <tr>\n",
       "      <th>ji</th>\n",
       "      <td>JI</td>\n",
       "      <td>47.0</td>\n",
       "    </tr>\n",
       "    <tr>\n",
       "      <th>ka</th>\n",
       "      <td>KA</td>\n",
       "      <td>86.0</td>\n",
       "    </tr>\n",
       "    <tr>\n",
       "      <th>ki</th>\n",
       "      <td>KI</td>\n",
       "      <td>62.0</td>\n",
       "    </tr>\n",
       "    <tr>\n",
       "      <th>la</th>\n",
       "      <td>LA</td>\n",
       "      <td>2022.0</td>\n",
       "    </tr>\n",
       "    <tr>\n",
       "      <th>le</th>\n",
       "      <td>LE</td>\n",
       "      <td>824.0</td>\n",
       "    </tr>\n",
       "    <tr>\n",
       "      <th>li</th>\n",
       "      <td>LI</td>\n",
       "      <td>352.0</td>\n",
       "    </tr>\n",
       "    <tr>\n",
       "      <th>me</th>\n",
       "      <td>ME</td>\n",
       "      <td>4266.0</td>\n",
       "    </tr>\n",
       "    <tr>\n",
       "      <th>mi</th>\n",
       "      <td>MI</td>\n",
       "      <td>339.0</td>\n",
       "    </tr>\n",
       "    <tr>\n",
       "      <th>mu</th>\n",
       "      <td>MU</td>\n",
       "      <td>76.0</td>\n",
       "    </tr>\n",
       "    <tr>\n",
       "      <th>ne</th>\n",
       "      <td>NE</td>\n",
       "      <td>344.0</td>\n",
       "    </tr>\n",
       "    <tr>\n",
       "      <th>no</th>\n",
       "      <td>NO</td>\n",
       "      <td>4391.0</td>\n",
       "    </tr>\n",
       "    <tr>\n",
       "      <th>nu</th>\n",
       "      <td>NU</td>\n",
       "      <td>55.0</td>\n",
       "    </tr>\n",
       "    <tr>\n",
       "      <th>oh</th>\n",
       "      <td>OH</td>\n",
       "      <td>1395.0</td>\n",
       "    </tr>\n",
       "    <tr>\n",
       "      <th>on</th>\n",
       "      <td>ON</td>\n",
       "      <td>4471.0</td>\n",
       "    </tr>\n",
       "    <tr>\n",
       "      <th>or</th>\n",
       "      <td>OR</td>\n",
       "      <td>4461.0</td>\n",
       "    </tr>\n",
       "    <tr>\n",
       "      <th>os</th>\n",
       "      <td>OS</td>\n",
       "      <td>161.0</td>\n",
       "    </tr>\n",
       "    <tr>\n",
       "      <th>ox</th>\n",
       "      <td>OX</td>\n",
       "      <td>93.0</td>\n",
       "    </tr>\n",
       "    <tr>\n",
       "      <th>pi</th>\n",
       "      <td>PI</td>\n",
       "      <td>277.0</td>\n",
       "    </tr>\n",
       "    <tr>\n",
       "      <th>re</th>\n",
       "      <td>RE</td>\n",
       "      <td>2059.0</td>\n",
       "    </tr>\n",
       "    <tr>\n",
       "      <th>ro</th>\n",
       "      <td>RO</td>\n",
       "      <td>91.0</td>\n",
       "    </tr>\n",
       "    <tr>\n",
       "      <th>se</th>\n",
       "      <td>SE</td>\n",
       "      <td>477.0</td>\n",
       "    </tr>\n",
       "    <tr>\n",
       "      <th>si</th>\n",
       "      <td>SI</td>\n",
       "      <td>434.0</td>\n",
       "    </tr>\n",
       "    <tr>\n",
       "      <th>so</th>\n",
       "      <td>SO</td>\n",
       "      <td>4376.0</td>\n",
       "    </tr>\n",
       "    <tr>\n",
       "      <th>ta</th>\n",
       "      <td>TA</td>\n",
       "      <td>167.0</td>\n",
       "    </tr>\n",
       "    <tr>\n",
       "      <th>te</th>\n",
       "      <td>TE</td>\n",
       "      <td>236.0</td>\n",
       "    </tr>\n",
       "  </tbody>\n",
       "</table>\n",
       "</div>"
      ],
      "text/plain": [
       "   encoding   COUNT\n",
       "ad       AD   920.0\n",
       "ai       AI   150.0\n",
       "al       AL  3163.0\n",
       "am       AM  3592.0\n",
       "an       AN  4431.0\n",
       "as       AS  4491.0\n",
       "at       AT  4446.0\n",
       "au       AU   239.0\n",
       "av       AV   151.0\n",
       "ax       AX    61.0\n",
       "be       BE  4481.0\n",
       "bi       BI   148.0\n",
       "by       BY  4476.0\n",
       "ce       CE   179.0\n",
       "co       CO  2310.0\n",
       "da       DA   342.0\n",
       "de       DE  3597.0\n",
       "do       DO  4346.0\n",
       "ed       ED  2120.0\n",
       "ee       EE    82.0\n",
       "el       EL   687.0\n",
       "em       EM   302.0\n",
       "en       EN   897.0\n",
       "er       ER   360.0\n",
       "es       ES   287.0\n",
       "ex       EX   857.0\n",
       "go       GO  3756.0\n",
       "gu       GU    31.0\n",
       "ha       HA   356.0\n",
       "he       HE  4441.0\n",
       "hi       HI   296.0\n",
       "id       ID   678.0\n",
       "in       IN  4501.0\n",
       "io       IO   177.0\n",
       "it       IT  4486.0\n",
       "ji       JI    47.0\n",
       "ka       KA    86.0\n",
       "ki       KI    62.0\n",
       "la       LA  2022.0\n",
       "le       LE   824.0\n",
       "li       LI   352.0\n",
       "me       ME  4266.0\n",
       "mi       MI   339.0\n",
       "mu       MU    76.0\n",
       "ne       NE   344.0\n",
       "no       NO  4391.0\n",
       "nu       NU    55.0\n",
       "oh       OH  1395.0\n",
       "on       ON  4471.0\n",
       "or       OR  4461.0\n",
       "os       OS   161.0\n",
       "ox       OX    93.0\n",
       "pi       PI   277.0\n",
       "re       RE  2059.0\n",
       "ro       RO    91.0\n",
       "se       SE   477.0\n",
       "si       SI   434.0\n",
       "so       SO  4376.0\n",
       "ta       TA   167.0\n",
       "te       TE   236.0"
      ]
     },
     "execution_count": 277,
     "metadata": {},
     "output_type": "execute_result"
    }
   ],
   "source": [
    "df.loc[(df.index.str.len() == 2) & (df.COUNT >= 0), ['encoding','COUNT']][:60]"
   ]
  },
  {
   "cell_type": "code",
   "execution_count": 278,
   "metadata": {},
   "outputs": [
    {
     "data": {
      "text/html": [
       "<div>\n",
       "<style scoped>\n",
       "    .dataframe tbody tr th:only-of-type {\n",
       "        vertical-align: middle;\n",
       "    }\n",
       "\n",
       "    .dataframe tbody tr th {\n",
       "        vertical-align: top;\n",
       "    }\n",
       "\n",
       "    .dataframe thead th {\n",
       "        text-align: right;\n",
       "    }\n",
       "</style>\n",
       "<table border=\"1\" class=\"dataframe\">\n",
       "  <thead>\n",
       "    <tr style=\"text-align: right;\">\n",
       "      <th></th>\n",
       "      <th>encoding</th>\n",
       "      <th>COUNT</th>\n",
       "    </tr>\n",
       "  </thead>\n",
       "  <tbody>\n",
       "    <tr>\n",
       "      <th>abbe</th>\n",
       "      <td>ABBE</td>\n",
       "      <td>NaN</td>\n",
       "    </tr>\n",
       "    <tr>\n",
       "      <th>abcs</th>\n",
       "      <td>ABCS</td>\n",
       "      <td>NaN</td>\n",
       "    </tr>\n",
       "    <tr>\n",
       "      <th>abed</th>\n",
       "      <td>ABED</td>\n",
       "      <td>6.0</td>\n",
       "    </tr>\n",
       "    <tr>\n",
       "      <th>abel</th>\n",
       "      <td>ABEL</td>\n",
       "      <td>59.0</td>\n",
       "    </tr>\n",
       "    <tr>\n",
       "      <th>abet</th>\n",
       "      <td>ABET</td>\n",
       "      <td>8.0</td>\n",
       "    </tr>\n",
       "    <tr>\n",
       "      <th>...</th>\n",
       "      <td>...</td>\n",
       "      <td>...</td>\n",
       "    </tr>\n",
       "    <tr>\n",
       "      <th>zone</th>\n",
       "      <td>ZONE</td>\n",
       "      <td>914.0</td>\n",
       "    </tr>\n",
       "    <tr>\n",
       "      <th>zoom</th>\n",
       "      <td>ZOOM</td>\n",
       "      <td>28.0</td>\n",
       "    </tr>\n",
       "    <tr>\n",
       "      <th>zoos</th>\n",
       "      <td>ZOOS</td>\n",
       "      <td>NaN</td>\n",
       "    </tr>\n",
       "    <tr>\n",
       "      <th>zulu</th>\n",
       "      <td>ZULU</td>\n",
       "      <td>22.0</td>\n",
       "    </tr>\n",
       "    <tr>\n",
       "      <th>zuni</th>\n",
       "      <td>ZUNI</td>\n",
       "      <td>NaN</td>\n",
       "    </tr>\n",
       "  </tbody>\n",
       "</table>\n",
       "<p>2750 rows × 2 columns</p>\n",
       "</div>"
      ],
      "text/plain": [
       "     encoding  COUNT\n",
       "abbe     ABBE    NaN\n",
       "abcs     ABCS    NaN\n",
       "abed     ABED    6.0\n",
       "abel     ABEL   59.0\n",
       "abet     ABET    8.0\n",
       "...       ...    ...\n",
       "zone     ZONE  914.0\n",
       "zoom     ZOOM   28.0\n",
       "zoos     ZOOS    NaN\n",
       "zulu     ZULU   22.0\n",
       "zuni     ZUNI    NaN\n",
       "\n",
       "[2750 rows x 2 columns]"
      ]
     },
     "execution_count": 278,
     "metadata": {},
     "output_type": "execute_result"
    }
   ],
   "source": [
    "df.loc[(df.index.str.len() == 4) & (df.encoding.str.len() == 4), ['encoding','COUNT']]"
   ]
  },
  {
   "cell_type": "markdown",
   "metadata": {},
   "source": [
    "Detect inefficient encoding"
   ]
  },
  {
   "cell_type": "code",
   "execution_count": 279,
   "metadata": {},
   "outputs": [
    {
     "data": {
      "text/html": [
       "<div>\n",
       "<style scoped>\n",
       "    .dataframe tbody tr th:only-of-type {\n",
       "        vertical-align: middle;\n",
       "    }\n",
       "\n",
       "    .dataframe tbody tr th {\n",
       "        vertical-align: top;\n",
       "    }\n",
       "\n",
       "    .dataframe thead th {\n",
       "        text-align: right;\n",
       "    }\n",
       "</style>\n",
       "<table border=\"1\" class=\"dataframe\">\n",
       "  <thead>\n",
       "    <tr style=\"text-align: right;\">\n",
       "      <th></th>\n",
       "      <th>encoding</th>\n",
       "      <th>COUNT</th>\n",
       "    </tr>\n",
       "  </thead>\n",
       "  <tbody>\n",
       "    <tr>\n",
       "      <th>absenteeism</th>\n",
       "      <td>QBSQNTQYQZQM</td>\n",
       "      <td>23.0</td>\n",
       "    </tr>\n",
       "    <tr>\n",
       "      <th>absolutism</th>\n",
       "      <td>QBSQLQTQZQM</td>\n",
       "      <td>16.0</td>\n",
       "    </tr>\n",
       "    <tr>\n",
       "      <th>abuses</th>\n",
       "      <td>QBYQSQS</td>\n",
       "      <td>NaN</td>\n",
       "    </tr>\n",
       "    <tr>\n",
       "      <th>academia</th>\n",
       "      <td>QKQDQMQYQ</td>\n",
       "      <td>33.0</td>\n",
       "    </tr>\n",
       "    <tr>\n",
       "      <th>acadia</th>\n",
       "      <td>QKQDQYQ</td>\n",
       "      <td>NaN</td>\n",
       "    </tr>\n",
       "    <tr>\n",
       "      <th>...</th>\n",
       "      <td>...</td>\n",
       "      <td>...</td>\n",
       "    </tr>\n",
       "    <tr>\n",
       "      <th>zodiac</th>\n",
       "      <td>ZQDQYQK</td>\n",
       "      <td>16.0</td>\n",
       "    </tr>\n",
       "    <tr>\n",
       "      <th>zoologist</th>\n",
       "      <td>ZQWQLQJQST</td>\n",
       "      <td>9.0</td>\n",
       "    </tr>\n",
       "    <tr>\n",
       "      <th>zoologists</th>\n",
       "      <td>ZQWQLQJQSTS</td>\n",
       "      <td>NaN</td>\n",
       "    </tr>\n",
       "    <tr>\n",
       "      <th>zoology</th>\n",
       "      <td>ZQWQLQJQ</td>\n",
       "      <td>83.0</td>\n",
       "    </tr>\n",
       "    <tr>\n",
       "      <th>zovirax</th>\n",
       "      <td>ZQVQRQKS</td>\n",
       "      <td>NaN</td>\n",
       "    </tr>\n",
       "  </tbody>\n",
       "</table>\n",
       "<p>2245 rows × 2 columns</p>\n",
       "</div>"
      ],
      "text/plain": [
       "                 encoding  COUNT\n",
       "absenteeism  QBSQNTQYQZQM   23.0\n",
       "absolutism    QBSQLQTQZQM   16.0\n",
       "abuses            QBYQSQS    NaN\n",
       "academia        QKQDQMQYQ   33.0\n",
       "acadia            QKQDQYQ    NaN\n",
       "...                   ...    ...\n",
       "zodiac            ZQDQYQK   16.0\n",
       "zoologist      ZQWQLQJQST    9.0\n",
       "zoologists    ZQWQLQJQSTS    NaN\n",
       "zoology          ZQWQLQJQ   83.0\n",
       "zovirax          ZQVQRQKS    NaN\n",
       "\n",
       "[2245 rows x 2 columns]"
      ]
     },
     "execution_count": 279,
     "metadata": {},
     "output_type": "execute_result"
    }
   ],
   "source": [
    "df.loc[(df.index.str.len() < df.encoding.str.len()), ['encoding','COUNT']]"
   ]
  },
  {
   "cell_type": "code",
   "execution_count": 284,
   "metadata": {},
   "outputs": [],
   "source": [
    "encoding_normalized = df['encoding'].copy()"
   ]
  },
  {
   "cell_type": "code",
   "execution_count": 288,
   "metadata": {},
   "outputs": [],
   "source": [
    "df['vowel_free'] = remove_vowels(df.encoding) "
   ]
  },
  {
   "cell_type": "code",
   "execution_count": 296,
   "metadata": {},
   "outputs": [],
   "source": [
    "df.to_csv('./dict_en.csv')"
   ]
  },
  {
   "cell_type": "markdown",
   "metadata": {},
   "source": [
    "## Encoding Statistics"
   ]
  },
  {
   "cell_type": "markdown",
   "metadata": {},
   "source": [
    "encoding length"
   ]
  },
  {
   "cell_type": "code",
   "execution_count": 282,
   "metadata": {},
   "outputs": [],
   "source": [
    "def plot_string_length_freq(encoding_series: pd.Series):\n",
    "\twd_length = list(map(len, encoding_series))\n",
    "\tplt.hist(np.array(wd_length),alpha = 0.5, bins=range(min(wd_length), max(wd_length)+1,1), label=encoding_series.name)\n",
    "\tlongest, shortest, average = np.max(wd_length), np.min(wd_length), np.mean(wd_length)\n",
    "\tprint('longest length: {}, shortest length: {}, average length: {}'.format(longest, shortest, average))\n",
    "\treturn longest, shortest, average"
   ]
  },
  {
   "cell_type": "markdown",
   "metadata": {},
   "source": [
    "we notice that the encoding length is dramatically reduced. On average cut down 3.3 letters (nearly 34%)"
   ]
  },
  {
   "cell_type": "code",
   "execution_count": 292,
   "metadata": {},
   "outputs": [
    {
     "name": "stdout",
     "output_type": "stream",
     "text": [
      "longest length: 19, shortest length: 1, average length: 6.810582660245957\n",
      "longest length: 13, shortest length: 1, average length: 4.791397271837768\n",
      "longest length: 20, shortest length: 1, average length: 7.912552999635477\n"
     ]
    },
    {
     "data": {
      "text/plain": [
       "<matplotlib.legend.Legend at 0x227851a58e0>"
      ]
     },
     "execution_count": 292,
     "metadata": {},
     "output_type": "execute_result"
    },
    {
     "data": {
      "image/png": "[encoded data removed]",
      "text/plain": [
       "<Figure size 640x480 with 1 Axes>"
      ]
     },
     "metadata": {},
     "output_type": "display_data"
    }
   ],
   "source": [
    "plt.style.use('seaborn-v0_8-dark')\n",
    "plot_string_length_freq(encoding_normalized)\n",
    "plot_string_length_freq(df.vowel_free)\n",
    "plot_string_length_freq(df.index)\n",
    "plt.legend()"
   ]
  },
  {
   "cell_type": "markdown",
   "metadata": {},
   "source": [
    "coincident codes: counts of words with same encoding"
   ]
  },
  {
   "cell_type": "code",
   "execution_count": null,
   "metadata": {},
   "outputs": [],
   "source": [
    "encoding_counts = df_final.encoding_abjad.value_counts()"
   ]
  },
  {
   "cell_type": "markdown",
   "metadata": {},
   "source": [
    "coincide encoding rate is 14%"
   ]
  },
  {
   "cell_type": "code",
   "execution_count": null,
   "metadata": {},
   "outputs": [
    {
     "name": "stdout",
     "output_type": "stream",
     "text": [
      "(array([ 1,  2,  3,  4,  5,  6,  7,  8,  9, 10, 11, 12, 13, 14, 15, 16, 17,\n",
      "       18, 20], dtype=int64), array([32205,  3512,   866,   343,   162,   123,    78,    42,    37,\n",
      "          23,     7,    12,    13,     7,     3,     3,     2,     4,\n",
      "           1], dtype=int64))\n",
      "0.8601073631920519\n"
     ]
    }
   ],
   "source": [
    "print(np.unique(encoding_counts,return_counts=True))\n",
    "print(np.unique(encoding_counts,return_counts=True)[1][0]/np.unique(encoding_counts,return_counts=True)[1].sum())"
   ]
  },
  {
   "cell_type": "code",
   "execution_count": null,
   "metadata": {},
   "outputs": [
    {
     "data": {
      "text/plain": [
       "(array([3.2205e+04, 3.5120e+03, 8.6600e+02, 3.4300e+02, 1.6200e+02,\n",
       "        1.2300e+02, 7.8000e+01, 4.2000e+01, 3.7000e+01, 2.3000e+01,\n",
       "        7.0000e+00, 1.2000e+01, 1.3000e+01, 7.0000e+00, 3.0000e+00,\n",
       "        3.0000e+00, 2.0000e+00, 4.0000e+00, 1.0000e+00]),\n",
       " array([ 1.,  2.,  3.,  4.,  5.,  6.,  7.,  8.,  9., 10., 11., 12., 13.,\n",
       "        14., 15., 16., 17., 18., 19., 20.]),\n",
       " <BarContainer object of 19 artists>)"
      ]
     },
     "metadata": {},
     "output_type": "display_data"
    },
    {
     "data": {
      "image/png": "[encoded data removed]",
      "text/plain": [
       "<Figure size 640x480 with 1 Axes>"
      ]
     },
     "metadata": {},
     "output_type": "display_data"
    }
   ],
   "source": [
    "plt.hist(encoding_counts,bins=range(min(encoding_counts), max(encoding_counts)+1,1))"
   ]
  },
  {
   "cell_type": "markdown",
   "metadata": {},
   "source": [
    "Over 99% encodings has a less than 5 coincide codes"
   ]
  },
  {
   "cell_type": "code",
   "execution_count": null,
   "metadata": {},
   "outputs": [
    {
     "data": {
      "text/plain": [
       "5.0"
      ]
     },
     "metadata": {},
     "output_type": "display_data"
    }
   ],
   "source": [
    "encoding_counts.quantile(0.99)"
   ]
  },
  {
   "cell_type": "markdown",
   "metadata": {},
   "source": [
    "There are many ways to reduce the coincide encoding rate, first let's study the coincide encoding length.\n",
    "We can tolerate coincide codes less than 5"
   ]
  },
  {
   "cell_type": "code",
   "execution_count": null,
   "metadata": {},
   "outputs": [],
   "source": [
    "coincident_codes = encoding_counts[encoding_counts > 5].index"
   ]
  },
  {
   "cell_type": "code",
   "execution_count": null,
   "metadata": {},
   "outputs": [
    {
     "name": "stdout",
     "output_type": "stream",
     "text": [
      "longest length: 5, shortest length: 2, average length: 2.895774647887324\n"
     ]
    },
    {
     "data": {
      "text/plain": [
       "(5, 2, 2.895774647887324)"
      ]
     },
     "metadata": {},
     "output_type": "display_data"
    },
    {
     "data": {
      "image/png": "[encoded data removed]",
      "text/plain": [
       "<Figure size 640x480 with 1 Axes>"
      ]
     },
     "metadata": {},
     "output_type": "display_data"
    }
   ],
   "source": [
    "plot_string_length_freq(coincident_codes)"
   ]
  },
  {
   "cell_type": "markdown",
   "metadata": {},
   "source": [
    "They are between 2 to 5."
   ]
  },
  {
   "cell_type": "markdown",
   "metadata": {},
   "source": [
    "length of words that are encoded by coincident codes"
   ]
  },
  {
   "cell_type": "code",
   "execution_count": null,
   "metadata": {},
   "outputs": [
    {
     "name": "stdout",
     "output_type": "stream",
     "text": [
      "longest length: 9, shortest length: 4, average length: 5.07639366827254\n"
     ]
    },
    {
     "data": {
      "text/plain": [
       "(9, 4, 5.07639366827254)"
      ]
     },
     "metadata": {},
     "output_type": "display_data"
    },
    {
     "data": {
      "image/png": "[encoded data removed]",
      "text/plain": [
       "<Figure size 640x480 with 1 Axes>"
      ]
     },
     "metadata": {},
     "output_type": "display_data"
    }
   ],
   "source": [
    "collision_word = df_final[df_final.encoding_abjad.isin(coincident_codes) & df_final.COUNT > 0].WORD\n",
    "plot_string_length_freq(collision_word)"
   ]
  },
  {
   "cell_type": "code",
   "execution_count": null,
   "metadata": {},
   "outputs": [],
   "source": [
    "df_pronounced = df_final.loc[df_final['sound'].notnull()]\n",
    "df_pronounced"
   ]
  }
 ],
 "metadata": {
  "kernelspec": {
   "display_name": "Python 3.9.13 ('base')",
   "language": "python",
   "name": "python3"
  },
  "language_info": {
   "codemirror_mode": {
    "name": "ipython",
    "version": 3
   },
   "file_extension": ".py",
   "mimetype": "text/x-python",
   "name": "python",
   "nbconvert_exporter": "python",
   "pygments_lexer": "ipython3",
   "version": "3.9.13"
  },
  "orig_nbformat": 4,
  "vscode": {
   "interpreter": {
    "hash": "88279d2366fe020547cde40dd65aa0e3aa662a6ec1f3ca12d88834876c85e1a6"
   }
  }
 },
 "nbformat": 4,
 "nbformat_minor": 2
}
