{
 "cells": [
  {
   "cell_type": "markdown",
   "metadata": {},
   "source": [
    "# Make a reasonable dictionary for JumpType "
   ]
  },
  {
   "cell_type": "markdown",
   "metadata": {},
   "source": [
    "## clean up wiktionary "
   ]
  },
  {
   "cell_type": "code",
   "execution_count": 5,
   "metadata": {},
   "outputs": [],
   "source": [
    "dict_name = 'enwiktionary-latest-all-titles'\n",
    "dict_cleaned = dict_name+'_cleaned'"
   ]
  },
  {
   "cell_type": "code",
   "execution_count": 12,
   "metadata": {},
   "outputs": [],
   "source": [
    "with open(dict_cleaned, 'w', encoding='utf-8') as out:\n",
    "\twith open(dict_name, 'r', encoding='utf-8') as f:\n",
    "\t\tfor l in f:\n",
    "\t\t\tl = l.strip()\n",
    "\t\t\tls = l.split('\\t')\n",
    "\t\t\tif len(ls) == 2:\n",
    "\t\t\t\tword = ls[1]\n",
    "\t\t\t\tif word.isalpha() and word.isascii() and len(word) > 4:\n",
    "\t\t\t\t\tout.write(word+'\\n')"
   ]
  },
  {
   "cell_type": "code",
   "execution_count": null,
   "metadata": {},
   "outputs": [],
   "source": []
  }
 ],
 "metadata": {
  "kernelspec": {
   "display_name": "Python 3.9.13 ('base')",
   "language": "python",
   "name": "python3"
  },
  "language_info": {
   "codemirror_mode": {
    "name": "ipython",
    "version": 3
   },
   "file_extension": ".py",
   "mimetype": "text/x-python",
   "name": "python",
   "nbconvert_exporter": "python",
   "pygments_lexer": "ipython3",
   "version": "3.9.13"
  },
  "orig_nbformat": 4,
  "vscode": {
   "interpreter": {
    "hash": "88279d2366fe020547cde40dd65aa0e3aa662a6ec1f3ca12d88834876c85e1a6"
   }
  }
 },
 "nbformat": 4,
 "nbformat_minor": 2
}
